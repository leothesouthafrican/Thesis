{
 "cells": [
  {
   "cell_type": "code",
   "execution_count": 1,
   "metadata": {},
   "outputs": [],
   "source": [
    "utils_path = \"../utils\"\n",
    "models_path = \"../models\"\n",
    "data_path = \"../data/celebs_20\"\n",
    "\n",
    "import sys\n",
    "import os\n",
    "sys.path.insert(1, utils_path)\n",
    "sys.path.insert(2, models_path)\n",
    "\n",
    "import torch\n",
    "import torch.nn as nn\n",
    "\n",
    "import matplotlib.pyplot as plt\n",
    "\n",
    "import numpy as np\n",
    "\n",
    "from comet_ml import Experiment\n",
    "\n",
    "import config\n",
    "\n",
    "import time \n",
    "import copy\n",
    "import random\n",
    "from tqdm.notebook import trange, tqdm\n",
    "\n",
    "import torchvision\n",
    "\n",
    "from torch.utils.data import DataLoader\n",
    "from torch.utils.data import Dataset\n",
    "from torchvision import datasets, transforms\n",
    "import torchvision.transforms as transformss\n",
    "\n",
    "from MBNV3 import MobileNetV3\n",
    "from MBNV3CBAM import MobileNetV3CBAM\n",
    "\n",
    "from dataloader import mixedSets\n",
    "from functions import train, evaluate, confusion, unzip_files, unzip"
   ]
  },
  {
   "cell_type": "code",
   "execution_count": 2,
   "metadata": {},
   "outputs": [
    {
     "name": "stderr",
     "output_type": "stream",
     "text": [
      "COMET WARNING: Comet has disabled auto-logging functionality as it has been imported after the following ML modules: torch. Metrics and hyperparameters can still be logged using Experiment.log_metrics() and Experiment.log_parameters()\n",
      "COMET WARNING: As you are running in a Jupyter environment, you will need to call `experiment.end()` when finished to ensure all metrics and code are logged before exiting.\n",
      "COMET INFO: Experiment is live on comet.com https://www.comet.com/leothesouthafrican/test/beb064d223574062846cf676b2988311\n",
      "\n"
     ]
    },
    {
     "name": "stdout",
     "output_type": "stream",
     "text": [
      "Output Size: 20\n",
      "Model Loaded\n"
     ]
    }
   ],
   "source": [
    "#Initialising GereralTorch class\n",
    "\n",
    "#Setting the experiment with the API key stored in config.py\n",
    "experiment = Experiment(project_name = \"test\", workspace = \"leothesouthafrican\", api_key = config.api_key)\n",
    "\n",
    "#Report multiple hyperparameters using a dictionary\n",
    "hyper_params = {\n",
    "    'learning_rate': 0.001,\n",
    "    'epochs': 200,\n",
    "    'batch_size': 32,\n",
    "    'image_size': 112,\n",
    "    'image_channels': 3,\n",
    "    'output_size': len(os.listdir(data_path)) - 1,\n",
    "    'num_layers': 'na',\n",
    "    'train_val_test_split': [0.8, 0.1, 0.1],\n",
    "    'device': 'mps',\n",
    "    'model_name': 'MobileNet3 with CBAM inserted instead of SE starting from a fresh model with no preloaded weights.',\n",
    "    'criterion': 'CrossEntropyLoss',\n",
    "    'optimizer': 'Adam',\n",
    "    'dataset': 'Celebrities 20',\n",
    "    'best_model_path': 'output/MN3LCB_celebs20.pt',\n",
    "    'loaded_model_path': 'output/MN3LCB_celebs20.pt',\n",
    "    'comet_exp': experiment,\n",
    "    'save_at_end': True,\n",
    "}\n",
    "\n",
    "print(f'Output Size: {hyper_params[\"output_size\"]}')\n",
    "\n",
    "#Setting the device\n",
    "device = torch.device(hyper_params['device'])\n",
    "\n",
    "#checking if the model is to be a loaded one and if so loading it\n",
    "if hyper_params['loaded_model_path']:\n",
    "    state_dict = torch.load(hyper_params['loaded_model_path']) #Loading the state dict\n",
    "    model = MobileNetV3CBAM(mode='large') #Loading the model as a backbone\n",
    "    model.load_state_dict(state_dict, strict= True) #Loading the state dict into the model\n",
    "    print('Model Loaded')\n",
    "else:\n",
    "    # Loading a fresh model\n",
    "    model = MobileNetV3CBAM(mode='large')\n",
    "\n",
    "#passing the model to the device\n",
    "model.to(device)\n",
    "\n",
    "# Setting the loss function and optimizer\n",
    "criterion = nn.CrossEntropyLoss().to(device) #Setting the loss function\n",
    "optimizer = torch.optim.Adam(model.parameters(), lr=hyper_params['learning_rate']) #Setting the optimizer\n",
    "\n",
    "# Logging the hyperparameters to comet\n",
    "experiment.log_parameters(hyper_params)"
   ]
  },
  {
   "cell_type": "code",
   "execution_count": 3,
   "metadata": {},
   "outputs": [],
   "source": [
    "#defining transforms\n",
    "\n",
    "train_transform = transforms.Compose([\n",
    "                transforms.Resize((hyper_params['image_size'],hyper_params['image_size'])),\n",
    "                transforms.ToTensor(),\n",
    "                transforms.Normalize(mean = [0.485, 0.456, 0.406], std = [0.229, 0.224, 0.225]),\n",
    "                transforms.RandomApply([transforms.ColorJitter(brightness=0.4, contrast=0.4, saturation=0.4),\n",
    "                transforms.RandomCrop(hyper_params['image_size'], padding=2)], p=0.4),\n",
    "                transforms.RandomAffine(degrees=10, translate=(0.1,0.1), scale=(0.8,1.2)),\n",
    "                transforms.RandomRotation(35),\n",
    "                transforms.RandomHorizontalFlip(0.15),\n",
    "                transforms.RandomVerticalFlip(0.1),\n",
    "                transforms.RandomErasing(0.1),\n",
    "            ])\n",
    "\n",
    "test_transform = transforms.Compose([\n",
    "                transforms.Resize((hyper_params['image_size'],hyper_params['image_size'])),\n",
    "                transforms.ToTensor(),\n",
    "                transforms.Normalize(mean = [0.485, 0.456, 0.406], std = [0.229, 0.224, 0.225])\n",
    "            ])"
   ]
  },
  {
   "cell_type": "code",
   "execution_count": 4,
   "metadata": {},
   "outputs": [
    {
     "name": "stdout",
     "output_type": "stream",
     "text": [
      "Train dataset size: 2642, with 20 classes\n",
      "Val dataset size: 331, with 20 classes\n",
      "Test dataset size: 331, with 20 classes\n"
     ]
    }
   ],
   "source": [
    "# Creating the dataset\n",
    "train_dataset = mixedSets(data_path, train_transform, hyper_params['train_val_test_split']).get_train_dataset()\n",
    "val_dataset = mixedSets(data_path, test_transform, hyper_params['train_val_test_split']).get_val_dataset()\n",
    "test_dataset = mixedSets(data_path, test_transform, hyper_params['train_val_test_split']).get_test_dataset()\n",
    "\n",
    "# Creating the dataloaders\n",
    "train_loader = torch.utils.data.DataLoader(dataset=train_dataset,\n",
    "                                            batch_size=hyper_params['batch_size'],\n",
    "                                            shuffle=True,\n",
    "                                            num_workers=1)\n",
    "\n",
    "val_loader = torch.utils.data.DataLoader(dataset=val_dataset,\n",
    "                                            batch_size=hyper_params['batch_size'],\n",
    "                                            shuffle=True,\n",
    "                                            num_workers=1)\n",
    "\n",
    "test_loader = torch.utils.data.DataLoader(dataset=test_dataset,\n",
    "                                            batch_size=hyper_params['batch_size'],\n",
    "                                            shuffle=True,\n",
    "                                            num_workers=1)\n"
   ]
  },
  {
   "cell_type": "code",
   "execution_count": 5,
   "metadata": {},
   "outputs": [
    {
     "name": "stderr",
     "output_type": "stream",
     "text": [
      "Clipping input data to the valid range for imshow with RGB data ([0..1] for floats or [0..255] for integers).\n"
     ]
    },
    {
     "data": {
      "image/png": "[encoded data removed]",
      "text/plain": [
       "<Figure size 640x480 with 1 Axes>"
      ]
     },
     "metadata": {},
     "output_type": "display_data"
    },
    {
     "name": "stdout",
     "output_type": "stream",
     "text": [
      "tensor(12) tensor(18) tensor(1) tensor(0)\n"
     ]
    }
   ],
   "source": [
    "#display random images from the dataset\n",
    "def imshow(img):\n",
    "    img = img / 2 + 0.5     # unnormalize\n",
    "    npimg = img.numpy()\n",
    "    plt.imshow(np.transpose(npimg, (1, 2, 0)))\n",
    "    #drop axis labels\n",
    "    plt.axis('off')\n",
    "    plt.show()\n",
    "\n",
    "# get some random training images\n",
    "dataiter = iter(train_loader)\n",
    "images, labels = next(dataiter)\n",
    "\n",
    "# show images\n",
    "imshow(torchvision.utils.make_grid(images))\n",
    "# print labels\n",
    "print(' '.join('%5s' % labels[j] for j in range(4)))"
   ]
  },
  {
   "cell_type": "code",
   "execution_count": 6,
   "metadata": {},
   "outputs": [
    {
     "name": "stdout",
     "output_type": "stream",
     "text": [
      "Begin training...\n"
     ]
    },
    {
     "name": "stderr",
     "output_type": "stream",
     "text": [
      "100%|██████████| 83/83 [00:24<00:00,  3.37it/s]\n",
      "100%|██████████| 11/11 [00:06<00:00,  1.63it/s]\n"
     ]
    },
    {
     "name": "stdout",
     "output_type": "stream",
     "text": [
      "Best model saved at epoch 2 with accuracy 0.423 and loss 1.7652.\n",
      "\tTrain Loss: 2.296 | Train Acc: 27.77777862548828%\n",
      "Epoch: 02 | Epoch Time: 0m 31s\n",
      "\t Val. Loss: 1.765 |  Val. Acc: 42.296072507552864%\n"
     ]
    },
    {
     "name": "stderr",
     "output_type": "stream",
     "text": [
      "100%|██████████| 83/83 [00:21<00:00,  3.80it/s]\n",
      "100%|██████████| 11/11 [00:06<00:00,  1.80it/s]\n"
     ]
    },
    {
     "name": "stdout",
     "output_type": "stream",
     "text": [
      "Best model saved at epoch 3 with accuracy 0.5589 and loss 1.3444.\n",
      "\tTrain Loss: 1.592 | Train Acc: 50.0%\n",
      "Epoch: 03 | Epoch Time: 0m 28s\n",
      "\t Val. Loss: 1.344 |  Val. Acc: 55.89123867069487%\n"
     ]
    },
    {
     "name": "stderr",
     "output_type": "stream",
     "text": [
      "100%|██████████| 83/83 [00:21<00:00,  3.87it/s]\n",
      "100%|██████████| 11/11 [00:06<00:00,  1.77it/s]\n"
     ]
    },
    {
     "name": "stdout",
     "output_type": "stream",
     "text": [
      "\tTrain Loss: 1.491 | Train Acc: 61.11111068725586%\n",
      "Epoch: 04 | Epoch Time: 0m 27s\n",
      "\t Val. Loss: 1.378 |  Val. Acc: 54.0785498489426%\n"
     ]
    },
    {
     "name": "stderr",
     "output_type": "stream",
     "text": [
      "100%|██████████| 83/83 [00:22<00:00,  3.77it/s]\n",
      "100%|██████████| 11/11 [00:06<00:00,  1.80it/s]\n"
     ]
    },
    {
     "name": "stdout",
     "output_type": "stream",
     "text": [
      "Best model saved at epoch 5 with accuracy 0.5801 and loss 1.2896.\n",
      "\tTrain Loss: 1.350 | Train Acc: 55.55555725097656%\n",
      "Epoch: 05 | Epoch Time: 0m 28s\n",
      "\t Val. Loss: 1.290 |  Val. Acc: 58.006042296072515%\n"
     ]
    },
    {
     "name": "stderr",
     "output_type": "stream",
     "text": [
      "100%|██████████| 83/83 [00:21<00:00,  3.85it/s]\n",
      "100%|██████████| 11/11 [00:06<00:00,  1.80it/s]\n"
     ]
    },
    {
     "name": "stdout",
     "output_type": "stream",
     "text": [
      "\tTrain Loss: 2.222 | Train Acc: 27.77777862548828%\n",
      "Epoch: 06 | Epoch Time: 0m 27s\n",
      "\t Val. Loss: 1.319 |  Val. Acc: 54.68277945619335%\n"
     ]
    },
    {
     "name": "stderr",
     "output_type": "stream",
     "text": [
      "100%|██████████| 83/83 [00:21<00:00,  3.86it/s]\n",
      "100%|██████████| 11/11 [00:06<00:00,  1.80it/s]\n"
     ]
    },
    {
     "name": "stdout",
     "output_type": "stream",
     "text": [
      "Best model saved at epoch 7 with accuracy 0.5861 and loss 1.2846.\n",
      "\tTrain Loss: 1.285 | Train Acc: 55.55555725097656%\n",
      "Epoch: 07 | Epoch Time: 0m 27s\n",
      "\t Val. Loss: 1.285 |  Val. Acc: 58.610271903323266%\n"
     ]
    },
    {
     "name": "stderr",
     "output_type": "stream",
     "text": [
      "100%|██████████| 83/83 [00:21<00:00,  3.86it/s]\n",
      "100%|██████████| 11/11 [00:06<00:00,  1.80it/s]\n"
     ]
    },
    {
     "name": "stdout",
     "output_type": "stream",
     "text": [
      "Best model saved at epoch 8 with accuracy 0.6375 and loss 1.1091.\n",
      "\tTrain Loss: 1.461 | Train Acc: 55.55555725097656%\n",
      "Epoch: 08 | Epoch Time: 0m 27s\n",
      "\t Val. Loss: 1.109 |  Val. Acc: 63.74622356495468%\n"
     ]
    },
    {
     "name": "stderr",
     "output_type": "stream",
     "text": [
      "100%|██████████| 83/83 [00:23<00:00,  3.59it/s]\n",
      "100%|██████████| 11/11 [00:06<00:00,  1.77it/s]\n"
     ]
    },
    {
     "name": "stdout",
     "output_type": "stream",
     "text": [
      "\tTrain Loss: 1.301 | Train Acc: 50.0%\n",
      "Epoch: 09 | Epoch Time: 0m 29s\n",
      "\t Val. Loss: 1.274 |  Val. Acc: 58.30815709969789%\n"
     ]
    },
    {
     "name": "stderr",
     "output_type": "stream",
     "text": [
      "100%|██████████| 83/83 [00:21<00:00,  3.80it/s]\n",
      "100%|██████████| 11/11 [00:06<00:00,  1.79it/s]\n"
     ]
    },
    {
     "name": "stdout",
     "output_type": "stream",
     "text": [
      "\tTrain Loss: 1.854 | Train Acc: 33.333335876464844%\n",
      "Epoch: 10 | Epoch Time: 0m 28s\n",
      "\t Val. Loss: 1.188 |  Val. Acc: 62.839879154078545%\n"
     ]
    },
    {
     "name": "stderr",
     "output_type": "stream",
     "text": [
      "100%|██████████| 83/83 [00:21<00:00,  3.80it/s]\n",
      "100%|██████████| 11/11 [00:06<00:00,  1.78it/s]\n"
     ]
    },
    {
     "name": "stdout",
     "output_type": "stream",
     "text": [
      "Best model saved at epoch 11 with accuracy 0.6526 and loss 1.1828.\n",
      "\tTrain Loss: 1.612 | Train Acc: 44.4444465637207%\n",
      "Epoch: 11 | Epoch Time: 0m 28s\n",
      "\t Val. Loss: 1.183 |  Val. Acc: 65.25679758308158%\n"
     ]
    },
    {
     "name": "stderr",
     "output_type": "stream",
     "text": [
      "100%|██████████| 83/83 [00:21<00:00,  3.83it/s]\n",
      "100%|██████████| 11/11 [00:06<00:00,  1.77it/s]\n"
     ]
    },
    {
     "name": "stdout",
     "output_type": "stream",
     "text": [
      "\tTrain Loss: 0.689 | Train Acc: 77.77777862548828%\n",
      "Epoch: 12 | Epoch Time: 0m 27s\n",
      "\t Val. Loss: 1.276 |  Val. Acc: 63.141993957703924%\n"
     ]
    },
    {
     "name": "stderr",
     "output_type": "stream",
     "text": [
      "100%|██████████| 83/83 [00:21<00:00,  3.78it/s]\n",
      "100%|██████████| 11/11 [00:06<00:00,  1.78it/s]\n"
     ]
    },
    {
     "name": "stdout",
     "output_type": "stream",
     "text": [
      "\tTrain Loss: 1.682 | Train Acc: 44.4444465637207%\n",
      "Epoch: 13 | Epoch Time: 0m 28s\n",
      "\t Val. Loss: 1.091 |  Val. Acc: 63.141993957703924%\n"
     ]
    },
    {
     "name": "stderr",
     "output_type": "stream",
     "text": [
      "100%|██████████| 83/83 [00:22<00:00,  3.76it/s]\n",
      "100%|██████████| 11/11 [00:06<00:00,  1.81it/s]\n"
     ]
    },
    {
     "name": "stdout",
     "output_type": "stream",
     "text": [
      "\tTrain Loss: 1.235 | Train Acc: 55.55555725097656%\n",
      "Epoch: 14 | Epoch Time: 0m 28s\n",
      "\t Val. Loss: 1.174 |  Val. Acc: 62.53776435045317%\n"
     ]
    },
    {
     "name": "stderr",
     "output_type": "stream",
     "text": [
      "100%|██████████| 83/83 [00:21<00:00,  3.78it/s]\n",
      "100%|██████████| 11/11 [00:06<00:00,  1.79it/s]\n"
     ]
    },
    {
     "name": "stdout",
     "output_type": "stream",
     "text": [
      "\tTrain Loss: 1.445 | Train Acc: 61.11111068725586%\n",
      "Epoch: 15 | Epoch Time: 0m 28s\n",
      "\t Val. Loss: 1.048 |  Val. Acc: 63.44410876132931%\n"
     ]
    },
    {
     "name": "stderr",
     "output_type": "stream",
     "text": [
      "100%|██████████| 83/83 [00:21<00:00,  3.86it/s]\n",
      "100%|██████████| 11/11 [00:06<00:00,  1.79it/s]\n"
     ]
    },
    {
     "name": "stdout",
     "output_type": "stream",
     "text": [
      "Best model saved at epoch 16 with accuracy 0.6798 and loss 1.03.\n",
      "\tTrain Loss: 1.165 | Train Acc: 66.66667175292969%\n",
      "Epoch: 16 | Epoch Time: 0m 27s\n",
      "\t Val. Loss: 1.030 |  Val. Acc: 67.97583081570997%\n"
     ]
    },
    {
     "name": "stderr",
     "output_type": "stream",
     "text": [
      "100%|██████████| 83/83 [00:21<00:00,  3.85it/s]\n",
      "100%|██████████| 11/11 [00:06<00:00,  1.80it/s]\n"
     ]
    },
    {
     "name": "stdout",
     "output_type": "stream",
     "text": [
      "\tTrain Loss: 1.425 | Train Acc: 50.0%\n",
      "Epoch: 17 | Epoch Time: 0m 27s\n",
      "\t Val. Loss: 1.112 |  Val. Acc: 62.53776435045317%\n"
     ]
    },
    {
     "name": "stderr",
     "output_type": "stream",
     "text": [
      "100%|██████████| 83/83 [00:21<00:00,  3.82it/s]\n",
      "100%|██████████| 11/11 [00:06<00:00,  1.79it/s]\n"
     ]
    },
    {
     "name": "stdout",
     "output_type": "stream",
     "text": [
      "Best model saved at epoch 18 with accuracy 0.6888 and loss 1.0987.\n",
      "\tTrain Loss: 1.603 | Train Acc: 38.88888931274414%\n",
      "Epoch: 18 | Epoch Time: 0m 28s\n",
      "\t Val. Loss: 1.099 |  Val. Acc: 68.8821752265861%\n"
     ]
    },
    {
     "name": "stderr",
     "output_type": "stream",
     "text": [
      "100%|██████████| 83/83 [00:22<00:00,  3.71it/s]\n",
      "100%|██████████| 11/11 [00:06<00:00,  1.79it/s]\n"
     ]
    },
    {
     "name": "stdout",
     "output_type": "stream",
     "text": [
      "\tTrain Loss: 0.968 | Train Acc: 66.66667175292969%\n",
      "Epoch: 19 | Epoch Time: 0m 28s\n",
      "\t Val. Loss: 1.167 |  Val. Acc: 66.16314199395771%\n"
     ]
    },
    {
     "name": "stderr",
     "output_type": "stream",
     "text": [
      "100%|██████████| 83/83 [00:21<00:00,  3.79it/s]\n",
      "100%|██████████| 11/11 [00:06<00:00,  1.79it/s]\n"
     ]
    },
    {
     "name": "stdout",
     "output_type": "stream",
     "text": [
      "\tTrain Loss: 1.179 | Train Acc: 72.22222137451172%\n",
      "Epoch: 20 | Epoch Time: 0m 28s\n",
      "\t Val. Loss: 1.006 |  Val. Acc: 66.16314199395771%\n"
     ]
    },
    {
     "name": "stderr",
     "output_type": "stream",
     "text": [
      "100%|██████████| 83/83 [00:21<00:00,  3.81it/s]\n",
      "100%|██████████| 11/11 [00:06<00:00,  1.78it/s]\n"
     ]
    },
    {
     "name": "stdout",
     "output_type": "stream",
     "text": [
      "\tTrain Loss: 1.241 | Train Acc: 61.11111068725586%\n",
      "Epoch: 21 | Epoch Time: 0m 27s\n",
      "\t Val. Loss: 1.030 |  Val. Acc: 65.25679758308158%\n"
     ]
    },
    {
     "name": "stderr",
     "output_type": "stream",
     "text": [
      "100%|██████████| 83/83 [00:21<00:00,  3.80it/s]\n",
      "100%|██████████| 11/11 [00:06<00:00,  1.79it/s]\n"
     ]
    },
    {
     "name": "stdout",
     "output_type": "stream",
     "text": [
      "\tTrain Loss: 0.906 | Train Acc: 66.66667175292969%\n",
      "Epoch: 22 | Epoch Time: 0m 28s\n",
      "\t Val. Loss: 1.132 |  Val. Acc: 64.35045317220543%\n"
     ]
    },
    {
     "name": "stderr",
     "output_type": "stream",
     "text": [
      "100%|██████████| 83/83 [00:21<00:00,  3.78it/s]\n",
      "100%|██████████| 11/11 [00:06<00:00,  1.78it/s]\n"
     ]
    },
    {
     "name": "stdout",
     "output_type": "stream",
     "text": [
      "\tTrain Loss: 1.507 | Train Acc: 61.11111068725586%\n",
      "Epoch: 23 | Epoch Time: 0m 28s\n",
      "\t Val. Loss: 1.106 |  Val. Acc: 65.55891238670695%\n"
     ]
    },
    {
     "name": "stderr",
     "output_type": "stream",
     "text": [
      "100%|██████████| 83/83 [00:21<00:00,  3.78it/s]\n",
      "100%|██████████| 11/11 [00:06<00:00,  1.79it/s]\n"
     ]
    },
    {
     "name": "stdout",
     "output_type": "stream",
     "text": [
      "\tTrain Loss: 0.797 | Train Acc: 77.77777862548828%\n",
      "Epoch: 24 | Epoch Time: 0m 28s\n",
      "\t Val. Loss: 1.028 |  Val. Acc: 66.76737160120845%\n"
     ]
    },
    {
     "name": "stderr",
     "output_type": "stream",
     "text": [
      "100%|██████████| 83/83 [00:22<00:00,  3.76it/s]\n",
      "100%|██████████| 11/11 [00:06<00:00,  1.79it/s]\n"
     ]
    },
    {
     "name": "stdout",
     "output_type": "stream",
     "text": [
      "\tTrain Loss: 0.997 | Train Acc: 66.66667175292969%\n",
      "Epoch: 25 | Epoch Time: 0m 28s\n",
      "\t Val. Loss: 1.079 |  Val. Acc: 62.2356495468278%\n"
     ]
    },
    {
     "name": "stderr",
     "output_type": "stream",
     "text": [
      "100%|██████████| 83/83 [00:22<00:00,  3.71it/s]\n",
      "100%|██████████| 11/11 [00:06<00:00,  1.79it/s]\n"
     ]
    },
    {
     "name": "stdout",
     "output_type": "stream",
     "text": [
      "\tTrain Loss: 0.840 | Train Acc: 72.22222137451172%\n",
      "Epoch: 26 | Epoch Time: 0m 28s\n",
      "\t Val. Loss: 0.970 |  Val. Acc: 68.27794561933534%\n"
     ]
    },
    {
     "name": "stderr",
     "output_type": "stream",
     "text": [
      "100%|██████████| 83/83 [00:22<00:00,  3.75it/s]\n",
      "100%|██████████| 11/11 [00:06<00:00,  1.80it/s]\n"
     ]
    },
    {
     "name": "stdout",
     "output_type": "stream",
     "text": [
      "\tTrain Loss: 0.984 | Train Acc: 72.22222137451172%\n",
      "Epoch: 27 | Epoch Time: 0m 28s\n",
      "\t Val. Loss: 1.087 |  Val. Acc: 64.95468277945619%\n"
     ]
    },
    {
     "name": "stderr",
     "output_type": "stream",
     "text": [
      "100%|██████████| 83/83 [00:21<00:00,  3.80it/s]\n",
      "100%|██████████| 11/11 [00:06<00:00,  1.80it/s]\n"
     ]
    },
    {
     "name": "stdout",
     "output_type": "stream",
     "text": [
      "\tTrain Loss: 1.687 | Train Acc: 44.4444465637207%\n",
      "Epoch: 28 | Epoch Time: 0m 27s\n",
      "\t Val. Loss: 1.146 |  Val. Acc: 67.97583081570997%\n"
     ]
    },
    {
     "name": "stderr",
     "output_type": "stream",
     "text": [
      "100%|██████████| 83/83 [00:21<00:00,  3.78it/s]\n",
      "100%|██████████| 11/11 [00:06<00:00,  1.79it/s]\n"
     ]
    },
    {
     "name": "stdout",
     "output_type": "stream",
     "text": [
      "\tTrain Loss: 0.929 | Train Acc: 61.11111068725586%\n",
      "Epoch: 29 | Epoch Time: 0m 28s\n",
      "\t Val. Loss: 1.005 |  Val. Acc: 65.55891238670695%\n"
     ]
    },
    {
     "name": "stderr",
     "output_type": "stream",
     "text": [
      "100%|██████████| 83/83 [00:22<00:00,  3.75it/s]\n",
      "100%|██████████| 11/11 [00:06<00:00,  1.79it/s]\n"
     ]
    },
    {
     "name": "stdout",
     "output_type": "stream",
     "text": [
      "\tTrain Loss: 1.535 | Train Acc: 66.66667175292969%\n",
      "Epoch: 30 | Epoch Time: 0m 28s\n",
      "\t Val. Loss: 1.067 |  Val. Acc: 66.76737160120845%\n"
     ]
    },
    {
     "name": "stderr",
     "output_type": "stream",
     "text": [
      "100%|██████████| 83/83 [00:21<00:00,  3.82it/s]\n",
      "100%|██████████| 11/11 [00:06<00:00,  1.79it/s]\n"
     ]
    },
    {
     "name": "stdout",
     "output_type": "stream",
     "text": [
      "\tTrain Loss: 1.693 | Train Acc: 44.4444465637207%\n",
      "Epoch: 31 | Epoch Time: 0m 27s\n",
      "\t Val. Loss: 1.107 |  Val. Acc: 66.46525679758308%\n"
     ]
    },
    {
     "name": "stderr",
     "output_type": "stream",
     "text": [
      "100%|██████████| 83/83 [00:21<00:00,  3.79it/s]\n",
      "100%|██████████| 11/11 [00:06<00:00,  1.79it/s]\n"
     ]
    },
    {
     "name": "stdout",
     "output_type": "stream",
     "text": [
      "\tTrain Loss: 1.019 | Train Acc: 66.66667175292969%\n",
      "Epoch: 32 | Epoch Time: 0m 28s\n",
      "\t Val. Loss: 0.929 |  Val. Acc: 68.8821752265861%\n"
     ]
    },
    {
     "name": "stderr",
     "output_type": "stream",
     "text": [
      "100%|██████████| 83/83 [00:22<00:00,  3.74it/s]\n",
      "100%|██████████| 11/11 [00:06<00:00,  1.76it/s]\n"
     ]
    },
    {
     "name": "stdout",
     "output_type": "stream",
     "text": [
      "Best model saved at epoch 33 with accuracy 0.6979 and loss 0.9702.\n",
      "\tTrain Loss: 1.189 | Train Acc: 61.11111068725586%\n",
      "Epoch: 33 | Epoch Time: 0m 28s\n",
      "\t Val. Loss: 0.970 |  Val. Acc: 69.78851963746223%\n"
     ]
    },
    {
     "name": "stderr",
     "output_type": "stream",
     "text": [
      "100%|██████████| 83/83 [00:21<00:00,  3.82it/s]\n",
      "100%|██████████| 11/11 [00:06<00:00,  1.79it/s]\n"
     ]
    },
    {
     "name": "stdout",
     "output_type": "stream",
     "text": [
      "Best model saved at epoch 34 with accuracy 0.71 and loss 0.9666.\n",
      "\tTrain Loss: 1.110 | Train Acc: 72.22222137451172%\n",
      "Epoch: 34 | Epoch Time: 0m 28s\n",
      "\t Val. Loss: 0.967 |  Val. Acc: 70.99697885196375%\n"
     ]
    },
    {
     "name": "stderr",
     "output_type": "stream",
     "text": [
      "100%|██████████| 83/83 [00:21<00:00,  3.86it/s]\n",
      "100%|██████████| 11/11 [00:06<00:00,  1.79it/s]\n"
     ]
    },
    {
     "name": "stdout",
     "output_type": "stream",
     "text": [
      "\tTrain Loss: 0.897 | Train Acc: 77.77777862548828%\n",
      "Epoch: 35 | Epoch Time: 0m 27s\n",
      "\t Val. Loss: 1.163 |  Val. Acc: 67.6737160120846%\n"
     ]
    },
    {
     "name": "stderr",
     "output_type": "stream",
     "text": [
      "100%|██████████| 83/83 [00:21<00:00,  3.83it/s]\n",
      "100%|██████████| 11/11 [00:06<00:00,  1.79it/s]\n"
     ]
    },
    {
     "name": "stdout",
     "output_type": "stream",
     "text": [
      "\tTrain Loss: 1.297 | Train Acc: 61.11111068725586%\n",
      "Epoch: 36 | Epoch Time: 0m 27s\n",
      "\t Val. Loss: 1.175 |  Val. Acc: 65.86102719033232%\n"
     ]
    },
    {
     "name": "stderr",
     "output_type": "stream",
     "text": [
      "100%|██████████| 83/83 [00:21<00:00,  3.83it/s]\n",
      "100%|██████████| 11/11 [00:06<00:00,  1.78it/s]\n"
     ]
    },
    {
     "name": "stdout",
     "output_type": "stream",
     "text": [
      "\tTrain Loss: 1.747 | Train Acc: 44.4444465637207%\n",
      "Epoch: 37 | Epoch Time: 0m 27s\n",
      "\t Val. Loss: 1.033 |  Val. Acc: 65.86102719033232%\n"
     ]
    },
    {
     "name": "stderr",
     "output_type": "stream",
     "text": [
      "100%|██████████| 83/83 [00:21<00:00,  3.84it/s]\n",
      "100%|██████████| 11/11 [00:06<00:00,  1.78it/s]\n"
     ]
    },
    {
     "name": "stdout",
     "output_type": "stream",
     "text": [
      "\tTrain Loss: 1.104 | Train Acc: 61.11111068725586%\n",
      "Epoch: 38 | Epoch Time: 0m 27s\n",
      "\t Val. Loss: 1.288 |  Val. Acc: 62.2356495468278%\n"
     ]
    },
    {
     "name": "stderr",
     "output_type": "stream",
     "text": [
      "100%|██████████| 83/83 [00:21<00:00,  3.81it/s]\n",
      "100%|██████████| 11/11 [00:06<00:00,  1.78it/s]\n"
     ]
    },
    {
     "name": "stdout",
     "output_type": "stream",
     "text": [
      "\tTrain Loss: 0.894 | Train Acc: 66.66667175292969%\n",
      "Epoch: 39 | Epoch Time: 0m 28s\n",
      "\t Val. Loss: 0.949 |  Val. Acc: 70.99697885196375%\n"
     ]
    },
    {
     "name": "stderr",
     "output_type": "stream",
     "text": [
      "100%|██████████| 83/83 [00:21<00:00,  3.82it/s]\n",
      "100%|██████████| 11/11 [00:06<00:00,  1.78it/s]\n"
     ]
    },
    {
     "name": "stdout",
     "output_type": "stream",
     "text": [
      "\tTrain Loss: 0.657 | Train Acc: 77.77777862548828%\n",
      "Epoch: 40 | Epoch Time: 0m 27s\n",
      "\t Val. Loss: 1.058 |  Val. Acc: 67.06948640483384%\n"
     ]
    },
    {
     "name": "stderr",
     "output_type": "stream",
     "text": [
      "100%|██████████| 83/83 [00:21<00:00,  3.82it/s]\n",
      "100%|██████████| 11/11 [00:06<00:00,  1.78it/s]\n"
     ]
    },
    {
     "name": "stdout",
     "output_type": "stream",
     "text": [
      "\tTrain Loss: 0.864 | Train Acc: 77.77777862548828%\n",
      "Epoch: 41 | Epoch Time: 0m 27s\n",
      "\t Val. Loss: 1.036 |  Val. Acc: 68.58006042296071%\n"
     ]
    },
    {
     "name": "stderr",
     "output_type": "stream",
     "text": [
      "100%|██████████| 83/83 [00:21<00:00,  3.82it/s]\n",
      "100%|██████████| 11/11 [00:06<00:00,  1.78it/s]\n"
     ]
    },
    {
     "name": "stdout",
     "output_type": "stream",
     "text": [
      "\tTrain Loss: 0.820 | Train Acc: 66.66667175292969%\n",
      "Epoch: 42 | Epoch Time: 0m 27s\n",
      "\t Val. Loss: 0.977 |  Val. Acc: 68.8821752265861%\n"
     ]
    },
    {
     "name": "stderr",
     "output_type": "stream",
     "text": [
      "100%|██████████| 83/83 [00:21<00:00,  3.81it/s]\n",
      "100%|██████████| 11/11 [00:06<00:00,  1.76it/s]\n"
     ]
    },
    {
     "name": "stdout",
     "output_type": "stream",
     "text": [
      "\tTrain Loss: 0.719 | Train Acc: 77.77777862548828%\n",
      "Epoch: 43 | Epoch Time: 0m 28s\n",
      "\t Val. Loss: 0.958 |  Val. Acc: 67.97583081570997%\n"
     ]
    },
    {
     "name": "stderr",
     "output_type": "stream",
     "text": [
      "100%|██████████| 83/83 [00:22<00:00,  3.68it/s]\n",
      "100%|██████████| 11/11 [00:06<00:00,  1.77it/s]\n"
     ]
    },
    {
     "name": "stdout",
     "output_type": "stream",
     "text": [
      "\tTrain Loss: 1.348 | Train Acc: 66.66667175292969%\n",
      "Epoch: 44 | Epoch Time: 0m 28s\n",
      "\t Val. Loss: 1.086 |  Val. Acc: 66.46525679758308%\n"
     ]
    },
    {
     "name": "stderr",
     "output_type": "stream",
     "text": [
      "100%|██████████| 83/83 [00:21<00:00,  3.80it/s]\n",
      "100%|██████████| 11/11 [00:06<00:00,  1.77it/s]\n"
     ]
    },
    {
     "name": "stdout",
     "output_type": "stream",
     "text": [
      "\tTrain Loss: 1.148 | Train Acc: 66.66667175292969%\n",
      "Epoch: 45 | Epoch Time: 0m 28s\n",
      "\t Val. Loss: 1.139 |  Val. Acc: 70.09063444108762%\n"
     ]
    },
    {
     "name": "stderr",
     "output_type": "stream",
     "text": [
      "100%|██████████| 83/83 [00:21<00:00,  3.80it/s]\n",
      "100%|██████████| 11/11 [00:06<00:00,  1.78it/s]\n"
     ]
    },
    {
     "name": "stdout",
     "output_type": "stream",
     "text": [
      "\tTrain Loss: 1.065 | Train Acc: 61.11111068725586%\n",
      "Epoch: 46 | Epoch Time: 0m 28s\n",
      "\t Val. Loss: 1.039 |  Val. Acc: 69.18429003021149%\n"
     ]
    },
    {
     "name": "stderr",
     "output_type": "stream",
     "text": [
      "100%|██████████| 83/83 [00:21<00:00,  3.81it/s]\n",
      "100%|██████████| 11/11 [00:06<00:00,  1.80it/s]\n"
     ]
    },
    {
     "name": "stdout",
     "output_type": "stream",
     "text": [
      "\tTrain Loss: 1.013 | Train Acc: 61.11111068725586%\n",
      "Epoch: 47 | Epoch Time: 0m 27s\n",
      "\t Val. Loss: 0.990 |  Val. Acc: 69.48640483383686%\n"
     ]
    },
    {
     "name": "stderr",
     "output_type": "stream",
     "text": [
      "100%|██████████| 83/83 [00:21<00:00,  3.86it/s]\n",
      "100%|██████████| 11/11 [00:06<00:00,  1.78it/s]\n"
     ]
    },
    {
     "name": "stdout",
     "output_type": "stream",
     "text": [
      "\tTrain Loss: 0.839 | Train Acc: 77.77777862548828%\n",
      "Epoch: 48 | Epoch Time: 0m 27s\n",
      "\t Val. Loss: 0.997 |  Val. Acc: 68.8821752265861%\n"
     ]
    },
    {
     "name": "stderr",
     "output_type": "stream",
     "text": [
      "100%|██████████| 83/83 [00:22<00:00,  3.76it/s]\n",
      "100%|██████████| 11/11 [00:06<00:00,  1.78it/s]\n"
     ]
    },
    {
     "name": "stdout",
     "output_type": "stream",
     "text": [
      "\tTrain Loss: 0.621 | Train Acc: 77.77777862548828%\n",
      "Epoch: 49 | Epoch Time: 0m 28s\n",
      "\t Val. Loss: 1.104 |  Val. Acc: 69.18429003021149%\n"
     ]
    },
    {
     "name": "stderr",
     "output_type": "stream",
     "text": [
      "100%|██████████| 83/83 [00:22<00:00,  3.76it/s]\n",
      "100%|██████████| 11/11 [00:06<00:00,  1.78it/s]\n"
     ]
    },
    {
     "name": "stdout",
     "output_type": "stream",
     "text": [
      "\tTrain Loss: 0.811 | Train Acc: 72.22222137451172%\n",
      "Epoch: 50 | Epoch Time: 0m 28s\n",
      "\t Val. Loss: 1.318 |  Val. Acc: 66.76737160120845%\n"
     ]
    },
    {
     "name": "stderr",
     "output_type": "stream",
     "text": [
      "100%|██████████| 83/83 [00:22<00:00,  3.75it/s]\n",
      "100%|██████████| 11/11 [00:06<00:00,  1.79it/s]\n"
     ]
    },
    {
     "name": "stdout",
     "output_type": "stream",
     "text": [
      "\tTrain Loss: 1.532 | Train Acc: 50.0%\n",
      "Epoch: 51 | Epoch Time: 0m 28s\n",
      "\t Val. Loss: 0.947 |  Val. Acc: 69.48640483383686%\n"
     ]
    },
    {
     "name": "stderr",
     "output_type": "stream",
     "text": [
      "100%|██████████| 83/83 [00:21<00:00,  3.85it/s]\n",
      "100%|██████████| 11/11 [00:06<00:00,  1.78it/s]\n"
     ]
    },
    {
     "name": "stdout",
     "output_type": "stream",
     "text": [
      "\tTrain Loss: 0.744 | Train Acc: 72.22222137451172%\n",
      "Epoch: 52 | Epoch Time: 0m 27s\n",
      "\t Val. Loss: 0.905 |  Val. Acc: 69.48640483383686%\n"
     ]
    },
    {
     "name": "stderr",
     "output_type": "stream",
     "text": [
      "100%|██████████| 83/83 [00:22<00:00,  3.73it/s]\n",
      "100%|██████████| 11/11 [00:06<00:00,  1.78it/s]\n"
     ]
    },
    {
     "name": "stdout",
     "output_type": "stream",
     "text": [
      "\tTrain Loss: 1.558 | Train Acc: 44.4444465637207%\n",
      "Epoch: 53 | Epoch Time: 0m 28s\n",
      "\t Val. Loss: 0.919 |  Val. Acc: 70.39274924471299%\n"
     ]
    },
    {
     "name": "stderr",
     "output_type": "stream",
     "text": [
      "100%|██████████| 83/83 [00:21<00:00,  3.78it/s]\n",
      "100%|██████████| 11/11 [00:06<00:00,  1.78it/s]\n"
     ]
    },
    {
     "name": "stdout",
     "output_type": "stream",
     "text": [
      "\tTrain Loss: 1.168 | Train Acc: 44.4444465637207%\n",
      "Epoch: 54 | Epoch Time: 0m 28s\n",
      "\t Val. Loss: 0.892 |  Val. Acc: 70.39274924471299%\n"
     ]
    },
    {
     "name": "stderr",
     "output_type": "stream",
     "text": [
      "100%|██████████| 83/83 [00:21<00:00,  3.86it/s]\n",
      "100%|██████████| 11/11 [00:06<00:00,  1.79it/s]\n"
     ]
    },
    {
     "name": "stdout",
     "output_type": "stream",
     "text": [
      "\tTrain Loss: 1.188 | Train Acc: 44.4444465637207%\n",
      "Epoch: 55 | Epoch Time: 0m 27s\n",
      "\t Val. Loss: 1.051 |  Val. Acc: 67.97583081570997%\n"
     ]
    },
    {
     "name": "stderr",
     "output_type": "stream",
     "text": [
      "100%|██████████| 83/83 [00:21<00:00,  3.78it/s]\n",
      "100%|██████████| 11/11 [00:06<00:00,  1.79it/s]\n"
     ]
    },
    {
     "name": "stdout",
     "output_type": "stream",
     "text": [
      "\tTrain Loss: 1.105 | Train Acc: 55.55555725097656%\n",
      "Epoch: 56 | Epoch Time: 0m 28s\n",
      "\t Val. Loss: 0.978 |  Val. Acc: 70.69486404833837%\n"
     ]
    },
    {
     "name": "stderr",
     "output_type": "stream",
     "text": [
      "100%|██████████| 83/83 [00:21<00:00,  3.79it/s]\n",
      "100%|██████████| 11/11 [00:06<00:00,  1.77it/s]\n"
     ]
    },
    {
     "name": "stdout",
     "output_type": "stream",
     "text": [
      "\tTrain Loss: 1.050 | Train Acc: 72.22222137451172%\n",
      "Epoch: 57 | Epoch Time: 0m 28s\n",
      "\t Val. Loss: 1.080 |  Val. Acc: 66.46525679758308%\n"
     ]
    },
    {
     "name": "stderr",
     "output_type": "stream",
     "text": [
      "100%|██████████| 83/83 [00:22<00:00,  3.73it/s]\n",
      "100%|██████████| 11/11 [00:06<00:00,  1.73it/s]\n"
     ]
    },
    {
     "name": "stdout",
     "output_type": "stream",
     "text": [
      "Best model saved at epoch 58 with accuracy 0.713 and loss 0.9566.\n",
      "\tTrain Loss: 0.532 | Train Acc: 77.77777862548828%\n",
      "Epoch: 58 | Epoch Time: 0m 28s\n",
      "\t Val. Loss: 0.957 |  Val. Acc: 71.29909365558912%\n"
     ]
    },
    {
     "name": "stderr",
     "output_type": "stream",
     "text": [
      "100%|██████████| 83/83 [00:21<00:00,  3.84it/s]\n",
      "100%|██████████| 11/11 [00:06<00:00,  1.80it/s]\n"
     ]
    },
    {
     "name": "stdout",
     "output_type": "stream",
     "text": [
      "Best model saved at epoch 59 with accuracy 0.716 and loss 0.9534.\n",
      "\tTrain Loss: 1.178 | Train Acc: 66.66667175292969%\n",
      "Epoch: 59 | Epoch Time: 0m 27s\n",
      "\t Val. Loss: 0.953 |  Val. Acc: 71.6012084592145%\n"
     ]
    },
    {
     "name": "stderr",
     "output_type": "stream",
     "text": [
      "100%|██████████| 83/83 [00:21<00:00,  3.83it/s]\n",
      "100%|██████████| 11/11 [00:06<00:00,  1.75it/s]\n"
     ]
    },
    {
     "name": "stdout",
     "output_type": "stream",
     "text": [
      "\tTrain Loss: 0.580 | Train Acc: 72.22222137451172%\n",
      "Epoch: 60 | Epoch Time: 0m 28s\n",
      "\t Val. Loss: 0.989 |  Val. Acc: 70.69486404833837%\n"
     ]
    },
    {
     "name": "stderr",
     "output_type": "stream",
     "text": [
      "100%|██████████| 83/83 [00:22<00:00,  3.74it/s]\n",
      "100%|██████████| 11/11 [00:06<00:00,  1.75it/s]\n"
     ]
    },
    {
     "name": "stdout",
     "output_type": "stream",
     "text": [
      "\tTrain Loss: 1.318 | Train Acc: 61.11111068725586%\n",
      "Epoch: 61 | Epoch Time: 0m 28s\n",
      "\t Val. Loss: 1.138 |  Val. Acc: 68.58006042296071%\n"
     ]
    },
    {
     "name": "stderr",
     "output_type": "stream",
     "text": [
      "100%|██████████| 83/83 [00:21<00:00,  3.80it/s]\n",
      "100%|██████████| 11/11 [00:06<00:00,  1.75it/s]\n"
     ]
    },
    {
     "name": "stdout",
     "output_type": "stream",
     "text": [
      "\tTrain Loss: 0.978 | Train Acc: 66.66667175292969%\n",
      "Epoch: 62 | Epoch Time: 0m 28s\n",
      "\t Val. Loss: 0.895 |  Val. Acc: 69.78851963746223%\n"
     ]
    },
    {
     "name": "stderr",
     "output_type": "stream",
     "text": [
      "100%|██████████| 83/83 [00:22<00:00,  3.76it/s]\n",
      "100%|██████████| 11/11 [00:06<00:00,  1.75it/s]\n"
     ]
    },
    {
     "name": "stdout",
     "output_type": "stream",
     "text": [
      "\tTrain Loss: 1.145 | Train Acc: 55.55555725097656%\n",
      "Epoch: 63 | Epoch Time: 0m 28s\n",
      "\t Val. Loss: 0.924 |  Val. Acc: 70.39274924471299%\n"
     ]
    },
    {
     "name": "stderr",
     "output_type": "stream",
     "text": [
      "100%|██████████| 83/83 [00:22<00:00,  3.76it/s]\n",
      "100%|██████████| 11/11 [00:06<00:00,  1.74it/s]\n"
     ]
    },
    {
     "name": "stdout",
     "output_type": "stream",
     "text": [
      "\tTrain Loss: 0.824 | Train Acc: 72.22222137451172%\n",
      "Epoch: 64 | Epoch Time: 0m 28s\n",
      "\t Val. Loss: 0.943 |  Val. Acc: 70.99697885196375%\n"
     ]
    },
    {
     "name": "stderr",
     "output_type": "stream",
     "text": [
      "100%|██████████| 83/83 [00:21<00:00,  3.80it/s]\n",
      "100%|██████████| 11/11 [00:06<00:00,  1.72it/s]\n"
     ]
    },
    {
     "name": "stdout",
     "output_type": "stream",
     "text": [
      "\tTrain Loss: 0.903 | Train Acc: 83.33332824707031%\n",
      "Epoch: 65 | Epoch Time: 0m 28s\n",
      "\t Val. Loss: 0.984 |  Val. Acc: 70.99697885196375%\n"
     ]
    },
    {
     "name": "stderr",
     "output_type": "stream",
     "text": [
      "100%|██████████| 83/83 [00:22<00:00,  3.74it/s]\n",
      "100%|██████████| 11/11 [00:06<00:00,  1.75it/s]\n"
     ]
    },
    {
     "name": "stdout",
     "output_type": "stream",
     "text": [
      "Best model saved at epoch 66 with accuracy 0.719 and loss 0.9705.\n",
      "\tTrain Loss: 1.025 | Train Acc: 66.66667175292969%\n",
      "Epoch: 66 | Epoch Time: 0m 28s\n",
      "\t Val. Loss: 0.970 |  Val. Acc: 71.90332326283988%\n"
     ]
    },
    {
     "name": "stderr",
     "output_type": "stream",
     "text": [
      "100%|██████████| 83/83 [00:22<00:00,  3.74it/s]\n",
      "100%|██████████| 11/11 [00:06<00:00,  1.73it/s]\n"
     ]
    },
    {
     "name": "stdout",
     "output_type": "stream",
     "text": [
      "\tTrain Loss: 0.799 | Train Acc: 83.33332824707031%\n",
      "Epoch: 67 | Epoch Time: 0m 28s\n",
      "\t Val. Loss: 1.032 |  Val. Acc: 70.69486404833837%\n"
     ]
    },
    {
     "name": "stderr",
     "output_type": "stream",
     "text": [
      "100%|██████████| 83/83 [00:22<00:00,  3.72it/s]\n",
      "100%|██████████| 11/11 [00:06<00:00,  1.73it/s]\n"
     ]
    },
    {
     "name": "stdout",
     "output_type": "stream",
     "text": [
      "\tTrain Loss: 0.749 | Train Acc: 72.22222137451172%\n",
      "Epoch: 68 | Epoch Time: 0m 28s\n",
      "\t Val. Loss: 1.105 |  Val. Acc: 68.8821752265861%\n"
     ]
    },
    {
     "name": "stderr",
     "output_type": "stream",
     "text": [
      "100%|██████████| 83/83 [00:21<00:00,  3.79it/s]\n",
      "100%|██████████| 11/11 [00:06<00:00,  1.73it/s]\n"
     ]
    },
    {
     "name": "stdout",
     "output_type": "stream",
     "text": [
      "\tTrain Loss: 0.896 | Train Acc: 72.22222137451172%\n",
      "Epoch: 69 | Epoch Time: 0m 28s\n",
      "\t Val. Loss: 1.040 |  Val. Acc: 70.69486404833837%\n"
     ]
    },
    {
     "name": "stderr",
     "output_type": "stream",
     "text": [
      "100%|██████████| 83/83 [00:22<00:00,  3.76it/s]\n",
      "100%|██████████| 11/11 [00:06<00:00,  1.75it/s]\n"
     ]
    },
    {
     "name": "stdout",
     "output_type": "stream",
     "text": [
      "\tTrain Loss: 0.917 | Train Acc: 66.66667175292969%\n",
      "Epoch: 70 | Epoch Time: 0m 28s\n",
      "\t Val. Loss: 1.057 |  Val. Acc: 70.39274924471299%\n"
     ]
    },
    {
     "name": "stderr",
     "output_type": "stream",
     "text": [
      "100%|██████████| 83/83 [00:21<00:00,  3.83it/s]\n",
      "100%|██████████| 11/11 [00:06<00:00,  1.75it/s]\n"
     ]
    },
    {
     "name": "stdout",
     "output_type": "stream",
     "text": [
      "\tTrain Loss: 0.826 | Train Acc: 77.77777862548828%\n",
      "Epoch: 71 | Epoch Time: 0m 28s\n",
      "\t Val. Loss: 0.920 |  Val. Acc: 68.8821752265861%\n"
     ]
    },
    {
     "name": "stderr",
     "output_type": "stream",
     "text": [
      "100%|██████████| 83/83 [00:21<00:00,  3.78it/s]\n",
      "100%|██████████| 11/11 [00:06<00:00,  1.76it/s]\n"
     ]
    },
    {
     "name": "stdout",
     "output_type": "stream",
     "text": [
      "Best model saved at epoch 72 with accuracy 0.7402 and loss 0.856.\n",
      "\tTrain Loss: 0.916 | Train Acc: 72.22222137451172%\n",
      "Epoch: 72 | Epoch Time: 0m 28s\n",
      "\t Val. Loss: 0.856 |  Val. Acc: 74.01812688821752%\n"
     ]
    },
    {
     "name": "stderr",
     "output_type": "stream",
     "text": [
      "100%|██████████| 83/83 [00:22<00:00,  3.77it/s]\n",
      "100%|██████████| 11/11 [00:06<00:00,  1.77it/s]\n"
     ]
    },
    {
     "name": "stdout",
     "output_type": "stream",
     "text": [
      "\tTrain Loss: 0.940 | Train Acc: 77.77777862548828%\n",
      "Epoch: 73 | Epoch Time: 0m 28s\n",
      "\t Val. Loss: 0.982 |  Val. Acc: 71.90332326283988%\n"
     ]
    },
    {
     "name": "stderr",
     "output_type": "stream",
     "text": [
      "100%|██████████| 83/83 [00:22<00:00,  3.77it/s]\n",
      "100%|██████████| 11/11 [00:06<00:00,  1.79it/s]\n"
     ]
    },
    {
     "name": "stdout",
     "output_type": "stream",
     "text": [
      "\tTrain Loss: 1.108 | Train Acc: 66.66667175292969%\n",
      "Epoch: 74 | Epoch Time: 0m 28s\n",
      "\t Val. Loss: 0.859 |  Val. Acc: 74.01812688821752%\n"
     ]
    },
    {
     "name": "stderr",
     "output_type": "stream",
     "text": [
      "100%|██████████| 83/83 [00:22<00:00,  3.76it/s]\n",
      "100%|██████████| 11/11 [00:06<00:00,  1.74it/s]\n"
     ]
    },
    {
     "name": "stdout",
     "output_type": "stream",
     "text": [
      "\tTrain Loss: 0.901 | Train Acc: 66.66667175292969%\n",
      "Epoch: 75 | Epoch Time: 0m 28s\n",
      "\t Val. Loss: 0.923 |  Val. Acc: 72.20543806646525%\n"
     ]
    },
    {
     "name": "stderr",
     "output_type": "stream",
     "text": [
      "100%|██████████| 83/83 [00:22<00:00,  3.75it/s]\n",
      "100%|██████████| 11/11 [00:06<00:00,  1.70it/s]\n"
     ]
    },
    {
     "name": "stdout",
     "output_type": "stream",
     "text": [
      "Best model saved at epoch 76 with accuracy 0.7674 and loss 0.8736.\n",
      "\tTrain Loss: 1.028 | Train Acc: 66.66667175292969%\n",
      "Epoch: 76 | Epoch Time: 0m 28s\n",
      "\t Val. Loss: 0.874 |  Val. Acc: 76.73716012084593%\n"
     ]
    },
    {
     "name": "stderr",
     "output_type": "stream",
     "text": [
      "100%|██████████| 83/83 [00:22<00:00,  3.72it/s]\n",
      "100%|██████████| 11/11 [00:06<00:00,  1.75it/s]\n"
     ]
    },
    {
     "name": "stdout",
     "output_type": "stream",
     "text": [
      "\tTrain Loss: 0.731 | Train Acc: 77.77777862548828%\n",
      "Epoch: 77 | Epoch Time: 0m 28s\n",
      "\t Val. Loss: 0.901 |  Val. Acc: 73.41389728096676%\n"
     ]
    },
    {
     "name": "stderr",
     "output_type": "stream",
     "text": [
      "100%|██████████| 83/83 [00:21<00:00,  3.79it/s]\n",
      "100%|██████████| 11/11 [00:06<00:00,  1.78it/s]\n"
     ]
    },
    {
     "name": "stdout",
     "output_type": "stream",
     "text": [
      "\tTrain Loss: 0.635 | Train Acc: 77.77777862548828%\n",
      "Epoch: 78 | Epoch Time: 0m 28s\n",
      "\t Val. Loss: 0.940 |  Val. Acc: 72.80966767371602%\n"
     ]
    },
    {
     "name": "stderr",
     "output_type": "stream",
     "text": [
      "100%|██████████| 83/83 [00:21<00:00,  3.82it/s]\n",
      "100%|██████████| 11/11 [00:06<00:00,  1.79it/s]\n"
     ]
    },
    {
     "name": "stdout",
     "output_type": "stream",
     "text": [
      "\tTrain Loss: 1.482 | Train Acc: 55.55555725097656%\n",
      "Epoch: 79 | Epoch Time: 0m 27s\n",
      "\t Val. Loss: 0.837 |  Val. Acc: 74.92447129909365%\n"
     ]
    },
    {
     "name": "stderr",
     "output_type": "stream",
     "text": [
      "100%|██████████| 83/83 [00:21<00:00,  3.84it/s]\n",
      "100%|██████████| 11/11 [00:06<00:00,  1.75it/s]\n"
     ]
    },
    {
     "name": "stdout",
     "output_type": "stream",
     "text": [
      "\tTrain Loss: 1.009 | Train Acc: 61.11111068725586%\n",
      "Epoch: 80 | Epoch Time: 0m 27s\n",
      "\t Val. Loss: 0.824 |  Val. Acc: 74.01812688821752%\n"
     ]
    },
    {
     "name": "stderr",
     "output_type": "stream",
     "text": [
      "100%|██████████| 83/83 [00:21<00:00,  3.79it/s]\n",
      "100%|██████████| 11/11 [00:06<00:00,  1.77it/s]\n"
     ]
    },
    {
     "name": "stdout",
     "output_type": "stream",
     "text": [
      "\tTrain Loss: 0.269 | Train Acc: 94.44445037841797%\n",
      "Epoch: 81 | Epoch Time: 0m 28s\n",
      "\t Val. Loss: 0.939 |  Val. Acc: 75.22658610271903%\n"
     ]
    },
    {
     "name": "stderr",
     "output_type": "stream",
     "text": [
      "100%|██████████| 83/83 [00:22<00:00,  3.75it/s]\n",
      "100%|██████████| 11/11 [00:06<00:00,  1.72it/s]\n"
     ]
    },
    {
     "name": "stdout",
     "output_type": "stream",
     "text": [
      "\tTrain Loss: 1.186 | Train Acc: 50.0%\n",
      "Epoch: 82 | Epoch Time: 0m 28s\n",
      "\t Val. Loss: 0.867 |  Val. Acc: 75.52870090634441%\n"
     ]
    },
    {
     "name": "stderr",
     "output_type": "stream",
     "text": [
      "100%|██████████| 83/83 [00:21<00:00,  3.78it/s]\n",
      "100%|██████████| 11/11 [00:06<00:00,  1.78it/s]\n"
     ]
    },
    {
     "name": "stdout",
     "output_type": "stream",
     "text": [
      "\tTrain Loss: 0.462 | Train Acc: 77.77777862548828%\n",
      "Epoch: 83 | Epoch Time: 0m 28s\n",
      "\t Val. Loss: 0.918 |  Val. Acc: 70.09063444108762%\n"
     ]
    },
    {
     "name": "stderr",
     "output_type": "stream",
     "text": [
      "100%|██████████| 83/83 [00:22<00:00,  3.75it/s]\n",
      "100%|██████████| 11/11 [00:06<00:00,  1.74it/s]\n"
     ]
    },
    {
     "name": "stdout",
     "output_type": "stream",
     "text": [
      "\tTrain Loss: 0.886 | Train Acc: 77.77777862548828%\n",
      "Epoch: 84 | Epoch Time: 0m 28s\n",
      "\t Val. Loss: 1.013 |  Val. Acc: 74.92447129909365%\n"
     ]
    },
    {
     "name": "stderr",
     "output_type": "stream",
     "text": [
      "100%|██████████| 83/83 [00:22<00:00,  3.72it/s]\n",
      "100%|██████████| 11/11 [00:06<00:00,  1.76it/s]\n"
     ]
    },
    {
     "name": "stdout",
     "output_type": "stream",
     "text": [
      "\tTrain Loss: 0.604 | Train Acc: 77.77777862548828%\n",
      "Epoch: 85 | Epoch Time: 0m 28s\n",
      "\t Val. Loss: 0.851 |  Val. Acc: 74.92447129909365%\n"
     ]
    },
    {
     "name": "stderr",
     "output_type": "stream",
     "text": [
      "100%|██████████| 83/83 [00:21<00:00,  3.85it/s]\n",
      "100%|██████████| 11/11 [00:06<00:00,  1.80it/s]\n"
     ]
    },
    {
     "name": "stdout",
     "output_type": "stream",
     "text": [
      "\tTrain Loss: 0.691 | Train Acc: 77.77777862548828%\n",
      "Epoch: 86 | Epoch Time: 0m 27s\n",
      "\t Val. Loss: 0.894 |  Val. Acc: 69.78851963746223%\n"
     ]
    },
    {
     "name": "stderr",
     "output_type": "stream",
     "text": [
      "100%|██████████| 83/83 [00:21<00:00,  3.84it/s]\n",
      "100%|██████████| 11/11 [00:06<00:00,  1.78it/s]\n"
     ]
    },
    {
     "name": "stdout",
     "output_type": "stream",
     "text": [
      "\tTrain Loss: 0.688 | Train Acc: 77.77777862548828%\n",
      "Epoch: 87 | Epoch Time: 0m 27s\n",
      "\t Val. Loss: 1.129 |  Val. Acc: 67.06948640483384%\n"
     ]
    },
    {
     "name": "stderr",
     "output_type": "stream",
     "text": [
      "100%|██████████| 83/83 [00:21<00:00,  3.84it/s]\n",
      "100%|██████████| 11/11 [00:06<00:00,  1.78it/s]\n"
     ]
    },
    {
     "name": "stdout",
     "output_type": "stream",
     "text": [
      "\tTrain Loss: 0.741 | Train Acc: 77.77777862548828%\n",
      "Epoch: 88 | Epoch Time: 0m 27s\n",
      "\t Val. Loss: 0.952 |  Val. Acc: 73.41389728096676%\n"
     ]
    },
    {
     "name": "stderr",
     "output_type": "stream",
     "text": [
      "100%|██████████| 83/83 [00:21<00:00,  3.84it/s]\n",
      "100%|██████████| 11/11 [00:06<00:00,  1.78it/s]\n"
     ]
    },
    {
     "name": "stdout",
     "output_type": "stream",
     "text": [
      "Best model saved at epoch 89 with accuracy 0.7704 and loss 0.8493.\n",
      "\tTrain Loss: 0.762 | Train Acc: 83.33332824707031%\n",
      "Epoch: 89 | Epoch Time: 0m 27s\n",
      "\t Val. Loss: 0.849 |  Val. Acc: 77.0392749244713%\n"
     ]
    },
    {
     "name": "stderr",
     "output_type": "stream",
     "text": [
      "100%|██████████| 83/83 [00:21<00:00,  3.83it/s]\n",
      "100%|██████████| 11/11 [00:06<00:00,  1.78it/s]\n"
     ]
    },
    {
     "name": "stdout",
     "output_type": "stream",
     "text": [
      "\tTrain Loss: 0.775 | Train Acc: 77.77777862548828%\n",
      "Epoch: 90 | Epoch Time: 0m 27s\n",
      "\t Val. Loss: 0.984 |  Val. Acc: 71.90332326283988%\n"
     ]
    },
    {
     "name": "stderr",
     "output_type": "stream",
     "text": [
      "100%|██████████| 83/83 [00:21<00:00,  3.84it/s]\n",
      "100%|██████████| 11/11 [00:06<00:00,  1.79it/s]\n"
     ]
    },
    {
     "name": "stdout",
     "output_type": "stream",
     "text": [
      "\tTrain Loss: 1.081 | Train Acc: 61.11111068725586%\n",
      "Epoch: 91 | Epoch Time: 0m 27s\n",
      "\t Val. Loss: 0.966 |  Val. Acc: 72.20543806646525%\n"
     ]
    },
    {
     "name": "stderr",
     "output_type": "stream",
     "text": [
      "100%|██████████| 83/83 [00:21<00:00,  3.84it/s]\n",
      "100%|██████████| 11/11 [00:06<00:00,  1.76it/s]\n"
     ]
    },
    {
     "name": "stdout",
     "output_type": "stream",
     "text": [
      "\tTrain Loss: 1.341 | Train Acc: 61.11111068725586%\n",
      "Epoch: 92 | Epoch Time: 0m 27s\n",
      "\t Val. Loss: 1.045 |  Val. Acc: 72.80966767371602%\n"
     ]
    },
    {
     "name": "stderr",
     "output_type": "stream",
     "text": [
      "100%|██████████| 83/83 [00:21<00:00,  3.85it/s]\n",
      "100%|██████████| 11/11 [00:06<00:00,  1.76it/s]\n"
     ]
    },
    {
     "name": "stdout",
     "output_type": "stream",
     "text": [
      "\tTrain Loss: 0.461 | Train Acc: 83.33332824707031%\n",
      "Epoch: 93 | Epoch Time: 0m 27s\n",
      "\t Val. Loss: 0.994 |  Val. Acc: 71.6012084592145%\n"
     ]
    },
    {
     "name": "stderr",
     "output_type": "stream",
     "text": [
      "100%|██████████| 83/83 [00:21<00:00,  3.83it/s]\n",
      "100%|██████████| 11/11 [00:06<00:00,  1.76it/s]\n"
     ]
    },
    {
     "name": "stdout",
     "output_type": "stream",
     "text": [
      "\tTrain Loss: 0.705 | Train Acc: 66.66667175292969%\n",
      "Epoch: 94 | Epoch Time: 0m 27s\n",
      "\t Val. Loss: 0.973 |  Val. Acc: 71.29909365558912%\n"
     ]
    },
    {
     "name": "stderr",
     "output_type": "stream",
     "text": [
      "100%|██████████| 83/83 [00:21<00:00,  3.81it/s]\n",
      "100%|██████████| 11/11 [00:06<00:00,  1.75it/s]\n"
     ]
    },
    {
     "name": "stdout",
     "output_type": "stream",
     "text": [
      "\tTrain Loss: 0.633 | Train Acc: 72.22222137451172%\n",
      "Epoch: 95 | Epoch Time: 0m 28s\n",
      "\t Val. Loss: 0.812 |  Val. Acc: 73.71601208459214%\n"
     ]
    },
    {
     "name": "stderr",
     "output_type": "stream",
     "text": [
      "100%|██████████| 83/83 [00:21<00:00,  3.82it/s]\n",
      "100%|██████████| 11/11 [00:06<00:00,  1.78it/s]\n"
     ]
    },
    {
     "name": "stdout",
     "output_type": "stream",
     "text": [
      "\tTrain Loss: 0.769 | Train Acc: 66.66667175292969%\n",
      "Epoch: 96 | Epoch Time: 0m 27s\n",
      "\t Val. Loss: 0.960 |  Val. Acc: 75.22658610271903%\n"
     ]
    },
    {
     "name": "stderr",
     "output_type": "stream",
     "text": [
      "100%|██████████| 83/83 [00:21<00:00,  3.84it/s]\n",
      "100%|██████████| 11/11 [00:06<00:00,  1.80it/s]\n"
     ]
    },
    {
     "name": "stdout",
     "output_type": "stream",
     "text": [
      "\tTrain Loss: 1.124 | Train Acc: 61.11111068725586%\n",
      "Epoch: 97 | Epoch Time: 0m 27s\n",
      "\t Val. Loss: 0.922 |  Val. Acc: 73.71601208459214%\n"
     ]
    },
    {
     "name": "stderr",
     "output_type": "stream",
     "text": [
      "100%|██████████| 83/83 [00:21<00:00,  3.84it/s]\n",
      "100%|██████████| 11/11 [00:06<00:00,  1.80it/s]\n"
     ]
    },
    {
     "name": "stdout",
     "output_type": "stream",
     "text": [
      "\tTrain Loss: 1.010 | Train Acc: 61.11111068725586%\n",
      "Epoch: 98 | Epoch Time: 0m 27s\n",
      "\t Val. Loss: 0.790 |  Val. Acc: 76.73716012084593%\n"
     ]
    },
    {
     "name": "stderr",
     "output_type": "stream",
     "text": [
      "100%|██████████| 83/83 [00:21<00:00,  3.85it/s]\n",
      "100%|██████████| 11/11 [00:06<00:00,  1.78it/s]\n"
     ]
    },
    {
     "name": "stdout",
     "output_type": "stream",
     "text": [
      "\tTrain Loss: 0.947 | Train Acc: 66.66667175292969%\n",
      "Epoch: 99 | Epoch Time: 0m 27s\n",
      "\t Val. Loss: 0.971 |  Val. Acc: 74.92447129909365%\n"
     ]
    },
    {
     "name": "stderr",
     "output_type": "stream",
     "text": [
      "100%|██████████| 83/83 [00:21<00:00,  3.84it/s]\n",
      "100%|██████████| 11/11 [00:06<00:00,  1.78it/s]\n"
     ]
    },
    {
     "name": "stdout",
     "output_type": "stream",
     "text": [
      "\tTrain Loss: 0.598 | Train Acc: 83.33332824707031%\n",
      "Epoch: 100 | Epoch Time: 0m 27s\n",
      "\t Val. Loss: 0.866 |  Val. Acc: 73.71601208459214%\n"
     ]
    },
    {
     "name": "stderr",
     "output_type": "stream",
     "text": [
      "100%|██████████| 83/83 [00:21<00:00,  3.82it/s]\n",
      "100%|██████████| 11/11 [00:06<00:00,  1.78it/s]\n"
     ]
    },
    {
     "name": "stdout",
     "output_type": "stream",
     "text": [
      "\tTrain Loss: 0.518 | Train Acc: 77.77777862548828%\n",
      "Epoch: 101 | Epoch Time: 0m 27s\n",
      "\t Val. Loss: 0.858 |  Val. Acc: 72.80966767371602%\n"
     ]
    },
    {
     "name": "stderr",
     "output_type": "stream",
     "text": [
      "100%|██████████| 83/83 [00:22<00:00,  3.77it/s]\n",
      "100%|██████████| 11/11 [00:06<00:00,  1.74it/s]\n"
     ]
    },
    {
     "name": "stdout",
     "output_type": "stream",
     "text": [
      "\tTrain Loss: 0.398 | Train Acc: 83.33332824707031%\n",
      "Epoch: 102 | Epoch Time: 0m 28s\n",
      "\t Val. Loss: 0.932 |  Val. Acc: 73.1117824773414%\n"
     ]
    },
    {
     "name": "stderr",
     "output_type": "stream",
     "text": [
      "100%|██████████| 83/83 [00:21<00:00,  3.80it/s]\n",
      "100%|██████████| 11/11 [00:06<00:00,  1.75it/s]\n"
     ]
    },
    {
     "name": "stdout",
     "output_type": "stream",
     "text": [
      "\tTrain Loss: 0.663 | Train Acc: 83.33332824707031%\n",
      "Epoch: 103 | Epoch Time: 0m 28s\n",
      "\t Val. Loss: 0.976 |  Val. Acc: 72.20543806646525%\n"
     ]
    },
    {
     "name": "stderr",
     "output_type": "stream",
     "text": [
      "100%|██████████| 83/83 [00:22<00:00,  3.75it/s]\n",
      "100%|██████████| 11/11 [00:06<00:00,  1.74it/s]\n"
     ]
    },
    {
     "name": "stdout",
     "output_type": "stream",
     "text": [
      "\tTrain Loss: 0.345 | Train Acc: 88.8888931274414%\n",
      "Epoch: 104 | Epoch Time: 0m 28s\n",
      "\t Val. Loss: 0.907 |  Val. Acc: 73.41389728096676%\n"
     ]
    },
    {
     "name": "stderr",
     "output_type": "stream",
     "text": [
      "100%|██████████| 83/83 [00:21<00:00,  3.81it/s]\n",
      "100%|██████████| 11/11 [00:06<00:00,  1.75it/s]\n"
     ]
    },
    {
     "name": "stdout",
     "output_type": "stream",
     "text": [
      "\tTrain Loss: 1.037 | Train Acc: 66.66667175292969%\n",
      "Epoch: 105 | Epoch Time: 0m 28s\n",
      "\t Val. Loss: 0.945 |  Val. Acc: 71.90332326283988%\n"
     ]
    },
    {
     "name": "stderr",
     "output_type": "stream",
     "text": [
      "100%|██████████| 83/83 [00:21<00:00,  3.78it/s]\n",
      "100%|██████████| 11/11 [00:06<00:00,  1.74it/s]\n"
     ]
    },
    {
     "name": "stdout",
     "output_type": "stream",
     "text": [
      "\tTrain Loss: 0.822 | Train Acc: 77.77777862548828%\n",
      "Epoch: 106 | Epoch Time: 0m 28s\n",
      "\t Val. Loss: 0.905 |  Val. Acc: 70.09063444108762%\n"
     ]
    },
    {
     "name": "stderr",
     "output_type": "stream",
     "text": [
      "100%|██████████| 83/83 [00:22<00:00,  3.76it/s]\n",
      "100%|██████████| 11/11 [00:06<00:00,  1.74it/s]\n"
     ]
    },
    {
     "name": "stdout",
     "output_type": "stream",
     "text": [
      "\tTrain Loss: 0.496 | Train Acc: 77.77777862548828%\n",
      "Epoch: 107 | Epoch Time: 0m 28s\n",
      "\t Val. Loss: 0.801 |  Val. Acc: 75.22658610271903%\n"
     ]
    },
    {
     "name": "stderr",
     "output_type": "stream",
     "text": [
      "100%|██████████| 83/83 [00:21<00:00,  3.78it/s]\n",
      "100%|██████████| 11/11 [00:06<00:00,  1.75it/s]\n"
     ]
    },
    {
     "name": "stdout",
     "output_type": "stream",
     "text": [
      "\tTrain Loss: 0.748 | Train Acc: 61.11111068725586%\n",
      "Epoch: 108 | Epoch Time: 0m 28s\n",
      "\t Val. Loss: 0.826 |  Val. Acc: 75.52870090634441%\n"
     ]
    },
    {
     "name": "stderr",
     "output_type": "stream",
     "text": [
      "100%|██████████| 83/83 [00:21<00:00,  3.80it/s]\n",
      "100%|██████████| 11/11 [00:06<00:00,  1.75it/s]\n"
     ]
    },
    {
     "name": "stdout",
     "output_type": "stream",
     "text": [
      "\tTrain Loss: 0.829 | Train Acc: 66.66667175292969%\n",
      "Epoch: 109 | Epoch Time: 0m 28s\n",
      "\t Val. Loss: 0.803 |  Val. Acc: 76.13293051359517%\n"
     ]
    },
    {
     "name": "stderr",
     "output_type": "stream",
     "text": [
      "100%|██████████| 83/83 [00:21<00:00,  3.79it/s]\n",
      "100%|██████████| 11/11 [00:06<00:00,  1.77it/s]\n"
     ]
    },
    {
     "name": "stdout",
     "output_type": "stream",
     "text": [
      "\tTrain Loss: 0.446 | Train Acc: 88.8888931274414%\n",
      "Epoch: 110 | Epoch Time: 0m 28s\n",
      "\t Val. Loss: 0.949 |  Val. Acc: 73.1117824773414%\n"
     ]
    },
    {
     "name": "stderr",
     "output_type": "stream",
     "text": [
      "100%|██████████| 83/83 [00:22<00:00,  3.77it/s]\n",
      "100%|██████████| 11/11 [00:06<00:00,  1.74it/s]\n"
     ]
    },
    {
     "name": "stdout",
     "output_type": "stream",
     "text": [
      "Best model saved at epoch 111 with accuracy 0.7734 and loss 0.6788.\n",
      "\tTrain Loss: 0.596 | Train Acc: 77.77777862548828%\n",
      "Epoch: 111 | Epoch Time: 0m 28s\n",
      "\t Val. Loss: 0.679 |  Val. Acc: 77.34138972809667%\n"
     ]
    },
    {
     "name": "stderr",
     "output_type": "stream",
     "text": [
      "100%|██████████| 83/83 [00:22<00:00,  3.76it/s]\n",
      "100%|██████████| 11/11 [00:06<00:00,  1.73it/s]\n"
     ]
    },
    {
     "name": "stdout",
     "output_type": "stream",
     "text": [
      "\tTrain Loss: 0.753 | Train Acc: 83.33332824707031%\n",
      "Epoch: 112 | Epoch Time: 0m 28s\n",
      "\t Val. Loss: 0.767 |  Val. Acc: 77.34138972809667%\n"
     ]
    },
    {
     "name": "stderr",
     "output_type": "stream",
     "text": [
      "100%|██████████| 83/83 [00:22<00:00,  3.75it/s]\n",
      "100%|██████████| 11/11 [00:06<00:00,  1.75it/s]\n"
     ]
    },
    {
     "name": "stdout",
     "output_type": "stream",
     "text": [
      "\tTrain Loss: 0.904 | Train Acc: 83.33332824707031%\n",
      "Epoch: 113 | Epoch Time: 0m 28s\n",
      "\t Val. Loss: 0.853 |  Val. Acc: 76.43504531722054%\n"
     ]
    },
    {
     "name": "stderr",
     "output_type": "stream",
     "text": [
      "100%|██████████| 83/83 [00:22<00:00,  3.73it/s]\n",
      "100%|██████████| 11/11 [00:06<00:00,  1.70it/s]\n"
     ]
    },
    {
     "name": "stdout",
     "output_type": "stream",
     "text": [
      "\tTrain Loss: 1.558 | Train Acc: 55.55555725097656%\n",
      "Epoch: 114 | Epoch Time: 0m 28s\n",
      "\t Val. Loss: 0.818 |  Val. Acc: 74.92447129909365%\n"
     ]
    },
    {
     "name": "stderr",
     "output_type": "stream",
     "text": [
      "100%|██████████| 83/83 [00:21<00:00,  3.78it/s]\n",
      "100%|██████████| 11/11 [00:06<00:00,  1.75it/s]\n"
     ]
    },
    {
     "name": "stdout",
     "output_type": "stream",
     "text": [
      "\tTrain Loss: 0.798 | Train Acc: 61.11111068725586%\n",
      "Epoch: 115 | Epoch Time: 0m 28s\n",
      "\t Val. Loss: 0.834 |  Val. Acc: 76.43504531722054%\n"
     ]
    },
    {
     "name": "stderr",
     "output_type": "stream",
     "text": [
      "100%|██████████| 83/83 [00:21<00:00,  3.82it/s]\n",
      "100%|██████████| 11/11 [00:06<00:00,  1.75it/s]\n"
     ]
    },
    {
     "name": "stdout",
     "output_type": "stream",
     "text": [
      "\tTrain Loss: 0.486 | Train Acc: 77.77777862548828%\n",
      "Epoch: 116 | Epoch Time: 0m 28s\n",
      "\t Val. Loss: 0.998 |  Val. Acc: 74.01812688821752%\n"
     ]
    },
    {
     "name": "stderr",
     "output_type": "stream",
     "text": [
      "100%|██████████| 83/83 [00:22<00:00,  3.72it/s]\n",
      "100%|██████████| 11/11 [00:06<00:00,  1.74it/s]\n"
     ]
    },
    {
     "name": "stdout",
     "output_type": "stream",
     "text": [
      "\tTrain Loss: 0.669 | Train Acc: 77.77777862548828%\n",
      "Epoch: 117 | Epoch Time: 0m 28s\n",
      "\t Val. Loss: 0.947 |  Val. Acc: 77.0392749244713%\n"
     ]
    },
    {
     "name": "stderr",
     "output_type": "stream",
     "text": [
      "100%|██████████| 83/83 [00:22<00:00,  3.70it/s]\n",
      "100%|██████████| 11/11 [00:06<00:00,  1.75it/s]\n"
     ]
    },
    {
     "name": "stdout",
     "output_type": "stream",
     "text": [
      "\tTrain Loss: 0.615 | Train Acc: 72.22222137451172%\n",
      "Epoch: 118 | Epoch Time: 0m 28s\n",
      "\t Val. Loss: 0.916 |  Val. Acc: 76.13293051359517%\n"
     ]
    },
    {
     "name": "stderr",
     "output_type": "stream",
     "text": [
      "100%|██████████| 83/83 [00:21<00:00,  3.78it/s]\n",
      "100%|██████████| 11/11 [00:06<00:00,  1.74it/s]\n"
     ]
    },
    {
     "name": "stdout",
     "output_type": "stream",
     "text": [
      "\tTrain Loss: 0.584 | Train Acc: 83.33332824707031%\n",
      "Epoch: 119 | Epoch Time: 0m 28s\n",
      "\t Val. Loss: 0.959 |  Val. Acc: 74.32024169184291%\n"
     ]
    },
    {
     "name": "stderr",
     "output_type": "stream",
     "text": [
      "100%|██████████| 83/83 [00:21<00:00,  3.78it/s]\n",
      "100%|██████████| 11/11 [00:06<00:00,  1.78it/s]\n"
     ]
    },
    {
     "name": "stdout",
     "output_type": "stream",
     "text": [
      "\tTrain Loss: 0.844 | Train Acc: 77.77777862548828%\n",
      "Epoch: 120 | Epoch Time: 0m 28s\n",
      "\t Val. Loss: 0.920 |  Val. Acc: 72.80966767371602%\n"
     ]
    },
    {
     "name": "stderr",
     "output_type": "stream",
     "text": [
      "100%|██████████| 83/83 [00:22<00:00,  3.72it/s]\n",
      "100%|██████████| 11/11 [00:06<00:00,  1.73it/s]\n"
     ]
    },
    {
     "name": "stdout",
     "output_type": "stream",
     "text": [
      "\tTrain Loss: 0.450 | Train Acc: 83.33332824707031%\n",
      "Epoch: 121 | Epoch Time: 0m 28s\n",
      "\t Val. Loss: 0.886 |  Val. Acc: 73.41389728096676%\n"
     ]
    },
    {
     "name": "stderr",
     "output_type": "stream",
     "text": [
      "100%|██████████| 83/83 [00:22<00:00,  3.77it/s]\n",
      "100%|██████████| 11/11 [00:06<00:00,  1.74it/s]\n"
     ]
    },
    {
     "name": "stdout",
     "output_type": "stream",
     "text": [
      "\tTrain Loss: 0.601 | Train Acc: 83.33332824707031%\n",
      "Epoch: 122 | Epoch Time: 0m 28s\n",
      "\t Val. Loss: 0.805 |  Val. Acc: 76.13293051359517%\n"
     ]
    },
    {
     "name": "stderr",
     "output_type": "stream",
     "text": [
      "100%|██████████| 83/83 [00:21<00:00,  3.78it/s]\n",
      "100%|██████████| 11/11 [00:06<00:00,  1.77it/s]\n"
     ]
    },
    {
     "name": "stdout",
     "output_type": "stream",
     "text": [
      "\tTrain Loss: 1.068 | Train Acc: 66.66667175292969%\n",
      "Epoch: 123 | Epoch Time: 0m 28s\n",
      "\t Val. Loss: 0.955 |  Val. Acc: 71.6012084592145%\n"
     ]
    },
    {
     "name": "stderr",
     "output_type": "stream",
     "text": [
      "100%|██████████| 83/83 [00:21<00:00,  3.80it/s]\n",
      "100%|██████████| 11/11 [00:06<00:00,  1.74it/s]\n"
     ]
    },
    {
     "name": "stdout",
     "output_type": "stream",
     "text": [
      "\tTrain Loss: 0.649 | Train Acc: 77.77777862548828%\n",
      "Epoch: 124 | Epoch Time: 0m 28s\n",
      "\t Val. Loss: 0.879 |  Val. Acc: 73.71601208459214%\n"
     ]
    },
    {
     "name": "stderr",
     "output_type": "stream",
     "text": [
      "100%|██████████| 83/83 [00:21<00:00,  3.78it/s]\n",
      "100%|██████████| 11/11 [00:06<00:00,  1.75it/s]\n"
     ]
    },
    {
     "name": "stdout",
     "output_type": "stream",
     "text": [
      "\tTrain Loss: 0.723 | Train Acc: 77.77777862548828%\n",
      "Epoch: 125 | Epoch Time: 0m 28s\n",
      "\t Val. Loss: 0.746 |  Val. Acc: 74.62235649546828%\n"
     ]
    },
    {
     "name": "stderr",
     "output_type": "stream",
     "text": [
      "100%|██████████| 83/83 [00:22<00:00,  3.76it/s]\n",
      "100%|██████████| 11/11 [00:06<00:00,  1.73it/s]\n"
     ]
    },
    {
     "name": "stdout",
     "output_type": "stream",
     "text": [
      "\tTrain Loss: 0.595 | Train Acc: 77.77777862548828%\n",
      "Epoch: 126 | Epoch Time: 0m 28s\n",
      "\t Val. Loss: 0.958 |  Val. Acc: 72.80966767371602%\n"
     ]
    },
    {
     "name": "stderr",
     "output_type": "stream",
     "text": [
      "100%|██████████| 83/83 [00:22<00:00,  3.70it/s]\n",
      "100%|██████████| 11/11 [00:06<00:00,  1.74it/s]\n"
     ]
    },
    {
     "name": "stdout",
     "output_type": "stream",
     "text": [
      "\tTrain Loss: 0.721 | Train Acc: 72.22222137451172%\n",
      "Epoch: 127 | Epoch Time: 0m 28s\n",
      "\t Val. Loss: 0.850 |  Val. Acc: 77.0392749244713%\n"
     ]
    },
    {
     "name": "stderr",
     "output_type": "stream",
     "text": [
      "100%|██████████| 83/83 [00:22<00:00,  3.72it/s]\n",
      "100%|██████████| 11/11 [00:06<00:00,  1.75it/s]\n"
     ]
    },
    {
     "name": "stdout",
     "output_type": "stream",
     "text": [
      "\tTrain Loss: 0.592 | Train Acc: 77.77777862548828%\n",
      "Epoch: 128 | Epoch Time: 0m 28s\n",
      "\t Val. Loss: 0.917 |  Val. Acc: 74.32024169184291%\n"
     ]
    },
    {
     "name": "stderr",
     "output_type": "stream",
     "text": [
      "100%|██████████| 83/83 [00:21<00:00,  3.84it/s]\n",
      "100%|██████████| 11/11 [00:06<00:00,  1.78it/s]\n"
     ]
    },
    {
     "name": "stdout",
     "output_type": "stream",
     "text": [
      "\tTrain Loss: 0.241 | Train Acc: 94.44445037841797%\n",
      "Epoch: 129 | Epoch Time: 0m 27s\n",
      "\t Val. Loss: 1.000 |  Val. Acc: 73.41389728096676%\n"
     ]
    },
    {
     "name": "stderr",
     "output_type": "stream",
     "text": [
      "100%|██████████| 83/83 [00:21<00:00,  3.84it/s]\n",
      "100%|██████████| 11/11 [00:06<00:00,  1.79it/s]\n"
     ]
    },
    {
     "name": "stdout",
     "output_type": "stream",
     "text": [
      "\tTrain Loss: 0.562 | Train Acc: 83.33332824707031%\n",
      "Epoch: 130 | Epoch Time: 0m 27s\n",
      "\t Val. Loss: 0.989 |  Val. Acc: 72.80966767371602%\n"
     ]
    },
    {
     "name": "stderr",
     "output_type": "stream",
     "text": [
      "100%|██████████| 83/83 [00:21<00:00,  3.79it/s]\n",
      "100%|██████████| 11/11 [00:06<00:00,  1.78it/s]\n"
     ]
    },
    {
     "name": "stdout",
     "output_type": "stream",
     "text": [
      "\tTrain Loss: 0.558 | Train Acc: 83.33332824707031%\n",
      "Epoch: 131 | Epoch Time: 0m 28s\n",
      "\t Val. Loss: 0.948 |  Val. Acc: 73.71601208459214%\n"
     ]
    },
    {
     "name": "stderr",
     "output_type": "stream",
     "text": [
      "100%|██████████| 83/83 [00:22<00:00,  3.70it/s]\n",
      "100%|██████████| 11/11 [00:06<00:00,  1.78it/s]\n"
     ]
    },
    {
     "name": "stdout",
     "output_type": "stream",
     "text": [
      "\tTrain Loss: 1.175 | Train Acc: 55.55555725097656%\n",
      "Epoch: 132 | Epoch Time: 0m 28s\n",
      "\t Val. Loss: 0.798 |  Val. Acc: 75.52870090634441%\n"
     ]
    },
    {
     "name": "stderr",
     "output_type": "stream",
     "text": [
      "100%|██████████| 83/83 [00:22<00:00,  3.67it/s]\n",
      "100%|██████████| 11/11 [00:06<00:00,  1.79it/s]\n"
     ]
    },
    {
     "name": "stdout",
     "output_type": "stream",
     "text": [
      "\tTrain Loss: 0.544 | Train Acc: 88.8888931274414%\n",
      "Epoch: 133 | Epoch Time: 0m 28s\n",
      "\t Val. Loss: 0.856 |  Val. Acc: 75.52870090634441%\n"
     ]
    },
    {
     "name": "stderr",
     "output_type": "stream",
     "text": [
      "100%|██████████| 83/83 [00:22<00:00,  3.63it/s]\n",
      "100%|██████████| 11/11 [00:06<00:00,  1.77it/s]\n"
     ]
    },
    {
     "name": "stdout",
     "output_type": "stream",
     "text": [
      "\tTrain Loss: 0.210 | Train Acc: 94.44445037841797%\n",
      "Epoch: 134 | Epoch Time: 0m 29s\n",
      "\t Val. Loss: 0.834 |  Val. Acc: 77.34138972809667%\n"
     ]
    },
    {
     "name": "stderr",
     "output_type": "stream",
     "text": [
      "100%|██████████| 83/83 [00:22<00:00,  3.67it/s]\n",
      "100%|██████████| 11/11 [00:06<00:00,  1.78it/s]\n"
     ]
    },
    {
     "name": "stdout",
     "output_type": "stream",
     "text": [
      "\tTrain Loss: 0.532 | Train Acc: 94.44445037841797%\n",
      "Epoch: 135 | Epoch Time: 0m 28s\n",
      "\t Val. Loss: 1.104 |  Val. Acc: 71.90332326283988%\n"
     ]
    },
    {
     "name": "stderr",
     "output_type": "stream",
     "text": [
      "100%|██████████| 83/83 [00:22<00:00,  3.66it/s]\n",
      "100%|██████████| 11/11 [00:06<00:00,  1.78it/s]\n"
     ]
    },
    {
     "name": "stdout",
     "output_type": "stream",
     "text": [
      "\tTrain Loss: 0.797 | Train Acc: 77.77777862548828%\n",
      "Epoch: 136 | Epoch Time: 0m 28s\n",
      "\t Val. Loss: 0.894 |  Val. Acc: 74.92447129909365%\n"
     ]
    },
    {
     "name": "stderr",
     "output_type": "stream",
     "text": [
      "100%|██████████| 83/83 [00:22<00:00,  3.69it/s]\n",
      "100%|██████████| 11/11 [00:06<00:00,  1.78it/s]\n"
     ]
    },
    {
     "name": "stdout",
     "output_type": "stream",
     "text": [
      "\tTrain Loss: 0.172 | Train Acc: 94.44445037841797%\n",
      "Epoch: 137 | Epoch Time: 0m 28s\n",
      "\t Val. Loss: 0.856 |  Val. Acc: 75.52870090634441%\n"
     ]
    },
    {
     "name": "stderr",
     "output_type": "stream",
     "text": [
      "100%|██████████| 83/83 [00:22<00:00,  3.63it/s]\n",
      "100%|██████████| 11/11 [00:06<00:00,  1.78it/s]\n"
     ]
    },
    {
     "name": "stdout",
     "output_type": "stream",
     "text": [
      "\tTrain Loss: 1.145 | Train Acc: 77.77777862548828%\n",
      "Epoch: 138 | Epoch Time: 0m 29s\n",
      "\t Val. Loss: 0.881 |  Val. Acc: 74.01812688821752%\n"
     ]
    },
    {
     "name": "stderr",
     "output_type": "stream",
     "text": [
      "100%|██████████| 83/83 [00:21<00:00,  3.86it/s]\n",
      "100%|██████████| 11/11 [00:06<00:00,  1.80it/s]\n"
     ]
    },
    {
     "name": "stdout",
     "output_type": "stream",
     "text": [
      "\tTrain Loss: 0.802 | Train Acc: 72.22222137451172%\n",
      "Epoch: 139 | Epoch Time: 0m 27s\n",
      "\t Val. Loss: 0.848 |  Val. Acc: 76.43504531722054%\n"
     ]
    },
    {
     "name": "stderr",
     "output_type": "stream",
     "text": [
      "100%|██████████| 83/83 [00:21<00:00,  3.87it/s]\n",
      "100%|██████████| 11/11 [00:06<00:00,  1.78it/s]\n"
     ]
    },
    {
     "name": "stdout",
     "output_type": "stream",
     "text": [
      "\tTrain Loss: 0.876 | Train Acc: 66.66667175292969%\n",
      "Epoch: 140 | Epoch Time: 0m 27s\n",
      "\t Val. Loss: 0.912 |  Val. Acc: 73.41389728096676%\n"
     ]
    },
    {
     "name": "stderr",
     "output_type": "stream",
     "text": [
      "100%|██████████| 83/83 [00:22<00:00,  3.75it/s]\n",
      "100%|██████████| 11/11 [00:06<00:00,  1.78it/s]\n"
     ]
    },
    {
     "name": "stdout",
     "output_type": "stream",
     "text": [
      "\tTrain Loss: 0.873 | Train Acc: 83.33332824707031%\n",
      "Epoch: 141 | Epoch Time: 0m 28s\n",
      "\t Val. Loss: 0.886 |  Val. Acc: 73.71601208459214%\n"
     ]
    },
    {
     "name": "stderr",
     "output_type": "stream",
     "text": [
      "100%|██████████| 83/83 [00:22<00:00,  3.67it/s]\n",
      "100%|██████████| 11/11 [00:06<00:00,  1.75it/s]\n"
     ]
    },
    {
     "name": "stdout",
     "output_type": "stream",
     "text": [
      "\tTrain Loss: 1.058 | Train Acc: 61.11111068725586%\n",
      "Epoch: 142 | Epoch Time: 0m 28s\n",
      "\t Val. Loss: 0.814 |  Val. Acc: 75.52870090634441%\n"
     ]
    },
    {
     "name": "stderr",
     "output_type": "stream",
     "text": [
      "100%|██████████| 83/83 [00:22<00:00,  3.62it/s]\n",
      "100%|██████████| 11/11 [00:06<00:00,  1.75it/s]\n"
     ]
    },
    {
     "name": "stdout",
     "output_type": "stream",
     "text": [
      "\tTrain Loss: 1.082 | Train Acc: 61.11111068725586%\n",
      "Epoch: 143 | Epoch Time: 0m 29s\n",
      "\t Val. Loss: 0.983 |  Val. Acc: 76.73716012084593%\n"
     ]
    },
    {
     "name": "stderr",
     "output_type": "stream",
     "text": [
      "100%|██████████| 83/83 [00:22<00:00,  3.64it/s]\n",
      "100%|██████████| 11/11 [00:06<00:00,  1.78it/s]\n"
     ]
    },
    {
     "name": "stdout",
     "output_type": "stream",
     "text": [
      "\tTrain Loss: 0.537 | Train Acc: 88.8888931274414%\n",
      "Epoch: 144 | Epoch Time: 0m 29s\n",
      "\t Val. Loss: 0.877 |  Val. Acc: 75.83081570996978%\n"
     ]
    },
    {
     "name": "stderr",
     "output_type": "stream",
     "text": [
      "100%|██████████| 83/83 [00:22<00:00,  3.65it/s]\n",
      "100%|██████████| 11/11 [00:06<00:00,  1.73it/s]\n"
     ]
    },
    {
     "name": "stdout",
     "output_type": "stream",
     "text": [
      "\tTrain Loss: 0.955 | Train Acc: 72.22222137451172%\n",
      "Epoch: 145 | Epoch Time: 0m 29s\n",
      "\t Val. Loss: 0.841 |  Val. Acc: 77.34138972809667%\n"
     ]
    },
    {
     "name": "stderr",
     "output_type": "stream",
     "text": [
      "100%|██████████| 83/83 [00:22<00:00,  3.69it/s]\n",
      "100%|██████████| 11/11 [00:06<00:00,  1.78it/s]\n"
     ]
    },
    {
     "name": "stdout",
     "output_type": "stream",
     "text": [
      "\tTrain Loss: 0.817 | Train Acc: 72.22222137451172%\n",
      "Epoch: 146 | Epoch Time: 0m 28s\n",
      "\t Val. Loss: 0.864 |  Val. Acc: 76.13293051359517%\n"
     ]
    },
    {
     "name": "stderr",
     "output_type": "stream",
     "text": [
      "100%|██████████| 83/83 [00:22<00:00,  3.75it/s]\n",
      "100%|██████████| 11/11 [00:06<00:00,  1.71it/s]\n"
     ]
    },
    {
     "name": "stdout",
     "output_type": "stream",
     "text": [
      "\tTrain Loss: 0.731 | Train Acc: 72.22222137451172%\n",
      "Epoch: 147 | Epoch Time: 0m 28s\n",
      "\t Val. Loss: 0.905 |  Val. Acc: 73.41389728096676%\n"
     ]
    },
    {
     "name": "stderr",
     "output_type": "stream",
     "text": [
      "100%|██████████| 83/83 [00:22<00:00,  3.71it/s]\n",
      "100%|██████████| 11/11 [00:06<00:00,  1.71it/s]\n"
     ]
    },
    {
     "name": "stdout",
     "output_type": "stream",
     "text": [
      "\tTrain Loss: 0.613 | Train Acc: 77.77777862548828%\n",
      "Epoch: 148 | Epoch Time: 0m 28s\n",
      "\t Val. Loss: 0.843 |  Val. Acc: 76.13293051359517%\n"
     ]
    },
    {
     "name": "stderr",
     "output_type": "stream",
     "text": [
      "100%|██████████| 83/83 [00:22<00:00,  3.63it/s]\n",
      "100%|██████████| 11/11 [00:06<00:00,  1.71it/s]\n"
     ]
    },
    {
     "name": "stdout",
     "output_type": "stream",
     "text": [
      "\tTrain Loss: 0.620 | Train Acc: 72.22222137451172%\n",
      "Epoch: 149 | Epoch Time: 0m 29s\n",
      "\t Val. Loss: 0.951 |  Val. Acc: 73.1117824773414%\n"
     ]
    },
    {
     "name": "stderr",
     "output_type": "stream",
     "text": [
      "100%|██████████| 83/83 [00:22<00:00,  3.66it/s]\n",
      "100%|██████████| 11/11 [00:06<00:00,  1.73it/s]\n"
     ]
    },
    {
     "name": "stdout",
     "output_type": "stream",
     "text": [
      "\tTrain Loss: 0.792 | Train Acc: 66.66667175292969%\n",
      "Epoch: 150 | Epoch Time: 0m 29s\n",
      "\t Val. Loss: 0.914 |  Val. Acc: 75.22658610271903%\n"
     ]
    },
    {
     "name": "stderr",
     "output_type": "stream",
     "text": [
      "100%|██████████| 83/83 [00:22<00:00,  3.62it/s]\n",
      "100%|██████████| 11/11 [00:06<00:00,  1.75it/s]\n"
     ]
    },
    {
     "name": "stdout",
     "output_type": "stream",
     "text": [
      "\tTrain Loss: 0.675 | Train Acc: 72.22222137451172%\n",
      "Epoch: 151 | Epoch Time: 0m 29s\n",
      "\t Val. Loss: 0.823 |  Val. Acc: 75.83081570996978%\n"
     ]
    },
    {
     "name": "stderr",
     "output_type": "stream",
     "text": [
      "100%|██████████| 83/83 [00:22<00:00,  3.72it/s]\n",
      "100%|██████████| 11/11 [00:06<00:00,  1.79it/s]\n"
     ]
    },
    {
     "name": "stdout",
     "output_type": "stream",
     "text": [
      "\tTrain Loss: 0.460 | Train Acc: 88.8888931274414%\n",
      "Epoch: 152 | Epoch Time: 0m 28s\n",
      "\t Val. Loss: 0.861 |  Val. Acc: 74.62235649546828%\n"
     ]
    },
    {
     "name": "stderr",
     "output_type": "stream",
     "text": [
      "100%|██████████| 83/83 [00:23<00:00,  3.60it/s]\n",
      "100%|██████████| 11/11 [00:06<00:00,  1.75it/s]\n"
     ]
    },
    {
     "name": "stdout",
     "output_type": "stream",
     "text": [
      "\tTrain Loss: 1.206 | Train Acc: 66.66667175292969%\n",
      "Epoch: 153 | Epoch Time: 0m 29s\n",
      "\t Val. Loss: 0.951 |  Val. Acc: 75.22658610271903%\n"
     ]
    },
    {
     "name": "stderr",
     "output_type": "stream",
     "text": [
      "100%|██████████| 83/83 [00:22<00:00,  3.67it/s]\n",
      "100%|██████████| 11/11 [00:06<00:00,  1.76it/s]\n"
     ]
    },
    {
     "name": "stdout",
     "output_type": "stream",
     "text": [
      "\tTrain Loss: 0.582 | Train Acc: 83.33332824707031%\n",
      "Epoch: 154 | Epoch Time: 0m 28s\n",
      "\t Val. Loss: 1.020 |  Val. Acc: 75.22658610271903%\n"
     ]
    },
    {
     "name": "stderr",
     "output_type": "stream",
     "text": [
      "100%|██████████| 83/83 [00:22<00:00,  3.64it/s]\n",
      "100%|██████████| 11/11 [00:06<00:00,  1.71it/s]\n"
     ]
    },
    {
     "name": "stdout",
     "output_type": "stream",
     "text": [
      "\tTrain Loss: 0.686 | Train Acc: 72.22222137451172%\n",
      "Epoch: 155 | Epoch Time: 0m 29s\n",
      "\t Val. Loss: 0.926 |  Val. Acc: 77.0392749244713%\n"
     ]
    },
    {
     "name": "stderr",
     "output_type": "stream",
     "text": [
      "100%|██████████| 83/83 [00:22<00:00,  3.67it/s]\n",
      "100%|██████████| 11/11 [00:06<00:00,  1.73it/s]\n"
     ]
    },
    {
     "name": "stdout",
     "output_type": "stream",
     "text": [
      "\tTrain Loss: 0.707 | Train Acc: 88.8888931274414%\n",
      "Epoch: 156 | Epoch Time: 0m 28s\n",
      "\t Val. Loss: 1.041 |  Val. Acc: 73.71601208459214%\n"
     ]
    },
    {
     "name": "stderr",
     "output_type": "stream",
     "text": [
      "100%|██████████| 83/83 [00:22<00:00,  3.68it/s]\n",
      "100%|██████████| 11/11 [00:06<00:00,  1.78it/s]\n"
     ]
    },
    {
     "name": "stdout",
     "output_type": "stream",
     "text": [
      "\tTrain Loss: 0.285 | Train Acc: 88.8888931274414%\n",
      "Epoch: 157 | Epoch Time: 0m 28s\n",
      "\t Val. Loss: 0.976 |  Val. Acc: 76.13293051359517%\n"
     ]
    },
    {
     "name": "stderr",
     "output_type": "stream",
     "text": [
      "100%|██████████| 83/83 [00:22<00:00,  3.63it/s]\n",
      "100%|██████████| 11/11 [00:06<00:00,  1.74it/s]\n"
     ]
    },
    {
     "name": "stdout",
     "output_type": "stream",
     "text": [
      "\tTrain Loss: 0.859 | Train Acc: 77.77777862548828%\n",
      "Epoch: 158 | Epoch Time: 0m 29s\n",
      "\t Val. Loss: 1.128 |  Val. Acc: 73.1117824773414%\n"
     ]
    },
    {
     "name": "stderr",
     "output_type": "stream",
     "text": [
      "100%|██████████| 83/83 [00:22<00:00,  3.68it/s]\n",
      "100%|██████████| 11/11 [00:06<00:00,  1.75it/s]\n"
     ]
    },
    {
     "name": "stdout",
     "output_type": "stream",
     "text": [
      "\tTrain Loss: 0.746 | Train Acc: 83.33332824707031%\n",
      "Epoch: 159 | Epoch Time: 0m 28s\n",
      "\t Val. Loss: 1.100 |  Val. Acc: 74.01812688821752%\n"
     ]
    },
    {
     "name": "stderr",
     "output_type": "stream",
     "text": [
      "100%|██████████| 83/83 [00:22<00:00,  3.69it/s]\n",
      "100%|██████████| 11/11 [00:06<00:00,  1.75it/s]\n"
     ]
    },
    {
     "name": "stdout",
     "output_type": "stream",
     "text": [
      "Best model saved at epoch 160 with accuracy 0.7915 and loss 0.8686.\n",
      "\tTrain Loss: 0.477 | Train Acc: 88.8888931274414%\n",
      "Epoch: 160 | Epoch Time: 0m 28s\n",
      "\t Val. Loss: 0.869 |  Val. Acc: 79.15407854984893%\n"
     ]
    },
    {
     "name": "stderr",
     "output_type": "stream",
     "text": [
      "100%|██████████| 83/83 [00:22<00:00,  3.68it/s]\n",
      "100%|██████████| 11/11 [00:06<00:00,  1.79it/s]\n"
     ]
    },
    {
     "name": "stdout",
     "output_type": "stream",
     "text": [
      "\tTrain Loss: 0.653 | Train Acc: 83.33332824707031%\n",
      "Epoch: 161 | Epoch Time: 0m 28s\n",
      "\t Val. Loss: 0.841 |  Val. Acc: 76.13293051359517%\n"
     ]
    },
    {
     "name": "stderr",
     "output_type": "stream",
     "text": [
      "100%|██████████| 83/83 [00:23<00:00,  3.60it/s]\n",
      "100%|██████████| 11/11 [00:06<00:00,  1.74it/s]\n"
     ]
    },
    {
     "name": "stdout",
     "output_type": "stream",
     "text": [
      "\tTrain Loss: 0.883 | Train Acc: 77.77777862548828%\n",
      "Epoch: 162 | Epoch Time: 0m 29s\n",
      "\t Val. Loss: 0.886 |  Val. Acc: 74.32024169184291%\n"
     ]
    },
    {
     "name": "stderr",
     "output_type": "stream",
     "text": [
      "100%|██████████| 83/83 [00:22<00:00,  3.63it/s]\n",
      "100%|██████████| 11/11 [00:06<00:00,  1.76it/s]\n"
     ]
    },
    {
     "name": "stdout",
     "output_type": "stream",
     "text": [
      "\tTrain Loss: 0.170 | Train Acc: 100.0%\n",
      "Epoch: 163 | Epoch Time: 0m 29s\n",
      "\t Val. Loss: 0.819 |  Val. Acc: 75.22658610271903%\n"
     ]
    },
    {
     "name": "stderr",
     "output_type": "stream",
     "text": [
      "100%|██████████| 83/83 [00:22<00:00,  3.68it/s]\n",
      "100%|██████████| 11/11 [00:06<00:00,  1.75it/s]\n"
     ]
    },
    {
     "name": "stdout",
     "output_type": "stream",
     "text": [
      "\tTrain Loss: 1.001 | Train Acc: 61.11111068725586%\n",
      "Epoch: 164 | Epoch Time: 0m 28s\n",
      "\t Val. Loss: 0.881 |  Val. Acc: 74.92447129909365%\n"
     ]
    },
    {
     "name": "stderr",
     "output_type": "stream",
     "text": [
      "100%|██████████| 83/83 [00:22<00:00,  3.68it/s]\n",
      "100%|██████████| 11/11 [00:06<00:00,  1.74it/s]\n"
     ]
    },
    {
     "name": "stdout",
     "output_type": "stream",
     "text": [
      "\tTrain Loss: 0.134 | Train Acc: 100.0%\n",
      "Epoch: 165 | Epoch Time: 0m 28s\n",
      "\t Val. Loss: 0.952 |  Val. Acc: 74.92447129909365%\n"
     ]
    },
    {
     "name": "stderr",
     "output_type": "stream",
     "text": [
      "100%|██████████| 83/83 [00:22<00:00,  3.67it/s]\n",
      "100%|██████████| 11/11 [00:06<00:00,  1.78it/s]\n"
     ]
    },
    {
     "name": "stdout",
     "output_type": "stream",
     "text": [
      "\tTrain Loss: 0.325 | Train Acc: 88.8888931274414%\n",
      "Epoch: 166 | Epoch Time: 0m 28s\n",
      "\t Val. Loss: 0.902 |  Val. Acc: 76.43504531722054%\n"
     ]
    },
    {
     "name": "stderr",
     "output_type": "stream",
     "text": [
      "100%|██████████| 83/83 [00:22<00:00,  3.68it/s]\n",
      "100%|██████████| 11/11 [00:06<00:00,  1.74it/s]\n"
     ]
    },
    {
     "name": "stdout",
     "output_type": "stream",
     "text": [
      "\tTrain Loss: 1.391 | Train Acc: 77.77777862548828%\n",
      "Epoch: 167 | Epoch Time: 0m 28s\n",
      "\t Val. Loss: 0.904 |  Val. Acc: 77.94561933534743%\n"
     ]
    },
    {
     "name": "stderr",
     "output_type": "stream",
     "text": [
      "100%|██████████| 83/83 [00:22<00:00,  3.65it/s]\n",
      "100%|██████████| 11/11 [00:06<00:00,  1.77it/s]\n"
     ]
    },
    {
     "name": "stdout",
     "output_type": "stream",
     "text": [
      "\tTrain Loss: 0.748 | Train Acc: 77.77777862548828%\n",
      "Epoch: 168 | Epoch Time: 0m 28s\n",
      "\t Val. Loss: 0.888 |  Val. Acc: 75.83081570996978%\n"
     ]
    },
    {
     "name": "stderr",
     "output_type": "stream",
     "text": [
      "100%|██████████| 83/83 [00:22<00:00,  3.69it/s]\n",
      "100%|██████████| 11/11 [00:06<00:00,  1.78it/s]\n"
     ]
    },
    {
     "name": "stdout",
     "output_type": "stream",
     "text": [
      "\tTrain Loss: 0.199 | Train Acc: 94.44445037841797%\n",
      "Epoch: 169 | Epoch Time: 0m 28s\n",
      "\t Val. Loss: 1.106 |  Val. Acc: 75.83081570996978%\n"
     ]
    },
    {
     "name": "stderr",
     "output_type": "stream",
     "text": [
      "100%|██████████| 83/83 [00:22<00:00,  3.72it/s]\n",
      "100%|██████████| 11/11 [00:06<00:00,  1.71it/s]\n"
     ]
    },
    {
     "name": "stdout",
     "output_type": "stream",
     "text": [
      "\tTrain Loss: 0.550 | Train Acc: 83.33332824707031%\n",
      "Epoch: 170 | Epoch Time: 0m 28s\n",
      "\t Val. Loss: 0.917 |  Val. Acc: 75.52870090634441%\n"
     ]
    },
    {
     "name": "stderr",
     "output_type": "stream",
     "text": [
      "100%|██████████| 83/83 [00:22<00:00,  3.72it/s]\n",
      "100%|██████████| 11/11 [00:06<00:00,  1.74it/s]\n"
     ]
    },
    {
     "name": "stdout",
     "output_type": "stream",
     "text": [
      "\tTrain Loss: 0.463 | Train Acc: 83.33332824707031%\n",
      "Epoch: 171 | Epoch Time: 0m 28s\n",
      "\t Val. Loss: 0.758 |  Val. Acc: 79.15407854984893%\n"
     ]
    },
    {
     "name": "stderr",
     "output_type": "stream",
     "text": [
      "100%|██████████| 83/83 [00:23<00:00,  3.53it/s]\n",
      "100%|██████████| 11/11 [00:06<00:00,  1.78it/s]\n"
     ]
    },
    {
     "name": "stdout",
     "output_type": "stream",
     "text": [
      "\tTrain Loss: 0.108 | Train Acc: 100.0%\n",
      "Epoch: 172 | Epoch Time: 0m 29s\n",
      "\t Val. Loss: 0.726 |  Val. Acc: 76.13293051359517%\n"
     ]
    },
    {
     "name": "stderr",
     "output_type": "stream",
     "text": [
      "100%|██████████| 83/83 [00:23<00:00,  3.49it/s]\n",
      "100%|██████████| 11/11 [00:06<00:00,  1.74it/s]\n"
     ]
    },
    {
     "name": "stdout",
     "output_type": "stream",
     "text": [
      "\tTrain Loss: 0.123 | Train Acc: 94.44445037841797%\n",
      "Epoch: 173 | Epoch Time: 0m 30s\n",
      "\t Val. Loss: 0.864 |  Val. Acc: 75.22658610271903%\n"
     ]
    },
    {
     "name": "stderr",
     "output_type": "stream",
     "text": [
      "100%|██████████| 83/83 [00:22<00:00,  3.62it/s]\n",
      "100%|██████████| 11/11 [00:06<00:00,  1.78it/s]\n"
     ]
    },
    {
     "name": "stdout",
     "output_type": "stream",
     "text": [
      "\tTrain Loss: 0.579 | Train Acc: 83.33332824707031%\n",
      "Epoch: 174 | Epoch Time: 0m 29s\n",
      "\t Val. Loss: 0.950 |  Val. Acc: 74.62235649546828%\n"
     ]
    },
    {
     "name": "stderr",
     "output_type": "stream",
     "text": [
      "100%|██████████| 83/83 [00:22<00:00,  3.62it/s]\n",
      "100%|██████████| 11/11 [00:06<00:00,  1.75it/s]\n"
     ]
    },
    {
     "name": "stdout",
     "output_type": "stream",
     "text": [
      "\tTrain Loss: 0.817 | Train Acc: 77.77777862548828%\n",
      "Epoch: 175 | Epoch Time: 0m 29s\n",
      "\t Val. Loss: 0.898 |  Val. Acc: 76.43504531722054%\n"
     ]
    },
    {
     "name": "stderr",
     "output_type": "stream",
     "text": [
      "100%|██████████| 83/83 [00:22<00:00,  3.61it/s]\n",
      "100%|██████████| 11/11 [00:06<00:00,  1.74it/s]\n"
     ]
    },
    {
     "name": "stdout",
     "output_type": "stream",
     "text": [
      "\tTrain Loss: 0.770 | Train Acc: 66.66667175292969%\n",
      "Epoch: 176 | Epoch Time: 0m 29s\n",
      "\t Val. Loss: 0.828 |  Val. Acc: 77.64350453172206%\n"
     ]
    },
    {
     "name": "stderr",
     "output_type": "stream",
     "text": [
      "100%|██████████| 83/83 [00:23<00:00,  3.59it/s]\n",
      "100%|██████████| 11/11 [00:06<00:00,  1.73it/s]\n"
     ]
    },
    {
     "name": "stdout",
     "output_type": "stream",
     "text": [
      "\tTrain Loss: 0.169 | Train Acc: 100.0%\n",
      "Epoch: 177 | Epoch Time: 0m 29s\n",
      "\t Val. Loss: 1.023 |  Val. Acc: 73.1117824773414%\n"
     ]
    },
    {
     "name": "stderr",
     "output_type": "stream",
     "text": [
      "100%|██████████| 83/83 [00:22<00:00,  3.63it/s]\n",
      "100%|██████████| 11/11 [00:06<00:00,  1.72it/s]\n"
     ]
    },
    {
     "name": "stdout",
     "output_type": "stream",
     "text": [
      "\tTrain Loss: 0.820 | Train Acc: 66.66667175292969%\n",
      "Epoch: 178 | Epoch Time: 0m 29s\n",
      "\t Val. Loss: 0.838 |  Val. Acc: 76.13293051359517%\n"
     ]
    },
    {
     "name": "stderr",
     "output_type": "stream",
     "text": [
      "100%|██████████| 83/83 [00:23<00:00,  3.58it/s]\n",
      "100%|██████████| 11/11 [00:06<00:00,  1.74it/s]\n"
     ]
    },
    {
     "name": "stdout",
     "output_type": "stream",
     "text": [
      "\tTrain Loss: 0.770 | Train Acc: 77.77777862548828%\n",
      "Epoch: 179 | Epoch Time: 0m 29s\n",
      "\t Val. Loss: 0.909 |  Val. Acc: 75.22658610271903%\n"
     ]
    },
    {
     "name": "stderr",
     "output_type": "stream",
     "text": [
      "100%|██████████| 83/83 [00:23<00:00,  3.57it/s]\n",
      "100%|██████████| 11/11 [00:06<00:00,  1.73it/s]\n"
     ]
    },
    {
     "name": "stdout",
     "output_type": "stream",
     "text": [
      "\tTrain Loss: 0.192 | Train Acc: 94.44445037841797%\n",
      "Epoch: 180 | Epoch Time: 0m 29s\n",
      "\t Val. Loss: 1.056 |  Val. Acc: 72.50755287009063%\n"
     ]
    },
    {
     "name": "stderr",
     "output_type": "stream",
     "text": [
      "100%|██████████| 83/83 [00:23<00:00,  3.57it/s]\n",
      "100%|██████████| 11/11 [00:06<00:00,  1.78it/s]\n"
     ]
    },
    {
     "name": "stdout",
     "output_type": "stream",
     "text": [
      "\tTrain Loss: 0.242 | Train Acc: 94.44445037841797%\n",
      "Epoch: 181 | Epoch Time: 0m 29s\n",
      "\t Val. Loss: 0.909 |  Val. Acc: 78.85196374622356%\n"
     ]
    },
    {
     "name": "stderr",
     "output_type": "stream",
     "text": [
      "100%|██████████| 83/83 [00:23<00:00,  3.59it/s]\n",
      "100%|██████████| 11/11 [00:06<00:00,  1.79it/s]\n"
     ]
    },
    {
     "name": "stdout",
     "output_type": "stream",
     "text": [
      "\tTrain Loss: 0.867 | Train Acc: 77.77777862548828%\n",
      "Epoch: 182 | Epoch Time: 0m 29s\n",
      "\t Val. Loss: 0.825 |  Val. Acc: 79.15407854984893%\n"
     ]
    },
    {
     "name": "stderr",
     "output_type": "stream",
     "text": [
      "100%|██████████| 83/83 [00:23<00:00,  3.60it/s]\n",
      "100%|██████████| 11/11 [00:06<00:00,  1.78it/s]\n"
     ]
    },
    {
     "name": "stdout",
     "output_type": "stream",
     "text": [
      "\tTrain Loss: 0.461 | Train Acc: 88.8888931274414%\n",
      "Epoch: 183 | Epoch Time: 0m 29s\n",
      "\t Val. Loss: 0.885 |  Val. Acc: 76.43504531722054%\n"
     ]
    },
    {
     "name": "stderr",
     "output_type": "stream",
     "text": [
      "100%|██████████| 83/83 [00:23<00:00,  3.57it/s]\n",
      "100%|██████████| 11/11 [00:06<00:00,  1.78it/s]\n"
     ]
    },
    {
     "name": "stdout",
     "output_type": "stream",
     "text": [
      "\tTrain Loss: 0.671 | Train Acc: 83.33332824707031%\n",
      "Epoch: 184 | Epoch Time: 0m 29s\n",
      "\t Val. Loss: 0.808 |  Val. Acc: 78.54984894259819%\n"
     ]
    },
    {
     "name": "stderr",
     "output_type": "stream",
     "text": [
      "100%|██████████| 83/83 [00:23<00:00,  3.60it/s]\n",
      "100%|██████████| 11/11 [00:06<00:00,  1.73it/s]\n"
     ]
    },
    {
     "name": "stdout",
     "output_type": "stream",
     "text": [
      "\tTrain Loss: 0.586 | Train Acc: 77.77777862548828%\n",
      "Epoch: 185 | Epoch Time: 0m 29s\n",
      "\t Val. Loss: 0.911 |  Val. Acc: 76.43504531722054%\n"
     ]
    },
    {
     "name": "stderr",
     "output_type": "stream",
     "text": [
      "100%|██████████| 83/83 [00:23<00:00,  3.59it/s]\n",
      "100%|██████████| 11/11 [00:06<00:00,  1.74it/s]\n"
     ]
    },
    {
     "name": "stdout",
     "output_type": "stream",
     "text": [
      "\tTrain Loss: 0.261 | Train Acc: 94.44445037841797%\n",
      "Epoch: 186 | Epoch Time: 0m 29s\n",
      "\t Val. Loss: 1.022 |  Val. Acc: 75.22658610271903%\n"
     ]
    },
    {
     "name": "stderr",
     "output_type": "stream",
     "text": [
      "100%|██████████| 83/83 [00:23<00:00,  3.58it/s]\n",
      "100%|██████████| 11/11 [00:06<00:00,  1.72it/s]\n"
     ]
    },
    {
     "name": "stdout",
     "output_type": "stream",
     "text": [
      "\tTrain Loss: 0.620 | Train Acc: 77.77777862548828%\n",
      "Epoch: 187 | Epoch Time: 0m 29s\n",
      "\t Val. Loss: 0.903 |  Val. Acc: 74.32024169184291%\n"
     ]
    },
    {
     "name": "stderr",
     "output_type": "stream",
     "text": [
      "100%|██████████| 83/83 [00:23<00:00,  3.57it/s]\n",
      "100%|██████████| 11/11 [00:06<00:00,  1.78it/s]\n"
     ]
    },
    {
     "name": "stdout",
     "output_type": "stream",
     "text": [
      "\tTrain Loss: 0.257 | Train Acc: 88.8888931274414%\n",
      "Epoch: 188 | Epoch Time: 0m 29s\n",
      "\t Val. Loss: 0.899 |  Val. Acc: 75.52870090634441%\n"
     ]
    },
    {
     "name": "stderr",
     "output_type": "stream",
     "text": [
      "100%|██████████| 83/83 [00:23<00:00,  3.56it/s]\n",
      "100%|██████████| 11/11 [00:06<00:00,  1.74it/s]\n"
     ]
    },
    {
     "name": "stdout",
     "output_type": "stream",
     "text": [
      "\tTrain Loss: 0.747 | Train Acc: 77.77777862548828%\n",
      "Epoch: 189 | Epoch Time: 0m 29s\n",
      "\t Val. Loss: 1.022 |  Val. Acc: 75.22658610271903%\n"
     ]
    },
    {
     "name": "stderr",
     "output_type": "stream",
     "text": [
      "100%|██████████| 83/83 [00:23<00:00,  3.56it/s]\n",
      "100%|██████████| 11/11 [00:06<00:00,  1.76it/s]\n"
     ]
    },
    {
     "name": "stdout",
     "output_type": "stream",
     "text": [
      "\tTrain Loss: 0.741 | Train Acc: 72.22222137451172%\n",
      "Epoch: 190 | Epoch Time: 0m 29s\n",
      "\t Val. Loss: 1.094 |  Val. Acc: 77.0392749244713%\n"
     ]
    },
    {
     "name": "stderr",
     "output_type": "stream",
     "text": [
      "100%|██████████| 83/83 [00:23<00:00,  3.56it/s]\n",
      "100%|██████████| 11/11 [00:06<00:00,  1.75it/s]\n"
     ]
    },
    {
     "name": "stdout",
     "output_type": "stream",
     "text": [
      "\tTrain Loss: 0.401 | Train Acc: 83.33332824707031%\n",
      "Epoch: 191 | Epoch Time: 0m 29s\n",
      "\t Val. Loss: 1.077 |  Val. Acc: 75.22658610271903%\n"
     ]
    },
    {
     "name": "stderr",
     "output_type": "stream",
     "text": [
      "100%|██████████| 83/83 [00:23<00:00,  3.57it/s]\n",
      "100%|██████████| 11/11 [00:06<00:00,  1.74it/s]\n"
     ]
    },
    {
     "name": "stdout",
     "output_type": "stream",
     "text": [
      "\tTrain Loss: 0.833 | Train Acc: 72.22222137451172%\n",
      "Epoch: 192 | Epoch Time: 0m 29s\n",
      "\t Val. Loss: 0.914 |  Val. Acc: 74.92447129909365%\n"
     ]
    },
    {
     "name": "stderr",
     "output_type": "stream",
     "text": [
      "100%|██████████| 83/83 [00:23<00:00,  3.56it/s]\n",
      "100%|██████████| 11/11 [00:06<00:00,  1.72it/s]\n"
     ]
    },
    {
     "name": "stdout",
     "output_type": "stream",
     "text": [
      "\tTrain Loss: 0.629 | Train Acc: 83.33332824707031%\n",
      "Epoch: 193 | Epoch Time: 0m 29s\n",
      "\t Val. Loss: 0.829 |  Val. Acc: 77.94561933534743%\n"
     ]
    },
    {
     "name": "stderr",
     "output_type": "stream",
     "text": [
      "100%|██████████| 83/83 [00:23<00:00,  3.58it/s]\n",
      "100%|██████████| 11/11 [00:06<00:00,  1.75it/s]\n"
     ]
    },
    {
     "name": "stdout",
     "output_type": "stream",
     "text": [
      "\tTrain Loss: 0.635 | Train Acc: 88.8888931274414%\n",
      "Epoch: 194 | Epoch Time: 0m 29s\n",
      "\t Val. Loss: 0.892 |  Val. Acc: 78.24773413897282%\n"
     ]
    },
    {
     "name": "stderr",
     "output_type": "stream",
     "text": [
      "100%|██████████| 83/83 [00:23<00:00,  3.58it/s]\n",
      "100%|██████████| 11/11 [00:06<00:00,  1.71it/s]\n"
     ]
    },
    {
     "name": "stdout",
     "output_type": "stream",
     "text": [
      "\tTrain Loss: 0.907 | Train Acc: 77.77777862548828%\n",
      "Epoch: 195 | Epoch Time: 0m 29s\n",
      "\t Val. Loss: 0.954 |  Val. Acc: 74.92447129909365%\n"
     ]
    },
    {
     "name": "stderr",
     "output_type": "stream",
     "text": [
      "100%|██████████| 83/83 [00:23<00:00,  3.59it/s]\n",
      "100%|██████████| 11/11 [00:06<00:00,  1.72it/s]\n"
     ]
    },
    {
     "name": "stdout",
     "output_type": "stream",
     "text": [
      "\tTrain Loss: 0.177 | Train Acc: 100.0%\n",
      "Epoch: 196 | Epoch Time: 0m 29s\n",
      "\t Val. Loss: 0.826 |  Val. Acc: 77.64350453172206%\n"
     ]
    },
    {
     "name": "stderr",
     "output_type": "stream",
     "text": [
      "100%|██████████| 83/83 [00:23<00:00,  3.56it/s]\n",
      "100%|██████████| 11/11 [00:06<00:00,  1.72it/s]\n"
     ]
    },
    {
     "name": "stdout",
     "output_type": "stream",
     "text": [
      "\tTrain Loss: 0.522 | Train Acc: 88.8888931274414%\n",
      "Epoch: 197 | Epoch Time: 0m 29s\n",
      "\t Val. Loss: 0.748 |  Val. Acc: 77.94561933534743%\n"
     ]
    },
    {
     "name": "stderr",
     "output_type": "stream",
     "text": [
      "100%|██████████| 83/83 [00:23<00:00,  3.60it/s]\n",
      "100%|██████████| 11/11 [00:06<00:00,  1.74it/s]\n"
     ]
    },
    {
     "name": "stdout",
     "output_type": "stream",
     "text": [
      "\tTrain Loss: 0.779 | Train Acc: 77.77777862548828%\n",
      "Epoch: 198 | Epoch Time: 0m 29s\n",
      "\t Val. Loss: 0.885 |  Val. Acc: 75.22658610271903%\n"
     ]
    },
    {
     "name": "stderr",
     "output_type": "stream",
     "text": [
      "100%|██████████| 83/83 [00:23<00:00,  3.60it/s]\n",
      "100%|██████████| 11/11 [00:06<00:00,  1.75it/s]\n"
     ]
    },
    {
     "name": "stdout",
     "output_type": "stream",
     "text": [
      "\tTrain Loss: 0.202 | Train Acc: 94.44445037841797%\n",
      "Epoch: 199 | Epoch Time: 0m 29s\n",
      "\t Val. Loss: 0.844 |  Val. Acc: 75.22658610271903%\n"
     ]
    },
    {
     "name": "stderr",
     "output_type": "stream",
     "text": [
      "100%|██████████| 83/83 [00:23<00:00,  3.59it/s]\n",
      "100%|██████████| 11/11 [00:06<00:00,  1.79it/s]\n"
     ]
    },
    {
     "name": "stdout",
     "output_type": "stream",
     "text": [
      "\tTrain Loss: 0.188 | Train Acc: 94.44445037841797%\n",
      "Epoch: 200 | Epoch Time: 0m 29s\n",
      "\t Val. Loss: 0.975 |  Val. Acc: 75.52870090634441%\n"
     ]
    },
    {
     "name": "stderr",
     "output_type": "stream",
     "text": [
      "100%|██████████| 83/83 [00:23<00:00,  3.59it/s]\n",
      "100%|██████████| 11/11 [00:06<00:00,  1.75it/s]"
     ]
    },
    {
     "name": "stdout",
     "output_type": "stream",
     "text": [
      "\tTrain Loss: 0.242 | Train Acc: 88.8888931274414%\n",
      "Epoch: 201 | Epoch Time: 0m 29s\n",
      "\t Val. Loss: 0.987 |  Val. Acc: 74.92447129909365%\n"
     ]
    },
    {
     "name": "stderr",
     "output_type": "stream",
     "text": [
      "\n"
     ]
    }
   ],
   "source": [
    "with experiment.train():\n",
    "    train(model, criterion, optimizer, hyper_params, train_loader, val_loader)"
   ]
  },
  {
   "cell_type": "code",
   "execution_count": 7,
   "metadata": {},
   "outputs": [
    {
     "name": "stderr",
     "output_type": "stream",
     "text": [
      "100%|██████████| 11/11 [00:06<00:00,  1.78it/s]"
     ]
    },
    {
     "name": "stdout",
     "output_type": "stream",
     "text": [
      "Test Loss: 0.821 | Test Acc: 77.89%\n"
     ]
    },
    {
     "name": "stderr",
     "output_type": "stream",
     "text": [
      "\n"
     ]
    }
   ],
   "source": [
    "with experiment.test():\n",
    "\n",
    "    model.load_state_dict(torch.load(hyper_params['best_model_path'])) #Loading the state dict into the model\n",
    "    test_loss, test_acc = evaluate(model, test_loader, criterion, device, experiment) \n",
    "    print(f'Test Loss: {test_loss:.3f} | Test Acc: {test_acc*100:.2f}%')"
   ]
  },
  {
   "cell_type": "code",
   "execution_count": 8,
   "metadata": {},
   "outputs": [],
   "source": [
    "confusion(model, test_loader, device = device, experiment=experiment)"
   ]
  },
  {
   "cell_type": "code",
   "execution_count": 9,
   "metadata": {},
   "outputs": [
    {
     "name": "stderr",
     "output_type": "stream",
     "text": [
      "COMET INFO: ---------------------------\n",
      "COMET INFO: Comet.ml Experiment Summary\n",
      "COMET INFO: ---------------------------\n",
      "COMET INFO:   Data:\n",
      "COMET INFO:     display_summary_level : 1\n",
      "COMET INFO:     url                   : https://www.comet.com/leothesouthafrican/test/beb064d223574062846cf676b2988311\n",
      "COMET INFO:   Metrics [count] (min, max):\n",
      "COMET INFO:     test_acc [11]           : (6.25, 77.89256247607145)\n",
      "COMET INFO:     test_loss [11]          : (0.13511320677670566, 0.821392836895856)\n",
      "COMET INFO:     train_acc [16600]       : (0.0, 1.0)\n",
      "COMET INFO:     train_loss [16600]      : (0.08674916625022888, 4.421513080596924)\n",
      "COMET INFO:     train_step_time [16600] : (0, 2)\n",
      "COMET INFO:     train_val_acc [200]     : (0.4229607250755287, 0.7915407854984894)\n",
      "COMET INFO:     train_val_loss [200]    : (0.6787634844129736, 1.7651581980965354)\n",
      "COMET INFO:   Parameters:\n",
      "COMET INFO:     batch_size           : 32\n",
      "COMET INFO:     best_model_path      : output/MN3LCB_celebs20.pt\n",
      "COMET INFO:     comet_exp            : <comet_ml._online.Experiment object at 0x1032bb310>\n",
      "COMET INFO:     criterion            : CrossEntropyLoss\n",
      "COMET INFO:     dataset              : Celebrities 20\n",
      "COMET INFO:     device               : mps\n",
      "COMET INFO:     epochs               : 200\n",
      "COMET INFO:     image_channels       : 3\n",
      "COMET INFO:     image_size           : 112\n",
      "COMET INFO:     learning_rate        : 0.001\n",
      "COMET INFO:     loaded_model_path    : output/MN3LCB_celebs20.pt\n",
      "COMET INFO:     model_name           : MobileNet3 with CBAM inserted instead of SE starting from a fresh model with no preloaded weights.\n",
      "COMET INFO:     num_layers           : na\n",
      "COMET INFO:     optimizer            : Adam\n",
      "COMET INFO:     output_size          : 20\n",
      "COMET INFO:     save_at_end          : True\n",
      "COMET INFO:     train_val_test_split : [0.8, 0.1, 0.1]\n",
      "COMET INFO:   Uploads:\n",
      "COMET INFO:     confusion-matrix         : 1\n",
      "COMET INFO:     environment details      : 1\n",
      "COMET INFO:     filename                 : 1\n",
      "COMET INFO:     git metadata             : 1\n",
      "COMET INFO:     git-patch (uncompressed) : 1 (1.12 MB)\n",
      "COMET INFO:     installed packages       : 1\n",
      "COMET INFO:     notebook                 : 1\n",
      "COMET INFO:     source_code              : 1\n",
      "COMET INFO: ---------------------------\n",
      "COMET WARNING: Comet has disabled auto-logging functionality as it has been imported after the following ML modules: torch. Metrics and hyperparameters can still be logged using Experiment.log_metrics() and Experiment.log_parameters()\n",
      "COMET INFO: Uploading metrics, params, and assets to Comet before program termination (may take several seconds)\n",
      "COMET INFO: The Python SDK has 3600 seconds to finish before aborting...\n"
     ]
    }
   ],
   "source": [
    "experiment.end()"
   ]
  },
  {
   "cell_type": "code",
   "execution_count": null,
   "metadata": {},
   "outputs": [],
   "source": []
  }
 ],
 "metadata": {
  "kernelspec": {
   "display_name": "env",
   "language": "python",
   "name": "python3"
  },
  "language_info": {
   "codemirror_mode": {
    "name": "ipython",
    "version": 3
   },
   "file_extension": ".py",
   "mimetype": "text/x-python",
   "name": "python",
   "nbconvert_exporter": "python",
   "pygments_lexer": "ipython3",
   "version": "3.9.16"
  },
  "orig_nbformat": 4,
  "vscode": {
   "interpreter": {
    "hash": "3eacf7c38dfd06f03ba84c25998c3b980b49954d2ca7328ee71b9a00e83ad9fc"
   }
  }
 },
 "nbformat": 4,
 "nbformat_minor": 2
}
