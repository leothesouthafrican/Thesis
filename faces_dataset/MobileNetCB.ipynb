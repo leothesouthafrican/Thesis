{
 "cells": [
  {
   "cell_type": "code",
   "execution_count": 1,
   "metadata": {},
   "outputs": [],
   "source": [
    "utils_path = \"../utils\"\n",
    "models_path = \"../models\"\n",
    "data_path = \"../data/celebs_105\"\n",
    "\n",
    "import sys\n",
    "import os\n",
    "sys.path.insert(1, utils_path)\n",
    "sys.path.insert(2, models_path)\n",
    "\n",
    "import torch\n",
    "import torch.nn as nn\n",
    "\n",
    "import matplotlib.pyplot as plt\n",
    "\n",
    "import numpy as np\n",
    "\n",
    "from comet_ml import Experiment\n",
    "\n",
    "import config\n",
    "\n",
    "import time \n",
    "import copy\n",
    "import random\n",
    "from tqdm.notebook import trange, tqdm\n",
    "\n",
    "import torchvision\n",
    "\n",
    "from torch.utils.data import DataLoader\n",
    "from torch.utils.data import Dataset\n",
    "from torchvision import datasets, transforms\n",
    "import torchvision.transforms as transformss\n",
    "\n",
    "from MBNV3 import MobileNetV3\n",
    "from MBNV3CBAM import MobileNetV3CBAM\n",
    "\n",
    "from dataloader import mixedSets\n",
    "from functions import train, evaluate, confusion, unzip_files, unzip"
   ]
  },
  {
   "cell_type": "code",
   "execution_count": 2,
   "metadata": {},
   "outputs": [
    {
     "name": "stderr",
     "output_type": "stream",
     "text": [
      "COMET WARNING: Comet has disabled auto-logging functionality as it has been imported after the following ML modules: torch. Metrics and hyperparameters can still be logged using Experiment.log_metrics() and Experiment.log_parameters()\n",
      "COMET WARNING: As you are running in a Jupyter environment, you will need to call `experiment.end()` when finished to ensure all metrics and code are logged before exiting.\n",
      "COMET INFO: Experiment is live on comet.com https://www.comet.com/leothesouthafrican/celebs-20-mobilenet/00df59fb82f1427bbedb2360620b854e\n",
      "\n"
     ]
    },
    {
     "name": "stdout",
     "output_type": "stream",
     "text": [
      "Output Size: 20\n"
     ]
    }
   ],
   "source": [
    "#Initialising GereralTorch class\n",
    "\n",
    "#Setting the experiment with the API key stored in config.py\n",
    "experiment = Experiment(project_name = \"Celebs_105_MobileNet\", workspace = \"leothesouthafrican\", api_key = config.api_key)\n",
    "\n",
    "#Report multiple hyperparameters using a dictionary\n",
    "hyper_params = {\n",
    "    'learning_rate': 0.001,\n",
    "    'epochs': 200,\n",
    "    'batch_size': 32,\n",
    "    'image_size': 112,\n",
    "    'image_channels': 3,\n",
    "    'output_size': len(os.listdir(data_path)) - 1,\n",
    "    'num_layers': 'na',\n",
    "    'train_val_test_split': [0.8, 0.1, 0.1],\n",
    "    'device': 'mps',\n",
    "    'model_name': 'MobileNet3 with CBAM inserted instead of SE starting from a fresh model with no preloaded weights.',\n",
    "    'criterion': 'CrossEntropyLoss',\n",
    "    'optimizer': 'Adam',\n",
    "    'dataset': 'Celebrities 20',\n",
    "    'best_model_path': 'output/MN3LCB_celebs105.pt',\n",
    "    'loaded_model_path': 'output/MN3LCB_celebs20.pt',\n",
    "    'comet_exp': experiment,\n",
    "    'save_at_end': True,\n",
    "}\n",
    "\n",
    "print(f'Output Size: {hyper_params[\"output_size\"]}')\n",
    "\n",
    "#Setting the device\n",
    "device = torch.device(hyper_params['device'])\n",
    "\n",
    "#checking if the model is to be a loaded one and if so loading it\n",
    "if hyper_params['loaded_model_path']:\n",
    "    state_dict = torch.load(hyper_params['loaded_model_path']) #Loading the state dict\n",
    "    model = MobileNetV3CBAM(mode='large') #Loading the model as a backbone\n",
    "    model.load_state_dict(state_dict, strict= True) #Loading the state dict into the model\n",
    "    print('Model Loaded')\n",
    "else:\n",
    "    # Loading a fresh model\n",
    "    model = MobileNetV3CBAM(mode='large')\n",
    "\n",
    "#passing the model to the device\n",
    "model.to(device)\n",
    "\n",
    "# Setting the loss function and optimizer\n",
    "criterion = nn.CrossEntropyLoss().to(device) #Setting the loss function\n",
    "optimizer = torch.optim.Adam(model.parameters(), lr=hyper_params['learning_rate']) #Setting the optimizer\n",
    "\n",
    "# Logging the hyperparameters to comet\n",
    "experiment.log_parameters(hyper_params)"
   ]
  },
  {
   "cell_type": "code",
   "execution_count": 3,
   "metadata": {},
   "outputs": [],
   "source": [
    "#defining transforms\n",
    "\n",
    "train_transform = transforms.Compose([\n",
    "                transforms.Resize((hyper_params['image_size'],hyper_params['image_size'])),\n",
    "                transforms.ToTensor(),\n",
    "                transforms.Normalize(mean = [0.485, 0.456, 0.406], std = [0.229, 0.224, 0.225]),\n",
    "                transforms.RandomApply([transforms.ColorJitter(brightness=0.4, contrast=0.4, saturation=0.4),\n",
    "                transforms.RandomCrop(hyper_params['image_size'], padding=2)], p=0.2),\n",
    "                transforms.RandomAffine(degrees=10, translate=(0.1,0.1), scale=(0.8,1.2)),\n",
    "                transforms.RandomRotation(15),\n",
    "                transforms.RandomHorizontalFlip(0.15),\n",
    "                transforms.RandomVerticalFlip(0.1),\n",
    "                transforms.RandomErasing(0.1),\n",
    "            ])\n",
    "\n",
    "test_transform = transforms.Compose([\n",
    "                transforms.Resize((hyper_params['image_size'],hyper_params['image_size'])),\n",
    "                transforms.ToTensor(),\n",
    "                transforms.Normalize(mean = [0.485, 0.456, 0.406], std = [0.229, 0.224, 0.225])\n",
    "            ])"
   ]
  },
  {
   "cell_type": "code",
   "execution_count": 4,
   "metadata": {},
   "outputs": [
    {
     "name": "stdout",
     "output_type": "stream",
     "text": [
      "Train dataset size: 2642, with 20 classes\n",
      "Val dataset size: 331, with 20 classes\n",
      "Test dataset size: 331, with 20 classes\n"
     ]
    }
   ],
   "source": [
    "# Creating the dataset\n",
    "train_dataset = mixedSets(data_path, train_transform, hyper_params['train_val_test_split']).get_train_dataset()\n",
    "val_dataset = mixedSets(data_path, test_transform, hyper_params['train_val_test_split']).get_val_dataset()\n",
    "test_dataset = mixedSets(data_path, test_transform, hyper_params['train_val_test_split']).get_test_dataset()\n",
    "\n",
    "# Creating the dataloaders\n",
    "train_loader = torch.utils.data.DataLoader(dataset=train_dataset,\n",
    "                                            batch_size=hyper_params['batch_size'],\n",
    "                                            shuffle=True,\n",
    "                                            num_workers=1)\n",
    "\n",
    "val_loader = torch.utils.data.DataLoader(dataset=val_dataset,\n",
    "                                            batch_size=hyper_params['batch_size'],\n",
    "                                            shuffle=True,\n",
    "                                            num_workers=1)\n",
    "\n",
    "test_loader = torch.utils.data.DataLoader(dataset=test_dataset,\n",
    "                                            batch_size=hyper_params['batch_size'],\n",
    "                                            shuffle=True,\n",
    "                                            num_workers=1)\n"
   ]
  },
  {
   "cell_type": "code",
   "execution_count": 5,
   "metadata": {},
   "outputs": [
    {
     "name": "stderr",
     "output_type": "stream",
     "text": [
      "Clipping input data to the valid range for imshow with RGB data ([0..1] for floats or [0..255] for integers).\n"
     ]
    },
    {
     "data": {
      "image/png": "[encoded data removed]",
      "text/plain": [
       "<Figure size 640x480 with 1 Axes>"
      ]
     },
     "metadata": {},
     "output_type": "display_data"
    },
    {
     "name": "stdout",
     "output_type": "stream",
     "text": [
      "tensor(18) tensor(7) tensor(7) tensor(4)\n"
     ]
    }
   ],
   "source": [
    "#display random images from the dataset\n",
    "def imshow(img):\n",
    "    img = img / 2 + 0.5     # unnormalize\n",
    "    npimg = img.numpy()\n",
    "    plt.imshow(np.transpose(npimg, (1, 2, 0)))\n",
    "    #drop axis labels\n",
    "    plt.axis('off')\n",
    "    plt.show()\n",
    "\n",
    "# get some random training images\n",
    "dataiter = iter(train_loader)\n",
    "images, labels = next(dataiter)\n",
    "\n",
    "# show images\n",
    "imshow(torchvision.utils.make_grid(images))\n",
    "# print labels\n",
    "print(' '.join('%5s' % labels[j] for j in range(4)))"
   ]
  },
  {
   "cell_type": "code",
   "execution_count": 6,
   "metadata": {},
   "outputs": [
    {
     "name": "stdout",
     "output_type": "stream",
     "text": [
      "Begin training...\n"
     ]
    },
    {
     "name": "stderr",
     "output_type": "stream",
     "text": [
      "100%|██████████| 83/83 [00:27<00:00,  3.07it/s]\n",
      "100%|██████████| 11/11 [00:06<00:00,  1.62it/s]\n"
     ]
    },
    {
     "name": "stdout",
     "output_type": "stream",
     "text": [
      "Best model saved at epoch 2 with accuracy 0.0634 and loss inf.\n",
      "\tTrain Loss: 2.990 | Train Acc: 0.00%\n",
      "Epoch: 02 | Epoch Time: 0m 34s\n",
      "\t Val. Loss: inf |  Val. Acc: 6.34%\n"
     ]
    },
    {
     "name": "stderr",
     "output_type": "stream",
     "text": [
      "100%|██████████| 83/83 [00:23<00:00,  3.51it/s]\n",
      "100%|██████████| 11/11 [00:06<00:00,  1.78it/s]\n"
     ]
    },
    {
     "name": "stdout",
     "output_type": "stream",
     "text": [
      "Best model saved at epoch 3 with accuracy 0.1118 and loss 2.922.\n",
      "\tTrain Loss: 3.044 | Train Acc: 5.56%\n",
      "Epoch: 03 | Epoch Time: 0m 29s\n",
      "\t Val. Loss: 2.922 |  Val. Acc: 11.18%\n"
     ]
    },
    {
     "name": "stderr",
     "output_type": "stream",
     "text": [
      "100%|██████████| 83/83 [00:23<00:00,  3.50it/s]\n",
      "100%|██████████| 11/11 [00:06<00:00,  1.77it/s]\n"
     ]
    },
    {
     "name": "stdout",
     "output_type": "stream",
     "text": [
      "\tTrain Loss: 2.696 | Train Acc: 22.22%\n",
      "Epoch: 04 | Epoch Time: 0m 29s\n",
      "\t Val. Loss: 2.875 |  Val. Acc: 9.06%\n"
     ]
    },
    {
     "name": "stderr",
     "output_type": "stream",
     "text": [
      "100%|██████████| 83/83 [00:23<00:00,  3.53it/s]\n",
      "100%|██████████| 11/11 [00:06<00:00,  1.79it/s]\n"
     ]
    },
    {
     "name": "stdout",
     "output_type": "stream",
     "text": [
      "Best model saved at epoch 5 with accuracy 0.1208 and loss 2.7115.\n",
      "\tTrain Loss: 2.970 | Train Acc: 11.11%\n",
      "Epoch: 05 | Epoch Time: 0m 29s\n",
      "\t Val. Loss: 2.711 |  Val. Acc: 12.08%\n"
     ]
    },
    {
     "name": "stderr",
     "output_type": "stream",
     "text": [
      "100%|██████████| 83/83 [00:23<00:00,  3.56it/s]\n",
      "100%|██████████| 11/11 [00:06<00:00,  1.77it/s]\n"
     ]
    },
    {
     "name": "stdout",
     "output_type": "stream",
     "text": [
      "Best model saved at epoch 6 with accuracy 0.1511 and loss 2.6703.\n",
      "\tTrain Loss: 2.873 | Train Acc: 5.56%\n",
      "Epoch: 06 | Epoch Time: 0m 29s\n",
      "\t Val. Loss: 2.670 |  Val. Acc: 15.11%\n"
     ]
    },
    {
     "name": "stderr",
     "output_type": "stream",
     "text": [
      "100%|██████████| 83/83 [00:24<00:00,  3.44it/s]\n",
      "100%|██████████| 11/11 [00:06<00:00,  1.79it/s]\n"
     ]
    },
    {
     "name": "stdout",
     "output_type": "stream",
     "text": [
      "Best model saved at epoch 7 with accuracy 0.1813 and loss 2.5623.\n",
      "\tTrain Loss: 2.571 | Train Acc: 22.22%\n",
      "Epoch: 07 | Epoch Time: 0m 30s\n",
      "\t Val. Loss: 2.562 |  Val. Acc: 18.13%\n"
     ]
    },
    {
     "name": "stderr",
     "output_type": "stream",
     "text": [
      "100%|██████████| 83/83 [00:23<00:00,  3.57it/s]\n",
      "100%|██████████| 11/11 [00:06<00:00,  1.79it/s]\n"
     ]
    },
    {
     "name": "stdout",
     "output_type": "stream",
     "text": [
      "\tTrain Loss: 2.819 | Train Acc: 11.11%\n",
      "Epoch: 08 | Epoch Time: 0m 29s\n",
      "\t Val. Loss: 2.670 |  Val. Acc: 17.52%\n"
     ]
    },
    {
     "name": "stderr",
     "output_type": "stream",
     "text": [
      "100%|██████████| 83/83 [00:26<00:00,  3.11it/s]\n",
      "100%|██████████| 11/11 [00:06<00:00,  1.79it/s]\n"
     ]
    },
    {
     "name": "stdout",
     "output_type": "stream",
     "text": [
      "\tTrain Loss: 2.982 | Train Acc: 5.56%\n",
      "Epoch: 09 | Epoch Time: 0m 32s\n",
      "\t Val. Loss: 2.671 |  Val. Acc: 15.41%\n"
     ]
    },
    {
     "name": "stderr",
     "output_type": "stream",
     "text": [
      "100%|██████████| 83/83 [00:27<00:00,  3.02it/s]\n",
      "100%|██████████| 11/11 [00:06<00:00,  1.79it/s]\n"
     ]
    },
    {
     "name": "stdout",
     "output_type": "stream",
     "text": [
      "\tTrain Loss: 2.726 | Train Acc: 5.56%\n",
      "Epoch: 10 | Epoch Time: 0m 33s\n",
      "\t Val. Loss: 2.641 |  Val. Acc: 16.31%\n"
     ]
    },
    {
     "name": "stderr",
     "output_type": "stream",
     "text": [
      "100%|██████████| 83/83 [00:27<00:00,  3.00it/s]\n",
      "100%|██████████| 11/11 [00:06<00:00,  1.78it/s]\n"
     ]
    },
    {
     "name": "stdout",
     "output_type": "stream",
     "text": [
      "\tTrain Loss: 2.856 | Train Acc: 16.67%\n",
      "Epoch: 11 | Epoch Time: 0m 33s\n",
      "\t Val. Loss: 2.535 |  Val. Acc: 17.52%\n"
     ]
    },
    {
     "name": "stderr",
     "output_type": "stream",
     "text": [
      "100%|██████████| 83/83 [00:27<00:00,  3.04it/s]\n",
      "100%|██████████| 11/11 [00:06<00:00,  1.79it/s]\n"
     ]
    },
    {
     "name": "stdout",
     "output_type": "stream",
     "text": [
      "Best model saved at epoch 12 with accuracy 0.1964 and loss 2.5097.\n",
      "\tTrain Loss: 2.659 | Train Acc: 27.78%\n",
      "Epoch: 12 | Epoch Time: 0m 33s\n",
      "\t Val. Loss: 2.510 |  Val. Acc: 19.64%\n"
     ]
    },
    {
     "name": "stderr",
     "output_type": "stream",
     "text": [
      "100%|██████████| 83/83 [00:26<00:00,  3.13it/s]\n",
      "100%|██████████| 11/11 [00:06<00:00,  1.79it/s]\n"
     ]
    },
    {
     "name": "stdout",
     "output_type": "stream",
     "text": [
      "Best model saved at epoch 13 with accuracy 0.2115 and loss 2.427.\n",
      "\tTrain Loss: 2.890 | Train Acc: 16.67%\n",
      "Epoch: 13 | Epoch Time: 0m 32s\n",
      "\t Val. Loss: 2.427 |  Val. Acc: 21.15%\n"
     ]
    },
    {
     "name": "stderr",
     "output_type": "stream",
     "text": [
      "100%|██████████| 83/83 [00:25<00:00,  3.22it/s]\n",
      "100%|██████████| 11/11 [00:06<00:00,  1.78it/s]\n"
     ]
    },
    {
     "name": "stdout",
     "output_type": "stream",
     "text": [
      "\tTrain Loss: 2.375 | Train Acc: 38.89%\n",
      "Epoch: 14 | Epoch Time: 0m 31s\n",
      "\t Val. Loss: 2.462 |  Val. Acc: 19.64%\n"
     ]
    },
    {
     "name": "stderr",
     "output_type": "stream",
     "text": [
      "100%|██████████| 83/83 [00:25<00:00,  3.28it/s]\n",
      "100%|██████████| 11/11 [00:06<00:00,  1.78it/s]\n"
     ]
    },
    {
     "name": "stdout",
     "output_type": "stream",
     "text": [
      "Best model saved at epoch 15 with accuracy 0.2477 and loss 2.4025.\n",
      "\tTrain Loss: 2.329 | Train Acc: 33.33%\n",
      "Epoch: 15 | Epoch Time: 0m 31s\n",
      "\t Val. Loss: 2.403 |  Val. Acc: 24.77%\n"
     ]
    },
    {
     "name": "stderr",
     "output_type": "stream",
     "text": [
      "100%|██████████| 83/83 [00:24<00:00,  3.34it/s]\n",
      "100%|██████████| 11/11 [00:06<00:00,  1.79it/s]\n"
     ]
    },
    {
     "name": "stdout",
     "output_type": "stream",
     "text": [
      "\tTrain Loss: 2.507 | Train Acc: 16.67%\n",
      "Epoch: 16 | Epoch Time: 0m 31s\n",
      "\t Val. Loss: 2.413 |  Val. Acc: 22.36%\n"
     ]
    },
    {
     "name": "stderr",
     "output_type": "stream",
     "text": [
      "100%|██████████| 83/83 [00:24<00:00,  3.40it/s]\n",
      "100%|██████████| 11/11 [00:06<00:00,  1.79it/s]\n"
     ]
    },
    {
     "name": "stdout",
     "output_type": "stream",
     "text": [
      "\tTrain Loss: 2.254 | Train Acc: 33.33%\n",
      "Epoch: 17 | Epoch Time: 0m 30s\n",
      "\t Val. Loss: 2.396 |  Val. Acc: 24.47%\n"
     ]
    },
    {
     "name": "stderr",
     "output_type": "stream",
     "text": [
      "100%|██████████| 83/83 [00:23<00:00,  3.49it/s]\n",
      "100%|██████████| 11/11 [00:06<00:00,  1.80it/s]\n"
     ]
    },
    {
     "name": "stdout",
     "output_type": "stream",
     "text": [
      "Best model saved at epoch 18 with accuracy 0.2689 and loss 2.2622.\n",
      "\tTrain Loss: 2.377 | Train Acc: 22.22%\n",
      "Epoch: 18 | Epoch Time: 0m 30s\n",
      "\t Val. Loss: 2.262 |  Val. Acc: 26.89%\n"
     ]
    },
    {
     "name": "stderr",
     "output_type": "stream",
     "text": [
      "100%|██████████| 83/83 [00:23<00:00,  3.52it/s]\n",
      "100%|██████████| 11/11 [00:06<00:00,  1.79it/s]\n"
     ]
    },
    {
     "name": "stdout",
     "output_type": "stream",
     "text": [
      "\tTrain Loss: 2.505 | Train Acc: 22.22%\n",
      "Epoch: 19 | Epoch Time: 0m 29s\n",
      "\t Val. Loss: 2.348 |  Val. Acc: 22.36%\n"
     ]
    },
    {
     "name": "stderr",
     "output_type": "stream",
     "text": [
      "100%|██████████| 83/83 [00:23<00:00,  3.55it/s]\n",
      "100%|██████████| 11/11 [00:06<00:00,  1.79it/s]\n"
     ]
    },
    {
     "name": "stdout",
     "output_type": "stream",
     "text": [
      "\tTrain Loss: 2.109 | Train Acc: 22.22%\n",
      "Epoch: 20 | Epoch Time: 0m 29s\n",
      "\t Val. Loss: 2.313 |  Val. Acc: 26.59%\n"
     ]
    },
    {
     "name": "stderr",
     "output_type": "stream",
     "text": [
      "100%|██████████| 83/83 [00:23<00:00,  3.54it/s]\n",
      "100%|██████████| 11/11 [00:06<00:00,  1.79it/s]\n"
     ]
    },
    {
     "name": "stdout",
     "output_type": "stream",
     "text": [
      "\tTrain Loss: 2.410 | Train Acc: 33.33%\n",
      "Epoch: 21 | Epoch Time: 0m 29s\n",
      "\t Val. Loss: 2.304 |  Val. Acc: 25.08%\n"
     ]
    },
    {
     "name": "stderr",
     "output_type": "stream",
     "text": [
      "100%|██████████| 83/83 [00:23<00:00,  3.57it/s]\n",
      "100%|██████████| 11/11 [00:06<00:00,  1.78it/s]\n"
     ]
    },
    {
     "name": "stdout",
     "output_type": "stream",
     "text": [
      "\tTrain Loss: 2.547 | Train Acc: 5.56%\n",
      "Epoch: 22 | Epoch Time: 0m 29s\n",
      "\t Val. Loss: 2.315 |  Val. Acc: 24.47%\n"
     ]
    },
    {
     "name": "stderr",
     "output_type": "stream",
     "text": [
      "100%|██████████| 83/83 [00:23<00:00,  3.55it/s]\n",
      "100%|██████████| 11/11 [00:06<00:00,  1.79it/s]\n"
     ]
    },
    {
     "name": "stdout",
     "output_type": "stream",
     "text": [
      "\tTrain Loss: 2.643 | Train Acc: 38.89%\n",
      "Epoch: 23 | Epoch Time: 0m 29s\n",
      "\t Val. Loss: 2.409 |  Val. Acc: 22.96%\n"
     ]
    },
    {
     "name": "stderr",
     "output_type": "stream",
     "text": [
      "100%|██████████| 83/83 [00:23<00:00,  3.58it/s]\n",
      "100%|██████████| 11/11 [00:06<00:00,  1.79it/s]\n"
     ]
    },
    {
     "name": "stdout",
     "output_type": "stream",
     "text": [
      "Best model saved at epoch 24 with accuracy 0.3565 and loss 2.086.\n",
      "\tTrain Loss: 2.369 | Train Acc: 11.11%\n",
      "Epoch: 24 | Epoch Time: 0m 29s\n",
      "\t Val. Loss: 2.086 |  Val. Acc: 35.65%\n"
     ]
    },
    {
     "name": "stderr",
     "output_type": "stream",
     "text": [
      "100%|██████████| 83/83 [00:23<00:00,  3.59it/s]\n",
      "100%|██████████| 11/11 [00:06<00:00,  1.80it/s]\n"
     ]
    },
    {
     "name": "stdout",
     "output_type": "stream",
     "text": [
      "\tTrain Loss: 2.139 | Train Acc: 27.78%\n",
      "Epoch: 25 | Epoch Time: 0m 29s\n",
      "\t Val. Loss: 2.159 |  Val. Acc: 30.51%\n"
     ]
    },
    {
     "name": "stderr",
     "output_type": "stream",
     "text": [
      "100%|██████████| 83/83 [00:22<00:00,  3.62it/s]\n",
      "100%|██████████| 11/11 [00:06<00:00,  1.79it/s]\n"
     ]
    },
    {
     "name": "stdout",
     "output_type": "stream",
     "text": [
      "\tTrain Loss: 2.308 | Train Acc: 38.89%\n",
      "Epoch: 26 | Epoch Time: 0m 29s\n",
      "\t Val. Loss: 2.164 |  Val. Acc: 27.49%\n"
     ]
    },
    {
     "name": "stderr",
     "output_type": "stream",
     "text": [
      "100%|██████████| 83/83 [00:23<00:00,  3.55it/s]\n",
      "100%|██████████| 11/11 [00:06<00:00,  1.74it/s]\n"
     ]
    },
    {
     "name": "stdout",
     "output_type": "stream",
     "text": [
      "\tTrain Loss: 1.943 | Train Acc: 38.89%\n",
      "Epoch: 27 | Epoch Time: 0m 29s\n",
      "\t Val. Loss: 2.102 |  Val. Acc: 32.02%\n"
     ]
    },
    {
     "name": "stderr",
     "output_type": "stream",
     "text": [
      "100%|██████████| 83/83 [00:23<00:00,  3.61it/s]\n",
      "100%|██████████| 11/11 [00:06<00:00,  1.74it/s]\n"
     ]
    },
    {
     "name": "stdout",
     "output_type": "stream",
     "text": [
      "\tTrain Loss: 2.238 | Train Acc: 27.78%\n",
      "Epoch: 28 | Epoch Time: 0m 29s\n",
      "\t Val. Loss: 2.071 |  Val. Acc: 33.84%\n"
     ]
    },
    {
     "name": "stderr",
     "output_type": "stream",
     "text": [
      "100%|██████████| 83/83 [00:23<00:00,  3.59it/s]\n",
      "100%|██████████| 11/11 [00:06<00:00,  1.74it/s]\n"
     ]
    },
    {
     "name": "stdout",
     "output_type": "stream",
     "text": [
      "Best model saved at epoch 29 with accuracy 0.4139 and loss 1.9181.\n",
      "\tTrain Loss: 2.659 | Train Acc: 11.11%\n",
      "Epoch: 29 | Epoch Time: 0m 29s\n",
      "\t Val. Loss: 1.918 |  Val. Acc: 41.39%\n"
     ]
    },
    {
     "name": "stderr",
     "output_type": "stream",
     "text": [
      "100%|██████████| 83/83 [00:23<00:00,  3.58it/s]\n",
      "100%|██████████| 11/11 [00:06<00:00,  1.76it/s]\n"
     ]
    },
    {
     "name": "stdout",
     "output_type": "stream",
     "text": [
      "\tTrain Loss: 2.247 | Train Acc: 38.89%\n",
      "Epoch: 30 | Epoch Time: 0m 29s\n",
      "\t Val. Loss: 2.063 |  Val. Acc: 30.51%\n"
     ]
    },
    {
     "name": "stderr",
     "output_type": "stream",
     "text": [
      "100%|██████████| 83/83 [00:23<00:00,  3.58it/s]\n",
      "100%|██████████| 11/11 [00:06<00:00,  1.75it/s]\n"
     ]
    },
    {
     "name": "stdout",
     "output_type": "stream",
     "text": [
      "\tTrain Loss: 1.627 | Train Acc: 44.44%\n",
      "Epoch: 31 | Epoch Time: 0m 29s\n",
      "\t Val. Loss: 2.080 |  Val. Acc: 30.51%\n"
     ]
    },
    {
     "name": "stderr",
     "output_type": "stream",
     "text": [
      "100%|██████████| 83/83 [00:23<00:00,  3.59it/s]\n",
      "100%|██████████| 11/11 [00:06<00:00,  1.74it/s]\n"
     ]
    },
    {
     "name": "stdout",
     "output_type": "stream",
     "text": [
      "\tTrain Loss: 2.230 | Train Acc: 16.67%\n",
      "Epoch: 32 | Epoch Time: 0m 29s\n",
      "\t Val. Loss: 1.924 |  Val. Acc: 36.56%\n"
     ]
    },
    {
     "name": "stderr",
     "output_type": "stream",
     "text": [
      "100%|██████████| 83/83 [00:23<00:00,  3.56it/s]\n",
      "100%|██████████| 11/11 [00:06<00:00,  1.74it/s]\n"
     ]
    },
    {
     "name": "stdout",
     "output_type": "stream",
     "text": [
      "\tTrain Loss: 2.599 | Train Acc: 22.22%\n",
      "Epoch: 33 | Epoch Time: 0m 29s\n",
      "\t Val. Loss: 1.995 |  Val. Acc: 35.35%\n"
     ]
    },
    {
     "name": "stderr",
     "output_type": "stream",
     "text": [
      "100%|██████████| 83/83 [00:23<00:00,  3.48it/s]\n",
      "100%|██████████| 11/11 [00:06<00:00,  1.73it/s]\n"
     ]
    },
    {
     "name": "stdout",
     "output_type": "stream",
     "text": [
      "\tTrain Loss: 2.241 | Train Acc: 27.78%\n",
      "Epoch: 34 | Epoch Time: 0m 30s\n",
      "\t Val. Loss: 1.827 |  Val. Acc: 38.97%\n"
     ]
    },
    {
     "name": "stderr",
     "output_type": "stream",
     "text": [
      "100%|██████████| 83/83 [00:23<00:00,  3.58it/s]\n",
      "100%|██████████| 11/11 [00:06<00:00,  1.74it/s]\n"
     ]
    },
    {
     "name": "stdout",
     "output_type": "stream",
     "text": [
      "\tTrain Loss: 1.728 | Train Acc: 50.00%\n",
      "Epoch: 35 | Epoch Time: 0m 29s\n",
      "\t Val. Loss: 2.019 |  Val. Acc: 32.33%\n"
     ]
    },
    {
     "name": "stderr",
     "output_type": "stream",
     "text": [
      "100%|██████████| 83/83 [00:23<00:00,  3.59it/s]\n",
      "100%|██████████| 11/11 [00:06<00:00,  1.74it/s]\n"
     ]
    },
    {
     "name": "stdout",
     "output_type": "stream",
     "text": [
      "\tTrain Loss: 1.799 | Train Acc: 44.44%\n",
      "Epoch: 36 | Epoch Time: 0m 29s\n",
      "\t Val. Loss: 1.903 |  Val. Acc: 39.58%\n"
     ]
    },
    {
     "name": "stderr",
     "output_type": "stream",
     "text": [
      "100%|██████████| 83/83 [00:23<00:00,  3.56it/s]\n",
      "100%|██████████| 11/11 [00:06<00:00,  1.75it/s]\n"
     ]
    },
    {
     "name": "stdout",
     "output_type": "stream",
     "text": [
      "\tTrain Loss: 2.117 | Train Acc: 27.78%\n",
      "Epoch: 37 | Epoch Time: 0m 29s\n",
      "\t Val. Loss: 1.762 |  Val. Acc: 38.97%\n"
     ]
    },
    {
     "name": "stderr",
     "output_type": "stream",
     "text": [
      "100%|██████████| 83/83 [00:23<00:00,  3.56it/s]\n",
      "100%|██████████| 11/11 [00:06<00:00,  1.71it/s]\n"
     ]
    },
    {
     "name": "stdout",
     "output_type": "stream",
     "text": [
      "\tTrain Loss: 2.462 | Train Acc: 33.33%\n",
      "Epoch: 38 | Epoch Time: 0m 29s\n",
      "\t Val. Loss: 1.717 |  Val. Acc: 40.18%\n"
     ]
    },
    {
     "name": "stderr",
     "output_type": "stream",
     "text": [
      "100%|██████████| 83/83 [00:23<00:00,  3.59it/s]\n",
      "100%|██████████| 11/11 [00:06<00:00,  1.74it/s]\n"
     ]
    },
    {
     "name": "stdout",
     "output_type": "stream",
     "text": [
      "\tTrain Loss: 1.763 | Train Acc: 33.33%\n",
      "Epoch: 39 | Epoch Time: 0m 29s\n",
      "\t Val. Loss: 1.816 |  Val. Acc: 40.48%\n"
     ]
    },
    {
     "name": "stderr",
     "output_type": "stream",
     "text": [
      "100%|██████████| 83/83 [00:23<00:00,  3.59it/s]\n",
      "100%|██████████| 11/11 [00:06<00:00,  1.75it/s]\n"
     ]
    },
    {
     "name": "stdout",
     "output_type": "stream",
     "text": [
      "Best model saved at epoch 40 with accuracy 0.4199 and loss 1.7062.\n",
      "\tTrain Loss: 1.991 | Train Acc: 38.89%\n",
      "Epoch: 40 | Epoch Time: 0m 29s\n",
      "\t Val. Loss: 1.706 |  Val. Acc: 41.99%\n"
     ]
    },
    {
     "name": "stderr",
     "output_type": "stream",
     "text": [
      "100%|██████████| 83/83 [00:23<00:00,  3.59it/s]\n",
      "100%|██████████| 11/11 [00:06<00:00,  1.75it/s]\n"
     ]
    },
    {
     "name": "stdout",
     "output_type": "stream",
     "text": [
      "\tTrain Loss: 2.008 | Train Acc: 33.33%\n",
      "Epoch: 41 | Epoch Time: 0m 29s\n",
      "\t Val. Loss: 1.799 |  Val. Acc: 41.39%\n"
     ]
    },
    {
     "name": "stderr",
     "output_type": "stream",
     "text": [
      "100%|██████████| 83/83 [00:23<00:00,  3.59it/s]\n",
      "100%|██████████| 11/11 [00:06<00:00,  1.74it/s]\n"
     ]
    },
    {
     "name": "stdout",
     "output_type": "stream",
     "text": [
      "\tTrain Loss: 2.154 | Train Acc: 27.78%\n",
      "Epoch: 42 | Epoch Time: 0m 29s\n",
      "\t Val. Loss: 1.751 |  Val. Acc: 36.86%\n"
     ]
    },
    {
     "name": "stderr",
     "output_type": "stream",
     "text": [
      "100%|██████████| 83/83 [00:23<00:00,  3.60it/s]\n",
      "100%|██████████| 11/11 [00:06<00:00,  1.76it/s]\n"
     ]
    },
    {
     "name": "stdout",
     "output_type": "stream",
     "text": [
      "Best model saved at epoch 43 with accuracy 0.435 and loss 1.6927.\n",
      "\tTrain Loss: 1.817 | Train Acc: 38.89%\n",
      "Epoch: 43 | Epoch Time: 0m 29s\n",
      "\t Val. Loss: 1.693 |  Val. Acc: 43.50%\n"
     ]
    },
    {
     "name": "stderr",
     "output_type": "stream",
     "text": [
      "100%|██████████| 83/83 [00:23<00:00,  3.59it/s]\n",
      "100%|██████████| 11/11 [00:06<00:00,  1.73it/s]\n"
     ]
    },
    {
     "name": "stdout",
     "output_type": "stream",
     "text": [
      "Best model saved at epoch 44 with accuracy 0.4834 and loss 1.6294.\n",
      "\tTrain Loss: 1.309 | Train Acc: 55.56%\n",
      "Epoch: 44 | Epoch Time: 0m 29s\n",
      "\t Val. Loss: 1.629 |  Val. Acc: 48.34%\n"
     ]
    },
    {
     "name": "stderr",
     "output_type": "stream",
     "text": [
      "100%|██████████| 83/83 [00:23<00:00,  3.58it/s]\n",
      "100%|██████████| 11/11 [00:06<00:00,  1.76it/s]\n"
     ]
    },
    {
     "name": "stdout",
     "output_type": "stream",
     "text": [
      "\tTrain Loss: 2.142 | Train Acc: 33.33%\n",
      "Epoch: 45 | Epoch Time: 0m 29s\n",
      "\t Val. Loss: 1.665 |  Val. Acc: 46.53%\n"
     ]
    },
    {
     "name": "stderr",
     "output_type": "stream",
     "text": [
      "100%|██████████| 83/83 [00:23<00:00,  3.59it/s]\n",
      "100%|██████████| 11/11 [00:06<00:00,  1.75it/s]\n"
     ]
    },
    {
     "name": "stdout",
     "output_type": "stream",
     "text": [
      "\tTrain Loss: 1.886 | Train Acc: 38.89%\n",
      "Epoch: 46 | Epoch Time: 0m 29s\n",
      "\t Val. Loss: 1.647 |  Val. Acc: 45.92%\n"
     ]
    },
    {
     "name": "stderr",
     "output_type": "stream",
     "text": [
      "100%|██████████| 83/83 [00:23<00:00,  3.58it/s]\n",
      "100%|██████████| 11/11 [00:06<00:00,  1.74it/s]\n"
     ]
    },
    {
     "name": "stdout",
     "output_type": "stream",
     "text": [
      "\tTrain Loss: 1.728 | Train Acc: 44.44%\n",
      "Epoch: 47 | Epoch Time: 0m 29s\n",
      "\t Val. Loss: 1.715 |  Val. Acc: 45.62%\n"
     ]
    },
    {
     "name": "stderr",
     "output_type": "stream",
     "text": [
      "100%|██████████| 83/83 [00:23<00:00,  3.57it/s]\n",
      "100%|██████████| 11/11 [00:06<00:00,  1.73it/s]\n"
     ]
    },
    {
     "name": "stdout",
     "output_type": "stream",
     "text": [
      "\tTrain Loss: 2.157 | Train Acc: 50.00%\n",
      "Epoch: 48 | Epoch Time: 0m 29s\n",
      "\t Val. Loss: 1.569 |  Val. Acc: 45.62%\n"
     ]
    },
    {
     "name": "stderr",
     "output_type": "stream",
     "text": [
      "100%|██████████| 83/83 [00:23<00:00,  3.58it/s]\n",
      "100%|██████████| 11/11 [00:06<00:00,  1.74it/s]\n"
     ]
    },
    {
     "name": "stdout",
     "output_type": "stream",
     "text": [
      "Best model saved at epoch 49 with accuracy 0.4955 and loss 1.5702.\n",
      "\tTrain Loss: 1.366 | Train Acc: 66.67%\n",
      "Epoch: 49 | Epoch Time: 0m 29s\n",
      "\t Val. Loss: 1.570 |  Val. Acc: 49.55%\n"
     ]
    },
    {
     "name": "stderr",
     "output_type": "stream",
     "text": [
      "100%|██████████| 83/83 [00:23<00:00,  3.58it/s]\n",
      "100%|██████████| 11/11 [00:06<00:00,  1.74it/s]\n"
     ]
    },
    {
     "name": "stdout",
     "output_type": "stream",
     "text": [
      "\tTrain Loss: 1.463 | Train Acc: 50.00%\n",
      "Epoch: 50 | Epoch Time: 0m 29s\n",
      "\t Val. Loss: 1.550 |  Val. Acc: 49.55%\n"
     ]
    },
    {
     "name": "stderr",
     "output_type": "stream",
     "text": [
      "100%|██████████| 83/83 [00:23<00:00,  3.60it/s]\n",
      "100%|██████████| 11/11 [00:06<00:00,  1.72it/s]\n"
     ]
    },
    {
     "name": "stdout",
     "output_type": "stream",
     "text": [
      "\tTrain Loss: 1.845 | Train Acc: 33.33%\n",
      "Epoch: 51 | Epoch Time: 0m 29s\n",
      "\t Val. Loss: 1.551 |  Val. Acc: 48.94%\n"
     ]
    },
    {
     "name": "stderr",
     "output_type": "stream",
     "text": [
      "100%|██████████| 83/83 [00:23<00:00,  3.56it/s]\n",
      "100%|██████████| 11/11 [00:06<00:00,  1.73it/s]\n"
     ]
    },
    {
     "name": "stdout",
     "output_type": "stream",
     "text": [
      "\tTrain Loss: 1.583 | Train Acc: 61.11%\n",
      "Epoch: 52 | Epoch Time: 0m 29s\n",
      "\t Val. Loss: 1.692 |  Val. Acc: 46.22%\n"
     ]
    },
    {
     "name": "stderr",
     "output_type": "stream",
     "text": [
      "100%|██████████| 83/83 [00:23<00:00,  3.55it/s]\n",
      "100%|██████████| 11/11 [00:06<00:00,  1.73it/s]\n"
     ]
    },
    {
     "name": "stdout",
     "output_type": "stream",
     "text": [
      "Best model saved at epoch 53 with accuracy 0.5227 and loss 1.5961.\n",
      "\tTrain Loss: 1.634 | Train Acc: 27.78%\n",
      "Epoch: 53 | Epoch Time: 0m 29s\n",
      "\t Val. Loss: 1.596 |  Val. Acc: 52.27%\n"
     ]
    },
    {
     "name": "stderr",
     "output_type": "stream",
     "text": [
      "100%|██████████| 83/83 [00:23<00:00,  3.57it/s]\n",
      "100%|██████████| 11/11 [00:06<00:00,  1.73it/s]\n"
     ]
    },
    {
     "name": "stdout",
     "output_type": "stream",
     "text": [
      "\tTrain Loss: 2.730 | Train Acc: 22.22%\n",
      "Epoch: 54 | Epoch Time: 0m 29s\n",
      "\t Val. Loss: 1.642 |  Val. Acc: 46.53%\n"
     ]
    },
    {
     "name": "stderr",
     "output_type": "stream",
     "text": [
      "100%|██████████| 83/83 [00:23<00:00,  3.55it/s]\n",
      "100%|██████████| 11/11 [00:06<00:00,  1.74it/s]\n"
     ]
    },
    {
     "name": "stdout",
     "output_type": "stream",
     "text": [
      "\tTrain Loss: 1.327 | Train Acc: 61.11%\n",
      "Epoch: 55 | Epoch Time: 0m 29s\n",
      "\t Val. Loss: 1.375 |  Val. Acc: 51.96%\n"
     ]
    },
    {
     "name": "stderr",
     "output_type": "stream",
     "text": [
      "100%|██████████| 83/83 [00:23<00:00,  3.58it/s]\n",
      "100%|██████████| 11/11 [00:06<00:00,  1.74it/s]\n"
     ]
    },
    {
     "name": "stdout",
     "output_type": "stream",
     "text": [
      "\tTrain Loss: 1.701 | Train Acc: 50.00%\n",
      "Epoch: 56 | Epoch Time: 0m 29s\n",
      "\t Val. Loss: 1.434 |  Val. Acc: 49.55%\n"
     ]
    },
    {
     "name": "stderr",
     "output_type": "stream",
     "text": [
      "100%|██████████| 83/83 [00:23<00:00,  3.57it/s]\n",
      "100%|██████████| 11/11 [00:06<00:00,  1.75it/s]\n"
     ]
    },
    {
     "name": "stdout",
     "output_type": "stream",
     "text": [
      "\tTrain Loss: 1.632 | Train Acc: 38.89%\n",
      "Epoch: 57 | Epoch Time: 0m 29s\n",
      "\t Val. Loss: 1.488 |  Val. Acc: 48.64%\n"
     ]
    },
    {
     "name": "stderr",
     "output_type": "stream",
     "text": [
      "100%|██████████| 83/83 [00:23<00:00,  3.55it/s]\n",
      "100%|██████████| 11/11 [00:06<00:00,  1.75it/s]\n"
     ]
    },
    {
     "name": "stdout",
     "output_type": "stream",
     "text": [
      "\tTrain Loss: 1.206 | Train Acc: 55.56%\n",
      "Epoch: 58 | Epoch Time: 0m 29s\n",
      "\t Val. Loss: 1.513 |  Val. Acc: 51.06%\n"
     ]
    },
    {
     "name": "stderr",
     "output_type": "stream",
     "text": [
      "100%|██████████| 83/83 [00:23<00:00,  3.57it/s]\n",
      "100%|██████████| 11/11 [00:06<00:00,  1.76it/s]\n"
     ]
    },
    {
     "name": "stdout",
     "output_type": "stream",
     "text": [
      "Best model saved at epoch 59 with accuracy 0.5498 and loss 1.3888.\n",
      "\tTrain Loss: 1.089 | Train Acc: 61.11%\n",
      "Epoch: 59 | Epoch Time: 0m 29s\n",
      "\t Val. Loss: 1.389 |  Val. Acc: 54.98%\n"
     ]
    },
    {
     "name": "stderr",
     "output_type": "stream",
     "text": [
      "100%|██████████| 83/83 [00:23<00:00,  3.59it/s]\n",
      "100%|██████████| 11/11 [00:06<00:00,  1.75it/s]\n"
     ]
    },
    {
     "name": "stdout",
     "output_type": "stream",
     "text": [
      "\tTrain Loss: 1.853 | Train Acc: 27.78%\n",
      "Epoch: 60 | Epoch Time: 0m 29s\n",
      "\t Val. Loss: 1.439 |  Val. Acc: 51.36%\n"
     ]
    },
    {
     "name": "stderr",
     "output_type": "stream",
     "text": [
      "100%|██████████| 83/83 [00:23<00:00,  3.60it/s]\n",
      "100%|██████████| 11/11 [00:06<00:00,  1.77it/s]\n"
     ]
    },
    {
     "name": "stdout",
     "output_type": "stream",
     "text": [
      "\tTrain Loss: 1.340 | Train Acc: 61.11%\n",
      "Epoch: 61 | Epoch Time: 0m 29s\n",
      "\t Val. Loss: 1.423 |  Val. Acc: 54.68%\n"
     ]
    },
    {
     "name": "stderr",
     "output_type": "stream",
     "text": [
      "100%|██████████| 83/83 [00:23<00:00,  3.59it/s]\n",
      "100%|██████████| 11/11 [00:06<00:00,  1.76it/s]\n"
     ]
    },
    {
     "name": "stdout",
     "output_type": "stream",
     "text": [
      "\tTrain Loss: 1.296 | Train Acc: 55.56%\n",
      "Epoch: 62 | Epoch Time: 0m 29s\n",
      "\t Val. Loss: 1.466 |  Val. Acc: 51.06%\n"
     ]
    },
    {
     "name": "stderr",
     "output_type": "stream",
     "text": [
      "100%|██████████| 83/83 [00:23<00:00,  3.60it/s]\n",
      "100%|██████████| 11/11 [00:06<00:00,  1.76it/s]\n"
     ]
    },
    {
     "name": "stdout",
     "output_type": "stream",
     "text": [
      "\tTrain Loss: 1.510 | Train Acc: 55.56%\n",
      "Epoch: 63 | Epoch Time: 0m 29s\n",
      "\t Val. Loss: 1.366 |  Val. Acc: 53.78%\n"
     ]
    },
    {
     "name": "stderr",
     "output_type": "stream",
     "text": [
      "100%|██████████| 83/83 [00:23<00:00,  3.59it/s]\n",
      "100%|██████████| 11/11 [00:06<00:00,  1.77it/s]\n"
     ]
    },
    {
     "name": "stdout",
     "output_type": "stream",
     "text": [
      "\tTrain Loss: 1.136 | Train Acc: 66.67%\n",
      "Epoch: 64 | Epoch Time: 0m 29s\n",
      "\t Val. Loss: 1.436 |  Val. Acc: 54.68%\n"
     ]
    },
    {
     "name": "stderr",
     "output_type": "stream",
     "text": [
      "100%|██████████| 83/83 [00:22<00:00,  3.62it/s]\n",
      "100%|██████████| 11/11 [00:06<00:00,  1.74it/s]\n"
     ]
    },
    {
     "name": "stdout",
     "output_type": "stream",
     "text": [
      "Best model saved at epoch 65 with accuracy 0.5891 and loss 1.2183.\n",
      "\tTrain Loss: 1.244 | Train Acc: 50.00%\n",
      "Epoch: 65 | Epoch Time: 0m 29s\n",
      "\t Val. Loss: 1.218 |  Val. Acc: 58.91%\n"
     ]
    },
    {
     "name": "stderr",
     "output_type": "stream",
     "text": [
      "100%|██████████| 83/83 [00:22<00:00,  3.61it/s]\n",
      "100%|██████████| 11/11 [00:06<00:00,  1.75it/s]\n"
     ]
    },
    {
     "name": "stdout",
     "output_type": "stream",
     "text": [
      "\tTrain Loss: 1.154 | Train Acc: 66.67%\n",
      "Epoch: 66 | Epoch Time: 0m 29s\n",
      "\t Val. Loss: 1.423 |  Val. Acc: 53.78%\n"
     ]
    },
    {
     "name": "stderr",
     "output_type": "stream",
     "text": [
      "100%|██████████| 83/83 [00:22<00:00,  3.62it/s]\n",
      "100%|██████████| 11/11 [00:06<00:00,  1.77it/s]\n"
     ]
    },
    {
     "name": "stdout",
     "output_type": "stream",
     "text": [
      "\tTrain Loss: 1.941 | Train Acc: 33.33%\n",
      "Epoch: 67 | Epoch Time: 0m 29s\n",
      "\t Val. Loss: 1.227 |  Val. Acc: 58.01%\n"
     ]
    },
    {
     "name": "stderr",
     "output_type": "stream",
     "text": [
      "100%|██████████| 83/83 [00:22<00:00,  3.64it/s]\n",
      "100%|██████████| 11/11 [00:06<00:00,  1.76it/s]\n"
     ]
    },
    {
     "name": "stdout",
     "output_type": "stream",
     "text": [
      "\tTrain Loss: 1.635 | Train Acc: 50.00%\n",
      "Epoch: 68 | Epoch Time: 0m 29s\n",
      "\t Val. Loss: 1.339 |  Val. Acc: 52.27%\n"
     ]
    },
    {
     "name": "stderr",
     "output_type": "stream",
     "text": [
      "100%|██████████| 83/83 [00:22<00:00,  3.65it/s]\n",
      "100%|██████████| 11/11 [00:06<00:00,  1.77it/s]\n"
     ]
    },
    {
     "name": "stdout",
     "output_type": "stream",
     "text": [
      "\tTrain Loss: 1.291 | Train Acc: 44.44%\n",
      "Epoch: 69 | Epoch Time: 0m 28s\n",
      "\t Val. Loss: 1.340 |  Val. Acc: 54.38%\n"
     ]
    },
    {
     "name": "stderr",
     "output_type": "stream",
     "text": [
      "100%|██████████| 83/83 [00:22<00:00,  3.65it/s]\n",
      "100%|██████████| 11/11 [00:06<00:00,  1.74it/s]\n"
     ]
    },
    {
     "name": "stdout",
     "output_type": "stream",
     "text": [
      "Best model saved at epoch 70 with accuracy 0.5921 and loss 1.3372.\n",
      "\tTrain Loss: 1.447 | Train Acc: 44.44%\n",
      "Epoch: 70 | Epoch Time: 0m 29s\n",
      "\t Val. Loss: 1.337 |  Val. Acc: 59.21%\n"
     ]
    },
    {
     "name": "stderr",
     "output_type": "stream",
     "text": [
      "100%|██████████| 83/83 [00:22<00:00,  3.64it/s]\n",
      "100%|██████████| 11/11 [00:06<00:00,  1.76it/s]\n"
     ]
    },
    {
     "name": "stdout",
     "output_type": "stream",
     "text": [
      "\tTrain Loss: 1.664 | Train Acc: 50.00%\n",
      "Epoch: 71 | Epoch Time: 0m 29s\n",
      "\t Val. Loss: 1.555 |  Val. Acc: 53.17%\n"
     ]
    },
    {
     "name": "stderr",
     "output_type": "stream",
     "text": [
      "100%|██████████| 83/83 [00:22<00:00,  3.62it/s]\n",
      "100%|██████████| 11/11 [00:06<00:00,  1.76it/s]\n"
     ]
    },
    {
     "name": "stdout",
     "output_type": "stream",
     "text": [
      "\tTrain Loss: 1.194 | Train Acc: 66.67%\n",
      "Epoch: 72 | Epoch Time: 0m 29s\n",
      "\t Val. Loss: 1.266 |  Val. Acc: 55.89%\n"
     ]
    },
    {
     "name": "stderr",
     "output_type": "stream",
     "text": [
      "100%|██████████| 83/83 [00:22<00:00,  3.61it/s]\n",
      "100%|██████████| 11/11 [00:06<00:00,  1.76it/s]\n"
     ]
    },
    {
     "name": "stdout",
     "output_type": "stream",
     "text": [
      "Best model saved at epoch 73 with accuracy 0.6012 and loss 1.2844.\n",
      "\tTrain Loss: 1.354 | Train Acc: 44.44%\n",
      "Epoch: 73 | Epoch Time: 0m 29s\n",
      "\t Val. Loss: 1.284 |  Val. Acc: 60.12%\n"
     ]
    },
    {
     "name": "stderr",
     "output_type": "stream",
     "text": [
      "100%|██████████| 83/83 [00:23<00:00,  3.60it/s]\n",
      "100%|██████████| 11/11 [00:06<00:00,  1.75it/s]\n"
     ]
    },
    {
     "name": "stdout",
     "output_type": "stream",
     "text": [
      "\tTrain Loss: 1.682 | Train Acc: 38.89%\n",
      "Epoch: 74 | Epoch Time: 0m 29s\n",
      "\t Val. Loss: 1.308 |  Val. Acc: 58.31%\n"
     ]
    },
    {
     "name": "stderr",
     "output_type": "stream",
     "text": [
      "100%|██████████| 83/83 [00:22<00:00,  3.63it/s]\n",
      "100%|██████████| 11/11 [00:06<00:00,  1.77it/s]\n"
     ]
    },
    {
     "name": "stdout",
     "output_type": "stream",
     "text": [
      "Best model saved at epoch 75 with accuracy 0.6073 and loss 1.2386.\n",
      "\tTrain Loss: 1.019 | Train Acc: 66.67%\n",
      "Epoch: 75 | Epoch Time: 0m 29s\n",
      "\t Val. Loss: 1.239 |  Val. Acc: 60.73%\n"
     ]
    },
    {
     "name": "stderr",
     "output_type": "stream",
     "text": [
      "100%|██████████| 83/83 [00:22<00:00,  3.63it/s]\n",
      "100%|██████████| 11/11 [00:06<00:00,  1.76it/s]\n"
     ]
    },
    {
     "name": "stdout",
     "output_type": "stream",
     "text": [
      "\tTrain Loss: 1.474 | Train Acc: 50.00%\n",
      "Epoch: 76 | Epoch Time: 0m 29s\n",
      "\t Val. Loss: 1.258 |  Val. Acc: 59.82%\n"
     ]
    },
    {
     "name": "stderr",
     "output_type": "stream",
     "text": [
      "100%|██████████| 83/83 [00:22<00:00,  3.65it/s]\n",
      "100%|██████████| 11/11 [00:06<00:00,  1.76it/s]\n"
     ]
    },
    {
     "name": "stdout",
     "output_type": "stream",
     "text": [
      "Best model saved at epoch 77 with accuracy 0.6224 and loss 1.3043.\n",
      "\tTrain Loss: 1.500 | Train Acc: 55.56%\n",
      "Epoch: 77 | Epoch Time: 0m 29s\n",
      "\t Val. Loss: 1.304 |  Val. Acc: 62.24%\n"
     ]
    },
    {
     "name": "stderr",
     "output_type": "stream",
     "text": [
      "100%|██████████| 83/83 [00:22<00:00,  3.65it/s]\n",
      "100%|██████████| 11/11 [00:06<00:00,  1.76it/s]\n"
     ]
    },
    {
     "name": "stdout",
     "output_type": "stream",
     "text": [
      "\tTrain Loss: 1.525 | Train Acc: 50.00%\n",
      "Epoch: 78 | Epoch Time: 0m 29s\n",
      "\t Val. Loss: 1.559 |  Val. Acc: 50.76%\n"
     ]
    },
    {
     "name": "stderr",
     "output_type": "stream",
     "text": [
      "100%|██████████| 83/83 [00:22<00:00,  3.62it/s]\n",
      "100%|██████████| 11/11 [00:06<00:00,  1.76it/s]\n"
     ]
    },
    {
     "name": "stdout",
     "output_type": "stream",
     "text": [
      "\tTrain Loss: 0.974 | Train Acc: 72.22%\n",
      "Epoch: 79 | Epoch Time: 0m 29s\n",
      "\t Val. Loss: 1.282 |  Val. Acc: 60.12%\n"
     ]
    },
    {
     "name": "stderr",
     "output_type": "stream",
     "text": [
      "100%|██████████| 83/83 [00:22<00:00,  3.64it/s]\n",
      "100%|██████████| 11/11 [00:06<00:00,  1.77it/s]\n"
     ]
    },
    {
     "name": "stdout",
     "output_type": "stream",
     "text": [
      "\tTrain Loss: 0.608 | Train Acc: 77.78%\n",
      "Epoch: 80 | Epoch Time: 0m 29s\n",
      "\t Val. Loss: 1.404 |  Val. Acc: 57.40%\n"
     ]
    },
    {
     "name": "stderr",
     "output_type": "stream",
     "text": [
      "100%|██████████| 83/83 [00:22<00:00,  3.64it/s]\n",
      "100%|██████████| 11/11 [00:06<00:00,  1.76it/s]\n"
     ]
    },
    {
     "name": "stdout",
     "output_type": "stream",
     "text": [
      "\tTrain Loss: 1.885 | Train Acc: 33.33%\n",
      "Epoch: 81 | Epoch Time: 0m 29s\n",
      "\t Val. Loss: 1.256 |  Val. Acc: 59.82%\n"
     ]
    },
    {
     "name": "stderr",
     "output_type": "stream",
     "text": [
      "100%|██████████| 83/83 [00:22<00:00,  3.64it/s]\n",
      "100%|██████████| 11/11 [00:06<00:00,  1.76it/s]\n"
     ]
    },
    {
     "name": "stdout",
     "output_type": "stream",
     "text": [
      "\tTrain Loss: 1.255 | Train Acc: 66.67%\n",
      "Epoch: 82 | Epoch Time: 0m 29s\n",
      "\t Val. Loss: 1.209 |  Val. Acc: 58.01%\n"
     ]
    },
    {
     "name": "stderr",
     "output_type": "stream",
     "text": [
      "100%|██████████| 83/83 [00:22<00:00,  3.62it/s]\n",
      "100%|██████████| 11/11 [00:06<00:00,  1.77it/s]\n"
     ]
    },
    {
     "name": "stdout",
     "output_type": "stream",
     "text": [
      "\tTrain Loss: 1.050 | Train Acc: 61.11%\n",
      "Epoch: 83 | Epoch Time: 0m 29s\n",
      "\t Val. Loss: 1.139 |  Val. Acc: 60.12%\n"
     ]
    },
    {
     "name": "stderr",
     "output_type": "stream",
     "text": [
      "100%|██████████| 83/83 [00:22<00:00,  3.64it/s]\n",
      "100%|██████████| 11/11 [00:06<00:00,  1.76it/s]\n"
     ]
    },
    {
     "name": "stdout",
     "output_type": "stream",
     "text": [
      "\tTrain Loss: 1.722 | Train Acc: 55.56%\n",
      "Epoch: 84 | Epoch Time: 0m 29s\n",
      "\t Val. Loss: 1.340 |  Val. Acc: 59.21%\n"
     ]
    },
    {
     "name": "stderr",
     "output_type": "stream",
     "text": [
      "100%|██████████| 83/83 [00:22<00:00,  3.65it/s]\n",
      "100%|██████████| 11/11 [00:06<00:00,  1.78it/s]\n"
     ]
    },
    {
     "name": "stdout",
     "output_type": "stream",
     "text": [
      "\tTrain Loss: 1.272 | Train Acc: 61.11%\n",
      "Epoch: 85 | Epoch Time: 0m 28s\n",
      "\t Val. Loss: 1.300 |  Val. Acc: 56.50%\n"
     ]
    },
    {
     "name": "stderr",
     "output_type": "stream",
     "text": [
      "100%|██████████| 83/83 [00:22<00:00,  3.64it/s]\n",
      "100%|██████████| 11/11 [00:06<00:00,  1.75it/s]\n"
     ]
    },
    {
     "name": "stdout",
     "output_type": "stream",
     "text": [
      "\tTrain Loss: 1.055 | Train Acc: 55.56%\n",
      "Epoch: 86 | Epoch Time: 0m 29s\n",
      "\t Val. Loss: 1.339 |  Val. Acc: 59.52%\n"
     ]
    },
    {
     "name": "stderr",
     "output_type": "stream",
     "text": [
      "100%|██████████| 83/83 [00:22<00:00,  3.64it/s]\n",
      "100%|██████████| 11/11 [00:06<00:00,  1.77it/s]\n"
     ]
    },
    {
     "name": "stdout",
     "output_type": "stream",
     "text": [
      "\tTrain Loss: 1.319 | Train Acc: 72.22%\n",
      "Epoch: 87 | Epoch Time: 0m 29s\n",
      "\t Val. Loss: 1.438 |  Val. Acc: 57.70%\n"
     ]
    },
    {
     "name": "stderr",
     "output_type": "stream",
     "text": [
      "100%|██████████| 83/83 [00:22<00:00,  3.64it/s]\n",
      "100%|██████████| 11/11 [00:06<00:00,  1.75it/s]\n"
     ]
    },
    {
     "name": "stdout",
     "output_type": "stream",
     "text": [
      "\tTrain Loss: 1.485 | Train Acc: 66.67%\n",
      "Epoch: 88 | Epoch Time: 0m 29s\n",
      "\t Val. Loss: 1.231 |  Val. Acc: 61.33%\n"
     ]
    },
    {
     "name": "stderr",
     "output_type": "stream",
     "text": [
      "100%|██████████| 83/83 [00:22<00:00,  3.63it/s]\n",
      "100%|██████████| 11/11 [00:06<00:00,  1.75it/s]\n"
     ]
    },
    {
     "name": "stdout",
     "output_type": "stream",
     "text": [
      "Best model saved at epoch 89 with accuracy 0.6344 and loss 1.1825.\n",
      "\tTrain Loss: 0.932 | Train Acc: 66.67%\n",
      "Epoch: 89 | Epoch Time: 0m 29s\n",
      "\t Val. Loss: 1.183 |  Val. Acc: 63.44%\n"
     ]
    },
    {
     "name": "stderr",
     "output_type": "stream",
     "text": [
      "100%|██████████| 83/83 [00:22<00:00,  3.62it/s]\n",
      "100%|██████████| 11/11 [00:06<00:00,  1.76it/s]\n"
     ]
    },
    {
     "name": "stdout",
     "output_type": "stream",
     "text": [
      "\tTrain Loss: 0.900 | Train Acc: 66.67%\n",
      "Epoch: 90 | Epoch Time: 0m 29s\n",
      "\t Val. Loss: 1.137 |  Val. Acc: 63.44%\n"
     ]
    },
    {
     "name": "stderr",
     "output_type": "stream",
     "text": [
      "100%|██████████| 83/83 [00:22<00:00,  3.62it/s]\n",
      "100%|██████████| 11/11 [00:06<00:00,  1.75it/s]\n"
     ]
    },
    {
     "name": "stdout",
     "output_type": "stream",
     "text": [
      "\tTrain Loss: 1.174 | Train Acc: 61.11%\n",
      "Epoch: 91 | Epoch Time: 0m 29s\n",
      "\t Val. Loss: 1.122 |  Val. Acc: 62.54%\n"
     ]
    },
    {
     "name": "stderr",
     "output_type": "stream",
     "text": [
      "100%|██████████| 83/83 [00:23<00:00,  3.59it/s]\n",
      "100%|██████████| 11/11 [00:06<00:00,  1.76it/s]\n"
     ]
    },
    {
     "name": "stdout",
     "output_type": "stream",
     "text": [
      "\tTrain Loss: 1.338 | Train Acc: 55.56%\n",
      "Epoch: 92 | Epoch Time: 0m 29s\n",
      "\t Val. Loss: 1.338 |  Val. Acc: 56.19%\n"
     ]
    },
    {
     "name": "stderr",
     "output_type": "stream",
     "text": [
      "100%|██████████| 83/83 [00:22<00:00,  3.61it/s]\n",
      "100%|██████████| 11/11 [00:06<00:00,  1.78it/s]\n"
     ]
    },
    {
     "name": "stdout",
     "output_type": "stream",
     "text": [
      "\tTrain Loss: 1.343 | Train Acc: 66.67%\n",
      "Epoch: 93 | Epoch Time: 0m 29s\n",
      "\t Val. Loss: 1.264 |  Val. Acc: 60.73%\n"
     ]
    },
    {
     "name": "stderr",
     "output_type": "stream",
     "text": [
      "100%|██████████| 83/83 [00:23<00:00,  3.61it/s]\n",
      "100%|██████████| 11/11 [00:06<00:00,  1.73it/s]\n"
     ]
    },
    {
     "name": "stdout",
     "output_type": "stream",
     "text": [
      "\tTrain Loss: 1.224 | Train Acc: 55.56%\n",
      "Epoch: 94 | Epoch Time: 0m 29s\n",
      "\t Val. Loss: 1.566 |  Val. Acc: 54.08%\n"
     ]
    },
    {
     "name": "stderr",
     "output_type": "stream",
     "text": [
      "100%|██████████| 83/83 [00:23<00:00,  3.58it/s]\n",
      "100%|██████████| 11/11 [00:06<00:00,  1.75it/s]\n"
     ]
    },
    {
     "name": "stdout",
     "output_type": "stream",
     "text": [
      "\tTrain Loss: 1.544 | Train Acc: 55.56%\n",
      "Epoch: 95 | Epoch Time: 0m 29s\n",
      "\t Val. Loss: 1.113 |  Val. Acc: 61.63%\n"
     ]
    },
    {
     "name": "stderr",
     "output_type": "stream",
     "text": [
      "100%|██████████| 83/83 [00:22<00:00,  3.62it/s]\n",
      "100%|██████████| 11/11 [00:06<00:00,  1.75it/s]\n"
     ]
    },
    {
     "name": "stdout",
     "output_type": "stream",
     "text": [
      "\tTrain Loss: 1.149 | Train Acc: 77.78%\n",
      "Epoch: 96 | Epoch Time: 0m 29s\n",
      "\t Val. Loss: 1.335 |  Val. Acc: 57.40%\n"
     ]
    },
    {
     "name": "stderr",
     "output_type": "stream",
     "text": [
      "100%|██████████| 83/83 [00:23<00:00,  3.61it/s]\n",
      "100%|██████████| 11/11 [00:06<00:00,  1.74it/s]\n"
     ]
    },
    {
     "name": "stdout",
     "output_type": "stream",
     "text": [
      "\tTrain Loss: 1.377 | Train Acc: 66.67%\n",
      "Epoch: 97 | Epoch Time: 0m 29s\n",
      "\t Val. Loss: 1.361 |  Val. Acc: 54.98%\n"
     ]
    },
    {
     "name": "stderr",
     "output_type": "stream",
     "text": [
      "100%|██████████| 83/83 [00:17<00:00,  5.06it/s]"
     ]
    }
   ],
   "source": [
    "with experiment.train():\n",
    "    train(model, criterion, optimizer, hyper_params, train_loader, val_loader)"
   ]
  },
  {
   "cell_type": "code",
   "execution_count": null,
   "metadata": {},
   "outputs": [
    {
     "name": "stderr",
     "output_type": "stream",
     "text": [
      "100%|██████████| 11/11 [00:57<00:00,  5.26s/it]"
     ]
    },
    {
     "name": "stdout",
     "output_type": "stream",
     "text": [
      "Test Loss: 1.454 | Test Acc: 58.03%\n"
     ]
    },
    {
     "name": "stderr",
     "output_type": "stream",
     "text": [
      "\n"
     ]
    }
   ],
   "source": [
    "with experiment.test():\n",
    "\n",
    "    model.load_state_dict(torch.load(hyper_params['best_model_path'])) #Loading the state dict into the model\n",
    "    test_loss, test_acc = evaluate(model, test_loader, criterion, device, experiment) \n",
    "    print(f'Test Loss: {test_loss:.3f} | Test Acc: {test_acc*100:.2f}%')"
   ]
  },
  {
   "cell_type": "code",
   "execution_count": null,
   "metadata": {},
   "outputs": [],
   "source": [
    "confusion(model, test_loader, device = device, experiment=experiment)"
   ]
  },
  {
   "cell_type": "code",
   "execution_count": null,
   "metadata": {},
   "outputs": [
    {
     "name": "stderr",
     "output_type": "stream",
     "text": [
      "COMET INFO: ---------------------------\n",
      "COMET INFO: Comet.ml Experiment Summary\n",
      "COMET INFO: ---------------------------\n",
      "COMET INFO:   Data:\n",
      "COMET INFO:     display_summary_level : 1\n",
      "COMET INFO:     url                   : https://www.comet.com/leothesouthafrican/celebs-20-mobilenet/b13d3b3af07b40bbaba5a9e4265267c5\n",
      "COMET INFO:   Metrics [count] (min, max):\n",
      "COMET INFO:     test_acc [11]          : (3.977272727272727, 58.032024990428575)\n",
      "COMET INFO:     test_loss [11]         : (0.16263551061803644, 1.4537433385849)\n",
      "COMET INFO:     train_acc [4150]       : (0.0, 0.84375)\n",
      "COMET INFO:     train_loss [4150]      : (0.6306542158126831, 5.146610736846924)\n",
      "COMET INFO:     train_step_time [4150] : (0, 3)\n",
      "COMET INFO:     train_val_acc [50]     : (0.0513595166163142, 0.56797583081571)\n",
      "COMET INFO:     train_val_loss [50]    : (1.4152513634074817, 3.3350558931177314)\n",
      "COMET INFO:   Parameters:\n",
      "COMET INFO:     batch_size           : 32\n",
      "COMET INFO:     best_model_path      : output/MN3LCB_celebs20.pt\n",
      "COMET INFO:     comet_exp            : <comet_ml._online.Experiment object at 0x1103b99a0>\n",
      "COMET INFO:     criterion            : CrossEntropyLoss\n",
      "COMET INFO:     dataset              : Celebrities 20\n",
      "COMET INFO:     device               : mps\n",
      "COMET INFO:     epochs               : 50\n",
      "COMET INFO:     image_channels       : 3\n",
      "COMET INFO:     image_size           : 112\n",
      "COMET INFO:     learning_rate        : 0.001\n",
      "COMET INFO:     loaded_model_path    : False\n",
      "COMET INFO:     model_name           : MobileNet3 with CBAM inserted instead of SE starting from a fresh model with no preloaded weights.\n",
      "COMET INFO:     num_layers           : na\n",
      "COMET INFO:     optimizer            : Adam\n",
      "COMET INFO:     output_size          : 20\n",
      "COMET INFO:     save_at_end          : True\n",
      "COMET INFO:     train_val_test_split : [0.8, 0.1, 0.1]\n",
      "COMET INFO:   Uploads:\n",
      "COMET INFO:     confusion-matrix         : 1\n",
      "COMET INFO:     environment details      : 1\n",
      "COMET INFO:     filename                 : 1\n",
      "COMET INFO:     git metadata             : 1\n",
      "COMET INFO:     git-patch (uncompressed) : 1 (890.17 KB)\n",
      "COMET INFO:     installed packages       : 1\n",
      "COMET INFO:     notebook                 : 1\n",
      "COMET INFO:     source_code              : 1\n",
      "COMET INFO: ---------------------------\n",
      "COMET WARNING: Comet has disabled auto-logging functionality as it has been imported after the following ML modules: torch. Metrics and hyperparameters can still be logged using Experiment.log_metrics() and Experiment.log_parameters()\n",
      "COMET INFO: Uploading metrics, params, and assets to Comet before program termination (may take several seconds)\n",
      "COMET INFO: The Python SDK has 3600 seconds to finish before aborting...\n"
     ]
    }
   ],
   "source": [
    "experiment.end()"
   ]
  },
  {
   "cell_type": "code",
   "execution_count": null,
   "metadata": {},
   "outputs": [],
   "source": []
  }
 ],
 "metadata": {
  "kernelspec": {
   "display_name": "env",
   "language": "python",
   "name": "python3"
  },
  "language_info": {
   "codemirror_mode": {
    "name": "ipython",
    "version": 3
   },
   "file_extension": ".py",
   "mimetype": "text/x-python",
   "name": "python",
   "nbconvert_exporter": "python",
   "pygments_lexer": "ipython3",
   "version": "3.9.16"
  },
  "orig_nbformat": 4,
  "vscode": {
   "interpreter": {
    "hash": "3eacf7c38dfd06f03ba84c25998c3b980b49954d2ca7328ee71b9a00e83ad9fc"
   }
  }
 },
 "nbformat": 4,
 "nbformat_minor": 2
}
