{
 "cells": [
  {
   "cell_type": "code",
   "execution_count": 1,
   "metadata": {},
   "outputs": [],
   "source": [
    "utils_path = \"../utils\"\n",
    "models_path = \"../models\"\n",
    "data_path = \"../data/celebs_105\"\n",
    "\n",
    "import sys\n",
    "import os\n",
    "sys.path.insert(1, utils_path)\n",
    "sys.path.insert(2, models_path)\n",
    "\n",
    "import torch\n",
    "import torch.nn as nn\n",
    "\n",
    "import matplotlib.pyplot as plt\n",
    "\n",
    "import numpy as np\n",
    "\n",
    "from comet_ml import Experiment\n",
    "\n",
    "import config\n",
    "\n",
    "import time \n",
    "import copy\n",
    "import random\n",
    "from tqdm.notebook import trange, tqdm\n",
    "\n",
    "import torchvision\n",
    "\n",
    "from torch.utils.data import DataLoader\n",
    "from torch.utils.data import Dataset\n",
    "from torchvision import datasets, transforms\n",
    "import torchvision.transforms as transformss\n",
    "\n",
    "from MBNV3 import MobileNetV3\n",
    "from MBNV3CBAM import MobileNetV3CBAM\n",
    "\n",
    "from dataloader import mixedSets\n",
    "from functions import train, evaluate, confusion, unzip_files, unzip"
   ]
  },
  {
   "cell_type": "code",
   "execution_count": 2,
   "metadata": {},
   "outputs": [
    {
     "name": "stderr",
     "output_type": "stream",
     "text": [
      "COMET WARNING: Comet has disabled auto-logging functionality as it has been imported after the following ML modules: torch. Metrics and hyperparameters can still be logged using Experiment.log_metrics() and Experiment.log_parameters()\n",
      "COMET WARNING: As you are running in a Jupyter environment, you will need to call `experiment.end()` when finished to ensure all metrics and code are logged before exiting.\n",
      "COMET INFO: Experiment is live on comet.com https://www.comet.com/leothesouthafrican/test/e128fb0295d9434fab4f8884d5cd2065\n",
      "\n"
     ]
    },
    {
     "name": "stdout",
     "output_type": "stream",
     "text": [
      "Output Size: 105\n",
      "Model Loaded\n"
     ]
    }
   ],
   "source": [
    "#Initialising GereralTorch class\n",
    "\n",
    "#Setting the experiment with the API key stored in config.py\n",
    "experiment = Experiment(project_name = \"test\", workspace = \"leothesouthafrican\", api_key = config.api_key)\n",
    "\n",
    "#Report multiple hyperparameters using a dictionary\n",
    "hyper_params = {\n",
    "    'learning_rate': 0.001,\n",
    "    'epochs': 100,\n",
    "    'batch_size': 32,\n",
    "    'image_size': 112,\n",
    "    'image_channels': 3,\n",
    "    'output_size': len(os.listdir(data_path)) - 1,\n",
    "    'num_layers': 'na',\n",
    "    'train_val_test_split': [0.8, 0.1, 0.1],\n",
    "    'device': 'mps',\n",
    "    'model_name': 'MobileNet3 with CBAM inserted instead of SE starting from a fresh model with no preloaded weights.',\n",
    "    'criterion': 'CrossEntropyLoss',\n",
    "    'optimizer': 'Adam',\n",
    "    'dataset': 'Celebrities 20',\n",
    "    'best_model_path': 'output/MN3LCB_celebs105_t.pt',\n",
    "    'loaded_model_path': 'output/MN3LCB_celebs20.pt',\n",
    "    'comet_exp': experiment,\n",
    "    'save_at_end': True,\n",
    "}\n",
    "\n",
    "print(f'Output Size: {hyper_params[\"output_size\"]}')\n",
    "\n",
    "#Setting the device\n",
    "device = torch.device(hyper_params['device'])\n",
    "\n",
    "#checking if the model is to be a loaded one and if so loading it\n",
    "if hyper_params['loaded_model_path']:\n",
    "    state_dict = torch.load(hyper_params['loaded_model_path']) #Loading the state dict\n",
    "    model = MobileNetV3CBAM(mode='large') #Loading the model as a backbone\n",
    "    model.load_state_dict(state_dict, strict= True) #Loading the state dict into the model\n",
    "    print('Model Loaded')\n",
    "else:\n",
    "    # Loading a fresh model\n",
    "    model = MobileNetV3CBAM(mode='large')\n",
    "\n",
    "#passing the model to the device\n",
    "model.to(device)\n",
    "\n",
    "# Setting the loss function and optimizer\n",
    "criterion = nn.CrossEntropyLoss().to(device) #Setting the loss function\n",
    "optimizer = torch.optim.Adam(model.parameters(), lr=hyper_params['learning_rate']) #Setting the optimizer\n",
    "\n",
    "# Logging the hyperparameters to comet\n",
    "experiment.log_parameters(hyper_params)"
   ]
  },
  {
   "cell_type": "code",
   "execution_count": 3,
   "metadata": {},
   "outputs": [],
   "source": [
    "#defining transforms\n",
    "\n",
    "train_transform = transforms.Compose([\n",
    "                transforms.Resize((hyper_params['image_size'],hyper_params['image_size'])),\n",
    "                transforms.RandAugment(),\n",
    "                transforms.ToTensor(),\n",
    "                transforms.Normalize(mean = [0.485, 0.456, 0.406], std = [0.229, 0.224, 0.225])\n",
    "            ])\n",
    "\n",
    "test_transform = transforms.Compose([\n",
    "                transforms.Resize((hyper_params['image_size'],hyper_params['image_size'])),\n",
    "                transforms.ToTensor(),\n",
    "                transforms.Normalize(mean = [0.485, 0.456, 0.406], std = [0.229, 0.224, 0.225])\n",
    "            ])"
   ]
  },
  {
   "cell_type": "code",
   "execution_count": 4,
   "metadata": {},
   "outputs": [
    {
     "name": "stdout",
     "output_type": "stream",
     "text": [
      "Train dataset size: 14026, with 105 classes\n",
      "Val dataset size: 1754, with 105 classes\n",
      "Test dataset size: 1754, with 105 classes\n"
     ]
    }
   ],
   "source": [
    "# Creating the dataset\n",
    "train_dataset = mixedSets(data_path, train_transform, hyper_params['train_val_test_split']).get_train_dataset()\n",
    "val_dataset = mixedSets(data_path, test_transform, hyper_params['train_val_test_split']).get_val_dataset()\n",
    "test_dataset = mixedSets(data_path, test_transform, hyper_params['train_val_test_split']).get_test_dataset()\n",
    "\n",
    "# Creating the dataloaders\n",
    "train_loader = torch.utils.data.DataLoader(dataset=train_dataset,\n",
    "                                            batch_size=hyper_params['batch_size'],\n",
    "                                            shuffle=True,\n",
    "                                            num_workers=1)\n",
    "\n",
    "val_loader = torch.utils.data.DataLoader(dataset=val_dataset,\n",
    "                                            batch_size=hyper_params['batch_size'],\n",
    "                                            shuffle=True,\n",
    "                                            num_workers=1)\n",
    "\n",
    "test_loader = torch.utils.data.DataLoader(dataset=test_dataset,\n",
    "                                            batch_size=hyper_params['batch_size'],\n",
    "                                            shuffle=True,\n",
    "                                            num_workers=1)\n"
   ]
  },
  {
   "cell_type": "code",
   "execution_count": 5,
   "metadata": {},
   "outputs": [
    {
     "name": "stderr",
     "output_type": "stream",
     "text": [
      "Clipping input data to the valid range for imshow with RGB data ([0..1] for floats or [0..255] for integers).\n"
     ]
    },
    {
     "data": {
      "image/png": "[encoded data removed]",
      "text/plain": [
       "<Figure size 640x480 with 1 Axes>"
      ]
     },
     "metadata": {},
     "output_type": "display_data"
    },
    {
     "name": "stdout",
     "output_type": "stream",
     "text": [
      "tensor(56) tensor(53) tensor(72) tensor(0)\n"
     ]
    }
   ],
   "source": [
    "#display random images from the dataset\n",
    "def imshow(img):\n",
    "    img = img / 2 + 0.5     # unnormalize\n",
    "    npimg = img.numpy()\n",
    "    plt.imshow(np.transpose(npimg, (1, 2, 0)))\n",
    "    #drop axis labels\n",
    "    plt.axis('off')\n",
    "    plt.show()\n",
    "\n",
    "# get some random training images\n",
    "dataiter = iter(train_loader)\n",
    "images, labels = next(dataiter)\n",
    "\n",
    "# show images\n",
    "imshow(torchvision.utils.make_grid(images))\n",
    "# print labels\n",
    "print(' '.join('%5s' % labels[j] for j in range(4)))"
   ]
  },
  {
   "cell_type": "code",
   "execution_count": 6,
   "metadata": {},
   "outputs": [
    {
     "name": "stdout",
     "output_type": "stream",
     "text": [
      "Begin training...\n"
     ]
    },
    {
     "name": "stderr",
     "output_type": "stream",
     "text": [
      "100%|██████████| 439/439 [01:45<00:00,  4.16it/s]\n",
      "100%|██████████| 55/55 [00:08<00:00,  6.43it/s]\n"
     ]
    },
    {
     "name": "stdout",
     "output_type": "stream",
     "text": [
      "Best model saved at epoch 2 with accuracy 0.1129 and loss 3.8364.\n",
      "\tTrain Loss: 4.087 | Train Acc: 30.00%\n",
      "Epoch: 02 | Epoch Time: 1m 54s\n",
      "\t Val. Loss: 3.836 |  Val. Acc: 11.29%\n"
     ]
    },
    {
     "name": "stderr",
     "output_type": "stream",
     "text": [
      "100%|██████████| 439/439 [01:40<00:00,  4.38it/s]\n",
      "100%|██████████| 55/55 [00:07<00:00,  6.92it/s]\n"
     ]
    },
    {
     "name": "stdout",
     "output_type": "stream",
     "text": [
      "Best model saved at epoch 3 with accuracy 0.1722 and loss 3.482.\n",
      "\tTrain Loss: 3.853 | Train Acc: 10.00%\n",
      "Epoch: 03 | Epoch Time: 1m 48s\n",
      "\t Val. Loss: 3.482 |  Val. Acc: 17.22%\n"
     ]
    },
    {
     "name": "stderr",
     "output_type": "stream",
     "text": [
      "100%|██████████| 439/439 [01:45<00:00,  4.18it/s]\n",
      "100%|██████████| 55/55 [00:08<00:00,  6.80it/s]\n"
     ]
    },
    {
     "name": "stdout",
     "output_type": "stream",
     "text": [
      "Best model saved at epoch 4 with accuracy 0.2395 and loss 3.0236.\n",
      "\tTrain Loss: 2.708 | Train Acc: 20.00%\n",
      "Epoch: 04 | Epoch Time: 1m 53s\n",
      "\t Val. Loss: 3.024 |  Val. Acc: 23.95%\n"
     ]
    },
    {
     "name": "stderr",
     "output_type": "stream",
     "text": [
      "100%|██████████| 439/439 [01:44<00:00,  4.20it/s]\n",
      "100%|██████████| 55/55 [00:07<00:00,  6.89it/s]\n"
     ]
    },
    {
     "name": "stdout",
     "output_type": "stream",
     "text": [
      "Best model saved at epoch 5 with accuracy 0.301 and loss 2.776.\n",
      "\tTrain Loss: 2.548 | Train Acc: 40.00%\n",
      "Epoch: 05 | Epoch Time: 1m 52s\n",
      "\t Val. Loss: 2.776 |  Val. Acc: 30.10%\n"
     ]
    },
    {
     "name": "stderr",
     "output_type": "stream",
     "text": [
      "100%|██████████| 439/439 [01:39<00:00,  4.42it/s]\n",
      "100%|██████████| 55/55 [00:08<00:00,  6.50it/s]\n"
     ]
    },
    {
     "name": "stdout",
     "output_type": "stream",
     "text": [
      "Best model saved at epoch 6 with accuracy 0.3347 and loss 2.5739.\n",
      "\tTrain Loss: 3.653 | Train Acc: 20.00%\n",
      "Epoch: 06 | Epoch Time: 1m 47s\n",
      "\t Val. Loss: 2.574 |  Val. Acc: 33.47%\n"
     ]
    },
    {
     "name": "stderr",
     "output_type": "stream",
     "text": [
      "100%|██████████| 439/439 [01:31<00:00,  4.82it/s]\n",
      "100%|██████████| 55/55 [00:07<00:00,  7.26it/s]\n"
     ]
    },
    {
     "name": "stdout",
     "output_type": "stream",
     "text": [
      "Best model saved at epoch 7 with accuracy 0.3387 and loss 2.5861.\n",
      "\tTrain Loss: 2.604 | Train Acc: 20.00%\n",
      "Epoch: 07 | Epoch Time: 1m 38s\n",
      "\t Val. Loss: 2.586 |  Val. Acc: 33.87%\n"
     ]
    },
    {
     "name": "stderr",
     "output_type": "stream",
     "text": [
      "100%|██████████| 439/439 [01:34<00:00,  4.66it/s]\n",
      "100%|██████████| 55/55 [00:07<00:00,  7.25it/s]\n"
     ]
    },
    {
     "name": "stdout",
     "output_type": "stream",
     "text": [
      "Best model saved at epoch 8 with accuracy 0.4111 and loss 2.3357.\n",
      "\tTrain Loss: 2.856 | Train Acc: 30.00%\n",
      "Epoch: 08 | Epoch Time: 1m 42s\n",
      "\t Val. Loss: 2.336 |  Val. Acc: 41.11%\n"
     ]
    },
    {
     "name": "stderr",
     "output_type": "stream",
     "text": [
      "100%|██████████| 439/439 [01:36<00:00,  4.53it/s]\n",
      "100%|██████████| 55/55 [00:07<00:00,  7.31it/s]\n"
     ]
    },
    {
     "name": "stdout",
     "output_type": "stream",
     "text": [
      "Best model saved at epoch 9 with accuracy 0.4219 and loss 2.2711.\n",
      "\tTrain Loss: 1.856 | Train Acc: 60.00%\n",
      "Epoch: 09 | Epoch Time: 1m 44s\n",
      "\t Val. Loss: 2.271 |  Val. Acc: 42.19%\n"
     ]
    },
    {
     "name": "stderr",
     "output_type": "stream",
     "text": [
      "100%|██████████| 439/439 [01:31<00:00,  4.79it/s]\n",
      "100%|██████████| 55/55 [00:07<00:00,  7.30it/s]\n"
     ]
    },
    {
     "name": "stdout",
     "output_type": "stream",
     "text": [
      "\tTrain Loss: 1.203 | Train Acc: 60.00%\n",
      "Epoch: 10 | Epoch Time: 1m 39s\n",
      "\t Val. Loss: 2.256 |  Val. Acc: 40.88%\n"
     ]
    },
    {
     "name": "stderr",
     "output_type": "stream",
     "text": [
      "100%|██████████| 439/439 [01:33<00:00,  4.71it/s]\n",
      "100%|██████████| 55/55 [00:07<00:00,  7.22it/s]\n"
     ]
    },
    {
     "name": "stdout",
     "output_type": "stream",
     "text": [
      "Best model saved at epoch 11 with accuracy 0.4772 and loss 2.0688.\n",
      "\tTrain Loss: 2.183 | Train Acc: 50.00%\n",
      "Epoch: 11 | Epoch Time: 1m 40s\n",
      "\t Val. Loss: 2.069 |  Val. Acc: 47.72%\n"
     ]
    },
    {
     "name": "stderr",
     "output_type": "stream",
     "text": [
      "100%|██████████| 439/439 [01:36<00:00,  4.55it/s]\n",
      "100%|██████████| 55/55 [00:07<00:00,  7.17it/s]\n"
     ]
    },
    {
     "name": "stdout",
     "output_type": "stream",
     "text": [
      "\tTrain Loss: 1.655 | Train Acc: 40.00%\n",
      "Epoch: 12 | Epoch Time: 1m 44s\n",
      "\t Val. Loss: 2.057 |  Val. Acc: 46.92%\n"
     ]
    },
    {
     "name": "stderr",
     "output_type": "stream",
     "text": [
      "100%|██████████| 439/439 [01:30<00:00,  4.85it/s]\n",
      "100%|██████████| 55/55 [00:07<00:00,  7.33it/s]\n"
     ]
    },
    {
     "name": "stdout",
     "output_type": "stream",
     "text": [
      "Best model saved at epoch 13 with accuracy 0.4909 and loss 1.9943.\n",
      "\tTrain Loss: 2.415 | Train Acc: 20.00%\n",
      "Epoch: 13 | Epoch Time: 1m 38s\n",
      "\t Val. Loss: 1.994 |  Val. Acc: 49.09%\n"
     ]
    },
    {
     "name": "stderr",
     "output_type": "stream",
     "text": [
      "100%|██████████| 439/439 [01:29<00:00,  4.93it/s]\n",
      "100%|██████████| 55/55 [00:07<00:00,  7.34it/s]\n"
     ]
    },
    {
     "name": "stdout",
     "output_type": "stream",
     "text": [
      "Best model saved at epoch 14 with accuracy 0.5086 and loss 1.9015.\n",
      "\tTrain Loss: 1.649 | Train Acc: 60.00%\n",
      "Epoch: 14 | Epoch Time: 1m 36s\n",
      "\t Val. Loss: 1.902 |  Val. Acc: 50.86%\n"
     ]
    },
    {
     "name": "stderr",
     "output_type": "stream",
     "text": [
      "100%|██████████| 439/439 [01:29<00:00,  4.92it/s]\n",
      "100%|██████████| 55/55 [00:07<00:00,  7.35it/s]\n"
     ]
    },
    {
     "name": "stdout",
     "output_type": "stream",
     "text": [
      "Best model saved at epoch 15 with accuracy 0.5154 and loss 1.9761.\n",
      "\tTrain Loss: 2.939 | Train Acc: 20.00%\n",
      "Epoch: 15 | Epoch Time: 1m 36s\n",
      "\t Val. Loss: 1.976 |  Val. Acc: 51.54%\n"
     ]
    },
    {
     "name": "stderr",
     "output_type": "stream",
     "text": [
      "100%|██████████| 439/439 [01:28<00:00,  4.94it/s]\n",
      "100%|██████████| 55/55 [00:07<00:00,  7.35it/s]\n"
     ]
    },
    {
     "name": "stdout",
     "output_type": "stream",
     "text": [
      "Best model saved at epoch 16 with accuracy 0.5194 and loss 1.9513.\n",
      "\tTrain Loss: 1.310 | Train Acc: 60.00%\n",
      "Epoch: 16 | Epoch Time: 1m 36s\n",
      "\t Val. Loss: 1.951 |  Val. Acc: 51.94%\n"
     ]
    },
    {
     "name": "stderr",
     "output_type": "stream",
     "text": [
      "100%|██████████| 439/439 [01:28<00:00,  4.97it/s]\n",
      "100%|██████████| 55/55 [00:07<00:00,  7.33it/s]\n"
     ]
    },
    {
     "name": "stdout",
     "output_type": "stream",
     "text": [
      "\tTrain Loss: 1.358 | Train Acc: 70.00%\n",
      "Epoch: 17 | Epoch Time: 1m 35s\n",
      "\t Val. Loss: 2.081 |  Val. Acc: 49.66%\n"
     ]
    },
    {
     "name": "stderr",
     "output_type": "stream",
     "text": [
      "100%|██████████| 439/439 [01:29<00:00,  4.92it/s]\n",
      "100%|██████████| 55/55 [00:07<00:00,  7.36it/s]\n"
     ]
    },
    {
     "name": "stdout",
     "output_type": "stream",
     "text": [
      "Best model saved at epoch 18 with accuracy 0.541 and loss 1.8297.\n",
      "\tTrain Loss: 1.229 | Train Acc: 50.00%\n",
      "Epoch: 18 | Epoch Time: 1m 36s\n",
      "\t Val. Loss: 1.830 |  Val. Acc: 54.10%\n"
     ]
    },
    {
     "name": "stderr",
     "output_type": "stream",
     "text": [
      "100%|██████████| 439/439 [01:28<00:00,  4.95it/s]\n",
      "100%|██████████| 55/55 [00:07<00:00,  7.32it/s]\n"
     ]
    },
    {
     "name": "stdout",
     "output_type": "stream",
     "text": [
      "\tTrain Loss: 0.967 | Train Acc: 60.00%\n",
      "Epoch: 19 | Epoch Time: 1m 36s\n",
      "\t Val. Loss: 1.965 |  Val. Acc: 52.74%\n"
     ]
    },
    {
     "name": "stderr",
     "output_type": "stream",
     "text": [
      "100%|██████████| 439/439 [01:28<00:00,  4.94it/s]\n",
      "100%|██████████| 55/55 [00:07<00:00,  7.34it/s]\n"
     ]
    },
    {
     "name": "stdout",
     "output_type": "stream",
     "text": [
      "\tTrain Loss: 1.795 | Train Acc: 50.00%\n",
      "Epoch: 20 | Epoch Time: 1m 36s\n",
      "\t Val. Loss: 1.941 |  Val. Acc: 53.59%\n"
     ]
    },
    {
     "name": "stderr",
     "output_type": "stream",
     "text": [
      "100%|██████████| 439/439 [01:29<00:00,  4.92it/s]\n",
      "100%|██████████| 55/55 [00:07<00:00,  7.33it/s]\n"
     ]
    },
    {
     "name": "stdout",
     "output_type": "stream",
     "text": [
      "Best model saved at epoch 21 with accuracy 0.5428 and loss 1.8655.\n",
      "\tTrain Loss: 0.366 | Train Acc: 90.00%\n",
      "Epoch: 21 | Epoch Time: 1m 36s\n",
      "\t Val. Loss: 1.866 |  Val. Acc: 54.28%\n"
     ]
    },
    {
     "name": "stderr",
     "output_type": "stream",
     "text": [
      "100%|██████████| 439/439 [01:29<00:00,  4.92it/s]\n",
      "100%|██████████| 55/55 [00:07<00:00,  7.35it/s]\n"
     ]
    },
    {
     "name": "stdout",
     "output_type": "stream",
     "text": [
      "Best model saved at epoch 22 with accuracy 0.5525 and loss 1.9172.\n",
      "\tTrain Loss: 0.632 | Train Acc: 80.00%\n",
      "Epoch: 22 | Epoch Time: 1m 36s\n",
      "\t Val. Loss: 1.917 |  Val. Acc: 55.25%\n"
     ]
    },
    {
     "name": "stderr",
     "output_type": "stream",
     "text": [
      "100%|██████████| 439/439 [01:29<00:00,  4.92it/s]\n",
      "100%|██████████| 55/55 [00:07<00:00,  7.36it/s]\n"
     ]
    },
    {
     "name": "stdout",
     "output_type": "stream",
     "text": [
      "\tTrain Loss: 1.889 | Train Acc: 40.00%\n",
      "Epoch: 23 | Epoch Time: 1m 36s\n",
      "\t Val. Loss: 1.885 |  Val. Acc: 54.85%\n"
     ]
    },
    {
     "name": "stderr",
     "output_type": "stream",
     "text": [
      "100%|██████████| 439/439 [01:29<00:00,  4.89it/s]\n",
      "100%|██████████| 55/55 [00:07<00:00,  7.33it/s]\n"
     ]
    },
    {
     "name": "stdout",
     "output_type": "stream",
     "text": [
      "\tTrain Loss: 0.856 | Train Acc: 80.00%\n",
      "Epoch: 24 | Epoch Time: 1m 37s\n",
      "\t Val. Loss: 1.868 |  Val. Acc: 55.13%\n"
     ]
    },
    {
     "name": "stderr",
     "output_type": "stream",
     "text": [
      "100%|██████████| 439/439 [01:29<00:00,  4.91it/s]\n",
      "100%|██████████| 55/55 [00:07<00:00,  7.33it/s]\n"
     ]
    },
    {
     "name": "stdout",
     "output_type": "stream",
     "text": [
      "\tTrain Loss: 0.959 | Train Acc: 70.00%\n",
      "Epoch: 25 | Epoch Time: 1m 36s\n",
      "\t Val. Loss: 1.957 |  Val. Acc: 53.88%\n"
     ]
    },
    {
     "name": "stderr",
     "output_type": "stream",
     "text": [
      "100%|██████████| 439/439 [01:32<00:00,  4.77it/s]\n",
      "100%|██████████| 55/55 [00:07<00:00,  7.33it/s]\n"
     ]
    },
    {
     "name": "stdout",
     "output_type": "stream",
     "text": [
      "\tTrain Loss: 0.902 | Train Acc: 80.00%\n",
      "Epoch: 26 | Epoch Time: 1m 39s\n",
      "\t Val. Loss: 1.926 |  Val. Acc: 54.39%\n"
     ]
    },
    {
     "name": "stderr",
     "output_type": "stream",
     "text": [
      "100%|██████████| 439/439 [01:32<00:00,  4.74it/s]\n",
      "100%|██████████| 55/55 [00:07<00:00,  7.32it/s]\n"
     ]
    },
    {
     "name": "stdout",
     "output_type": "stream",
     "text": [
      "Best model saved at epoch 27 with accuracy 0.5633 and loss 1.8544.\n",
      "\tTrain Loss: 0.483 | Train Acc: 80.00%\n",
      "Epoch: 27 | Epoch Time: 1m 40s\n",
      "\t Val. Loss: 1.854 |  Val. Acc: 56.33%\n"
     ]
    },
    {
     "name": "stderr",
     "output_type": "stream",
     "text": [
      "100%|██████████| 439/439 [01:29<00:00,  4.90it/s]\n",
      "100%|██████████| 55/55 [00:07<00:00,  7.32it/s]\n"
     ]
    },
    {
     "name": "stdout",
     "output_type": "stream",
     "text": [
      "Best model saved at epoch 28 with accuracy 0.5781 and loss 1.8547.\n",
      "\tTrain Loss: 1.054 | Train Acc: 50.00%\n",
      "Epoch: 28 | Epoch Time: 1m 37s\n",
      "\t Val. Loss: 1.855 |  Val. Acc: 57.81%\n"
     ]
    },
    {
     "name": "stderr",
     "output_type": "stream",
     "text": [
      "100%|██████████| 439/439 [01:29<00:00,  4.90it/s]\n",
      "100%|██████████| 55/55 [00:07<00:00,  7.32it/s]\n"
     ]
    },
    {
     "name": "stdout",
     "output_type": "stream",
     "text": [
      "\tTrain Loss: 1.050 | Train Acc: 70.00%\n",
      "Epoch: 29 | Epoch Time: 1m 37s\n",
      "\t Val. Loss: 1.891 |  Val. Acc: 55.59%\n"
     ]
    },
    {
     "name": "stderr",
     "output_type": "stream",
     "text": [
      "100%|██████████| 439/439 [01:29<00:00,  4.91it/s]\n",
      "100%|██████████| 55/55 [00:07<00:00,  7.42it/s]\n"
     ]
    },
    {
     "name": "stdout",
     "output_type": "stream",
     "text": [
      "\tTrain Loss: 0.663 | Train Acc: 80.00%\n",
      "Epoch: 30 | Epoch Time: 1m 36s\n",
      "\t Val. Loss: 1.972 |  Val. Acc: 54.39%\n"
     ]
    },
    {
     "name": "stderr",
     "output_type": "stream",
     "text": [
      "100%|██████████| 439/439 [01:29<00:00,  4.91it/s]\n",
      "100%|██████████| 55/55 [00:07<00:00,  7.33it/s]\n"
     ]
    },
    {
     "name": "stdout",
     "output_type": "stream",
     "text": [
      "\tTrain Loss: 0.696 | Train Acc: 80.00%\n",
      "Epoch: 31 | Epoch Time: 1m 36s\n",
      "\t Val. Loss: 2.018 |  Val. Acc: 57.30%\n"
     ]
    },
    {
     "name": "stderr",
     "output_type": "stream",
     "text": [
      "100%|██████████| 439/439 [01:29<00:00,  4.92it/s]\n",
      "100%|██████████| 55/55 [00:07<00:00,  7.33it/s]\n"
     ]
    },
    {
     "name": "stdout",
     "output_type": "stream",
     "text": [
      "\tTrain Loss: 0.730 | Train Acc: 80.00%\n",
      "Epoch: 32 | Epoch Time: 1m 36s\n",
      "\t Val. Loss: 1.814 |  Val. Acc: 57.64%\n"
     ]
    },
    {
     "name": "stderr",
     "output_type": "stream",
     "text": [
      "100%|██████████| 439/439 [01:29<00:00,  4.93it/s]\n",
      "100%|██████████| 55/55 [00:07<00:00,  7.34it/s]\n"
     ]
    },
    {
     "name": "stdout",
     "output_type": "stream",
     "text": [
      "Best model saved at epoch 33 with accuracy 0.5838 and loss 1.8863.\n",
      "\tTrain Loss: 1.464 | Train Acc: 40.00%\n",
      "Epoch: 33 | Epoch Time: 1m 36s\n",
      "\t Val. Loss: 1.886 |  Val. Acc: 58.38%\n"
     ]
    },
    {
     "name": "stderr",
     "output_type": "stream",
     "text": [
      "100%|██████████| 439/439 [01:28<00:00,  4.95it/s]\n",
      "100%|██████████| 55/55 [00:07<00:00,  7.37it/s]\n"
     ]
    },
    {
     "name": "stdout",
     "output_type": "stream",
     "text": [
      "Best model saved at epoch 34 with accuracy 0.5855 and loss 1.8898.\n",
      "\tTrain Loss: 0.974 | Train Acc: 70.00%\n",
      "Epoch: 34 | Epoch Time: 1m 36s\n",
      "\t Val. Loss: 1.890 |  Val. Acc: 58.55%\n"
     ]
    },
    {
     "name": "stderr",
     "output_type": "stream",
     "text": [
      "100%|██████████| 439/439 [01:28<00:00,  4.95it/s]\n",
      "100%|██████████| 55/55 [00:07<00:00,  7.35it/s]\n"
     ]
    },
    {
     "name": "stdout",
     "output_type": "stream",
     "text": [
      "Best model saved at epoch 35 with accuracy 0.5884 and loss 1.9563.\n",
      "\tTrain Loss: 0.743 | Train Acc: 80.00%\n",
      "Epoch: 35 | Epoch Time: 1m 36s\n",
      "\t Val. Loss: 1.956 |  Val. Acc: 58.84%\n"
     ]
    },
    {
     "name": "stderr",
     "output_type": "stream",
     "text": [
      "100%|██████████| 439/439 [01:32<00:00,  4.75it/s]\n",
      "100%|██████████| 55/55 [00:07<00:00,  7.23it/s]\n"
     ]
    },
    {
     "name": "stdout",
     "output_type": "stream",
     "text": [
      "\tTrain Loss: 0.923 | Train Acc: 80.00%\n",
      "Epoch: 36 | Epoch Time: 1m 40s\n",
      "\t Val. Loss: 1.805 |  Val. Acc: 58.10%\n"
     ]
    },
    {
     "name": "stderr",
     "output_type": "stream",
     "text": [
      "100%|██████████| 439/439 [01:31<00:00,  4.81it/s]\n",
      "100%|██████████| 55/55 [00:07<00:00,  7.30it/s]\n"
     ]
    },
    {
     "name": "stdout",
     "output_type": "stream",
     "text": [
      "Best model saved at epoch 37 with accuracy 0.6021 and loss 1.7956.\n",
      "\tTrain Loss: 0.875 | Train Acc: 80.00%\n",
      "Epoch: 37 | Epoch Time: 1m 38s\n",
      "\t Val. Loss: 1.796 |  Val. Acc: 60.21%\n"
     ]
    },
    {
     "name": "stderr",
     "output_type": "stream",
     "text": [
      "100%|██████████| 439/439 [01:30<00:00,  4.83it/s]\n",
      "100%|██████████| 55/55 [00:07<00:00,  7.17it/s]\n"
     ]
    },
    {
     "name": "stdout",
     "output_type": "stream",
     "text": [
      "\tTrain Loss: 0.266 | Train Acc: 100.00%\n",
      "Epoch: 38 | Epoch Time: 1m 38s\n",
      "\t Val. Loss: 1.797 |  Val. Acc: 60.21%\n"
     ]
    },
    {
     "name": "stderr",
     "output_type": "stream",
     "text": [
      "100%|██████████| 439/439 [01:29<00:00,  4.92it/s]\n",
      "100%|██████████| 55/55 [00:07<00:00,  7.34it/s]\n"
     ]
    },
    {
     "name": "stdout",
     "output_type": "stream",
     "text": [
      "\tTrain Loss: 1.158 | Train Acc: 70.00%\n",
      "Epoch: 39 | Epoch Time: 1m 36s\n",
      "\t Val. Loss: 1.859 |  Val. Acc: 58.49%\n"
     ]
    },
    {
     "name": "stderr",
     "output_type": "stream",
     "text": [
      "100%|██████████| 439/439 [01:29<00:00,  4.91it/s]\n",
      "100%|██████████| 55/55 [00:07<00:00,  7.35it/s]\n"
     ]
    },
    {
     "name": "stdout",
     "output_type": "stream",
     "text": [
      "Best model saved at epoch 40 with accuracy 0.6112 and loss 1.772.\n",
      "\tTrain Loss: 0.718 | Train Acc: 80.00%\n",
      "Epoch: 40 | Epoch Time: 1m 36s\n",
      "\t Val. Loss: 1.772 |  Val. Acc: 61.12%\n"
     ]
    },
    {
     "name": "stderr",
     "output_type": "stream",
     "text": [
      "100%|██████████| 439/439 [01:30<00:00,  4.86it/s]\n",
      "100%|██████████| 55/55 [00:07<00:00,  7.35it/s]\n"
     ]
    },
    {
     "name": "stdout",
     "output_type": "stream",
     "text": [
      "\tTrain Loss: 0.391 | Train Acc: 90.00%\n",
      "Epoch: 41 | Epoch Time: 1m 37s\n",
      "\t Val. Loss: 1.971 |  Val. Acc: 58.38%\n"
     ]
    },
    {
     "name": "stderr",
     "output_type": "stream",
     "text": [
      "100%|██████████| 439/439 [01:29<00:00,  4.93it/s]\n",
      "100%|██████████| 55/55 [00:07<00:00,  7.32it/s]\n"
     ]
    },
    {
     "name": "stdout",
     "output_type": "stream",
     "text": [
      "\tTrain Loss: 0.015 | Train Acc: 100.00%\n",
      "Epoch: 42 | Epoch Time: 1m 36s\n",
      "\t Val. Loss: 1.981 |  Val. Acc: 58.10%\n"
     ]
    },
    {
     "name": "stderr",
     "output_type": "stream",
     "text": [
      "100%|██████████| 439/439 [01:30<00:00,  4.85it/s]\n",
      "100%|██████████| 55/55 [00:07<00:00,  7.33it/s]\n"
     ]
    },
    {
     "name": "stdout",
     "output_type": "stream",
     "text": [
      "\tTrain Loss: 0.176 | Train Acc: 90.00%\n",
      "Epoch: 43 | Epoch Time: 1m 38s\n",
      "\t Val. Loss: 1.950 |  Val. Acc: 59.52%\n"
     ]
    },
    {
     "name": "stderr",
     "output_type": "stream",
     "text": [
      "100%|██████████| 439/439 [01:31<00:00,  4.81it/s]\n",
      "100%|██████████| 55/55 [00:07<00:00,  7.28it/s]\n"
     ]
    },
    {
     "name": "stdout",
     "output_type": "stream",
     "text": [
      "\tTrain Loss: 0.497 | Train Acc: 90.00%\n",
      "Epoch: 44 | Epoch Time: 1m 38s\n",
      "\t Val. Loss: 1.949 |  Val. Acc: 59.41%\n"
     ]
    },
    {
     "name": "stderr",
     "output_type": "stream",
     "text": [
      "100%|██████████| 439/439 [01:33<00:00,  4.67it/s]\n",
      "100%|██████████| 55/55 [00:07<00:00,  7.27it/s]\n"
     ]
    },
    {
     "name": "stdout",
     "output_type": "stream",
     "text": [
      "\tTrain Loss: 0.159 | Train Acc: 100.00%\n",
      "Epoch: 45 | Epoch Time: 1m 41s\n",
      "\t Val. Loss: 2.017 |  Val. Acc: 57.92%\n"
     ]
    },
    {
     "name": "stderr",
     "output_type": "stream",
     "text": [
      "100%|██████████| 439/439 [01:34<00:00,  4.66it/s]\n",
      "100%|██████████| 55/55 [00:07<00:00,  7.28it/s]\n"
     ]
    },
    {
     "name": "stdout",
     "output_type": "stream",
     "text": [
      "\tTrain Loss: 0.182 | Train Acc: 100.00%\n",
      "Epoch: 46 | Epoch Time: 1m 41s\n",
      "\t Val. Loss: 2.008 |  Val. Acc: 58.49%\n"
     ]
    },
    {
     "name": "stderr",
     "output_type": "stream",
     "text": [
      "100%|██████████| 439/439 [01:36<00:00,  4.57it/s]\n",
      "100%|██████████| 55/55 [00:07<00:00,  7.30it/s]\n"
     ]
    },
    {
     "name": "stdout",
     "output_type": "stream",
     "text": [
      "\tTrain Loss: 0.518 | Train Acc: 80.00%\n",
      "Epoch: 47 | Epoch Time: 1m 43s\n",
      "\t Val. Loss: 1.983 |  Val. Acc: 57.64%\n"
     ]
    },
    {
     "name": "stderr",
     "output_type": "stream",
     "text": [
      "100%|██████████| 439/439 [01:34<00:00,  4.63it/s]\n",
      "100%|██████████| 55/55 [00:07<00:00,  7.29it/s]\n"
     ]
    },
    {
     "name": "stdout",
     "output_type": "stream",
     "text": [
      "\tTrain Loss: 0.151 | Train Acc: 100.00%\n",
      "Epoch: 48 | Epoch Time: 1m 42s\n",
      "\t Val. Loss: 1.867 |  Val. Acc: 60.09%\n"
     ]
    },
    {
     "name": "stderr",
     "output_type": "stream",
     "text": [
      "100%|██████████| 439/439 [01:34<00:00,  4.64it/s]\n",
      "100%|██████████| 55/55 [00:07<00:00,  7.31it/s]\n"
     ]
    },
    {
     "name": "stdout",
     "output_type": "stream",
     "text": [
      "\tTrain Loss: 0.082 | Train Acc: 100.00%\n",
      "Epoch: 49 | Epoch Time: 1m 42s\n",
      "\t Val. Loss: 1.934 |  Val. Acc: 59.64%\n"
     ]
    },
    {
     "name": "stderr",
     "output_type": "stream",
     "text": [
      "100%|██████████| 439/439 [01:34<00:00,  4.64it/s]\n",
      "100%|██████████| 55/55 [00:07<00:00,  7.30it/s]\n"
     ]
    },
    {
     "name": "stdout",
     "output_type": "stream",
     "text": [
      "\tTrain Loss: 0.304 | Train Acc: 90.00%\n",
      "Epoch: 50 | Epoch Time: 1m 42s\n",
      "\t Val. Loss: 1.990 |  Val. Acc: 59.24%\n"
     ]
    },
    {
     "name": "stderr",
     "output_type": "stream",
     "text": [
      "100%|██████████| 439/439 [01:34<00:00,  4.63it/s]\n",
      "100%|██████████| 55/55 [00:07<00:00,  7.20it/s]\n"
     ]
    },
    {
     "name": "stdout",
     "output_type": "stream",
     "text": [
      "\tTrain Loss: 0.565 | Train Acc: 70.00%\n",
      "Epoch: 51 | Epoch Time: 1m 42s\n",
      "\t Val. Loss: 1.871 |  Val. Acc: 59.98%\n"
     ]
    },
    {
     "name": "stderr",
     "output_type": "stream",
     "text": [
      "100%|██████████| 439/439 [01:34<00:00,  4.64it/s]\n",
      "100%|██████████| 55/55 [00:07<00:00,  7.30it/s]\n"
     ]
    },
    {
     "name": "stdout",
     "output_type": "stream",
     "text": [
      "\tTrain Loss: 1.923 | Train Acc: 50.00%\n",
      "Epoch: 52 | Epoch Time: 1m 42s\n",
      "\t Val. Loss: 1.961 |  Val. Acc: 59.81%\n"
     ]
    },
    {
     "name": "stderr",
     "output_type": "stream",
     "text": [
      "100%|██████████| 439/439 [01:34<00:00,  4.64it/s]\n",
      "100%|██████████| 55/55 [00:07<00:00,  7.24it/s]\n"
     ]
    },
    {
     "name": "stdout",
     "output_type": "stream",
     "text": [
      "Best model saved at epoch 53 with accuracy 0.6123 and loss 1.772.\n",
      "\tTrain Loss: 0.698 | Train Acc: 70.00%\n",
      "Epoch: 53 | Epoch Time: 1m 42s\n",
      "\t Val. Loss: 1.772 |  Val. Acc: 61.23%\n"
     ]
    },
    {
     "name": "stderr",
     "output_type": "stream",
     "text": [
      "100%|██████████| 439/439 [01:35<00:00,  4.59it/s]\n",
      "100%|██████████| 55/55 [00:07<00:00,  7.39it/s]\n"
     ]
    },
    {
     "name": "stdout",
     "output_type": "stream",
     "text": [
      "Best model saved at epoch 54 with accuracy 0.6186 and loss 1.9414.\n",
      "\tTrain Loss: 0.653 | Train Acc: 70.00%\n",
      "Epoch: 54 | Epoch Time: 1m 43s\n",
      "\t Val. Loss: 1.941 |  Val. Acc: 61.86%\n"
     ]
    },
    {
     "name": "stderr",
     "output_type": "stream",
     "text": [
      "100%|██████████| 439/439 [01:45<00:00,  4.15it/s]\n",
      "100%|██████████| 55/55 [00:07<00:00,  7.05it/s]\n"
     ]
    },
    {
     "name": "stdout",
     "output_type": "stream",
     "text": [
      "\tTrain Loss: 0.352 | Train Acc: 90.00%\n",
      "Epoch: 55 | Epoch Time: 1m 53s\n",
      "\t Val. Loss: 1.974 |  Val. Acc: 60.03%\n"
     ]
    },
    {
     "name": "stderr",
     "output_type": "stream",
     "text": [
      "100%|██████████| 439/439 [01:46<00:00,  4.12it/s]\n",
      "100%|██████████| 55/55 [00:07<00:00,  7.07it/s]\n"
     ]
    },
    {
     "name": "stdout",
     "output_type": "stream",
     "text": [
      "\tTrain Loss: 0.443 | Train Acc: 90.00%\n",
      "Epoch: 56 | Epoch Time: 1m 54s\n",
      "\t Val. Loss: 1.850 |  Val. Acc: 60.83%\n"
     ]
    },
    {
     "name": "stderr",
     "output_type": "stream",
     "text": [
      "100%|██████████| 439/439 [01:46<00:00,  4.12it/s]\n",
      "100%|██████████| 55/55 [00:07<00:00,  7.06it/s]\n"
     ]
    },
    {
     "name": "stdout",
     "output_type": "stream",
     "text": [
      "\tTrain Loss: 0.127 | Train Acc: 100.00%\n",
      "Epoch: 57 | Epoch Time: 1m 54s\n",
      "\t Val. Loss: 1.895 |  Val. Acc: 59.52%\n"
     ]
    },
    {
     "name": "stderr",
     "output_type": "stream",
     "text": [
      "100%|██████████| 439/439 [01:46<00:00,  4.13it/s]\n",
      "100%|██████████| 55/55 [00:07<00:00,  7.07it/s]\n"
     ]
    },
    {
     "name": "stdout",
     "output_type": "stream",
     "text": [
      "\tTrain Loss: 0.051 | Train Acc: 100.00%\n",
      "Epoch: 58 | Epoch Time: 1m 54s\n",
      "\t Val. Loss: 1.852 |  Val. Acc: 60.60%\n"
     ]
    },
    {
     "name": "stderr",
     "output_type": "stream",
     "text": [
      "100%|██████████| 439/439 [01:46<00:00,  4.14it/s]\n",
      "100%|██████████| 55/55 [00:07<00:00,  7.06it/s]\n"
     ]
    },
    {
     "name": "stdout",
     "output_type": "stream",
     "text": [
      "\tTrain Loss: 0.443 | Train Acc: 90.00%\n",
      "Epoch: 59 | Epoch Time: 1m 53s\n",
      "\t Val. Loss: 1.785 |  Val. Acc: 61.46%\n"
     ]
    },
    {
     "name": "stderr",
     "output_type": "stream",
     "text": [
      "100%|██████████| 439/439 [01:45<00:00,  4.15it/s]\n",
      "100%|██████████| 55/55 [00:07<00:00,  6.98it/s]\n"
     ]
    },
    {
     "name": "stdout",
     "output_type": "stream",
     "text": [
      "\tTrain Loss: 0.202 | Train Acc: 100.00%\n",
      "Epoch: 60 | Epoch Time: 1m 53s\n",
      "\t Val. Loss: 2.114 |  Val. Acc: 60.09%\n"
     ]
    },
    {
     "name": "stderr",
     "output_type": "stream",
     "text": [
      "100%|██████████| 439/439 [01:45<00:00,  4.15it/s]\n",
      "100%|██████████| 55/55 [00:07<00:00,  7.06it/s]\n"
     ]
    },
    {
     "name": "stdout",
     "output_type": "stream",
     "text": [
      "\tTrain Loss: 0.813 | Train Acc: 60.00%\n",
      "Epoch: 61 | Epoch Time: 1m 53s\n",
      "\t Val. Loss: 1.840 |  Val. Acc: 60.26%\n"
     ]
    },
    {
     "name": "stderr",
     "output_type": "stream",
     "text": [
      "100%|██████████| 439/439 [01:45<00:00,  4.15it/s]\n",
      "100%|██████████| 55/55 [00:07<00:00,  7.05it/s]\n"
     ]
    },
    {
     "name": "stdout",
     "output_type": "stream",
     "text": [
      "\tTrain Loss: 0.084 | Train Acc: 100.00%\n",
      "Epoch: 62 | Epoch Time: 1m 53s\n",
      "\t Val. Loss: 2.028 |  Val. Acc: 61.23%\n"
     ]
    },
    {
     "name": "stderr",
     "output_type": "stream",
     "text": [
      "100%|██████████| 439/439 [01:45<00:00,  4.15it/s]\n",
      "100%|██████████| 55/55 [00:07<00:00,  7.03it/s]\n"
     ]
    },
    {
     "name": "stdout",
     "output_type": "stream",
     "text": [
      "\tTrain Loss: 0.436 | Train Acc: 80.00%\n",
      "Epoch: 63 | Epoch Time: 1m 53s\n",
      "\t Val. Loss: 2.004 |  Val. Acc: 61.23%\n"
     ]
    },
    {
     "name": "stderr",
     "output_type": "stream",
     "text": [
      "100%|██████████| 439/439 [01:45<00:00,  4.16it/s]\n",
      "100%|██████████| 55/55 [00:07<00:00,  7.00it/s]\n"
     ]
    },
    {
     "name": "stdout",
     "output_type": "stream",
     "text": [
      "\tTrain Loss: 0.694 | Train Acc: 80.00%\n",
      "Epoch: 64 | Epoch Time: 1m 53s\n",
      "\t Val. Loss: 1.888 |  Val. Acc: 61.00%\n"
     ]
    },
    {
     "name": "stderr",
     "output_type": "stream",
     "text": [
      "100%|██████████| 439/439 [01:45<00:00,  4.17it/s]\n",
      "100%|██████████| 55/55 [00:07<00:00,  7.03it/s]\n"
     ]
    },
    {
     "name": "stdout",
     "output_type": "stream",
     "text": [
      "Best model saved at epoch 65 with accuracy 0.6209 and loss 2.0282.\n",
      "\tTrain Loss: 0.340 | Train Acc: 90.00%\n",
      "Epoch: 65 | Epoch Time: 1m 53s\n",
      "\t Val. Loss: 2.028 |  Val. Acc: 62.09%\n"
     ]
    },
    {
     "name": "stderr",
     "output_type": "stream",
     "text": [
      "100%|██████████| 439/439 [01:45<00:00,  4.16it/s]\n",
      "100%|██████████| 55/55 [00:07<00:00,  7.06it/s]\n"
     ]
    },
    {
     "name": "stdout",
     "output_type": "stream",
     "text": [
      "\tTrain Loss: 0.909 | Train Acc: 80.00%\n",
      "Epoch: 66 | Epoch Time: 1m 53s\n",
      "\t Val. Loss: 1.970 |  Val. Acc: 60.95%\n"
     ]
    },
    {
     "name": "stderr",
     "output_type": "stream",
     "text": [
      "100%|██████████| 439/439 [01:45<00:00,  4.14it/s]\n",
      "100%|██████████| 55/55 [00:07<00:00,  7.07it/s]\n"
     ]
    },
    {
     "name": "stdout",
     "output_type": "stream",
     "text": [
      "\tTrain Loss: 0.091 | Train Acc: 90.00%\n",
      "Epoch: 67 | Epoch Time: 1m 53s\n",
      "\t Val. Loss: 1.805 |  Val. Acc: 60.55%\n"
     ]
    },
    {
     "name": "stderr",
     "output_type": "stream",
     "text": [
      "100%|██████████| 439/439 [01:46<00:00,  4.14it/s]\n",
      "100%|██████████| 55/55 [00:07<00:00,  6.96it/s]\n"
     ]
    },
    {
     "name": "stdout",
     "output_type": "stream",
     "text": [
      "\tTrain Loss: 0.310 | Train Acc: 80.00%\n",
      "Epoch: 68 | Epoch Time: 1m 53s\n",
      "\t Val. Loss: 1.944 |  Val. Acc: 59.06%\n"
     ]
    },
    {
     "name": "stderr",
     "output_type": "stream",
     "text": [
      "100%|██████████| 439/439 [01:45<00:00,  4.15it/s]\n",
      "100%|██████████| 55/55 [00:07<00:00,  6.98it/s]\n"
     ]
    },
    {
     "name": "stdout",
     "output_type": "stream",
     "text": [
      "Best model saved at epoch 69 with accuracy 0.622 and loss 2.0312.\n",
      "\tTrain Loss: 0.329 | Train Acc: 90.00%\n",
      "Epoch: 69 | Epoch Time: 1m 53s\n",
      "\t Val. Loss: 2.031 |  Val. Acc: 62.20%\n"
     ]
    },
    {
     "name": "stderr",
     "output_type": "stream",
     "text": [
      "100%|██████████| 439/439 [01:45<00:00,  4.15it/s]\n",
      "100%|██████████| 55/55 [00:07<00:00,  7.06it/s]\n"
     ]
    },
    {
     "name": "stdout",
     "output_type": "stream",
     "text": [
      "Best model saved at epoch 70 with accuracy 0.6231 and loss 2.0168.\n",
      "\tTrain Loss: 0.262 | Train Acc: 100.00%\n",
      "Epoch: 70 | Epoch Time: 1m 53s\n",
      "\t Val. Loss: 2.017 |  Val. Acc: 62.31%\n"
     ]
    },
    {
     "name": "stderr",
     "output_type": "stream",
     "text": [
      "100%|██████████| 439/439 [01:46<00:00,  4.14it/s]\n",
      "100%|██████████| 55/55 [00:07<00:00,  7.08it/s]\n"
     ]
    },
    {
     "name": "stdout",
     "output_type": "stream",
     "text": [
      "\tTrain Loss: 0.065 | Train Acc: 100.00%\n",
      "Epoch: 71 | Epoch Time: 1m 53s\n",
      "\t Val. Loss: 1.962 |  Val. Acc: 60.38%\n"
     ]
    },
    {
     "name": "stderr",
     "output_type": "stream",
     "text": [
      "100%|██████████| 439/439 [01:45<00:00,  4.17it/s]\n",
      "100%|██████████| 55/55 [00:07<00:00,  7.06it/s]\n"
     ]
    },
    {
     "name": "stdout",
     "output_type": "stream",
     "text": [
      "\tTrain Loss: 0.735 | Train Acc: 80.00%\n",
      "Epoch: 72 | Epoch Time: 1m 53s\n",
      "\t Val. Loss: 1.891 |  Val. Acc: 62.20%\n"
     ]
    },
    {
     "name": "stderr",
     "output_type": "stream",
     "text": [
      "100%|██████████| 439/439 [01:45<00:00,  4.18it/s]\n",
      "100%|██████████| 55/55 [00:07<00:00,  6.97it/s]\n"
     ]
    },
    {
     "name": "stdout",
     "output_type": "stream",
     "text": [
      "\tTrain Loss: 0.045 | Train Acc: 100.00%\n",
      "Epoch: 73 | Epoch Time: 1m 52s\n",
      "\t Val. Loss: 1.915 |  Val. Acc: 59.24%\n"
     ]
    },
    {
     "name": "stderr",
     "output_type": "stream",
     "text": [
      "100%|██████████| 439/439 [01:45<00:00,  4.17it/s]\n",
      "100%|██████████| 55/55 [00:07<00:00,  7.08it/s]\n"
     ]
    },
    {
     "name": "stdout",
     "output_type": "stream",
     "text": [
      "\tTrain Loss: 0.122 | Train Acc: 90.00%\n",
      "Epoch: 74 | Epoch Time: 1m 53s\n",
      "\t Val. Loss: 1.853 |  Val. Acc: 61.86%\n"
     ]
    },
    {
     "name": "stderr",
     "output_type": "stream",
     "text": [
      "100%|██████████| 439/439 [01:45<00:00,  4.17it/s]\n",
      "100%|██████████| 55/55 [00:07<00:00,  6.99it/s]\n"
     ]
    },
    {
     "name": "stdout",
     "output_type": "stream",
     "text": [
      "\tTrain Loss: 0.053 | Train Acc: 100.00%\n",
      "Epoch: 75 | Epoch Time: 1m 53s\n",
      "\t Val. Loss: 1.939 |  Val. Acc: 61.57%\n"
     ]
    },
    {
     "name": "stderr",
     "output_type": "stream",
     "text": [
      "100%|██████████| 439/439 [01:45<00:00,  4.18it/s]\n",
      "100%|██████████| 55/55 [00:07<00:00,  6.96it/s]\n"
     ]
    },
    {
     "name": "stdout",
     "output_type": "stream",
     "text": [
      "\tTrain Loss: 0.043 | Train Acc: 100.00%\n",
      "Epoch: 76 | Epoch Time: 1m 53s\n",
      "\t Val. Loss: 2.070 |  Val. Acc: 60.49%\n"
     ]
    },
    {
     "name": "stderr",
     "output_type": "stream",
     "text": [
      "100%|██████████| 439/439 [01:45<00:00,  4.16it/s]\n",
      "100%|██████████| 55/55 [00:07<00:00,  6.98it/s]\n"
     ]
    },
    {
     "name": "stdout",
     "output_type": "stream",
     "text": [
      "\tTrain Loss: 0.166 | Train Acc: 100.00%\n",
      "Epoch: 77 | Epoch Time: 1m 53s\n",
      "\t Val. Loss: 2.168 |  Val. Acc: 59.75%\n"
     ]
    },
    {
     "name": "stderr",
     "output_type": "stream",
     "text": [
      "100%|██████████| 439/439 [01:45<00:00,  4.15it/s]\n",
      "100%|██████████| 55/55 [00:07<00:00,  7.06it/s]\n"
     ]
    },
    {
     "name": "stdout",
     "output_type": "stream",
     "text": [
      "Best model saved at epoch 78 with accuracy 0.6271 and loss 1.8127.\n",
      "\tTrain Loss: 0.418 | Train Acc: 90.00%\n",
      "Epoch: 78 | Epoch Time: 1m 53s\n",
      "\t Val. Loss: 1.813 |  Val. Acc: 62.71%\n"
     ]
    },
    {
     "name": "stderr",
     "output_type": "stream",
     "text": [
      "100%|██████████| 439/439 [01:45<00:00,  4.17it/s]\n",
      "100%|██████████| 55/55 [00:07<00:00,  7.07it/s]\n"
     ]
    },
    {
     "name": "stdout",
     "output_type": "stream",
     "text": [
      "Best model saved at epoch 79 with accuracy 0.63 and loss 1.9548.\n",
      "\tTrain Loss: 0.107 | Train Acc: 90.00%\n",
      "Epoch: 79 | Epoch Time: 1m 53s\n",
      "\t Val. Loss: 1.955 |  Val. Acc: 63.00%\n"
     ]
    },
    {
     "name": "stderr",
     "output_type": "stream",
     "text": [
      "100%|██████████| 439/439 [01:45<00:00,  4.17it/s]\n",
      "100%|██████████| 55/55 [00:07<00:00,  6.96it/s]\n"
     ]
    },
    {
     "name": "stdout",
     "output_type": "stream",
     "text": [
      "\tTrain Loss: 0.166 | Train Acc: 90.00%\n",
      "Epoch: 80 | Epoch Time: 1m 53s\n",
      "\t Val. Loss: 1.976 |  Val. Acc: 61.29%\n"
     ]
    },
    {
     "name": "stderr",
     "output_type": "stream",
     "text": [
      "100%|██████████| 439/439 [01:45<00:00,  4.15it/s]\n",
      "100%|██████████| 55/55 [00:07<00:00,  7.06it/s]\n"
     ]
    },
    {
     "name": "stdout",
     "output_type": "stream",
     "text": [
      "\tTrain Loss: 0.254 | Train Acc: 100.00%\n",
      "Epoch: 81 | Epoch Time: 1m 53s\n",
      "\t Val. Loss: 2.090 |  Val. Acc: 60.66%\n"
     ]
    },
    {
     "name": "stderr",
     "output_type": "stream",
     "text": [
      "100%|██████████| 439/439 [01:45<00:00,  4.15it/s]\n",
      "100%|██████████| 55/55 [00:07<00:00,  6.97it/s]\n"
     ]
    },
    {
     "name": "stdout",
     "output_type": "stream",
     "text": [
      "\tTrain Loss: 0.419 | Train Acc: 80.00%\n",
      "Epoch: 82 | Epoch Time: 1m 53s\n",
      "\t Val. Loss: 1.880 |  Val. Acc: 61.46%\n"
     ]
    },
    {
     "name": "stderr",
     "output_type": "stream",
     "text": [
      "100%|██████████| 439/439 [01:45<00:00,  4.17it/s]\n",
      "100%|██████████| 55/55 [00:07<00:00,  6.94it/s]\n"
     ]
    },
    {
     "name": "stdout",
     "output_type": "stream",
     "text": [
      "\tTrain Loss: 0.830 | Train Acc: 70.00%\n",
      "Epoch: 83 | Epoch Time: 1m 53s\n",
      "\t Val. Loss: 1.853 |  Val. Acc: 61.97%\n"
     ]
    },
    {
     "name": "stderr",
     "output_type": "stream",
     "text": [
      "100%|██████████| 439/439 [01:45<00:00,  4.17it/s]\n",
      "100%|██████████| 55/55 [00:07<00:00,  7.06it/s]\n"
     ]
    },
    {
     "name": "stdout",
     "output_type": "stream",
     "text": [
      "Best model saved at epoch 84 with accuracy 0.642 and loss 1.9793.\n",
      "\tTrain Loss: 0.232 | Train Acc: 90.00%\n",
      "Epoch: 84 | Epoch Time: 1m 53s\n",
      "\t Val. Loss: 1.979 |  Val. Acc: 64.20%\n"
     ]
    },
    {
     "name": "stderr",
     "output_type": "stream",
     "text": [
      "100%|██████████| 439/439 [01:45<00:00,  4.17it/s]\n",
      "100%|██████████| 55/55 [00:07<00:00,  7.06it/s]\n"
     ]
    },
    {
     "name": "stdout",
     "output_type": "stream",
     "text": [
      "\tTrain Loss: 0.273 | Train Acc: 90.00%\n",
      "Epoch: 85 | Epoch Time: 1m 53s\n",
      "\t Val. Loss: 1.912 |  Val. Acc: 61.40%\n"
     ]
    },
    {
     "name": "stderr",
     "output_type": "stream",
     "text": [
      "100%|██████████| 439/439 [01:45<00:00,  4.16it/s]\n",
      "100%|██████████| 55/55 [00:07<00:00,  7.06it/s]\n"
     ]
    },
    {
     "name": "stdout",
     "output_type": "stream",
     "text": [
      "\tTrain Loss: 0.607 | Train Acc: 90.00%\n",
      "Epoch: 86 | Epoch Time: 1m 53s\n",
      "\t Val. Loss: 1.926 |  Val. Acc: 60.89%\n"
     ]
    },
    {
     "name": "stderr",
     "output_type": "stream",
     "text": [
      "100%|██████████| 439/439 [01:45<00:00,  4.15it/s]\n",
      "100%|██████████| 55/55 [00:07<00:00,  6.98it/s]\n"
     ]
    },
    {
     "name": "stdout",
     "output_type": "stream",
     "text": [
      "\tTrain Loss: 0.278 | Train Acc: 80.00%\n",
      "Epoch: 87 | Epoch Time: 1m 53s\n",
      "\t Val. Loss: 2.045 |  Val. Acc: 61.57%\n"
     ]
    },
    {
     "name": "stderr",
     "output_type": "stream",
     "text": [
      "100%|██████████| 439/439 [01:45<00:00,  4.15it/s]\n",
      "100%|██████████| 55/55 [00:07<00:00,  6.97it/s]\n"
     ]
    },
    {
     "name": "stdout",
     "output_type": "stream",
     "text": [
      "\tTrain Loss: 0.059 | Train Acc: 100.00%\n",
      "Epoch: 88 | Epoch Time: 1m 53s\n",
      "\t Val. Loss: 1.774 |  Val. Acc: 63.00%\n"
     ]
    },
    {
     "name": "stderr",
     "output_type": "stream",
     "text": [
      "100%|██████████| 439/439 [01:44<00:00,  4.18it/s]\n",
      "100%|██████████| 55/55 [00:07<00:00,  6.97it/s]\n"
     ]
    },
    {
     "name": "stdout",
     "output_type": "stream",
     "text": [
      "\tTrain Loss: 0.257 | Train Acc: 90.00%\n",
      "Epoch: 89 | Epoch Time: 1m 52s\n",
      "\t Val. Loss: 1.974 |  Val. Acc: 62.77%\n"
     ]
    },
    {
     "name": "stderr",
     "output_type": "stream",
     "text": [
      "100%|██████████| 439/439 [01:45<00:00,  4.16it/s]\n",
      "100%|██████████| 55/55 [00:07<00:00,  6.94it/s]\n"
     ]
    },
    {
     "name": "stdout",
     "output_type": "stream",
     "text": [
      "\tTrain Loss: 0.205 | Train Acc: 100.00%\n",
      "Epoch: 90 | Epoch Time: 1m 53s\n",
      "\t Val. Loss: 1.981 |  Val. Acc: 63.57%\n"
     ]
    },
    {
     "name": "stderr",
     "output_type": "stream",
     "text": [
      "100%|██████████| 439/439 [01:45<00:00,  4.16it/s]\n",
      "100%|██████████| 55/55 [00:08<00:00,  6.72it/s]\n"
     ]
    },
    {
     "name": "stdout",
     "output_type": "stream",
     "text": [
      "\tTrain Loss: 0.903 | Train Acc: 70.00%\n",
      "Epoch: 91 | Epoch Time: 1m 53s\n",
      "\t Val. Loss: 2.016 |  Val. Acc: 60.49%\n"
     ]
    },
    {
     "name": "stderr",
     "output_type": "stream",
     "text": [
      "100%|██████████| 439/439 [01:46<00:00,  4.14it/s]\n",
      "100%|██████████| 55/55 [00:08<00:00,  6.69it/s]\n"
     ]
    },
    {
     "name": "stdout",
     "output_type": "stream",
     "text": [
      "\tTrain Loss: 0.270 | Train Acc: 80.00%\n",
      "Epoch: 92 | Epoch Time: 1m 54s\n",
      "\t Val. Loss: 1.876 |  Val. Acc: 63.28%\n"
     ]
    },
    {
     "name": "stderr",
     "output_type": "stream",
     "text": [
      "100%|██████████| 439/439 [01:45<00:00,  4.15it/s]\n",
      "100%|██████████| 55/55 [00:08<00:00,  6.65it/s]\n"
     ]
    },
    {
     "name": "stdout",
     "output_type": "stream",
     "text": [
      "\tTrain Loss: 0.019 | Train Acc: 100.00%\n",
      "Epoch: 93 | Epoch Time: 1m 54s\n",
      "\t Val. Loss: 2.142 |  Val. Acc: 62.37%\n"
     ]
    },
    {
     "name": "stderr",
     "output_type": "stream",
     "text": [
      "100%|██████████| 439/439 [01:45<00:00,  4.14it/s]\n",
      "100%|██████████| 55/55 [00:08<00:00,  6.72it/s]\n"
     ]
    },
    {
     "name": "stdout",
     "output_type": "stream",
     "text": [
      "\tTrain Loss: 0.201 | Train Acc: 90.00%\n",
      "Epoch: 94 | Epoch Time: 1m 54s\n",
      "\t Val. Loss: 1.908 |  Val. Acc: 60.66%\n"
     ]
    },
    {
     "name": "stderr",
     "output_type": "stream",
     "text": [
      "100%|██████████| 439/439 [01:45<00:00,  4.15it/s]\n",
      "100%|██████████| 55/55 [00:08<00:00,  6.67it/s]\n"
     ]
    },
    {
     "name": "stdout",
     "output_type": "stream",
     "text": [
      "\tTrain Loss: 0.444 | Train Acc: 80.00%\n",
      "Epoch: 95 | Epoch Time: 1m 53s\n",
      "\t Val. Loss: 2.103 |  Val. Acc: 61.17%\n"
     ]
    },
    {
     "name": "stderr",
     "output_type": "stream",
     "text": [
      "100%|██████████| 439/439 [01:45<00:00,  4.17it/s]\n",
      "100%|██████████| 55/55 [00:08<00:00,  6.71it/s]\n"
     ]
    },
    {
     "name": "stdout",
     "output_type": "stream",
     "text": [
      "Best model saved at epoch 96 with accuracy 0.6499 and loss 1.9888.\n",
      "\tTrain Loss: 0.192 | Train Acc: 90.00%\n",
      "Epoch: 96 | Epoch Time: 1m 53s\n",
      "\t Val. Loss: 1.989 |  Val. Acc: 64.99%\n"
     ]
    },
    {
     "name": "stderr",
     "output_type": "stream",
     "text": [
      "100%|██████████| 439/439 [01:45<00:00,  4.15it/s]\n",
      "100%|██████████| 55/55 [00:08<00:00,  6.65it/s]\n"
     ]
    },
    {
     "name": "stdout",
     "output_type": "stream",
     "text": [
      "\tTrain Loss: 0.676 | Train Acc: 90.00%\n",
      "Epoch: 97 | Epoch Time: 1m 54s\n",
      "\t Val. Loss: 1.922 |  Val. Acc: 63.06%\n"
     ]
    },
    {
     "name": "stderr",
     "output_type": "stream",
     "text": [
      "100%|██████████| 439/439 [01:46<00:00,  4.14it/s]\n",
      "100%|██████████| 55/55 [00:08<00:00,  6.62it/s]\n"
     ]
    },
    {
     "name": "stdout",
     "output_type": "stream",
     "text": [
      "\tTrain Loss: 0.092 | Train Acc: 100.00%\n",
      "Epoch: 98 | Epoch Time: 1m 54s\n",
      "\t Val. Loss: 2.020 |  Val. Acc: 63.80%\n"
     ]
    },
    {
     "name": "stderr",
     "output_type": "stream",
     "text": [
      "100%|██████████| 439/439 [01:45<00:00,  4.14it/s]\n",
      "100%|██████████| 55/55 [00:08<00:00,  6.58it/s]\n"
     ]
    },
    {
     "name": "stdout",
     "output_type": "stream",
     "text": [
      "\tTrain Loss: 0.070 | Train Acc: 100.00%\n",
      "Epoch: 99 | Epoch Time: 1m 54s\n",
      "\t Val. Loss: 1.913 |  Val. Acc: 63.06%\n"
     ]
    },
    {
     "name": "stderr",
     "output_type": "stream",
     "text": [
      "100%|██████████| 439/439 [01:46<00:00,  4.14it/s]\n",
      "100%|██████████| 55/55 [00:08<00:00,  6.69it/s]\n"
     ]
    },
    {
     "name": "stdout",
     "output_type": "stream",
     "text": [
      "\tTrain Loss: 0.339 | Train Acc: 90.00%\n",
      "Epoch: 100 | Epoch Time: 1m 54s\n",
      "\t Val. Loss: 1.863 |  Val. Acc: 63.57%\n"
     ]
    },
    {
     "name": "stderr",
     "output_type": "stream",
     "text": [
      "100%|██████████| 439/439 [01:45<00:00,  4.15it/s]\n",
      "100%|██████████| 55/55 [00:08<00:00,  6.51it/s]"
     ]
    },
    {
     "name": "stdout",
     "output_type": "stream",
     "text": [
      "\tTrain Loss: 0.313 | Train Acc: 80.00%\n",
      "Epoch: 101 | Epoch Time: 1m 54s\n",
      "\t Val. Loss: 1.986 |  Val. Acc: 63.28%\n"
     ]
    },
    {
     "name": "stderr",
     "output_type": "stream",
     "text": [
      "\n"
     ]
    }
   ],
   "source": [
    "with experiment.train():\n",
    "    train(model, criterion, optimizer, hyper_params, train_loader, val_loader)"
   ]
  },
  {
   "cell_type": "code",
   "execution_count": 7,
   "metadata": {},
   "outputs": [
    {
     "name": "stderr",
     "output_type": "stream",
     "text": [
      "100%|██████████| 55/55 [00:08<00:00,  6.82it/s]"
     ]
    },
    {
     "name": "stdout",
     "output_type": "stream",
     "text": [
      "Test Loss: 1.961 | Test Acc: 65.00%\n"
     ]
    },
    {
     "name": "stderr",
     "output_type": "stream",
     "text": [
      "\n"
     ]
    }
   ],
   "source": [
    "with experiment.test():\n",
    "\n",
    "    model.load_state_dict(torch.load(hyper_params['best_model_path'])) #Loading the state dict into the model\n",
    "    test_loss, test_acc = evaluate(model, test_loader, criterion, device, experiment) \n",
    "    print(f'Test Loss: {test_loss:.3f} | Test Acc: {test_acc*100:.2f}%')"
   ]
  },
  {
   "cell_type": "code",
   "execution_count": 8,
   "metadata": {},
   "outputs": [],
   "source": [
    "confusion(model, test_loader, device = device, experiment=experiment)"
   ]
  },
  {
   "cell_type": "code",
   "execution_count": 9,
   "metadata": {},
   "outputs": [
    {
     "name": "stderr",
     "output_type": "stream",
     "text": [
      "COMET INFO: ---------------------------\n",
      "COMET INFO: Comet.ml Experiment Summary\n",
      "COMET INFO: ---------------------------\n",
      "COMET INFO:   Data:\n",
      "COMET INFO:     display_summary_level : 1\n",
      "COMET INFO:     url                   : https://www.comet.com/leothesouthafrican/test/e128fb0295d9434fab4f8884d5cd2065\n",
      "COMET INFO:   Metrics [count] (min, max):\n",
      "COMET INFO:     test_acc [55]           : (1.4204545454545454, 64.99562946232882)\n",
      "COMET INFO:     test_loss [55]          : (0.017969071865081787, 1.9614130139350892)\n",
      "COMET INFO:     train_acc [43900]       : (0.0, 1.0)\n",
      "COMET INFO:     train_loss [43900]      : (0.0040519507601857185, 17.393238067626953)\n",
      "COMET INFO:     train_step_time [43900] : (0, 2)\n",
      "COMET INFO:     train_val_acc [100]     : (0.11288483466362599, 0.6499429874572406)\n",
      "COMET INFO:     train_val_loss [100]    : (1.7719852024858649, 3.8363922769373113)\n",
      "COMET INFO:   Parameters:\n",
      "COMET INFO:     batch_size           : 32\n",
      "COMET INFO:     best_model_path      : output/MN3LCB_celebs105_t.pt\n",
      "COMET INFO:     comet_exp            : <comet_ml._online.Experiment object at 0x1109efa30>\n",
      "COMET INFO:     criterion            : CrossEntropyLoss\n",
      "COMET INFO:     dataset              : Celebrities 20\n",
      "COMET INFO:     device               : mps\n",
      "COMET INFO:     epochs               : 100\n",
      "COMET INFO:     image_channels       : 3\n",
      "COMET INFO:     image_size           : 112\n",
      "COMET INFO:     learning_rate        : 0.001\n",
      "COMET INFO:     loaded_model_path    : output/MN3LCB_celebs20.pt\n",
      "COMET INFO:     model_name           : MobileNet3 with CBAM inserted instead of SE starting from a fresh model with no preloaded weights.\n",
      "COMET INFO:     num_layers           : na\n",
      "COMET INFO:     optimizer            : Adam\n",
      "COMET INFO:     output_size          : 105\n",
      "COMET INFO:     save_at_end          : True\n",
      "COMET INFO:     train_val_test_split : [0.8, 0.1, 0.1]\n",
      "COMET INFO:   Uploads:\n",
      "COMET INFO:     confusion-matrix         : 1\n",
      "COMET INFO:     environment details      : 1\n",
      "COMET INFO:     filename                 : 1\n",
      "COMET INFO:     git metadata             : 1\n",
      "COMET INFO:     git-patch (uncompressed) : 1 (1.27 MB)\n",
      "COMET INFO:     installed packages       : 1\n",
      "COMET INFO:     notebook                 : 1\n",
      "COMET INFO:     source_code              : 1\n",
      "COMET INFO: ---------------------------\n",
      "COMET WARNING: Comet has disabled auto-logging functionality as it has been imported after the following ML modules: torch. Metrics and hyperparameters can still be logged using Experiment.log_metrics() and Experiment.log_parameters()\n",
      "COMET INFO: Using '/Users/leo/Desktop/Thesis/faces_dataset/.cometml-runs' path as offline directory. Pass 'offline_directory' parameter into constructor or set the 'COMET_OFFLINE_DIRECTORY' environment variable to manually choose where to store offline experiment archives.\n",
      "COMET WARNING: Could not send live data to Comet during experiment runtime. An offline experiment will be available for upload:\n",
      "    comet upload --force-reupload /Users/leo/Desktop/Thesis/faces_dataset/.cometml-runs/e128fb0295d9434fab4f8884d5cd2065-WvNzgU.zip\n"
     ]
    }
   ],
   "source": [
    "experiment.end()"
   ]
  },
  {
   "cell_type": "code",
   "execution_count": 10,
   "metadata": {},
   "outputs": [
    {
     "ename": "IndentationError",
     "evalue": "expected an indented block (2747717520.py, line 10)",
     "output_type": "error",
     "traceback": [
      "\u001b[0;36m  Cell \u001b[0;32mIn[10], line 10\u001b[0;36m\u001b[0m\n\u001b[0;31m    images, labels = data\u001b[0m\n\u001b[0m    ^\u001b[0m\n\u001b[0;31mIndentationError\u001b[0m\u001b[0;31m:\u001b[0m expected an indented block\n"
     ]
    }
   ],
   "source": [
    "import torch\n",
    "import matplotlib.pyplot as plt\n",
    "import numpy as np\n",
    "\n",
    "def show_attention(model, test_loader):\n",
    "    model.eval()\n",
    "  \n",
    "    with torch.no_grad():\n",
    "        for data in test_loader:\n",
    "        images, labels = data\n",
    "        outputs = model(images)\n",
    "        attention_maps = model.attention_maps()\n",
    "        \n",
    "        idx = np.random.randint(0, images.size(0), 5)\n",
    "        for i in idx:\n",
    "            plt.imshow(np.transpose(images[i].numpy(), (1, 2, 0)))\n",
    "            plt.imshow(attention_maps[i], cmap='jet', alpha=0.5)\n",
    "            plt.show()\n"
   ]
  }
 ],
 "metadata": {
  "kernelspec": {
   "display_name": "env",
   "language": "python",
   "name": "python3"
  },
  "language_info": {
   "codemirror_mode": {
    "name": "ipython",
    "version": 3
   },
   "file_extension": ".py",
   "mimetype": "text/x-python",
   "name": "python",
   "nbconvert_exporter": "python",
   "pygments_lexer": "ipython3",
   "version": "3.9.16 (main, Dec  7 2022, 10:06:04) \n[Clang 14.0.0 (clang-1400.0.29.202)]"
  },
  "orig_nbformat": 4,
  "vscode": {
   "interpreter": {
    "hash": "3eacf7c38dfd06f03ba84c25998c3b980b49954d2ca7328ee71b9a00e83ad9fc"
   }
  }
 },
 "nbformat": 4,
 "nbformat_minor": 2
}
