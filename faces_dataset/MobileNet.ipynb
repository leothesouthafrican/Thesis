{
 "cells": [
  {
   "cell_type": "code",
   "execution_count": 1,
   "metadata": {},
   "outputs": [],
   "source": [
    "utils_path = \"../utils\"\n",
    "models_path = \"../models\"\n",
    "data_path = \"../data/celebs_105\"\n",
    "\n",
    "import sys\n",
    "import os\n",
    "sys.path.insert(1, utils_path)\n",
    "sys.path.insert(2, models_path)\n",
    "\n",
    "import torch\n",
    "import torch.nn as nn\n",
    "\n",
    "import matplotlib.pyplot as plt\n",
    "\n",
    "import numpy as np\n",
    "\n",
    "from comet_ml import Experiment\n",
    "\n",
    "import config\n",
    "\n",
    "import time \n",
    "import copy\n",
    "import random\n",
    "from tqdm.notebook import trange, tqdm\n",
    "\n",
    "import torchvision\n",
    "\n",
    "from torch.utils.data import DataLoader\n",
    "from torch.utils.data import Dataset\n",
    "from torchvision import datasets, transforms\n",
    "import torchvision.transforms as transformss\n",
    "\n",
    "from MBNV3 import MobileNetV3\n",
    "from MBNV3CBAM import MobileNetV3CBAM\n",
    "\n",
    "from dataloader import mixedSets\n",
    "from functions import train, evaluate, confusion, unzip_files, unzip"
   ]
  },
  {
   "cell_type": "code",
   "execution_count": 2,
   "metadata": {},
   "outputs": [
    {
     "name": "stderr",
     "output_type": "stream",
     "text": [
      "COMET WARNING: Comet has disabled auto-logging functionality as it has been imported after the following ML modules: torch. Metrics and hyperparameters can still be logged using Experiment.log_metrics() and Experiment.log_parameters()\n",
      "COMET WARNING: As you are running in a Jupyter environment, you will need to call `experiment.end()` when finished to ensure all metrics and code are logged before exiting.\n",
      "COMET INFO: Experiment is live on comet.com https://www.comet.com/leothesouthafrican/celebs-20-mobilenet/c25a4398f2ef4ed592631a9a73dcc2ab\n",
      "\n"
     ]
    },
    {
     "name": "stdout",
     "output_type": "stream",
     "text": [
      "Output Size: 20\n"
     ]
    }
   ],
   "source": [
    "#Initialising GereralTorch class\n",
    "\n",
    "#Setting the experiment with the API key stored in config.py\n",
    "experiment = Experiment(project_name = \"Celebs_105_MobileNet\", workspace = \"leothesouthafrican\", api_key = config.api_key)\n",
    "\n",
    "#Report multiple hyperparameters using a dictionary\n",
    "hyper_params = {\n",
    "    'learning_rate': 0.001,\n",
    "    'epochs': 200,\n",
    "    'batch_size': 32,\n",
    "    'image_size': 112,\n",
    "    'image_channels': 3,\n",
    "    'output_size': len(os.listdir(data_path)) - 1,\n",
    "    'num_layers': 'na',\n",
    "    'train_val_test_split': [0.8, 0.1, 0.1],\n",
    "    'device': 'mps',\n",
    "    'model_name': 'MobileNetV3 starting from a fresh model with no preloaded weights.',\n",
    "    'criterion': 'CrossEntropyLoss',\n",
    "    'optimizer': 'Adam',\n",
    "    'dataset': 'Celebrities 20',\n",
    "    'best_model_path': 'output/MN3L_celebs105.pt',\n",
    "    'loaded_model_path': 'output/MN3L_celebs20.pt',\n",
    "    'comet_exp': experiment,\n",
    "    'save_at_end': True,\n",
    "}\n",
    "\n",
    "print(f'Output Size: {hyper_params[\"output_size\"]}')\n",
    "\n",
    "#Setting the device\n",
    "device = torch.device(hyper_params['device'])\n",
    "\n",
    "#checking if the model is to be a loaded one and if so loading it\n",
    "if hyper_params['loaded_model_path']:\n",
    "    state_dict = torch.load(hyper_params['loaded_model_path']) #Loading the state dict\n",
    "    model = MobileNetV3(mode='large') #Loading the model as a backbone\n",
    "    model.load_state_dict(state_dict, strict= True) #Loading the state dict into the model\n",
    "    print('Model Loaded')\n",
    "else:\n",
    "    # Loading a fresh model\n",
    "    model = MobileNetV3(mode='large')\n",
    "\n",
    "#passing the model to the device\n",
    "model.to(device)\n",
    "\n",
    "# Setting the loss function and optimizer\n",
    "criterion = nn.CrossEntropyLoss().to(device) #Setting the loss function\n",
    "optimizer = torch.optim.Adam(model.parameters(), lr=hyper_params['learning_rate']) #Setting the optimizer\n",
    "\n",
    "# Logging the hyperparameters to comet\n",
    "experiment.log_parameters(hyper_params)"
   ]
  },
  {
   "cell_type": "code",
   "execution_count": 3,
   "metadata": {},
   "outputs": [],
   "source": [
    "#defining transforms\n",
    "\n",
    "train_transform = transforms.Compose([\n",
    "                transforms.Resize((hyper_params['image_size'],hyper_params['image_size'])),\n",
    "                transforms.ToTensor(),\n",
    "                transforms.Normalize(mean = [0.485, 0.456, 0.406], std = [0.229, 0.224, 0.225]),\n",
    "                transforms.RandomApply([transforms.ColorJitter(brightness=0.4, contrast=0.4, saturation=0.4),\n",
    "                transforms.RandomCrop(hyper_params['image_size'], padding=2)], p=0.2),\n",
    "                transforms.RandomAffine(degrees=10, translate=(0.1,0.1), scale=(0.8,1.2)),\n",
    "                transforms.RandomRotation(15),\n",
    "                transforms.RandomHorizontalFlip(0.15),\n",
    "                transforms.RandomVerticalFlip(0.1),\n",
    "                transforms.RandomErasing(0.1),\n",
    "            ])\n",
    "\n",
    "test_transform = transforms.Compose([\n",
    "                transforms.Resize((hyper_params['image_size'],hyper_params['image_size'])),\n",
    "                transforms.ToTensor(),\n",
    "                transforms.Normalize(mean = [0.485, 0.456, 0.406], std = [0.229, 0.224, 0.225])\n",
    "            ])"
   ]
  },
  {
   "cell_type": "code",
   "execution_count": 4,
   "metadata": {},
   "outputs": [
    {
     "name": "stdout",
     "output_type": "stream",
     "text": [
      "Train dataset size: 2642, with 20 classes\n",
      "Val dataset size: 331, with 20 classes\n",
      "Test dataset size: 331, with 20 classes\n"
     ]
    }
   ],
   "source": [
    "# Creating the dataset\n",
    "train_dataset = mixedSets(data_path, train_transform, hyper_params['train_val_test_split']).get_train_dataset()\n",
    "val_dataset = mixedSets(data_path, test_transform, hyper_params['train_val_test_split']).get_val_dataset()\n",
    "test_dataset = mixedSets(data_path, test_transform, hyper_params['train_val_test_split']).get_test_dataset()\n",
    "\n",
    "# Creating the dataloaders\n",
    "train_loader = torch.utils.data.DataLoader(dataset=train_dataset,\n",
    "                                            batch_size=hyper_params['batch_size'],\n",
    "                                            shuffle=True,\n",
    "                                            num_workers=1)\n",
    "\n",
    "val_loader = torch.utils.data.DataLoader(dataset=val_dataset,\n",
    "                                            batch_size=hyper_params['batch_size'],\n",
    "                                            shuffle=True,\n",
    "                                            num_workers=1)\n",
    "\n",
    "test_loader = torch.utils.data.DataLoader(dataset=test_dataset,\n",
    "                                            batch_size=hyper_params['batch_size'],\n",
    "                                            shuffle=True,\n",
    "                                            num_workers=1)\n"
   ]
  },
  {
   "cell_type": "code",
   "execution_count": 5,
   "metadata": {},
   "outputs": [
    {
     "name": "stderr",
     "output_type": "stream",
     "text": [
      "Clipping input data to the valid range for imshow with RGB data ([0..1] for floats or [0..255] for integers).\n"
     ]
    },
    {
     "data": {
      "image/png": "[encoded data removed]",
      "text/plain": [
       "<Figure size 640x480 with 1 Axes>"
      ]
     },
     "metadata": {},
     "output_type": "display_data"
    },
    {
     "name": "stdout",
     "output_type": "stream",
     "text": [
      "tensor(5) tensor(16) tensor(9) tensor(18)\n"
     ]
    }
   ],
   "source": [
    "#display random images from the dataset\n",
    "def imshow(img):\n",
    "    img = img / 2 + 0.5     # unnormalize\n",
    "    npimg = img.numpy()\n",
    "    plt.imshow(np.transpose(npimg, (1, 2, 0)))\n",
    "    #drop axis labels\n",
    "    plt.axis('off')\n",
    "    plt.show()\n",
    "\n",
    "# get some random training images\n",
    "dataiter = iter(train_loader)\n",
    "images, labels = next(dataiter)\n",
    "\n",
    "# show images\n",
    "imshow(torchvision.utils.make_grid(images))\n",
    "# print labels\n",
    "print(' '.join('%5s' % labels[j] for j in range(4)))"
   ]
  },
  {
   "cell_type": "code",
   "execution_count": 6,
   "metadata": {},
   "outputs": [
    {
     "name": "stdout",
     "output_type": "stream",
     "text": [
      "Begin training...\n"
     ]
    },
    {
     "name": "stderr",
     "output_type": "stream",
     "text": [
      "100%|██████████| 83/83 [00:27<00:00,  3.01it/s]\n",
      "100%|██████████| 11/11 [00:06<00:00,  1.62it/s]\n"
     ]
    },
    {
     "name": "stdout",
     "output_type": "stream",
     "text": [
      "Best model saved at epoch 2 with accuracy 0.0725 and loss 2.9852.\n",
      "\tTrain Loss: 3.044 | Train Acc: 11.11%\n",
      "Epoch: 02 | Epoch Time: 0m 34s\n",
      "\t Val. Loss: 2.985 |  Val. Acc: 7.25%\n"
     ]
    },
    {
     "name": "stderr",
     "output_type": "stream",
     "text": [
      "100%|██████████| 83/83 [00:23<00:00,  3.53it/s]\n",
      "100%|██████████| 11/11 [00:06<00:00,  1.79it/s]\n"
     ]
    },
    {
     "name": "stdout",
     "output_type": "stream",
     "text": [
      "Best model saved at epoch 3 with accuracy 0.0785 and loss 2.9343.\n",
      "\tTrain Loss: 2.872 | Train Acc: 5.56%\n",
      "Epoch: 03 | Epoch Time: 0m 29s\n",
      "\t Val. Loss: 2.934 |  Val. Acc: 7.85%\n"
     ]
    },
    {
     "name": "stderr",
     "output_type": "stream",
     "text": [
      "100%|██████████| 83/83 [00:23<00:00,  3.55it/s]\n",
      "100%|██████████| 11/11 [00:06<00:00,  1.78it/s]\n"
     ]
    },
    {
     "name": "stdout",
     "output_type": "stream",
     "text": [
      "Best model saved at epoch 4 with accuracy 0.139 and loss 2.9254.\n",
      "\tTrain Loss: 2.788 | Train Acc: 22.22%\n",
      "Epoch: 04 | Epoch Time: 0m 29s\n",
      "\t Val. Loss: 2.925 |  Val. Acc: 13.90%\n"
     ]
    },
    {
     "name": "stderr",
     "output_type": "stream",
     "text": [
      "100%|██████████| 83/83 [00:23<00:00,  3.58it/s]\n",
      "100%|██████████| 11/11 [00:06<00:00,  1.79it/s]\n"
     ]
    },
    {
     "name": "stdout",
     "output_type": "stream",
     "text": [
      "Best model saved at epoch 5 with accuracy 0.148 and loss 2.7889.\n",
      "\tTrain Loss: 2.766 | Train Acc: 16.67%\n",
      "Epoch: 05 | Epoch Time: 0m 29s\n",
      "\t Val. Loss: 2.789 |  Val. Acc: 14.80%\n"
     ]
    },
    {
     "name": "stderr",
     "output_type": "stream",
     "text": [
      "100%|██████████| 83/83 [00:23<00:00,  3.59it/s]\n",
      "100%|██████████| 11/11 [00:06<00:00,  1.78it/s]\n"
     ]
    },
    {
     "name": "stdout",
     "output_type": "stream",
     "text": [
      "Best model saved at epoch 6 with accuracy 0.1662 and loss 2.6834.\n",
      "\tTrain Loss: 2.670 | Train Acc: 22.22%\n",
      "Epoch: 06 | Epoch Time: 0m 29s\n",
      "\t Val. Loss: 2.683 |  Val. Acc: 16.62%\n"
     ]
    },
    {
     "name": "stderr",
     "output_type": "stream",
     "text": [
      "100%|██████████| 83/83 [00:23<00:00,  3.46it/s]\n",
      "100%|██████████| 11/11 [00:06<00:00,  1.74it/s]\n"
     ]
    },
    {
     "name": "stdout",
     "output_type": "stream",
     "text": [
      "\tTrain Loss: 2.698 | Train Acc: 16.67%\n",
      "Epoch: 07 | Epoch Time: 0m 30s\n",
      "\t Val. Loss: 2.639 |  Val. Acc: 15.71%\n"
     ]
    },
    {
     "name": "stderr",
     "output_type": "stream",
     "text": [
      "100%|██████████| 83/83 [00:23<00:00,  3.58it/s]\n",
      "100%|██████████| 11/11 [00:06<00:00,  1.73it/s]\n"
     ]
    },
    {
     "name": "stdout",
     "output_type": "stream",
     "text": [
      "\tTrain Loss: 2.509 | Train Acc: 27.78%\n",
      "Epoch: 08 | Epoch Time: 0m 29s\n",
      "\t Val. Loss: 2.694 |  Val. Acc: 13.29%\n"
     ]
    },
    {
     "name": "stderr",
     "output_type": "stream",
     "text": [
      "100%|██████████| 83/83 [00:26<00:00,  3.18it/s]\n",
      "100%|██████████| 11/11 [00:06<00:00,  1.72it/s]\n"
     ]
    },
    {
     "name": "stdout",
     "output_type": "stream",
     "text": [
      "Best model saved at epoch 9 with accuracy 0.1782 and loss 2.768.\n",
      "\tTrain Loss: 3.198 | Train Acc: 5.56%\n",
      "Epoch: 09 | Epoch Time: 0m 32s\n",
      "\t Val. Loss: 2.768 |  Val. Acc: 17.82%\n"
     ]
    },
    {
     "name": "stderr",
     "output_type": "stream",
     "text": [
      "100%|██████████| 83/83 [00:27<00:00,  3.06it/s]\n",
      "100%|██████████| 11/11 [00:06<00:00,  1.72it/s]\n"
     ]
    },
    {
     "name": "stdout",
     "output_type": "stream",
     "text": [
      "Best model saved at epoch 10 with accuracy 0.1934 and loss 2.5734.\n",
      "\tTrain Loss: 2.764 | Train Acc: 11.11%\n",
      "Epoch: 10 | Epoch Time: 0m 33s\n",
      "\t Val. Loss: 2.573 |  Val. Acc: 19.34%\n"
     ]
    },
    {
     "name": "stderr",
     "output_type": "stream",
     "text": [
      "100%|██████████| 83/83 [00:27<00:00,  3.02it/s]\n",
      "100%|██████████| 11/11 [00:06<00:00,  1.70it/s]\n"
     ]
    },
    {
     "name": "stdout",
     "output_type": "stream",
     "text": [
      "Best model saved at epoch 11 with accuracy 0.1994 and loss 2.6328.\n",
      "\tTrain Loss: 2.810 | Train Acc: 33.33%\n",
      "Epoch: 11 | Epoch Time: 0m 34s\n",
      "\t Val. Loss: 2.633 |  Val. Acc: 19.94%\n"
     ]
    },
    {
     "name": "stderr",
     "output_type": "stream",
     "text": [
      "100%|██████████| 83/83 [00:26<00:00,  3.08it/s]\n",
      "100%|██████████| 11/11 [00:06<00:00,  1.74it/s]\n"
     ]
    },
    {
     "name": "stdout",
     "output_type": "stream",
     "text": [
      "\tTrain Loss: 2.423 | Train Acc: 27.78%\n",
      "Epoch: 12 | Epoch Time: 0m 33s\n",
      "\t Val. Loss: 2.568 |  Val. Acc: 18.73%\n"
     ]
    },
    {
     "name": "stderr",
     "output_type": "stream",
     "text": [
      "100%|██████████| 83/83 [00:26<00:00,  3.16it/s]\n",
      "100%|██████████| 11/11 [00:06<00:00,  1.74it/s]\n"
     ]
    },
    {
     "name": "stdout",
     "output_type": "stream",
     "text": [
      "\tTrain Loss: 2.555 | Train Acc: 16.67%\n",
      "Epoch: 13 | Epoch Time: 0m 32s\n",
      "\t Val. Loss: 2.513 |  Val. Acc: 16.01%\n"
     ]
    },
    {
     "name": "stderr",
     "output_type": "stream",
     "text": [
      "100%|██████████| 83/83 [00:25<00:00,  3.25it/s]\n",
      "100%|██████████| 11/11 [00:06<00:00,  1.74it/s]\n"
     ]
    },
    {
     "name": "stdout",
     "output_type": "stream",
     "text": [
      "Best model saved at epoch 14 with accuracy 0.2205 and loss 2.472.\n",
      "\tTrain Loss: 2.884 | Train Acc: 16.67%\n",
      "Epoch: 14 | Epoch Time: 0m 32s\n",
      "\t Val. Loss: 2.472 |  Val. Acc: 22.05%\n"
     ]
    },
    {
     "name": "stderr",
     "output_type": "stream",
     "text": [
      "100%|██████████| 83/83 [00:24<00:00,  3.33it/s]\n",
      "100%|██████████| 11/11 [00:06<00:00,  1.72it/s]\n"
     ]
    },
    {
     "name": "stdout",
     "output_type": "stream",
     "text": [
      "\tTrain Loss: 2.353 | Train Acc: 16.67%\n",
      "Epoch: 15 | Epoch Time: 0m 31s\n",
      "\t Val. Loss: 2.418 |  Val. Acc: 20.85%\n"
     ]
    },
    {
     "name": "stderr",
     "output_type": "stream",
     "text": [
      "100%|██████████| 83/83 [00:24<00:00,  3.34it/s]\n",
      "100%|██████████| 11/11 [00:06<00:00,  1.73it/s]\n"
     ]
    },
    {
     "name": "stdout",
     "output_type": "stream",
     "text": [
      "\tTrain Loss: 2.401 | Train Acc: 22.22%\n",
      "Epoch: 16 | Epoch Time: 0m 31s\n",
      "\t Val. Loss: 2.410 |  Val. Acc: 22.05%\n"
     ]
    },
    {
     "name": "stderr",
     "output_type": "stream",
     "text": [
      "100%|██████████| 83/83 [00:23<00:00,  3.48it/s]\n",
      "100%|██████████| 11/11 [00:06<00:00,  1.73it/s]\n"
     ]
    },
    {
     "name": "stdout",
     "output_type": "stream",
     "text": [
      "Best model saved at epoch 17 with accuracy 0.2296 and loss 2.4763.\n",
      "\tTrain Loss: 2.393 | Train Acc: 33.33%\n",
      "Epoch: 17 | Epoch Time: 0m 30s\n",
      "\t Val. Loss: 2.476 |  Val. Acc: 22.96%\n"
     ]
    },
    {
     "name": "stderr",
     "output_type": "stream",
     "text": [
      "100%|██████████| 83/83 [00:23<00:00,  3.55it/s]\n",
      "100%|██████████| 11/11 [00:06<00:00,  1.74it/s]\n"
     ]
    },
    {
     "name": "stdout",
     "output_type": "stream",
     "text": [
      "\tTrain Loss: 2.523 | Train Acc: 22.22%\n",
      "Epoch: 18 | Epoch Time: 0m 29s\n",
      "\t Val. Loss: 2.412 |  Val. Acc: 18.13%\n"
     ]
    },
    {
     "name": "stderr",
     "output_type": "stream",
     "text": [
      "100%|██████████| 83/83 [00:23<00:00,  3.52it/s]\n",
      "100%|██████████| 11/11 [00:06<00:00,  1.74it/s]\n"
     ]
    },
    {
     "name": "stdout",
     "output_type": "stream",
     "text": [
      "\tTrain Loss: 2.351 | Train Acc: 11.11%\n",
      "Epoch: 19 | Epoch Time: 0m 29s\n",
      "\t Val. Loss: 2.415 |  Val. Acc: 18.13%\n"
     ]
    },
    {
     "name": "stderr",
     "output_type": "stream",
     "text": [
      "100%|██████████| 83/83 [00:23<00:00,  3.59it/s]\n",
      "100%|██████████| 11/11 [00:06<00:00,  1.75it/s]\n"
     ]
    },
    {
     "name": "stdout",
     "output_type": "stream",
     "text": [
      "\tTrain Loss: 2.428 | Train Acc: 27.78%\n",
      "Epoch: 20 | Epoch Time: 0m 29s\n",
      "\t Val. Loss: 2.351 |  Val. Acc: 22.96%\n"
     ]
    },
    {
     "name": "stderr",
     "output_type": "stream",
     "text": [
      "100%|██████████| 83/83 [00:23<00:00,  3.60it/s]\n",
      "100%|██████████| 11/11 [00:06<00:00,  1.73it/s]\n"
     ]
    },
    {
     "name": "stdout",
     "output_type": "stream",
     "text": [
      "Best model saved at epoch 21 with accuracy 0.2508 and loss 2.3291.\n",
      "\tTrain Loss: 2.392 | Train Acc: 22.22%\n",
      "Epoch: 21 | Epoch Time: 0m 29s\n",
      "\t Val. Loss: 2.329 |  Val. Acc: 25.08%\n"
     ]
    },
    {
     "name": "stderr",
     "output_type": "stream",
     "text": [
      "100%|██████████| 83/83 [00:22<00:00,  3.62it/s]\n",
      "100%|██████████| 11/11 [00:06<00:00,  1.78it/s]\n"
     ]
    },
    {
     "name": "stdout",
     "output_type": "stream",
     "text": [
      "Best model saved at epoch 22 with accuracy 0.2659 and loss 2.1935.\n",
      "\tTrain Loss: 2.795 | Train Acc: 16.67%\n",
      "Epoch: 22 | Epoch Time: 0m 29s\n",
      "\t Val. Loss: 2.193 |  Val. Acc: 26.59%\n"
     ]
    },
    {
     "name": "stderr",
     "output_type": "stream",
     "text": [
      "100%|██████████| 83/83 [00:23<00:00,  3.61it/s]\n",
      "100%|██████████| 11/11 [00:06<00:00,  1.73it/s]\n"
     ]
    },
    {
     "name": "stdout",
     "output_type": "stream",
     "text": [
      "\tTrain Loss: 2.579 | Train Acc: 33.33%\n",
      "Epoch: 23 | Epoch Time: 0m 29s\n",
      "\t Val. Loss: 2.321 |  Val. Acc: 21.45%\n"
     ]
    },
    {
     "name": "stderr",
     "output_type": "stream",
     "text": [
      "100%|██████████| 83/83 [00:22<00:00,  3.63it/s]\n",
      "100%|██████████| 11/11 [00:06<00:00,  1.75it/s]\n"
     ]
    },
    {
     "name": "stdout",
     "output_type": "stream",
     "text": [
      "\tTrain Loss: 2.875 | Train Acc: 0.00%\n",
      "Epoch: 24 | Epoch Time: 0m 29s\n",
      "\t Val. Loss: 2.329 |  Val. Acc: 24.77%\n"
     ]
    },
    {
     "name": "stderr",
     "output_type": "stream",
     "text": [
      "100%|██████████| 83/83 [00:22<00:00,  3.66it/s]\n",
      "100%|██████████| 11/11 [00:06<00:00,  1.75it/s]\n"
     ]
    },
    {
     "name": "stdout",
     "output_type": "stream",
     "text": [
      "Best model saved at epoch 25 with accuracy 0.2931 and loss 2.1219.\n",
      "\tTrain Loss: 2.321 | Train Acc: 33.33%\n",
      "Epoch: 25 | Epoch Time: 0m 29s\n",
      "\t Val. Loss: 2.122 |  Val. Acc: 29.31%\n"
     ]
    },
    {
     "name": "stderr",
     "output_type": "stream",
     "text": [
      "100%|██████████| 83/83 [00:22<00:00,  3.67it/s]\n",
      "100%|██████████| 11/11 [00:06<00:00,  1.75it/s]\n"
     ]
    },
    {
     "name": "stdout",
     "output_type": "stream",
     "text": [
      "\tTrain Loss: 2.058 | Train Acc: 38.89%\n",
      "Epoch: 26 | Epoch Time: 0m 28s\n",
      "\t Val. Loss: 2.229 |  Val. Acc: 29.31%\n"
     ]
    },
    {
     "name": "stderr",
     "output_type": "stream",
     "text": [
      "100%|██████████| 83/83 [00:22<00:00,  3.64it/s]\n",
      "100%|██████████| 11/11 [00:06<00:00,  1.73it/s]\n"
     ]
    },
    {
     "name": "stdout",
     "output_type": "stream",
     "text": [
      "\tTrain Loss: 1.857 | Train Acc: 44.44%\n",
      "Epoch: 27 | Epoch Time: 0m 29s\n",
      "\t Val. Loss: 2.191 |  Val. Acc: 25.68%\n"
     ]
    },
    {
     "name": "stderr",
     "output_type": "stream",
     "text": [
      "100%|██████████| 83/83 [00:22<00:00,  3.65it/s]\n",
      "100%|██████████| 11/11 [00:06<00:00,  1.77it/s]\n"
     ]
    },
    {
     "name": "stdout",
     "output_type": "stream",
     "text": [
      "Best model saved at epoch 28 with accuracy 0.3112 and loss 2.1309.\n",
      "\tTrain Loss: 2.831 | Train Acc: 5.56%\n",
      "Epoch: 28 | Epoch Time: 0m 29s\n",
      "\t Val. Loss: 2.131 |  Val. Acc: 31.12%\n"
     ]
    },
    {
     "name": "stderr",
     "output_type": "stream",
     "text": [
      "100%|██████████| 83/83 [00:22<00:00,  3.65it/s]\n",
      "100%|██████████| 11/11 [00:06<00:00,  1.74it/s]\n"
     ]
    },
    {
     "name": "stdout",
     "output_type": "stream",
     "text": [
      "Best model saved at epoch 29 with accuracy 0.3233 and loss 2.1282.\n",
      "\tTrain Loss: 2.331 | Train Acc: 33.33%\n",
      "Epoch: 29 | Epoch Time: 0m 29s\n",
      "\t Val. Loss: 2.128 |  Val. Acc: 32.33%\n"
     ]
    },
    {
     "name": "stderr",
     "output_type": "stream",
     "text": [
      "100%|██████████| 83/83 [00:22<00:00,  3.62it/s]\n",
      "100%|██████████| 11/11 [00:06<00:00,  1.73it/s]\n"
     ]
    },
    {
     "name": "stdout",
     "output_type": "stream",
     "text": [
      "\tTrain Loss: 2.329 | Train Acc: 22.22%\n",
      "Epoch: 30 | Epoch Time: 0m 29s\n",
      "\t Val. Loss: 2.170 |  Val. Acc: 29.91%\n"
     ]
    },
    {
     "name": "stderr",
     "output_type": "stream",
     "text": [
      "100%|██████████| 83/83 [00:23<00:00,  3.56it/s]\n",
      "100%|██████████| 11/11 [00:06<00:00,  1.73it/s]\n"
     ]
    },
    {
     "name": "stdout",
     "output_type": "stream",
     "text": [
      "\tTrain Loss: 2.219 | Train Acc: 27.78%\n",
      "Epoch: 31 | Epoch Time: 0m 29s\n",
      "\t Val. Loss: 2.025 |  Val. Acc: 32.33%\n"
     ]
    },
    {
     "name": "stderr",
     "output_type": "stream",
     "text": [
      "100%|██████████| 83/83 [00:23<00:00,  3.55it/s]\n",
      "100%|██████████| 11/11 [00:06<00:00,  1.75it/s]\n"
     ]
    },
    {
     "name": "stdout",
     "output_type": "stream",
     "text": [
      "\tTrain Loss: 2.346 | Train Acc: 27.78%\n",
      "Epoch: 32 | Epoch Time: 0m 29s\n",
      "\t Val. Loss: 2.165 |  Val. Acc: 28.70%\n"
     ]
    },
    {
     "name": "stderr",
     "output_type": "stream",
     "text": [
      "100%|██████████| 83/83 [00:23<00:00,  3.59it/s]\n",
      "100%|██████████| 11/11 [00:06<00:00,  1.73it/s]\n"
     ]
    },
    {
     "name": "stdout",
     "output_type": "stream",
     "text": [
      "\tTrain Loss: 2.371 | Train Acc: 22.22%\n",
      "Epoch: 33 | Epoch Time: 0m 29s\n",
      "\t Val. Loss: 2.097 |  Val. Acc: 30.82%\n"
     ]
    },
    {
     "name": "stderr",
     "output_type": "stream",
     "text": [
      "100%|██████████| 83/83 [00:22<00:00,  3.65it/s]\n",
      "100%|██████████| 11/11 [00:06<00:00,  1.72it/s]\n"
     ]
    },
    {
     "name": "stdout",
     "output_type": "stream",
     "text": [
      "Best model saved at epoch 34 with accuracy 0.3776 and loss 2.0101.\n",
      "\tTrain Loss: 2.260 | Train Acc: 22.22%\n",
      "Epoch: 34 | Epoch Time: 0m 29s\n",
      "\t Val. Loss: 2.010 |  Val. Acc: 37.76%\n"
     ]
    },
    {
     "name": "stderr",
     "output_type": "stream",
     "text": [
      "100%|██████████| 83/83 [00:23<00:00,  3.59it/s]\n",
      "100%|██████████| 11/11 [00:06<00:00,  1.73it/s]\n"
     ]
    },
    {
     "name": "stdout",
     "output_type": "stream",
     "text": [
      "\tTrain Loss: 2.631 | Train Acc: 11.11%\n",
      "Epoch: 35 | Epoch Time: 0m 29s\n",
      "\t Val. Loss: 2.021 |  Val. Acc: 31.12%\n"
     ]
    },
    {
     "name": "stderr",
     "output_type": "stream",
     "text": [
      "100%|██████████| 83/83 [00:23<00:00,  3.59it/s]\n",
      "100%|██████████| 11/11 [00:06<00:00,  1.73it/s]\n"
     ]
    },
    {
     "name": "stdout",
     "output_type": "stream",
     "text": [
      "\tTrain Loss: 1.710 | Train Acc: 33.33%\n",
      "Epoch: 36 | Epoch Time: 0m 29s\n",
      "\t Val. Loss: 1.919 |  Val. Acc: 37.46%\n"
     ]
    },
    {
     "name": "stderr",
     "output_type": "stream",
     "text": [
      "100%|██████████| 83/83 [00:23<00:00,  3.59it/s]\n",
      "100%|██████████| 11/11 [00:06<00:00,  1.72it/s]\n"
     ]
    },
    {
     "name": "stdout",
     "output_type": "stream",
     "text": [
      "Best model saved at epoch 37 with accuracy 0.3927 and loss 1.8706.\n",
      "\tTrain Loss: 2.419 | Train Acc: 22.22%\n",
      "Epoch: 37 | Epoch Time: 0m 29s\n",
      "\t Val. Loss: 1.871 |  Val. Acc: 39.27%\n"
     ]
    },
    {
     "name": "stderr",
     "output_type": "stream",
     "text": [
      "100%|██████████| 83/83 [00:23<00:00,  3.57it/s]\n",
      "100%|██████████| 11/11 [00:06<00:00,  1.71it/s]\n"
     ]
    },
    {
     "name": "stdout",
     "output_type": "stream",
     "text": [
      "\tTrain Loss: 2.675 | Train Acc: 16.67%\n",
      "Epoch: 38 | Epoch Time: 0m 29s\n",
      "\t Val. Loss: 2.096 |  Val. Acc: 32.02%\n"
     ]
    },
    {
     "name": "stderr",
     "output_type": "stream",
     "text": [
      "100%|██████████| 83/83 [00:23<00:00,  3.60it/s]\n",
      "100%|██████████| 11/11 [00:06<00:00,  1.77it/s]\n"
     ]
    },
    {
     "name": "stdout",
     "output_type": "stream",
     "text": [
      "\tTrain Loss: 2.539 | Train Acc: 16.67%\n",
      "Epoch: 39 | Epoch Time: 0m 29s\n",
      "\t Val. Loss: 1.930 |  Val. Acc: 38.37%\n"
     ]
    },
    {
     "name": "stderr",
     "output_type": "stream",
     "text": [
      "100%|██████████| 83/83 [00:23<00:00,  3.60it/s]\n",
      "100%|██████████| 11/11 [00:06<00:00,  1.78it/s]\n"
     ]
    },
    {
     "name": "stdout",
     "output_type": "stream",
     "text": [
      "\tTrain Loss: 1.825 | Train Acc: 44.44%\n",
      "Epoch: 40 | Epoch Time: 0m 29s\n",
      "\t Val. Loss: 1.923 |  Val. Acc: 38.97%\n"
     ]
    },
    {
     "name": "stderr",
     "output_type": "stream",
     "text": [
      "100%|██████████| 83/83 [00:23<00:00,  3.54it/s]\n",
      "100%|██████████| 11/11 [00:06<00:00,  1.77it/s]\n"
     ]
    },
    {
     "name": "stdout",
     "output_type": "stream",
     "text": [
      "\tTrain Loss: 2.083 | Train Acc: 16.67%\n",
      "Epoch: 41 | Epoch Time: 0m 29s\n",
      "\t Val. Loss: 1.921 |  Val. Acc: 36.56%\n"
     ]
    },
    {
     "name": "stderr",
     "output_type": "stream",
     "text": [
      "100%|██████████| 83/83 [00:23<00:00,  3.59it/s]\n",
      "100%|██████████| 11/11 [00:06<00:00,  1.73it/s]\n"
     ]
    },
    {
     "name": "stdout",
     "output_type": "stream",
     "text": [
      "\tTrain Loss: 2.614 | Train Acc: 16.67%\n",
      "Epoch: 42 | Epoch Time: 0m 29s\n",
      "\t Val. Loss: 1.776 |  Val. Acc: 38.97%\n"
     ]
    },
    {
     "name": "stderr",
     "output_type": "stream",
     "text": [
      "100%|██████████| 83/83 [00:22<00:00,  3.61it/s]\n",
      "100%|██████████| 11/11 [00:06<00:00,  1.73it/s]\n"
     ]
    },
    {
     "name": "stdout",
     "output_type": "stream",
     "text": [
      "\tTrain Loss: 2.603 | Train Acc: 27.78%\n",
      "Epoch: 43 | Epoch Time: 0m 29s\n",
      "\t Val. Loss: 1.875 |  Val. Acc: 38.67%\n"
     ]
    },
    {
     "name": "stderr",
     "output_type": "stream",
     "text": [
      "100%|██████████| 83/83 [00:23<00:00,  3.56it/s]\n",
      "100%|██████████| 11/11 [00:06<00:00,  1.74it/s]\n"
     ]
    },
    {
     "name": "stdout",
     "output_type": "stream",
     "text": [
      "Best model saved at epoch 44 with accuracy 0.4079 and loss 1.8768.\n",
      "\tTrain Loss: 2.258 | Train Acc: 33.33%\n",
      "Epoch: 44 | Epoch Time: 0m 29s\n",
      "\t Val. Loss: 1.877 |  Val. Acc: 40.79%\n"
     ]
    },
    {
     "name": "stderr",
     "output_type": "stream",
     "text": [
      "100%|██████████| 83/83 [00:23<00:00,  3.61it/s]\n",
      "100%|██████████| 11/11 [00:06<00:00,  1.73it/s]\n"
     ]
    },
    {
     "name": "stdout",
     "output_type": "stream",
     "text": [
      "\tTrain Loss: 1.893 | Train Acc: 33.33%\n",
      "Epoch: 45 | Epoch Time: 0m 29s\n",
      "\t Val. Loss: 1.933 |  Val. Acc: 40.18%\n"
     ]
    },
    {
     "name": "stderr",
     "output_type": "stream",
     "text": [
      "100%|██████████| 83/83 [00:23<00:00,  3.59it/s]\n",
      "100%|██████████| 11/11 [00:06<00:00,  1.72it/s]\n"
     ]
    },
    {
     "name": "stdout",
     "output_type": "stream",
     "text": [
      "\tTrain Loss: 2.171 | Train Acc: 22.22%\n",
      "Epoch: 46 | Epoch Time: 0m 29s\n",
      "\t Val. Loss: 1.899 |  Val. Acc: 37.76%\n"
     ]
    },
    {
     "name": "stderr",
     "output_type": "stream",
     "text": [
      "100%|██████████| 83/83 [00:23<00:00,  3.60it/s]\n",
      "100%|██████████| 11/11 [00:06<00:00,  1.72it/s]\n"
     ]
    },
    {
     "name": "stdout",
     "output_type": "stream",
     "text": [
      "Best model saved at epoch 47 with accuracy 0.432 and loss 1.782.\n",
      "\tTrain Loss: 1.812 | Train Acc: 27.78%\n",
      "Epoch: 47 | Epoch Time: 0m 29s\n",
      "\t Val. Loss: 1.782 |  Val. Acc: 43.20%\n"
     ]
    },
    {
     "name": "stderr",
     "output_type": "stream",
     "text": [
      "100%|██████████| 83/83 [00:23<00:00,  3.57it/s]\n",
      "100%|██████████| 11/11 [00:06<00:00,  1.72it/s]\n"
     ]
    },
    {
     "name": "stdout",
     "output_type": "stream",
     "text": [
      "Best model saved at epoch 48 with accuracy 0.4653 and loss 1.7118.\n",
      "\tTrain Loss: 2.829 | Train Acc: 16.67%\n",
      "Epoch: 48 | Epoch Time: 0m 29s\n",
      "\t Val. Loss: 1.712 |  Val. Acc: 46.53%\n"
     ]
    },
    {
     "name": "stderr",
     "output_type": "stream",
     "text": [
      "100%|██████████| 83/83 [00:23<00:00,  3.58it/s]\n",
      "100%|██████████| 11/11 [00:06<00:00,  1.74it/s]\n"
     ]
    },
    {
     "name": "stdout",
     "output_type": "stream",
     "text": [
      "\tTrain Loss: 2.368 | Train Acc: 33.33%\n",
      "Epoch: 49 | Epoch Time: 0m 29s\n",
      "\t Val. Loss: 1.823 |  Val. Acc: 40.48%\n"
     ]
    },
    {
     "name": "stderr",
     "output_type": "stream",
     "text": [
      "100%|██████████| 83/83 [00:23<00:00,  3.58it/s]\n",
      "100%|██████████| 11/11 [00:06<00:00,  1.73it/s]\n"
     ]
    },
    {
     "name": "stdout",
     "output_type": "stream",
     "text": [
      "\tTrain Loss: 1.995 | Train Acc: 22.22%\n",
      "Epoch: 50 | Epoch Time: 0m 29s\n",
      "\t Val. Loss: 1.792 |  Val. Acc: 41.09%\n"
     ]
    },
    {
     "name": "stderr",
     "output_type": "stream",
     "text": [
      "100%|██████████| 83/83 [00:23<00:00,  3.58it/s]\n",
      "100%|██████████| 11/11 [00:06<00:00,  1.73it/s]\n"
     ]
    },
    {
     "name": "stdout",
     "output_type": "stream",
     "text": [
      "\tTrain Loss: 1.613 | Train Acc: 55.56%\n",
      "Epoch: 51 | Epoch Time: 0m 29s\n",
      "\t Val. Loss: 1.785 |  Val. Acc: 41.99%\n"
     ]
    },
    {
     "name": "stderr",
     "output_type": "stream",
     "text": [
      "100%|██████████| 83/83 [00:23<00:00,  3.59it/s]\n",
      "100%|██████████| 11/11 [00:06<00:00,  1.73it/s]\n"
     ]
    },
    {
     "name": "stdout",
     "output_type": "stream",
     "text": [
      "\tTrain Loss: 2.026 | Train Acc: 33.33%\n",
      "Epoch: 52 | Epoch Time: 0m 29s\n",
      "\t Val. Loss: 1.688 |  Val. Acc: 45.02%\n"
     ]
    },
    {
     "name": "stderr",
     "output_type": "stream",
     "text": [
      "100%|██████████| 83/83 [00:23<00:00,  3.59it/s]\n",
      "100%|██████████| 11/11 [00:06<00:00,  1.72it/s]\n"
     ]
    },
    {
     "name": "stdout",
     "output_type": "stream",
     "text": [
      "\tTrain Loss: 1.338 | Train Acc: 50.00%\n",
      "Epoch: 53 | Epoch Time: 0m 29s\n",
      "\t Val. Loss: 1.751 |  Val. Acc: 41.39%\n"
     ]
    },
    {
     "name": "stderr",
     "output_type": "stream",
     "text": [
      "100%|██████████| 83/83 [00:23<00:00,  3.56it/s]\n",
      "100%|██████████| 11/11 [00:06<00:00,  1.72it/s]\n"
     ]
    },
    {
     "name": "stdout",
     "output_type": "stream",
     "text": [
      "Best model saved at epoch 54 with accuracy 0.5015 and loss 1.6165.\n",
      "\tTrain Loss: 1.858 | Train Acc: 38.89%\n",
      "Epoch: 54 | Epoch Time: 0m 29s\n",
      "\t Val. Loss: 1.617 |  Val. Acc: 50.15%\n"
     ]
    },
    {
     "name": "stderr",
     "output_type": "stream",
     "text": [
      "100%|██████████| 83/83 [00:23<00:00,  3.57it/s]\n",
      "100%|██████████| 11/11 [00:06<00:00,  1.73it/s]\n"
     ]
    },
    {
     "name": "stdout",
     "output_type": "stream",
     "text": [
      "\tTrain Loss: 1.895 | Train Acc: 22.22%\n",
      "Epoch: 55 | Epoch Time: 0m 29s\n",
      "\t Val. Loss: 1.751 |  Val. Acc: 45.62%\n"
     ]
    },
    {
     "name": "stderr",
     "output_type": "stream",
     "text": [
      "100%|██████████| 83/83 [00:23<00:00,  3.59it/s]\n",
      "100%|██████████| 11/11 [00:06<00:00,  1.72it/s]\n"
     ]
    },
    {
     "name": "stdout",
     "output_type": "stream",
     "text": [
      "\tTrain Loss: 1.559 | Train Acc: 55.56%\n",
      "Epoch: 56 | Epoch Time: 0m 29s\n",
      "\t Val. Loss: 1.679 |  Val. Acc: 44.41%\n"
     ]
    },
    {
     "name": "stderr",
     "output_type": "stream",
     "text": [
      "100%|██████████| 83/83 [00:23<00:00,  3.60it/s]\n",
      "100%|██████████| 11/11 [00:06<00:00,  1.74it/s]\n"
     ]
    },
    {
     "name": "stdout",
     "output_type": "stream",
     "text": [
      "\tTrain Loss: 2.054 | Train Acc: 27.78%\n",
      "Epoch: 57 | Epoch Time: 0m 29s\n",
      "\t Val. Loss: 1.655 |  Val. Acc: 44.11%\n"
     ]
    },
    {
     "name": "stderr",
     "output_type": "stream",
     "text": [
      "100%|██████████| 83/83 [00:23<00:00,  3.60it/s]\n",
      "100%|██████████| 11/11 [00:06<00:00,  1.72it/s]\n"
     ]
    },
    {
     "name": "stdout",
     "output_type": "stream",
     "text": [
      "\tTrain Loss: 1.581 | Train Acc: 38.89%\n",
      "Epoch: 58 | Epoch Time: 0m 29s\n",
      "\t Val. Loss: 1.629 |  Val. Acc: 47.43%\n"
     ]
    },
    {
     "name": "stderr",
     "output_type": "stream",
     "text": [
      "100%|██████████| 83/83 [00:22<00:00,  3.61it/s]\n",
      "100%|██████████| 11/11 [00:06<00:00,  1.72it/s]\n"
     ]
    },
    {
     "name": "stdout",
     "output_type": "stream",
     "text": [
      "\tTrain Loss: 1.294 | Train Acc: 55.56%\n",
      "Epoch: 59 | Epoch Time: 0m 29s\n",
      "\t Val. Loss: 1.663 |  Val. Acc: 48.34%\n"
     ]
    },
    {
     "name": "stderr",
     "output_type": "stream",
     "text": [
      "100%|██████████| 83/83 [00:22<00:00,  3.63it/s]\n",
      "100%|██████████| 11/11 [00:06<00:00,  1.72it/s]\n"
     ]
    },
    {
     "name": "stdout",
     "output_type": "stream",
     "text": [
      "\tTrain Loss: 1.667 | Train Acc: 44.44%\n",
      "Epoch: 60 | Epoch Time: 0m 29s\n",
      "\t Val. Loss: 1.576 |  Val. Acc: 48.04%\n"
     ]
    },
    {
     "name": "stderr",
     "output_type": "stream",
     "text": [
      "100%|██████████| 83/83 [00:22<00:00,  3.64it/s]\n",
      "100%|██████████| 11/11 [00:06<00:00,  1.74it/s]\n"
     ]
    },
    {
     "name": "stdout",
     "output_type": "stream",
     "text": [
      "\tTrain Loss: 2.195 | Train Acc: 16.67%\n",
      "Epoch: 61 | Epoch Time: 0m 29s\n",
      "\t Val. Loss: 1.644 |  Val. Acc: 48.04%\n"
     ]
    },
    {
     "name": "stderr",
     "output_type": "stream",
     "text": [
      "100%|██████████| 83/83 [00:22<00:00,  3.64it/s]\n",
      "100%|██████████| 11/11 [00:06<00:00,  1.73it/s]\n"
     ]
    },
    {
     "name": "stdout",
     "output_type": "stream",
     "text": [
      "\tTrain Loss: 1.380 | Train Acc: 44.44%\n",
      "Epoch: 62 | Epoch Time: 0m 29s\n",
      "\t Val. Loss: 1.739 |  Val. Acc: 47.13%\n"
     ]
    },
    {
     "name": "stderr",
     "output_type": "stream",
     "text": [
      "100%|██████████| 83/83 [00:22<00:00,  3.65it/s]\n",
      "100%|██████████| 11/11 [00:06<00:00,  1.73it/s]\n"
     ]
    },
    {
     "name": "stdout",
     "output_type": "stream",
     "text": [
      "\tTrain Loss: 1.561 | Train Acc: 55.56%\n",
      "Epoch: 63 | Epoch Time: 0m 29s\n",
      "\t Val. Loss: 1.648 |  Val. Acc: 44.11%\n"
     ]
    },
    {
     "name": "stderr",
     "output_type": "stream",
     "text": [
      "100%|██████████| 83/83 [00:22<00:00,  3.64it/s]\n",
      "100%|██████████| 11/11 [00:06<00:00,  1.73it/s]\n"
     ]
    },
    {
     "name": "stdout",
     "output_type": "stream",
     "text": [
      "\tTrain Loss: 1.668 | Train Acc: 33.33%\n",
      "Epoch: 64 | Epoch Time: 0m 29s\n",
      "\t Val. Loss: 1.712 |  Val. Acc: 47.43%\n"
     ]
    },
    {
     "name": "stderr",
     "output_type": "stream",
     "text": [
      "100%|██████████| 83/83 [00:22<00:00,  3.67it/s]\n",
      "100%|██████████| 11/11 [00:06<00:00,  1.73it/s]\n"
     ]
    },
    {
     "name": "stdout",
     "output_type": "stream",
     "text": [
      "\tTrain Loss: 1.460 | Train Acc: 61.11%\n",
      "Epoch: 65 | Epoch Time: 0m 28s\n",
      "\t Val. Loss: 1.591 |  Val. Acc: 46.83%\n"
     ]
    },
    {
     "name": "stderr",
     "output_type": "stream",
     "text": [
      "100%|██████████| 83/83 [00:22<00:00,  3.62it/s]\n",
      "100%|██████████| 11/11 [00:06<00:00,  1.74it/s]\n"
     ]
    },
    {
     "name": "stdout",
     "output_type": "stream",
     "text": [
      "\tTrain Loss: 2.293 | Train Acc: 33.33%\n",
      "Epoch: 66 | Epoch Time: 0m 29s\n",
      "\t Val. Loss: 1.571 |  Val. Acc: 48.94%\n"
     ]
    },
    {
     "name": "stderr",
     "output_type": "stream",
     "text": [
      "100%|██████████| 83/83 [00:22<00:00,  3.64it/s]\n",
      "100%|██████████| 11/11 [00:06<00:00,  1.74it/s]\n"
     ]
    },
    {
     "name": "stdout",
     "output_type": "stream",
     "text": [
      "Best model saved at epoch 67 with accuracy 0.5045 and loss 1.5599.\n",
      "\tTrain Loss: 1.489 | Train Acc: 38.89%\n",
      "Epoch: 67 | Epoch Time: 0m 29s\n",
      "\t Val. Loss: 1.560 |  Val. Acc: 50.45%\n"
     ]
    },
    {
     "name": "stderr",
     "output_type": "stream",
     "text": [
      "100%|██████████| 83/83 [00:22<00:00,  3.67it/s]\n",
      "100%|██████████| 11/11 [00:06<00:00,  1.74it/s]\n"
     ]
    },
    {
     "name": "stdout",
     "output_type": "stream",
     "text": [
      "\tTrain Loss: 1.265 | Train Acc: 55.56%\n",
      "Epoch: 68 | Epoch Time: 0m 28s\n",
      "\t Val. Loss: 1.579 |  Val. Acc: 49.24%\n"
     ]
    },
    {
     "name": "stderr",
     "output_type": "stream",
     "text": [
      "100%|██████████| 83/83 [00:22<00:00,  3.65it/s]\n",
      "100%|██████████| 11/11 [00:06<00:00,  1.74it/s]\n"
     ]
    },
    {
     "name": "stdout",
     "output_type": "stream",
     "text": [
      "\tTrain Loss: 1.699 | Train Acc: 33.33%\n",
      "Epoch: 69 | Epoch Time: 0m 29s\n",
      "\t Val. Loss: 1.586 |  Val. Acc: 48.94%\n"
     ]
    },
    {
     "name": "stderr",
     "output_type": "stream",
     "text": [
      "100%|██████████| 83/83 [00:22<00:00,  3.67it/s]\n",
      "100%|██████████| 11/11 [00:06<00:00,  1.72it/s]\n"
     ]
    },
    {
     "name": "stdout",
     "output_type": "stream",
     "text": [
      "\tTrain Loss: 1.647 | Train Acc: 38.89%\n",
      "Epoch: 70 | Epoch Time: 0m 29s\n",
      "\t Val. Loss: 1.495 |  Val. Acc: 47.43%\n"
     ]
    },
    {
     "name": "stderr",
     "output_type": "stream",
     "text": [
      "100%|██████████| 83/83 [00:22<00:00,  3.67it/s]\n",
      "100%|██████████| 11/11 [00:06<00:00,  1.73it/s]\n"
     ]
    },
    {
     "name": "stdout",
     "output_type": "stream",
     "text": [
      "\tTrain Loss: 1.859 | Train Acc: 27.78%\n",
      "Epoch: 71 | Epoch Time: 0m 28s\n",
      "\t Val. Loss: 1.568 |  Val. Acc: 47.43%\n"
     ]
    },
    {
     "name": "stderr",
     "output_type": "stream",
     "text": [
      "100%|██████████| 83/83 [00:22<00:00,  3.67it/s]\n",
      "100%|██████████| 11/11 [00:06<00:00,  1.74it/s]\n"
     ]
    },
    {
     "name": "stdout",
     "output_type": "stream",
     "text": [
      "\tTrain Loss: 1.551 | Train Acc: 44.44%\n",
      "Epoch: 72 | Epoch Time: 0m 28s\n",
      "\t Val. Loss: 1.542 |  Val. Acc: 50.45%\n"
     ]
    },
    {
     "name": "stderr",
     "output_type": "stream",
     "text": [
      "100%|██████████| 83/83 [00:22<00:00,  3.66it/s]\n",
      "100%|██████████| 11/11 [00:06<00:00,  1.74it/s]\n"
     ]
    },
    {
     "name": "stdout",
     "output_type": "stream",
     "text": [
      "Best model saved at epoch 73 with accuracy 0.5287 and loss 1.4896.\n",
      "\tTrain Loss: 1.536 | Train Acc: 50.00%\n",
      "Epoch: 73 | Epoch Time: 0m 29s\n",
      "\t Val. Loss: 1.490 |  Val. Acc: 52.87%\n"
     ]
    },
    {
     "name": "stderr",
     "output_type": "stream",
     "text": [
      "100%|██████████| 83/83 [00:22<00:00,  3.66it/s]\n",
      "100%|██████████| 11/11 [00:06<00:00,  1.74it/s]\n"
     ]
    },
    {
     "name": "stdout",
     "output_type": "stream",
     "text": [
      "\tTrain Loss: 1.655 | Train Acc: 55.56%\n",
      "Epoch: 74 | Epoch Time: 0m 28s\n",
      "\t Val. Loss: 1.564 |  Val. Acc: 50.76%\n"
     ]
    },
    {
     "name": "stderr",
     "output_type": "stream",
     "text": [
      "100%|██████████| 83/83 [00:22<00:00,  3.66it/s]\n",
      "100%|██████████| 11/11 [00:06<00:00,  1.74it/s]\n"
     ]
    },
    {
     "name": "stdout",
     "output_type": "stream",
     "text": [
      "Best model saved at epoch 75 with accuracy 0.5378 and loss 1.4092.\n",
      "\tTrain Loss: 1.749 | Train Acc: 38.89%\n",
      "Epoch: 75 | Epoch Time: 0m 29s\n",
      "\t Val. Loss: 1.409 |  Val. Acc: 53.78%\n"
     ]
    },
    {
     "name": "stderr",
     "output_type": "stream",
     "text": [
      "100%|██████████| 83/83 [00:22<00:00,  3.67it/s]\n",
      "100%|██████████| 11/11 [00:06<00:00,  1.73it/s]\n"
     ]
    },
    {
     "name": "stdout",
     "output_type": "stream",
     "text": [
      "\tTrain Loss: 1.194 | Train Acc: 50.00%\n",
      "Epoch: 76 | Epoch Time: 0m 28s\n",
      "\t Val. Loss: 1.477 |  Val. Acc: 48.64%\n"
     ]
    },
    {
     "name": "stderr",
     "output_type": "stream",
     "text": [
      "100%|██████████| 83/83 [00:22<00:00,  3.67it/s]\n",
      "100%|██████████| 11/11 [00:06<00:00,  1.74it/s]\n"
     ]
    },
    {
     "name": "stdout",
     "output_type": "stream",
     "text": [
      "Best model saved at epoch 77 with accuracy 0.5559 and loss 1.3669.\n",
      "\tTrain Loss: 2.155 | Train Acc: 50.00%\n",
      "Epoch: 77 | Epoch Time: 0m 29s\n",
      "\t Val. Loss: 1.367 |  Val. Acc: 55.59%\n"
     ]
    },
    {
     "name": "stderr",
     "output_type": "stream",
     "text": [
      "100%|██████████| 83/83 [00:22<00:00,  3.68it/s]\n",
      "100%|██████████| 11/11 [00:06<00:00,  1.74it/s]\n"
     ]
    },
    {
     "name": "stdout",
     "output_type": "stream",
     "text": [
      "\tTrain Loss: 1.790 | Train Acc: 33.33%\n",
      "Epoch: 78 | Epoch Time: 0m 28s\n",
      "\t Val. Loss: 1.503 |  Val. Acc: 49.55%\n"
     ]
    },
    {
     "name": "stderr",
     "output_type": "stream",
     "text": [
      "100%|██████████| 83/83 [00:22<00:00,  3.69it/s]\n",
      "100%|██████████| 11/11 [00:06<00:00,  1.73it/s]\n"
     ]
    },
    {
     "name": "stdout",
     "output_type": "stream",
     "text": [
      "\tTrain Loss: 1.280 | Train Acc: 61.11%\n",
      "Epoch: 79 | Epoch Time: 0m 28s\n",
      "\t Val. Loss: 1.452 |  Val. Acc: 52.27%\n"
     ]
    },
    {
     "name": "stderr",
     "output_type": "stream",
     "text": [
      "100%|██████████| 83/83 [00:22<00:00,  3.71it/s]\n",
      "100%|██████████| 11/11 [00:06<00:00,  1.76it/s]\n"
     ]
    },
    {
     "name": "stdout",
     "output_type": "stream",
     "text": [
      "\tTrain Loss: 1.488 | Train Acc: 55.56%\n",
      "Epoch: 80 | Epoch Time: 0m 28s\n",
      "\t Val. Loss: 1.523 |  Val. Acc: 49.85%\n"
     ]
    },
    {
     "name": "stderr",
     "output_type": "stream",
     "text": [
      "100%|██████████| 83/83 [00:22<00:00,  3.61it/s]\n",
      "100%|██████████| 11/11 [00:06<00:00,  1.74it/s]\n"
     ]
    },
    {
     "name": "stdout",
     "output_type": "stream",
     "text": [
      "\tTrain Loss: 1.074 | Train Acc: 66.67%\n",
      "Epoch: 81 | Epoch Time: 0m 29s\n",
      "\t Val. Loss: 1.540 |  Val. Acc: 54.08%\n"
     ]
    },
    {
     "name": "stderr",
     "output_type": "stream",
     "text": [
      "100%|██████████| 83/83 [00:22<00:00,  3.65it/s]\n",
      "100%|██████████| 11/11 [00:06<00:00,  1.73it/s]\n"
     ]
    },
    {
     "name": "stdout",
     "output_type": "stream",
     "text": [
      "Best model saved at epoch 82 with accuracy 0.5589 and loss 1.3511.\n",
      "\tTrain Loss: 1.606 | Train Acc: 55.56%\n",
      "Epoch: 82 | Epoch Time: 0m 29s\n",
      "\t Val. Loss: 1.351 |  Val. Acc: 55.89%\n"
     ]
    },
    {
     "name": "stderr",
     "output_type": "stream",
     "text": [
      "100%|██████████| 83/83 [00:22<00:00,  3.65it/s]\n",
      "100%|██████████| 11/11 [00:06<00:00,  1.74it/s]\n"
     ]
    },
    {
     "name": "stdout",
     "output_type": "stream",
     "text": [
      "\tTrain Loss: 1.362 | Train Acc: 55.56%\n",
      "Epoch: 83 | Epoch Time: 0m 29s\n",
      "\t Val. Loss: 1.386 |  Val. Acc: 51.66%\n"
     ]
    },
    {
     "name": "stderr",
     "output_type": "stream",
     "text": [
      "100%|██████████| 83/83 [00:22<00:00,  3.65it/s]\n",
      "100%|██████████| 11/11 [00:06<00:00,  1.74it/s]\n"
     ]
    },
    {
     "name": "stdout",
     "output_type": "stream",
     "text": [
      "\tTrain Loss: 1.982 | Train Acc: 50.00%\n",
      "Epoch: 84 | Epoch Time: 0m 29s\n",
      "\t Val. Loss: 1.388 |  Val. Acc: 55.29%\n"
     ]
    },
    {
     "name": "stderr",
     "output_type": "stream",
     "text": [
      "100%|██████████| 83/83 [00:22<00:00,  3.66it/s]\n",
      "100%|██████████| 11/11 [00:06<00:00,  1.74it/s]\n"
     ]
    },
    {
     "name": "stdout",
     "output_type": "stream",
     "text": [
      "\tTrain Loss: 1.626 | Train Acc: 38.89%\n",
      "Epoch: 85 | Epoch Time: 0m 29s\n",
      "\t Val. Loss: 1.425 |  Val. Acc: 53.17%\n"
     ]
    },
    {
     "name": "stderr",
     "output_type": "stream",
     "text": [
      "100%|██████████| 83/83 [00:22<00:00,  3.65it/s]\n",
      "100%|██████████| 11/11 [00:06<00:00,  1.74it/s]\n"
     ]
    },
    {
     "name": "stdout",
     "output_type": "stream",
     "text": [
      "\tTrain Loss: 1.485 | Train Acc: 55.56%\n",
      "Epoch: 86 | Epoch Time: 0m 29s\n",
      "\t Val. Loss: 1.549 |  Val. Acc: 52.27%\n"
     ]
    },
    {
     "name": "stderr",
     "output_type": "stream",
     "text": [
      "100%|██████████| 83/83 [00:22<00:00,  3.65it/s]\n",
      "100%|██████████| 11/11 [00:06<00:00,  1.74it/s]\n"
     ]
    },
    {
     "name": "stdout",
     "output_type": "stream",
     "text": [
      "Best model saved at epoch 87 with accuracy 0.574 and loss 1.315.\n",
      "\tTrain Loss: 1.874 | Train Acc: 50.00%\n",
      "Epoch: 87 | Epoch Time: 0m 29s\n",
      "\t Val. Loss: 1.315 |  Val. Acc: 57.40%\n"
     ]
    },
    {
     "name": "stderr",
     "output_type": "stream",
     "text": [
      "100%|██████████| 83/83 [00:22<00:00,  3.61it/s]\n",
      "100%|██████████| 11/11 [00:06<00:00,  1.76it/s]\n"
     ]
    },
    {
     "name": "stdout",
     "output_type": "stream",
     "text": [
      "\tTrain Loss: 1.754 | Train Acc: 50.00%\n",
      "Epoch: 88 | Epoch Time: 0m 29s\n",
      "\t Val. Loss: 1.561 |  Val. Acc: 54.08%\n"
     ]
    },
    {
     "name": "stderr",
     "output_type": "stream",
     "text": [
      "100%|██████████| 83/83 [00:22<00:00,  3.63it/s]\n",
      "100%|██████████| 11/11 [00:06<00:00,  1.74it/s]\n"
     ]
    },
    {
     "name": "stdout",
     "output_type": "stream",
     "text": [
      "Best model saved at epoch 89 with accuracy 0.5801 and loss 1.3539.\n",
      "\tTrain Loss: 1.365 | Train Acc: 61.11%\n",
      "Epoch: 89 | Epoch Time: 0m 29s\n",
      "\t Val. Loss: 1.354 |  Val. Acc: 58.01%\n"
     ]
    },
    {
     "name": "stderr",
     "output_type": "stream",
     "text": [
      "100%|██████████| 83/83 [00:22<00:00,  3.63it/s]\n",
      "100%|██████████| 11/11 [00:06<00:00,  1.74it/s]\n"
     ]
    },
    {
     "name": "stdout",
     "output_type": "stream",
     "text": [
      "\tTrain Loss: 1.324 | Train Acc: 50.00%\n",
      "Epoch: 90 | Epoch Time: 0m 29s\n",
      "\t Val. Loss: 1.335 |  Val. Acc: 58.01%\n"
     ]
    },
    {
     "name": "stderr",
     "output_type": "stream",
     "text": [
      "100%|██████████| 83/83 [00:22<00:00,  3.65it/s]\n",
      "100%|██████████| 11/11 [00:06<00:00,  1.73it/s]\n"
     ]
    },
    {
     "name": "stdout",
     "output_type": "stream",
     "text": [
      "Best model saved at epoch 91 with accuracy 0.5831 and loss 1.2631.\n",
      "\tTrain Loss: 1.263 | Train Acc: 44.44%\n",
      "Epoch: 91 | Epoch Time: 0m 29s\n",
      "\t Val. Loss: 1.263 |  Val. Acc: 58.31%\n"
     ]
    },
    {
     "name": "stderr",
     "output_type": "stream",
     "text": [
      "100%|██████████| 83/83 [00:22<00:00,  3.65it/s]\n",
      "100%|██████████| 11/11 [00:06<00:00,  1.74it/s]\n"
     ]
    },
    {
     "name": "stdout",
     "output_type": "stream",
     "text": [
      "\tTrain Loss: 1.206 | Train Acc: 50.00%\n",
      "Epoch: 92 | Epoch Time: 0m 29s\n",
      "\t Val. Loss: 1.415 |  Val. Acc: 56.50%\n"
     ]
    },
    {
     "name": "stderr",
     "output_type": "stream",
     "text": [
      "100%|██████████| 83/83 [00:22<00:00,  3.64it/s]\n",
      "100%|██████████| 11/11 [00:06<00:00,  1.72it/s]\n"
     ]
    },
    {
     "name": "stdout",
     "output_type": "stream",
     "text": [
      "Best model saved at epoch 93 with accuracy 0.6042 and loss 1.2077.\n",
      "\tTrain Loss: 1.195 | Train Acc: 66.67%\n",
      "Epoch: 93 | Epoch Time: 0m 29s\n",
      "\t Val. Loss: 1.208 |  Val. Acc: 60.42%\n"
     ]
    },
    {
     "name": "stderr",
     "output_type": "stream",
     "text": [
      "100%|██████████| 83/83 [00:22<00:00,  3.67it/s]\n",
      "100%|██████████| 11/11 [00:06<00:00,  1.72it/s]\n"
     ]
    },
    {
     "name": "stdout",
     "output_type": "stream",
     "text": [
      "\tTrain Loss: 1.061 | Train Acc: 72.22%\n",
      "Epoch: 94 | Epoch Time: 0m 29s\n",
      "\t Val. Loss: 1.297 |  Val. Acc: 59.52%\n"
     ]
    },
    {
     "name": "stderr",
     "output_type": "stream",
     "text": [
      "100%|██████████| 83/83 [00:22<00:00,  3.65it/s]\n",
      "100%|██████████| 11/11 [00:06<00:00,  1.72it/s]\n"
     ]
    },
    {
     "name": "stdout",
     "output_type": "stream",
     "text": [
      "\tTrain Loss: 1.162 | Train Acc: 61.11%\n",
      "Epoch: 95 | Epoch Time: 0m 29s\n",
      "\t Val. Loss: 1.249 |  Val. Acc: 59.52%\n"
     ]
    },
    {
     "name": "stderr",
     "output_type": "stream",
     "text": [
      "100%|██████████| 83/83 [00:22<00:00,  3.63it/s]\n",
      "100%|██████████| 11/11 [00:06<00:00,  1.73it/s]\n"
     ]
    },
    {
     "name": "stdout",
     "output_type": "stream",
     "text": [
      "\tTrain Loss: 1.168 | Train Acc: 61.11%\n",
      "Epoch: 96 | Epoch Time: 0m 29s\n",
      "\t Val. Loss: 1.325 |  Val. Acc: 54.08%\n"
     ]
    },
    {
     "name": "stderr",
     "output_type": "stream",
     "text": [
      "100%|██████████| 83/83 [00:22<00:00,  3.61it/s]\n",
      "100%|██████████| 11/11 [00:06<00:00,  1.73it/s]\n"
     ]
    },
    {
     "name": "stdout",
     "output_type": "stream",
     "text": [
      "\tTrain Loss: 1.457 | Train Acc: 61.11%\n",
      "Epoch: 97 | Epoch Time: 0m 29s\n",
      "\t Val. Loss: 1.402 |  Val. Acc: 59.21%\n"
     ]
    },
    {
     "name": "stderr",
     "output_type": "stream",
     "text": [
      "100%|██████████| 83/83 [00:22<00:00,  3.67it/s]\n",
      "100%|██████████| 11/11 [00:06<00:00,  1.73it/s]\n"
     ]
    },
    {
     "name": "stdout",
     "output_type": "stream",
     "text": [
      "\tTrain Loss: 1.099 | Train Acc: 72.22%\n",
      "Epoch: 98 | Epoch Time: 0m 28s\n",
      "\t Val. Loss: 1.339 |  Val. Acc: 59.52%\n"
     ]
    },
    {
     "name": "stderr",
     "output_type": "stream",
     "text": [
      "  8%|▊         | 7/83 [00:02<00:17,  4.46it/s]"
     ]
    }
   ],
   "source": [
    "with experiment.train():\n",
    "    train(model, criterion, optimizer, hyper_params, train_loader, val_loader)"
   ]
  },
  {
   "cell_type": "code",
   "execution_count": null,
   "metadata": {},
   "outputs": [
    {
     "name": "stderr",
     "output_type": "stream",
     "text": [
      "100%|██████████| 11/11 [00:57<00:00,  5.22s/it]"
     ]
    },
    {
     "name": "stdout",
     "output_type": "stream",
     "text": [
      "Test Loss: 1.628 | Test Acc: 48.17%\n"
     ]
    },
    {
     "name": "stderr",
     "output_type": "stream",
     "text": [
      "\n"
     ]
    }
   ],
   "source": [
    "with experiment.test():\n",
    "\n",
    "    model.load_state_dict(torch.load(hyper_params['best_model_path'])) #Loading the state dict into the model\n",
    "    test_loss, test_acc = evaluate(model, test_loader, criterion, device, experiment) \n",
    "    print(f'Test Loss: {test_loss:.3f} | Test Acc: {test_acc*100:.2f}%')"
   ]
  },
  {
   "cell_type": "code",
   "execution_count": null,
   "metadata": {},
   "outputs": [],
   "source": [
    "confusion(model, test_loader, device = device, experiment=experiment)"
   ]
  },
  {
   "cell_type": "code",
   "execution_count": null,
   "metadata": {},
   "outputs": [
    {
     "name": "stderr",
     "output_type": "stream",
     "text": [
      "COMET INFO: ---------------------------\n",
      "COMET INFO: Comet.ml Experiment Summary\n",
      "COMET INFO: ---------------------------\n",
      "COMET INFO:   Data:\n",
      "COMET INFO:     display_summary_level : 1\n",
      "COMET INFO:     url                   : https://www.comet.com/leothesouthafrican/celebs-20-mobilenet/16a359a1d08f444aa1413a6dd153ab58\n",
      "COMET INFO:   Metrics [count] (min, max):\n",
      "COMET INFO:     test_acc [11]          : (3.977272727272727, 48.166322437199675)\n",
      "COMET INFO:     test_loss [11]         : (0.14137070829218085, 1.627750580961054)\n",
      "COMET INFO:     train_acc [4150]       : (0.0, 0.71875)\n",
      "COMET INFO:     train_loss [4150]      : (1.217437505722046, 5.218901634216309)\n",
      "COMET INFO:     train_step_time [4150] : (0, 3)\n",
      "COMET INFO:     train_val_acc [50]     : (0.06646525679758308, 0.5105740181268882)\n",
      "COMET INFO:     train_val_loss [50]    : (1.5643122738057917, 3.078586838462136)\n",
      "COMET INFO:   Parameters:\n",
      "COMET INFO:     batch_size           : 32\n",
      "COMET INFO:     best_model_path      : output/MN3L_celebs20.pt\n",
      "COMET INFO:     comet_exp            : <comet_ml._online.Experiment object at 0x10aab8700>\n",
      "COMET INFO:     criterion            : CrossEntropyLoss\n",
      "COMET INFO:     dataset              : Celebrities 20\n",
      "COMET INFO:     device               : mps\n",
      "COMET INFO:     epochs               : 50\n",
      "COMET INFO:     image_channels       : 3\n",
      "COMET INFO:     image_size           : 112\n",
      "COMET INFO:     learning_rate        : 0.001\n",
      "COMET INFO:     loaded_model_path    : False\n",
      "COMET INFO:     model_name           : MobileNetV3 starting from a fresh model with no preloaded weights.\n",
      "COMET INFO:     num_layers           : na\n",
      "COMET INFO:     optimizer            : Adam\n",
      "COMET INFO:     output_size          : 20\n",
      "COMET INFO:     save_at_end          : True\n",
      "COMET INFO:     train_val_test_split : [0.8, 0.1, 0.1]\n",
      "COMET INFO:   Uploads:\n",
      "COMET INFO:     confusion-matrix         : 1\n",
      "COMET INFO:     environment details      : 1\n",
      "COMET INFO:     filename                 : 1\n",
      "COMET INFO:     git metadata             : 1\n",
      "COMET INFO:     git-patch (uncompressed) : 1 (890.17 KB)\n",
      "COMET INFO:     installed packages       : 1\n",
      "COMET INFO:     notebook                 : 1\n",
      "COMET INFO:     source_code              : 1\n",
      "COMET INFO: ---------------------------\n",
      "COMET WARNING: Comet has disabled auto-logging functionality as it has been imported after the following ML modules: torch. Metrics and hyperparameters can still be logged using Experiment.log_metrics() and Experiment.log_parameters()\n",
      "COMET INFO: Uploading metrics, params, and assets to Comet before program termination (may take several seconds)\n",
      "COMET INFO: The Python SDK has 3600 seconds to finish before aborting...\n"
     ]
    }
   ],
   "source": [
    "experiment.end()"
   ]
  },
  {
   "cell_type": "code",
   "execution_count": null,
   "metadata": {},
   "outputs": [],
   "source": []
  }
 ],
 "metadata": {
  "kernelspec": {
   "display_name": "Python 3 (ipykernel)",
   "language": "python",
   "name": "python3"
  },
  "language_info": {
   "codemirror_mode": {
    "name": "ipython",
    "version": 3
   },
   "file_extension": ".py",
   "mimetype": "text/x-python",
   "name": "python",
   "nbconvert_exporter": "python",
   "pygments_lexer": "ipython3",
   "version": "3.9.16"
  },
  "orig_nbformat": 4,
  "vscode": {
   "interpreter": {
    "hash": "3eacf7c38dfd06f03ba84c25998c3b980b49954d2ca7328ee71b9a00e83ad9fc"
   }
  }
 },
 "nbformat": 4,
 "nbformat_minor": 2
}
