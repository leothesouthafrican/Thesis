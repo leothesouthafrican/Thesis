{
 "cells": [
  {
   "cell_type": "code",
   "execution_count": 1,
   "metadata": {},
   "outputs": [],
   "source": [
    "utils_path = \"../utils\"\n",
    "models_path = \"../models\"\n",
    "data_path = \"../data/faces_200\"\n",
    "\n",
    "import sys\n",
    "import os\n",
    "sys.path.insert(1, utils_path)\n",
    "sys.path.insert(2, models_path)\n",
    "\n",
    "import torch \n",
    "import torch.nn as nn\n",
    "\n",
    "import matplotlib.pyplot as plt\n",
    "\n",
    "import numpy as np\n",
    "\n",
    "from comet_ml import Experiment\n",
    "\n",
    "import config\n",
    "\n",
    "import time \n",
    "import copy\n",
    "from tqdm.notebook import trange, tqdm\n",
    "\n",
    "import torchvision\n",
    "\n",
    "from torch.utils.data import DataLoader\n",
    "from torchvision import datasets, transforms\n",
    "import torchvision.transforms as transformss\n",
    "\n",
    "from MBNV3 import MobileNetV3\n",
    "\n",
    "from functions import train, evaluate, confusion, unzip_files, unzip"
   ]
  },
  {
   "cell_type": "code",
   "execution_count": 2,
   "metadata": {},
   "outputs": [
    {
     "name": "stderr",
     "output_type": "stream",
     "text": [
      "COMET WARNING: Comet has disabled auto-logging functionality as it has been imported after the following ML modules: torch. Metrics and hyperparameters can still be logged using Experiment.log_metrics() and Experiment.log_parameters()\n",
      "COMET WARNING: As you are running in a Jupyter environment, you will need to call `experiment.end()` when finished to ensure all metrics and code are logged before exiting.\n",
      "COMET INFO: Experiment is live on comet.com https://www.comet.com/leothesouthafrican/celebs-mobilenet/de34aac30e734a5e9a060ba2e38af6d7\n",
      "\n"
     ]
    },
    {
     "name": "stdout",
     "output_type": "stream",
     "text": [
      "Output Size: 200\n",
      "Model Loaded\n"
     ]
    }
   ],
   "source": [
    "#Initialising GereralTorch class\n",
    "\n",
    "#Setting the experiment with the API key stored in config.py\n",
    "experiment = Experiment(project_name = \"Celebs_MobileNet\", workspace = \"leothesouthafrican\", api_key = config.api_key)\n",
    "\n",
    "#Report multiple hyperparameters using a dictionary\n",
    "hyper_params = {\n",
    "    'learning_rate': 0.001,\n",
    "    'epochs': 300,\n",
    "    'batch_size': 32,\n",
    "    'image_size': 128,\n",
    "    'image_channels': 3,\n",
    "    'output_size': len(os.listdir(data_path)) - 1,\n",
    "    'num_layers': 'na',\n",
    "    'train_val_split': 0.90,\n",
    "    'device': 'mps',\n",
    "    'model_name': 'Basic MobileNetV3',\n",
    "    'criterion': 'CrossEntropyLoss',\n",
    "    'optimizer': 'Adam',\n",
    "    'dataset': 'MSFT-FACES',\n",
    "    'best_model_path': 'output/MN3L_faces200.pt',\n",
    "    'loaded_model_path': '/Users/leo/Desktop/Thesis/faces_dataset/output/MN3L_faces200.pt',\n",
    "    'comet_experiment': experiment,\n",
    "    'save_at_end': True,\n",
    "}\n",
    "\n",
    "print(f'Output Size: {hyper_params[\"output_size\"]}')\n",
    "\n",
    "#Setting the device\n",
    "device = torch.device(hyper_params['device'])\n",
    "\n",
    "#checking if the model is to be a loaded one and if so loading it\n",
    "if hyper_params['loaded_model_path']:\n",
    "    state_dict = torch.load(hyper_params['loaded_model_path']) #Loading the state dict\n",
    "    model = MobileNetV3(mode='large') #Loading the model as a backbone\n",
    "    model.load_state_dict(state_dict) #Loading the state dict into the model\n",
    "    print('Model Loaded')\n",
    "else:\n",
    "    # Loading a fresh model\n",
    "    model = MobileNetV3(mode='large')\n",
    "\n",
    "#passing the model to the device\n",
    "model.to(device)\n",
    "\n",
    "# Setting the loss function and optimizer\n",
    "criterion = nn.CrossEntropyLoss().to(device) #Setting the loss function\n",
    "optimizer = torch.optim.Adam(model.parameters(), lr=hyper_params['learning_rate']) #Setting the optimizer\n",
    "\n",
    "# Logging the hyperparameters to comet\n",
    "experiment.log_parameters(hyper_params)"
   ]
  },
  {
   "cell_type": "code",
   "execution_count": 3,
   "metadata": {},
   "outputs": [],
   "source": [
    "#defining transforms\n",
    "\n",
    "train_transform = transforms.Compose([\n",
    "                transforms.Resize((hyper_params['image_size'],hyper_params['image_size'])),\n",
    "                transforms.ToTensor(),\n",
    "                transforms.Normalize(mean = [0.485, 0.456, 0.406], std = [0.229, 0.224, 0.225]),\n",
    "                transforms.ColorJitter(brightness=0.1, contrast=0.1, saturation=0.1, hue=0.1, p=0.1),\n",
    "                transforms.RandomAffine(degrees=10, translate=(0.1,0.1), scale=(0.8,1.2)),\n",
    "                transforms.RandomRotation(15),\n",
    "                transforms.RandomHorizontalFlip(0.3333),\n",
    "                transforms.RandomVerticalFlip(0.2),\n",
    "                transforms.RandomErasing(0.3333),\n",
    "                transforms.RandomCrop(hyper_params['image_size'], padding=2)\n",
    "            ])\n",
    "\n",
    "test_transform = transforms.Compose([\n",
    "                transforms.Resize((hyper_params['image_size'],hyper_params['image_size'])),\n",
    "                transforms.ToTensor()\n",
    "            ])"
   ]
  },
  {
   "cell_type": "code",
   "execution_count": 4,
   "metadata": {},
   "outputs": [
    {
     "name": "stdout",
     "output_type": "stream",
     "text": [
      "Train data size:  12960\n",
      "Validation data size:  1440\n",
      "Test data size:  2880\n"
     ]
    }
   ],
   "source": [
    "#Loading the dataset\n",
    "\n",
    "dataset = datasets.ImageFolder(root=data_path, transform=train_transform)\n",
    "\n",
    "#Splitting the dataset into train and test\n",
    "train_size = int(0.8 * len(dataset))\n",
    "test_size = len(dataset) - train_size\n",
    "\n",
    "train_dataset, test_dataset = torch.utils.data.random_split(dataset, [train_size, test_size])\n",
    "\n",
    "#Creating the dataloaders\n",
    "train_loader = torch.utils.data.DataLoader(dataset=train_dataset,\n",
    "                                            batch_size=hyper_params['batch_size'],\n",
    "                                            shuffle=True,\n",
    "                                            num_workers=8)\n",
    "\n",
    "test_loader = torch.utils.data.DataLoader(dataset=test_dataset,\n",
    "                                            batch_size=hyper_params['batch_size'],\n",
    "                                            shuffle=False,\n",
    "                                            num_workers=8)\n",
    "\n",
    "# split the dataset into train and validation\n",
    "train_size = int(hyper_params['train_val_split'] * len(dataset))\n",
    "val_size = len(dataset) - train_size\n",
    "\n",
    "train_dataset, val_dataset = torch.utils.data.random_split(dataset, [train_size, val_size])\n",
    "\n",
    "# Creating the dataloaders\n",
    "val_loader = torch.utils.data.DataLoader(dataset=val_dataset,\n",
    "                                            batch_size=hyper_params['batch_size'],\n",
    "                                            shuffle=False,\n",
    "                                            num_workers=4)\n",
    "\n",
    "print('Train data size: ', len(train_dataset))\n",
    "print('Validation data size: ', len(val_dataset))\n",
    "print('Test data size: ', len(test_dataset))"
   ]
  },
  {
   "cell_type": "code",
   "execution_count": 5,
   "metadata": {},
   "outputs": [
    {
     "data": {
      "image/png": "[encoded data removed]",
      "text/plain": [
       "<Figure size 640x480 with 1 Axes>"
      ]
     },
     "metadata": {},
     "output_type": "display_data"
    },
    {
     "name": "stdout",
     "output_type": "stream",
     "text": [
      "tensor(117) tensor(137) tensor(149) tensor(13)\n"
     ]
    }
   ],
   "source": [
    "#display random images from the dataset\n",
    "\n",
    "def imshow(img):\n",
    "    img = img / 2 + 0.5     # unnormalize\n",
    "    npimg = img.numpy()\n",
    "    plt.imshow(np.transpose(npimg, (1, 2, 0)))\n",
    "    #drop axis labels\n",
    "    plt.axis('off')\n",
    "    plt.show()\n",
    "\n",
    "# get some random training images\n",
    "dataiter = iter(train_loader)\n",
    "images, labels = next(dataiter)\n",
    "\n",
    "# show images\n",
    "imshow(torchvision.utils.make_grid(images))\n",
    "# print labels\n",
    "print(' '.join('%5s' % labels[j] for j in range(4)))"
   ]
  },
  {
   "cell_type": "code",
   "execution_count": 6,
   "metadata": {},
   "outputs": [
    {
     "name": "stdout",
     "output_type": "stream",
     "text": [
      "Begin training...\n"
     ]
    },
    {
     "name": "stderr",
     "output_type": "stream",
     "text": [
      "100%|██████████| 360/360 [02:10<00:00,  2.75it/s]\n",
      "100%|██████████| 45/45 [00:24<00:00,  1.80it/s]\n"
     ]
    },
    {
     "name": "stdout",
     "output_type": "stream",
     "text": [
      "Model saved on best accuracy!\n",
      "\tTrain Loss: 1.705 | Train Acc: 37.50%\n",
      "Epoch: 02 | Epoch Time: 2m 35s\n",
      "\t Val. Loss: 2.297 |  Val. Acc: 30.21%\n"
     ]
    },
    {
     "name": "stderr",
     "output_type": "stream",
     "text": [
      "100%|██████████| 360/360 [02:05<00:00,  2.87it/s]\n",
      "100%|██████████| 45/45 [00:24<00:00,  1.82it/s]\n"
     ]
    },
    {
     "name": "stdout",
     "output_type": "stream",
     "text": [
      "Model saved on best accuracy!\n",
      "\tTrain Loss: 2.569 | Train Acc: 25.00%\n",
      "Epoch: 03 | Epoch Time: 2m 30s\n",
      "\t Val. Loss: 2.251 |  Val. Acc: 30.28%\n"
     ]
    },
    {
     "name": "stderr",
     "output_type": "stream",
     "text": [
      "100%|██████████| 360/360 [02:02<00:00,  2.93it/s]\n",
      "100%|██████████| 45/45 [00:24<00:00,  1.82it/s]\n"
     ]
    },
    {
     "name": "stdout",
     "output_type": "stream",
     "text": [
      "\tTrain Loss: 2.610 | Train Acc: 31.25%\n",
      "Epoch: 04 | Epoch Time: 2m 27s\n",
      "\t Val. Loss: 2.287 |  Val. Acc: 30.21%\n"
     ]
    },
    {
     "name": "stderr",
     "output_type": "stream",
     "text": [
      "100%|██████████| 360/360 [02:02<00:00,  2.93it/s]\n",
      "100%|██████████| 45/45 [00:24<00:00,  1.81it/s]\n"
     ]
    },
    {
     "name": "stdout",
     "output_type": "stream",
     "text": [
      "Model saved on best accuracy!\n",
      "\tTrain Loss: 3.013 | Train Acc: 28.12%\n",
      "Epoch: 05 | Epoch Time: 2m 27s\n",
      "\t Val. Loss: 2.186 |  Val. Acc: 32.29%\n"
     ]
    },
    {
     "name": "stderr",
     "output_type": "stream",
     "text": [
      "100%|██████████| 360/360 [02:04<00:00,  2.90it/s]\n",
      "100%|██████████| 45/45 [00:24<00:00,  1.81it/s]\n"
     ]
    },
    {
     "name": "stdout",
     "output_type": "stream",
     "text": [
      "Model saved on best accuracy!\n",
      "\tTrain Loss: 2.022 | Train Acc: 34.38%\n",
      "Epoch: 06 | Epoch Time: 2m 29s\n",
      "\t Val. Loss: 2.139 |  Val. Acc: 32.71%\n"
     ]
    },
    {
     "name": "stderr",
     "output_type": "stream",
     "text": [
      "100%|██████████| 360/360 [02:02<00:00,  2.94it/s]\n",
      "100%|██████████| 45/45 [00:24<00:00,  1.82it/s]\n"
     ]
    },
    {
     "name": "stdout",
     "output_type": "stream",
     "text": [
      "Model saved on best accuracy!\n",
      "\tTrain Loss: 2.362 | Train Acc: 31.25%\n",
      "Epoch: 07 | Epoch Time: 2m 27s\n",
      "\t Val. Loss: 2.099 |  Val. Acc: 33.12%\n"
     ]
    },
    {
     "name": "stderr",
     "output_type": "stream",
     "text": [
      "100%|██████████| 360/360 [02:02<00:00,  2.95it/s]\n",
      "100%|██████████| 45/45 [00:24<00:00,  1.82it/s]\n"
     ]
    },
    {
     "name": "stdout",
     "output_type": "stream",
     "text": [
      "Model saved on best accuracy!\n",
      "\tTrain Loss: 2.107 | Train Acc: 21.88%\n",
      "Epoch: 08 | Epoch Time: 2m 26s\n",
      "\t Val. Loss: 2.107 |  Val. Acc: 33.19%\n"
     ]
    },
    {
     "name": "stderr",
     "output_type": "stream",
     "text": [
      "100%|██████████| 360/360 [02:02<00:00,  2.93it/s]\n",
      "100%|██████████| 45/45 [00:24<00:00,  1.81it/s]\n"
     ]
    },
    {
     "name": "stdout",
     "output_type": "stream",
     "text": [
      "Model saved on best accuracy!\n",
      "\tTrain Loss: 2.363 | Train Acc: 34.38%\n",
      "Epoch: 09 | Epoch Time: 2m 27s\n",
      "\t Val. Loss: 2.135 |  Val. Acc: 33.26%\n"
     ]
    },
    {
     "name": "stderr",
     "output_type": "stream",
     "text": [
      "100%|██████████| 360/360 [02:05<00:00,  2.87it/s]\n",
      "100%|██████████| 45/45 [00:24<00:00,  1.81it/s]\n"
     ]
    },
    {
     "name": "stdout",
     "output_type": "stream",
     "text": [
      "Model saved on best accuracy!\n",
      "\tTrain Loss: 1.820 | Train Acc: 40.62%\n",
      "Epoch: 10 | Epoch Time: 2m 30s\n",
      "\t Val. Loss: 2.066 |  Val. Acc: 34.17%\n"
     ]
    },
    {
     "name": "stderr",
     "output_type": "stream",
     "text": [
      "100%|██████████| 360/360 [02:03<00:00,  2.91it/s]\n",
      "100%|██████████| 45/45 [00:24<00:00,  1.80it/s]\n"
     ]
    },
    {
     "name": "stdout",
     "output_type": "stream",
     "text": [
      "\tTrain Loss: 2.597 | Train Acc: 28.12%\n",
      "Epoch: 11 | Epoch Time: 2m 28s\n",
      "\t Val. Loss: 2.092 |  Val. Acc: 33.54%\n"
     ]
    },
    {
     "name": "stderr",
     "output_type": "stream",
     "text": [
      "100%|██████████| 360/360 [02:02<00:00,  2.93it/s]\n",
      "100%|██████████| 45/45 [00:24<00:00,  1.81it/s]\n"
     ]
    },
    {
     "name": "stdout",
     "output_type": "stream",
     "text": [
      "Model saved on best accuracy!\n",
      "\tTrain Loss: 1.847 | Train Acc: 34.38%\n",
      "Epoch: 12 | Epoch Time: 2m 27s\n",
      "\t Val. Loss: 1.993 |  Val. Acc: 35.62%\n"
     ]
    },
    {
     "name": "stderr",
     "output_type": "stream",
     "text": [
      "100%|██████████| 360/360 [02:03<00:00,  2.90it/s]\n",
      "100%|██████████| 45/45 [00:24<00:00,  1.81it/s]\n"
     ]
    },
    {
     "name": "stdout",
     "output_type": "stream",
     "text": [
      "\tTrain Loss: 1.559 | Train Acc: 43.75%\n",
      "Epoch: 13 | Epoch Time: 2m 28s\n",
      "\t Val. Loss: 2.005 |  Val. Acc: 35.21%\n"
     ]
    },
    {
     "name": "stderr",
     "output_type": "stream",
     "text": [
      "100%|██████████| 360/360 [02:02<00:00,  2.93it/s]\n",
      "100%|██████████| 45/45 [00:24<00:00,  1.80it/s]\n"
     ]
    },
    {
     "name": "stdout",
     "output_type": "stream",
     "text": [
      "Model saved on best accuracy!\n",
      "\tTrain Loss: 1.724 | Train Acc: 50.00%\n",
      "Epoch: 14 | Epoch Time: 2m 28s\n",
      "\t Val. Loss: 1.993 |  Val. Acc: 36.53%\n"
     ]
    },
    {
     "name": "stderr",
     "output_type": "stream",
     "text": [
      "100%|██████████| 360/360 [02:03<00:00,  2.91it/s]\n",
      "100%|██████████| 45/45 [00:24<00:00,  1.80it/s]\n"
     ]
    },
    {
     "name": "stdout",
     "output_type": "stream",
     "text": [
      "\tTrain Loss: 2.515 | Train Acc: 31.25%\n",
      "Epoch: 15 | Epoch Time: 2m 28s\n",
      "\t Val. Loss: 1.951 |  Val. Acc: 35.35%\n"
     ]
    },
    {
     "name": "stderr",
     "output_type": "stream",
     "text": [
      "100%|██████████| 360/360 [02:04<00:00,  2.89it/s]\n",
      "100%|██████████| 45/45 [00:25<00:00,  1.79it/s]\n"
     ]
    },
    {
     "name": "stdout",
     "output_type": "stream",
     "text": [
      "Model saved on best accuracy!\n",
      "\tTrain Loss: 2.294 | Train Acc: 34.38%\n",
      "Epoch: 16 | Epoch Time: 2m 29s\n",
      "\t Val. Loss: 1.900 |  Val. Acc: 38.12%\n"
     ]
    },
    {
     "name": "stderr",
     "output_type": "stream",
     "text": [
      "100%|██████████| 360/360 [02:04<00:00,  2.89it/s]\n",
      "100%|██████████| 45/45 [00:24<00:00,  1.80it/s]\n"
     ]
    },
    {
     "name": "stdout",
     "output_type": "stream",
     "text": [
      "\tTrain Loss: 1.727 | Train Acc: 31.25%\n",
      "Epoch: 17 | Epoch Time: 2m 29s\n",
      "\t Val. Loss: 1.931 |  Val. Acc: 36.67%\n"
     ]
    },
    {
     "name": "stderr",
     "output_type": "stream",
     "text": [
      "100%|██████████| 360/360 [02:04<00:00,  2.90it/s]\n",
      "100%|██████████| 45/45 [00:24<00:00,  1.80it/s]\n"
     ]
    },
    {
     "name": "stdout",
     "output_type": "stream",
     "text": [
      "\tTrain Loss: 1.417 | Train Acc: 50.00%\n",
      "Epoch: 18 | Epoch Time: 2m 28s\n",
      "\t Val. Loss: 1.923 |  Val. Acc: 37.22%\n"
     ]
    },
    {
     "name": "stderr",
     "output_type": "stream",
     "text": [
      "100%|██████████| 360/360 [02:04<00:00,  2.90it/s]\n",
      "100%|██████████| 45/45 [00:25<00:00,  1.79it/s]\n"
     ]
    },
    {
     "name": "stdout",
     "output_type": "stream",
     "text": [
      "\tTrain Loss: 2.301 | Train Acc: 37.50%\n",
      "Epoch: 19 | Epoch Time: 2m 29s\n",
      "\t Val. Loss: 1.898 |  Val. Acc: 37.92%\n"
     ]
    },
    {
     "name": "stderr",
     "output_type": "stream",
     "text": [
      "100%|██████████| 360/360 [02:04<00:00,  2.90it/s]\n",
      "100%|██████████| 45/45 [00:24<00:00,  1.81it/s]\n"
     ]
    },
    {
     "name": "stdout",
     "output_type": "stream",
     "text": [
      "\tTrain Loss: 1.447 | Train Acc: 50.00%\n",
      "Epoch: 20 | Epoch Time: 2m 29s\n",
      "\t Val. Loss: 2.015 |  Val. Acc: 34.44%\n"
     ]
    },
    {
     "name": "stderr",
     "output_type": "stream",
     "text": [
      "100%|██████████| 360/360 [02:04<00:00,  2.90it/s]\n",
      "100%|██████████| 45/45 [00:24<00:00,  1.80it/s]\n"
     ]
    },
    {
     "name": "stdout",
     "output_type": "stream",
     "text": [
      "\tTrain Loss: 1.188 | Train Acc: 53.12%\n",
      "Epoch: 21 | Epoch Time: 2m 29s\n",
      "\t Val. Loss: 1.897 |  Val. Acc: 36.94%\n"
     ]
    },
    {
     "name": "stderr",
     "output_type": "stream",
     "text": [
      "100%|██████████| 360/360 [02:04<00:00,  2.90it/s]\n",
      "100%|██████████| 45/45 [00:24<00:00,  1.80it/s]\n"
     ]
    },
    {
     "name": "stdout",
     "output_type": "stream",
     "text": [
      "Model saved on best accuracy!\n",
      "\tTrain Loss: 2.432 | Train Acc: 31.25%\n",
      "Epoch: 22 | Epoch Time: 2m 29s\n",
      "\t Val. Loss: 1.845 |  Val. Acc: 39.38%\n"
     ]
    },
    {
     "name": "stderr",
     "output_type": "stream",
     "text": [
      "100%|██████████| 360/360 [02:04<00:00,  2.89it/s]\n",
      "100%|██████████| 45/45 [00:25<00:00,  1.80it/s]\n"
     ]
    },
    {
     "name": "stdout",
     "output_type": "stream",
     "text": [
      "\tTrain Loss: 1.772 | Train Acc: 50.00%\n",
      "Epoch: 23 | Epoch Time: 2m 29s\n",
      "\t Val. Loss: 1.910 |  Val. Acc: 38.06%\n"
     ]
    },
    {
     "name": "stderr",
     "output_type": "stream",
     "text": [
      "100%|██████████| 360/360 [02:04<00:00,  2.90it/s]\n",
      "100%|██████████| 45/45 [00:24<00:00,  1.80it/s]\n"
     ]
    },
    {
     "name": "stdout",
     "output_type": "stream",
     "text": [
      "\tTrain Loss: 1.489 | Train Acc: 37.50%\n",
      "Epoch: 24 | Epoch Time: 2m 29s\n",
      "\t Val. Loss: 1.825 |  Val. Acc: 38.33%\n"
     ]
    },
    {
     "name": "stderr",
     "output_type": "stream",
     "text": [
      "100%|██████████| 360/360 [02:04<00:00,  2.89it/s]\n",
      "100%|██████████| 45/45 [00:25<00:00,  1.80it/s]\n"
     ]
    },
    {
     "name": "stdout",
     "output_type": "stream",
     "text": [
      "\tTrain Loss: 1.418 | Train Acc: 56.25%\n",
      "Epoch: 25 | Epoch Time: 2m 29s\n",
      "\t Val. Loss: 1.775 |  Val. Acc: 39.38%\n"
     ]
    },
    {
     "name": "stderr",
     "output_type": "stream",
     "text": [
      "100%|██████████| 360/360 [02:04<00:00,  2.90it/s]\n",
      "100%|██████████| 45/45 [00:24<00:00,  1.80it/s]\n"
     ]
    },
    {
     "name": "stdout",
     "output_type": "stream",
     "text": [
      "Model saved on best accuracy!\n",
      "\tTrain Loss: 2.140 | Train Acc: 31.25%\n",
      "Epoch: 26 | Epoch Time: 2m 29s\n",
      "\t Val. Loss: 1.750 |  Val. Acc: 40.56%\n"
     ]
    },
    {
     "name": "stderr",
     "output_type": "stream",
     "text": [
      "100%|██████████| 360/360 [02:04<00:00,  2.90it/s]\n",
      "100%|██████████| 45/45 [00:25<00:00,  1.79it/s]\n"
     ]
    },
    {
     "name": "stdout",
     "output_type": "stream",
     "text": [
      "\tTrain Loss: 0.966 | Train Acc: 46.88%\n",
      "Epoch: 27 | Epoch Time: 2m 29s\n",
      "\t Val. Loss: 1.797 |  Val. Acc: 38.96%\n"
     ]
    },
    {
     "name": "stderr",
     "output_type": "stream",
     "text": [
      "100%|██████████| 360/360 [02:03<00:00,  2.91it/s]\n",
      "100%|██████████| 45/45 [00:24<00:00,  1.80it/s]\n"
     ]
    },
    {
     "name": "stdout",
     "output_type": "stream",
     "text": [
      "Model saved on best accuracy!\n",
      "\tTrain Loss: 1.935 | Train Acc: 28.12%\n",
      "Epoch: 28 | Epoch Time: 2m 28s\n",
      "\t Val. Loss: 1.736 |  Val. Acc: 40.97%\n"
     ]
    },
    {
     "name": "stderr",
     "output_type": "stream",
     "text": [
      "100%|██████████| 360/360 [02:04<00:00,  2.90it/s]\n",
      "100%|██████████| 45/45 [00:24<00:00,  1.80it/s]\n"
     ]
    },
    {
     "name": "stdout",
     "output_type": "stream",
     "text": [
      "\tTrain Loss: 2.044 | Train Acc: 40.62%\n",
      "Epoch: 29 | Epoch Time: 2m 29s\n",
      "\t Val. Loss: 1.793 |  Val. Acc: 38.96%\n"
     ]
    },
    {
     "name": "stderr",
     "output_type": "stream",
     "text": [
      "100%|██████████| 360/360 [02:04<00:00,  2.90it/s]\n",
      "100%|██████████| 45/45 [00:25<00:00,  1.79it/s]\n"
     ]
    },
    {
     "name": "stdout",
     "output_type": "stream",
     "text": [
      "Model saved on best accuracy!\n",
      "\tTrain Loss: 1.935 | Train Acc: 50.00%\n",
      "Epoch: 30 | Epoch Time: 2m 29s\n",
      "\t Val. Loss: 1.720 |  Val. Acc: 42.01%\n"
     ]
    },
    {
     "name": "stderr",
     "output_type": "stream",
     "text": [
      "100%|██████████| 360/360 [04:49<00:00,  1.24it/s]  \n",
      "100%|██████████| 45/45 [00:24<00:00,  1.82it/s]\n"
     ]
    },
    {
     "name": "stdout",
     "output_type": "stream",
     "text": [
      "\tTrain Loss: 2.032 | Train Acc: 40.62%\n",
      "Epoch: 31 | Epoch Time: 5m 14s\n",
      "\t Val. Loss: 1.753 |  Val. Acc: 39.93%\n"
     ]
    },
    {
     "name": "stderr",
     "output_type": "stream",
     "text": [
      "100%|██████████| 360/360 [02:00<00:00,  2.99it/s]\n",
      "100%|██████████| 45/45 [00:24<00:00,  1.81it/s]\n"
     ]
    },
    {
     "name": "stdout",
     "output_type": "stream",
     "text": [
      "\tTrain Loss: 1.636 | Train Acc: 43.75%\n",
      "Epoch: 32 | Epoch Time: 2m 25s\n",
      "\t Val. Loss: 1.797 |  Val. Acc: 38.61%\n"
     ]
    },
    {
     "name": "stderr",
     "output_type": "stream",
     "text": [
      "100%|██████████| 360/360 [02:00<00:00,  2.99it/s]\n",
      "100%|██████████| 45/45 [00:24<00:00,  1.81it/s]\n"
     ]
    },
    {
     "name": "stdout",
     "output_type": "stream",
     "text": [
      "\tTrain Loss: 1.374 | Train Acc: 37.50%\n",
      "Epoch: 33 | Epoch Time: 2m 25s\n",
      "\t Val. Loss: 1.748 |  Val. Acc: 40.28%\n"
     ]
    },
    {
     "name": "stderr",
     "output_type": "stream",
     "text": [
      "100%|██████████| 360/360 [02:14<00:00,  2.68it/s]\n",
      "100%|██████████| 45/45 [00:24<00:00,  1.81it/s]\n"
     ]
    },
    {
     "name": "stdout",
     "output_type": "stream",
     "text": [
      "\tTrain Loss: 1.901 | Train Acc: 34.38%\n",
      "Epoch: 34 | Epoch Time: 2m 39s\n",
      "\t Val. Loss: 1.708 |  Val. Acc: 41.46%\n"
     ]
    },
    {
     "name": "stderr",
     "output_type": "stream",
     "text": [
      "100%|██████████| 360/360 [02:01<00:00,  2.95it/s]\n",
      "100%|██████████| 45/45 [00:24<00:00,  1.82it/s]\n"
     ]
    },
    {
     "name": "stdout",
     "output_type": "stream",
     "text": [
      "\tTrain Loss: 1.446 | Train Acc: 46.88%\n",
      "Epoch: 35 | Epoch Time: 2m 26s\n",
      "\t Val. Loss: 1.721 |  Val. Acc: 40.90%\n"
     ]
    },
    {
     "name": "stderr",
     "output_type": "stream",
     "text": [
      "100%|██████████| 360/360 [01:58<00:00,  3.04it/s]\n",
      "100%|██████████| 45/45 [00:24<00:00,  1.83it/s]\n"
     ]
    },
    {
     "name": "stdout",
     "output_type": "stream",
     "text": [
      "\tTrain Loss: 1.356 | Train Acc: 53.12%\n",
      "Epoch: 36 | Epoch Time: 2m 23s\n",
      "\t Val. Loss: 1.706 |  Val. Acc: 40.83%\n"
     ]
    },
    {
     "name": "stderr",
     "output_type": "stream",
     "text": [
      "100%|██████████| 360/360 [02:02<00:00,  2.93it/s]\n",
      "100%|██████████| 45/45 [00:25<00:00,  1.80it/s]\n"
     ]
    },
    {
     "name": "stdout",
     "output_type": "stream",
     "text": [
      "Model saved on best accuracy!\n",
      "\tTrain Loss: 1.806 | Train Acc: 31.25%\n",
      "Epoch: 37 | Epoch Time: 2m 28s\n",
      "\t Val. Loss: 1.647 |  Val. Acc: 43.19%\n"
     ]
    },
    {
     "name": "stderr",
     "output_type": "stream",
     "text": [
      "100%|██████████| 360/360 [02:02<00:00,  2.95it/s]\n",
      "100%|██████████| 45/45 [00:24<00:00,  1.82it/s]\n"
     ]
    },
    {
     "name": "stdout",
     "output_type": "stream",
     "text": [
      "\tTrain Loss: 2.030 | Train Acc: 43.75%\n",
      "Epoch: 38 | Epoch Time: 2m 26s\n",
      "\t Val. Loss: 2.041 |  Val. Acc: 34.79%\n"
     ]
    },
    {
     "name": "stderr",
     "output_type": "stream",
     "text": [
      "100%|██████████| 360/360 [01:58<00:00,  3.03it/s]\n",
      "100%|██████████| 45/45 [00:24<00:00,  1.82it/s]\n"
     ]
    },
    {
     "name": "stdout",
     "output_type": "stream",
     "text": [
      "\tTrain Loss: 1.430 | Train Acc: 34.38%\n",
      "Epoch: 39 | Epoch Time: 2m 23s\n",
      "\t Val. Loss: 1.763 |  Val. Acc: 40.56%\n"
     ]
    },
    {
     "name": "stderr",
     "output_type": "stream",
     "text": [
      "100%|██████████| 360/360 [01:58<00:00,  3.03it/s]\n",
      "100%|██████████| 45/45 [00:24<00:00,  1.83it/s]\n"
     ]
    },
    {
     "name": "stdout",
     "output_type": "stream",
     "text": [
      "\tTrain Loss: 1.773 | Train Acc: 34.38%\n",
      "Epoch: 40 | Epoch Time: 2m 23s\n",
      "\t Val. Loss: 1.759 |  Val. Acc: 40.21%\n"
     ]
    },
    {
     "name": "stderr",
     "output_type": "stream",
     "text": [
      "100%|██████████| 360/360 [01:59<00:00,  3.02it/s]\n",
      "100%|██████████| 45/45 [00:24<00:00,  1.82it/s]\n"
     ]
    },
    {
     "name": "stdout",
     "output_type": "stream",
     "text": [
      "\tTrain Loss: 1.189 | Train Acc: 37.50%\n",
      "Epoch: 41 | Epoch Time: 2m 24s\n",
      "\t Val. Loss: 1.665 |  Val. Acc: 41.81%\n"
     ]
    },
    {
     "name": "stderr",
     "output_type": "stream",
     "text": [
      "100%|██████████| 360/360 [01:58<00:00,  3.03it/s]\n",
      "100%|██████████| 45/45 [00:24<00:00,  1.82it/s]\n"
     ]
    },
    {
     "name": "stdout",
     "output_type": "stream",
     "text": [
      "Model saved on best accuracy!\n",
      "\tTrain Loss: 1.385 | Train Acc: 50.00%\n",
      "Epoch: 42 | Epoch Time: 2m 23s\n",
      "\t Val. Loss: 1.543 |  Val. Acc: 44.86%\n"
     ]
    },
    {
     "name": "stderr",
     "output_type": "stream",
     "text": [
      "100%|██████████| 360/360 [01:59<00:00,  3.02it/s]\n",
      "100%|██████████| 45/45 [00:24<00:00,  1.83it/s]\n"
     ]
    },
    {
     "name": "stdout",
     "output_type": "stream",
     "text": [
      "\tTrain Loss: 1.313 | Train Acc: 46.88%\n",
      "Epoch: 43 | Epoch Time: 2m 23s\n",
      "\t Val. Loss: 1.609 |  Val. Acc: 44.10%\n"
     ]
    },
    {
     "name": "stderr",
     "output_type": "stream",
     "text": [
      "100%|██████████| 360/360 [01:58<00:00,  3.03it/s]\n",
      "100%|██████████| 45/45 [00:24<00:00,  1.82it/s]\n"
     ]
    },
    {
     "name": "stdout",
     "output_type": "stream",
     "text": [
      "\tTrain Loss: 1.568 | Train Acc: 34.38%\n",
      "Epoch: 44 | Epoch Time: 2m 23s\n",
      "\t Val. Loss: 1.608 |  Val. Acc: 43.12%\n"
     ]
    },
    {
     "name": "stderr",
     "output_type": "stream",
     "text": [
      "100%|██████████| 360/360 [01:58<00:00,  3.04it/s]\n",
      "100%|██████████| 45/45 [00:24<00:00,  1.83it/s]\n"
     ]
    },
    {
     "name": "stdout",
     "output_type": "stream",
     "text": [
      "\tTrain Loss: 1.407 | Train Acc: 46.88%\n",
      "Epoch: 45 | Epoch Time: 2m 23s\n",
      "\t Val. Loss: 1.689 |  Val. Acc: 42.43%\n"
     ]
    },
    {
     "name": "stderr",
     "output_type": "stream",
     "text": [
      "100%|██████████| 360/360 [01:58<00:00,  3.03it/s]\n",
      "100%|██████████| 45/45 [00:24<00:00,  1.83it/s]\n"
     ]
    },
    {
     "name": "stdout",
     "output_type": "stream",
     "text": [
      "\tTrain Loss: 1.832 | Train Acc: 31.25%\n",
      "Epoch: 46 | Epoch Time: 2m 23s\n",
      "\t Val. Loss: 1.599 |  Val. Acc: 44.44%\n"
     ]
    },
    {
     "name": "stderr",
     "output_type": "stream",
     "text": [
      "100%|██████████| 360/360 [01:59<00:00,  3.00it/s]\n",
      "100%|██████████| 45/45 [00:24<00:00,  1.82it/s]\n"
     ]
    },
    {
     "name": "stdout",
     "output_type": "stream",
     "text": [
      "Model saved on best accuracy!\n",
      "\tTrain Loss: 1.607 | Train Acc: 46.88%\n",
      "Epoch: 47 | Epoch Time: 2m 24s\n",
      "\t Val. Loss: 1.520 |  Val. Acc: 44.93%\n"
     ]
    },
    {
     "name": "stderr",
     "output_type": "stream",
     "text": [
      "100%|██████████| 360/360 [02:04<00:00,  2.88it/s]\n",
      "100%|██████████| 45/45 [00:24<00:00,  1.82it/s]\n"
     ]
    },
    {
     "name": "stdout",
     "output_type": "stream",
     "text": [
      "\tTrain Loss: 1.476 | Train Acc: 25.00%\n",
      "Epoch: 48 | Epoch Time: 2m 29s\n",
      "\t Val. Loss: 1.649 |  Val. Acc: 42.71%\n"
     ]
    },
    {
     "name": "stderr",
     "output_type": "stream",
     "text": [
      "100%|██████████| 360/360 [02:04<00:00,  2.88it/s]\n",
      "100%|██████████| 45/45 [00:24<00:00,  1.82it/s]\n"
     ]
    },
    {
     "name": "stdout",
     "output_type": "stream",
     "text": [
      "\tTrain Loss: 1.764 | Train Acc: 40.62%\n",
      "Epoch: 49 | Epoch Time: 2m 29s\n",
      "\t Val. Loss: 1.614 |  Val. Acc: 44.17%\n"
     ]
    },
    {
     "name": "stderr",
     "output_type": "stream",
     "text": [
      "100%|██████████| 360/360 [02:02<00:00,  2.94it/s]\n",
      "100%|██████████| 45/45 [00:24<00:00,  1.82it/s]\n"
     ]
    },
    {
     "name": "stdout",
     "output_type": "stream",
     "text": [
      "\tTrain Loss: 1.733 | Train Acc: 28.12%\n",
      "Epoch: 50 | Epoch Time: 2m 27s\n",
      "\t Val. Loss: 1.629 |  Val. Acc: 43.12%\n"
     ]
    },
    {
     "name": "stderr",
     "output_type": "stream",
     "text": [
      "100%|██████████| 360/360 [02:00<00:00,  2.98it/s]\n",
      "100%|██████████| 45/45 [00:24<00:00,  1.83it/s]\n"
     ]
    },
    {
     "name": "stdout",
     "output_type": "stream",
     "text": [
      "\tTrain Loss: 1.293 | Train Acc: 34.38%\n",
      "Epoch: 51 | Epoch Time: 2m 25s\n",
      "\t Val. Loss: 1.569 |  Val. Acc: 44.93%\n"
     ]
    },
    {
     "name": "stderr",
     "output_type": "stream",
     "text": [
      "100%|██████████| 360/360 [01:59<00:00,  3.01it/s]\n",
      "100%|██████████| 45/45 [00:24<00:00,  1.83it/s]\n"
     ]
    },
    {
     "name": "stdout",
     "output_type": "stream",
     "text": [
      "\tTrain Loss: 1.571 | Train Acc: 40.62%\n",
      "Epoch: 52 | Epoch Time: 2m 24s\n",
      "\t Val. Loss: 1.574 |  Val. Acc: 44.65%\n"
     ]
    },
    {
     "name": "stderr",
     "output_type": "stream",
     "text": [
      "100%|██████████| 360/360 [01:59<00:00,  3.01it/s]\n",
      "100%|██████████| 45/45 [00:24<00:00,  1.82it/s]\n"
     ]
    },
    {
     "name": "stdout",
     "output_type": "stream",
     "text": [
      "Model saved on best accuracy!\n",
      "\tTrain Loss: 1.325 | Train Acc: 43.75%\n",
      "Epoch: 53 | Epoch Time: 2m 24s\n",
      "\t Val. Loss: 1.551 |  Val. Acc: 45.49%\n"
     ]
    },
    {
     "name": "stderr",
     "output_type": "stream",
     "text": [
      "100%|██████████| 360/360 [01:59<00:00,  3.02it/s]\n",
      "100%|██████████| 45/45 [00:24<00:00,  1.83it/s]\n"
     ]
    },
    {
     "name": "stdout",
     "output_type": "stream",
     "text": [
      "\tTrain Loss: 1.990 | Train Acc: 37.50%\n",
      "Epoch: 54 | Epoch Time: 2m 24s\n",
      "\t Val. Loss: 1.605 |  Val. Acc: 43.12%\n"
     ]
    },
    {
     "name": "stderr",
     "output_type": "stream",
     "text": [
      "100%|██████████| 360/360 [02:00<00:00,  2.99it/s]\n",
      "100%|██████████| 45/45 [00:24<00:00,  1.82it/s]\n"
     ]
    },
    {
     "name": "stdout",
     "output_type": "stream",
     "text": [
      "\tTrain Loss: 1.496 | Train Acc: 59.38%\n",
      "Epoch: 55 | Epoch Time: 2m 25s\n",
      "\t Val. Loss: 1.528 |  Val. Acc: 45.07%\n"
     ]
    },
    {
     "name": "stderr",
     "output_type": "stream",
     "text": [
      "100%|██████████| 360/360 [02:00<00:00,  2.99it/s]\n",
      "100%|██████████| 45/45 [00:24<00:00,  1.82it/s]\n"
     ]
    },
    {
     "name": "stdout",
     "output_type": "stream",
     "text": [
      "\tTrain Loss: 1.662 | Train Acc: 43.75%\n",
      "Epoch: 56 | Epoch Time: 2m 24s\n",
      "\t Val. Loss: 1.535 |  Val. Acc: 45.21%\n"
     ]
    },
    {
     "name": "stderr",
     "output_type": "stream",
     "text": [
      "100%|██████████| 360/360 [01:58<00:00,  3.04it/s]\n",
      "100%|██████████| 45/45 [00:24<00:00,  1.83it/s]\n"
     ]
    },
    {
     "name": "stdout",
     "output_type": "stream",
     "text": [
      "\tTrain Loss: 1.728 | Train Acc: 28.12%\n",
      "Epoch: 57 | Epoch Time: 2m 23s\n",
      "\t Val. Loss: 1.603 |  Val. Acc: 43.82%\n"
     ]
    },
    {
     "name": "stderr",
     "output_type": "stream",
     "text": [
      "100%|██████████| 360/360 [01:59<00:00,  3.02it/s]\n",
      "100%|██████████| 45/45 [00:24<00:00,  1.82it/s]\n"
     ]
    },
    {
     "name": "stdout",
     "output_type": "stream",
     "text": [
      "\tTrain Loss: 1.861 | Train Acc: 37.50%\n",
      "Epoch: 58 | Epoch Time: 2m 23s\n",
      "\t Val. Loss: 1.542 |  Val. Acc: 45.28%\n"
     ]
    },
    {
     "name": "stderr",
     "output_type": "stream",
     "text": [
      "100%|██████████| 360/360 [01:59<00:00,  3.02it/s]\n",
      "100%|██████████| 45/45 [00:24<00:00,  1.82it/s]\n"
     ]
    },
    {
     "name": "stdout",
     "output_type": "stream",
     "text": [
      "\tTrain Loss: 1.492 | Train Acc: 43.75%\n",
      "Epoch: 59 | Epoch Time: 2m 23s\n",
      "\t Val. Loss: 1.618 |  Val. Acc: 44.31%\n"
     ]
    },
    {
     "name": "stderr",
     "output_type": "stream",
     "text": [
      "100%|██████████| 360/360 [01:58<00:00,  3.03it/s]\n",
      "100%|██████████| 45/45 [00:24<00:00,  1.82it/s]\n"
     ]
    },
    {
     "name": "stdout",
     "output_type": "stream",
     "text": [
      "Model saved on best accuracy!\n",
      "\tTrain Loss: 1.494 | Train Acc: 46.88%\n",
      "Epoch: 60 | Epoch Time: 2m 23s\n",
      "\t Val. Loss: 1.504 |  Val. Acc: 45.76%\n"
     ]
    },
    {
     "name": "stderr",
     "output_type": "stream",
     "text": [
      "100%|██████████| 360/360 [01:59<00:00,  3.02it/s]\n",
      "100%|██████████| 45/45 [00:24<00:00,  1.82it/s]\n"
     ]
    },
    {
     "name": "stdout",
     "output_type": "stream",
     "text": [
      "\tTrain Loss: 1.392 | Train Acc: 43.75%\n",
      "Epoch: 61 | Epoch Time: 2m 23s\n",
      "\t Val. Loss: 1.529 |  Val. Acc: 45.00%\n"
     ]
    },
    {
     "name": "stderr",
     "output_type": "stream",
     "text": [
      "100%|██████████| 360/360 [01:58<00:00,  3.03it/s]\n",
      "100%|██████████| 45/45 [00:24<00:00,  1.82it/s]\n"
     ]
    },
    {
     "name": "stdout",
     "output_type": "stream",
     "text": [
      "\tTrain Loss: 1.366 | Train Acc: 43.75%\n",
      "Epoch: 62 | Epoch Time: 2m 23s\n",
      "\t Val. Loss: 1.507 |  Val. Acc: 45.42%\n"
     ]
    },
    {
     "name": "stderr",
     "output_type": "stream",
     "text": [
      "100%|██████████| 360/360 [26:51<00:00,  4.48s/it]   \n",
      "100%|██████████| 45/45 [14:09<00:00, 18.87s/it]\n"
     ]
    },
    {
     "name": "stdout",
     "output_type": "stream",
     "text": [
      "\tTrain Loss: 0.729 | Train Acc: 46.88%\n",
      "Epoch: 63 | Epoch Time: 41m 0s\n",
      "\t Val. Loss: 1.629 |  Val. Acc: 44.58%\n"
     ]
    },
    {
     "name": "stderr",
     "output_type": "stream",
     "text": [
      "100%|██████████| 360/360 [07:58<00:00,  1.33s/it]   \n",
      "100%|██████████| 45/45 [00:25<00:00,  1.79it/s]\n"
     ]
    },
    {
     "name": "stdout",
     "output_type": "stream",
     "text": [
      "\tTrain Loss: 0.622 | Train Acc: 53.12%\n",
      "Epoch: 64 | Epoch Time: 8m 23s\n",
      "\t Val. Loss: 1.579 |  Val. Acc: 45.07%\n"
     ]
    },
    {
     "name": "stderr",
     "output_type": "stream",
     "text": [
      "100%|██████████| 360/360 [02:08<00:00,  2.81it/s]\n",
      "100%|██████████| 45/45 [00:25<00:00,  1.79it/s]\n"
     ]
    },
    {
     "name": "stdout",
     "output_type": "stream",
     "text": [
      "Model saved on best accuracy!\n",
      "\tTrain Loss: 2.029 | Train Acc: 37.50%\n",
      "Epoch: 65 | Epoch Time: 2m 33s\n",
      "\t Val. Loss: 1.482 |  Val. Acc: 46.74%\n"
     ]
    },
    {
     "name": "stderr",
     "output_type": "stream",
     "text": [
      "100%|██████████| 360/360 [02:08<00:00,  2.80it/s]\n",
      "100%|██████████| 45/45 [00:25<00:00,  1.79it/s]\n"
     ]
    },
    {
     "name": "stdout",
     "output_type": "stream",
     "text": [
      "\tTrain Loss: 1.766 | Train Acc: 50.00%\n",
      "Epoch: 66 | Epoch Time: 2m 33s\n",
      "\t Val. Loss: 1.538 |  Val. Acc: 45.21%\n"
     ]
    },
    {
     "name": "stderr",
     "output_type": "stream",
     "text": [
      "100%|██████████| 360/360 [02:08<00:00,  2.81it/s]\n",
      "100%|██████████| 45/45 [00:25<00:00,  1.78it/s]\n"
     ]
    },
    {
     "name": "stdout",
     "output_type": "stream",
     "text": [
      "\tTrain Loss: 1.713 | Train Acc: 56.25%\n",
      "Epoch: 67 | Epoch Time: 2m 33s\n",
      "\t Val. Loss: 1.508 |  Val. Acc: 46.60%\n"
     ]
    },
    {
     "name": "stderr",
     "output_type": "stream",
     "text": [
      "100%|██████████| 360/360 [26:31<00:00,  4.42s/it]   \n",
      "100%|██████████| 45/45 [00:25<00:00,  1.79it/s]\n"
     ]
    },
    {
     "name": "stdout",
     "output_type": "stream",
     "text": [
      "Model saved on best accuracy!\n",
      "\tTrain Loss: 0.621 | Train Acc: 56.25%\n",
      "Epoch: 68 | Epoch Time: 26m 56s\n",
      "\t Val. Loss: 1.454 |  Val. Acc: 48.06%\n"
     ]
    },
    {
     "name": "stderr",
     "output_type": "stream",
     "text": [
      "100%|██████████| 360/360 [33:13<00:00,  5.54s/it]  \n",
      "100%|██████████| 45/45 [14:09<00:00, 18.87s/it]\n"
     ]
    },
    {
     "name": "stdout",
     "output_type": "stream",
     "text": [
      "\tTrain Loss: 0.955 | Train Acc: 50.00%\n",
      "Epoch: 69 | Epoch Time: 47m 22s\n",
      "\t Val. Loss: 1.508 |  Val. Acc: 46.53%\n"
     ]
    },
    {
     "name": "stderr",
     "output_type": "stream",
     "text": [
      "100%|██████████| 360/360 [43:22<00:00,  7.23s/it]    \n",
      "100%|██████████| 45/45 [00:25<00:00,  1.79it/s]\n"
     ]
    },
    {
     "name": "stdout",
     "output_type": "stream",
     "text": [
      "\tTrain Loss: 1.068 | Train Acc: 50.00%\n",
      "Epoch: 70 | Epoch Time: 43m 47s\n",
      "\t Val. Loss: 1.544 |  Val. Acc: 45.00%\n"
     ]
    },
    {
     "name": "stderr",
     "output_type": "stream",
     "text": [
      "100%|██████████| 360/360 [43:19<00:00,  7.22s/it]   \n",
      "100%|██████████| 45/45 [00:25<00:00,  1.78it/s]\n"
     ]
    },
    {
     "name": "stdout",
     "output_type": "stream",
     "text": [
      "\tTrain Loss: 1.023 | Train Acc: 37.50%\n",
      "Epoch: 71 | Epoch Time: 43m 45s\n",
      "\t Val. Loss: 1.481 |  Val. Acc: 46.53%\n"
     ]
    },
    {
     "name": "stderr",
     "output_type": "stream",
     "text": [
      "100%|██████████| 360/360 [34:00<00:00,  5.67s/it]  \n",
      "100%|██████████| 45/45 [14:09<00:00, 18.87s/it]\n"
     ]
    },
    {
     "name": "stdout",
     "output_type": "stream",
     "text": [
      "\tTrain Loss: 1.340 | Train Acc: 53.12%\n",
      "Epoch: 72 | Epoch Time: 48m 10s\n",
      "\t Val. Loss: 1.493 |  Val. Acc: 47.57%\n"
     ]
    },
    {
     "name": "stderr",
     "output_type": "stream",
     "text": [
      " 83%|████████▎ | 300/360 [06:47<00:14,  4.17it/s]  "
     ]
    }
   ],
   "source": [
    "with experiment.train():\n",
    "    train(model, criterion, optimizer, hyper_params, train_loader, val_loader)"
   ]
  },
  {
   "cell_type": "code",
   "execution_count": null,
   "metadata": {},
   "outputs": [
    {
     "name": "stderr",
     "output_type": "stream",
     "text": [
      "100%|██████████| 90/90 [00:48<00:00,  1.86it/s]"
     ]
    },
    {
     "name": "stdout",
     "output_type": "stream",
     "text": [
      "Test Loss: 2.916 | Test Acc: 16.15%\n"
     ]
    },
    {
     "name": "stderr",
     "output_type": "stream",
     "text": [
      "\n"
     ]
    }
   ],
   "source": [
    "with experiment.test():\n",
    "\n",
    "    model.load_state_dict(torch.load(hyper_params['best_model_path']))\n",
    "\n",
    "    test_loss, test_acc = evaluate(model, test_loader, criterion, device, experiment)\n",
    "\n",
    "    print(f'Test Loss: {test_loss:.3f} | Test Acc: {test_acc*100:.2f}%')"
   ]
  },
  {
   "cell_type": "code",
   "execution_count": null,
   "metadata": {},
   "outputs": [],
   "source": [
    "confusion(model, test_loader, device = device, experiment=experiment)"
   ]
  },
  {
   "cell_type": "code",
   "execution_count": null,
   "metadata": {},
   "outputs": [
    {
     "name": "stderr",
     "output_type": "stream",
     "text": [
      "COMET INFO: ---------------------------\n",
      "COMET INFO: Comet.ml Experiment Summary\n",
      "COMET INFO: ---------------------------\n",
      "COMET INFO:   Data:\n",
      "COMET INFO:     display_summary_level : 1\n",
      "COMET INFO:     url                   : https://www.comet.com/leothesouthafrican/celebs-mobilenet/96ee12350c35402d8750272692024973\n",
      "COMET INFO:   Metrics [count] (min, max):\n",
      "COMET INFO:     test_acc [90]          : (0.2777777777777778, 16.145833333333336)\n",
      "COMET INFO:     test_loss [90]         : (0.031050565507676868, 2.915825343132019)\n",
      "COMET INFO:     train_acc [5400]       : (0.0, 0.4375)\n",
      "COMET INFO:     train_loss [5400]      : (1.44083833694458, 8.327763557434082)\n",
      "COMET INFO:     train_step_time [5400] : (0, 2)\n",
      "COMET INFO:     train_val_acc [15]     : (0.0375, 0.2013888888888889)\n",
      "COMET INFO:     train_val_loss [15]    : (2.696102248297797, 3.904596291648017)\n",
      "COMET INFO:   Parameters:\n",
      "COMET INFO:     batch_size        : 32\n",
      "COMET INFO:     best_model_path   : output/MN3L_faces200.pt\n",
      "COMET INFO:     comet_experiment  : <comet_ml._online.Experiment object at 0x1559ae430>\n",
      "COMET INFO:     criterion         : CrossEntropyLoss\n",
      "COMET INFO:     dataset           : MSFT-FACES\n",
      "COMET INFO:     device            : mps\n",
      "COMET INFO:     epochs            : 15\n",
      "COMET INFO:     image_channels    : 3\n",
      "COMET INFO:     image_size        : 128\n",
      "COMET INFO:     learning_rate     : 0.001\n",
      "COMET INFO:     loaded_model_path : /Users/leo/Desktop/Thesis/faces_dataset/output/MN3L_faces200.pt\n",
      "COMET INFO:     model_name        : Basic MobileNetV3\n",
      "COMET INFO:     num_layers        : na\n",
      "COMET INFO:     optimizer         : Adam\n",
      "COMET INFO:     output_size       : 200\n",
      "COMET INFO:     save_at_end       : True\n",
      "COMET INFO:     train_val_split   : 0.9\n",
      "COMET INFO:   Uploads:\n",
      "COMET INFO:     confusion-matrix         : 1\n",
      "COMET INFO:     environment details      : 1\n",
      "COMET INFO:     filename                 : 1\n",
      "COMET INFO:     git metadata             : 1\n",
      "COMET INFO:     git-patch (uncompressed) : 1 (13.22 MB)\n",
      "COMET INFO:     installed packages       : 1\n",
      "COMET INFO:     notebook                 : 1\n",
      "COMET INFO:     source_code              : 1\n",
      "COMET INFO: ---------------------------\n",
      "COMET WARNING: Comet has disabled auto-logging functionality as it has been imported after the following ML modules: torch. Metrics and hyperparameters can still be logged using Experiment.log_metrics() and Experiment.log_parameters()\n",
      "COMET INFO: Uploading metrics, params, and assets to Comet before program termination (may take several seconds)\n",
      "COMET INFO: The Python SDK has 3600 seconds to finish before aborting...\n"
     ]
    }
   ],
   "source": [
    "experiment.end()"
   ]
  },
  {
   "cell_type": "code",
   "execution_count": null,
   "metadata": {},
   "outputs": [],
   "source": []
  }
 ],
 "metadata": {
  "kernelspec": {
   "display_name": "env",
   "language": "python",
   "name": "python3"
  },
  "language_info": {
   "codemirror_mode": {
    "name": "ipython",
    "version": 3
   },
   "file_extension": ".py",
   "mimetype": "text/x-python",
   "name": "python",
   "nbconvert_exporter": "python",
   "pygments_lexer": "ipython3",
   "version": "3.9.10"
  },
  "orig_nbformat": 4,
  "vscode": {
   "interpreter": {
    "hash": "3eacf7c38dfd06f03ba84c25998c3b980b49954d2ca7328ee71b9a00e83ad9fc"
   }
  }
 },
 "nbformat": 4,
 "nbformat_minor": 2
}
