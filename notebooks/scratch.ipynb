{
 "cells": [
  {
   "cell_type": "code",
   "execution_count": 15,
   "metadata": {},
   "outputs": [
    {
     "name": "stdout",
     "output_type": "stream",
     "text": [
      "80\n",
      "96\n",
      "96\n",
      "240\n",
      "128\n",
      "144\n",
      "288\n",
      "576\n"
     ]
    }
   ],
   "source": [
    "def find_nearest_divisible(n, div1, div2):\n",
    "    # First, divide the number by div1\n",
    "    temp = n // div1\n",
    "    \n",
    "    # Then multiply it by div1 to find the nearest number that is divisible by div1\n",
    "    temp *= div1\n",
    "    \n",
    "    # Find the remainder when temp is divided by div2\n",
    "    remainder = temp % div2\n",
    "    \n",
    "    # If remainder is less than half of div2, subtract it from temp, otherwise add (div2 - remainder)\n",
    "    if remainder < div2 / 2:\n",
    "        result = temp - remainder\n",
    "    else:\n",
    "        result = temp + (div2 - remainder)\n",
    "        \n",
    "    return result\n",
    "\n",
    "# Test the function\n",
    "print(find_nearest_divisible(72, 4, 16))\n",
    "print(find_nearest_divisible(88, 4, 16))\n",
    "print(find_nearest_divisible(96, 4, 16))\n",
    "print(find_nearest_divisible(240, 4, 16))\n",
    "print(find_nearest_divisible(120, 4, 16))\n",
    "print(find_nearest_divisible(144, 4, 16))\n",
    "print(find_nearest_divisible(288, 4, 16))\n",
    "print(find_nearest_divisible(576, 4, 16))\n"
   ]
  }
 ],
 "metadata": {
  "kernelspec": {
   "display_name": "thesis_env",
   "language": "python",
   "name": "python3"
  },
  "language_info": {
   "codemirror_mode": {
    "name": "ipython",
    "version": 3
   },
   "file_extension": ".py",
   "mimetype": "text/x-python",
   "name": "python",
   "nbconvert_exporter": "python",
   "pygments_lexer": "ipython3",
   "version": "3.9.6"
  },
  "orig_nbformat": 4
 },
 "nbformat": 4,
 "nbformat_minor": 2
}
